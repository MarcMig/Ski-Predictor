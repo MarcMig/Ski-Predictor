{
 "cells": [
  {
   "cell_type": "markdown",
   "metadata": {
    "slideshow": {
     "slide_type": "slide"
    }
   },
   "source": [
    "# Ski regressor\n",
    "## Prices may vary"
   ]
  },
  {
   "cell_type": "code",
   "execution_count": 1,
   "metadata": {
    "slideshow": {
     "slide_type": "skip"
    }
   },
   "outputs": [],
   "source": [
    "import pandas as pd\n",
    "import numpy as np\n",
    "import plotly.express as px\n",
    "from plotly.subplots import make_subplots\n",
    "import plotly.graph_objects as go\n",
    "from sklearn.model_selection import train_test_split\n",
    "import statsmodels.formula.api as smf\n",
    "from sklearn.metrics import mean_squared_error\n",
    "\n",
    "df = pd.read_csv('Shiny_data1.csv', index_col=0)\n",
    "df = df.drop(df[df.ski_pass_price == 0].index)\n"
   ]
  },
  {
   "cell_type": "markdown",
   "metadata": {
    "slideshow": {
     "slide_type": "slide"
    }
   },
   "source": [
    "## Skiing is expensive.\n",
    "### It only really starts to sink in when you have to pay for it yourself. \n",
    "### I've scraped a bit of ski resort data from ski-resort-stats.com to help me make more informed decisions. Let's see if we can build a model to predict the ski pass price and make better decisions about where to plan our next holiday."
   ]
  },
  {
   "cell_type": "code",
   "execution_count": 10,
   "metadata": {
    "slideshow": {
     "slide_type": "slide"
    }
   },
   "outputs": [
    {
     "output_type": "stream",
     "name": "stdout",
     "text": [
      "<class 'pandas.core.frame.DataFrame'>\nInt64Index: 501 entries, 0 to 514\nData columns (total 23 columns):\n #   Column               Non-Null Count  Dtype  \n---  ------               --------------  -----  \n 0   child_friendly       501 non-null    bool   \n 1   continent            501 non-null    object \n 2   country              501 non-null    object \n 3   max_altitude         501 non-null    float64\n 4   min_altitude         501 non-null    float64\n 5   resort_name          501 non-null    object \n 6   season               501 non-null    object \n 7   ski_pass_price       501 non-null    int64  \n 8   url                  501 non-null    object \n 9   beginner_slopes      138 non-null    float64\n 10  intermediate_slopes  137 non-null    float64\n 11  difficult_slopes     136 non-null    float64\n 12  t-bar_lifts          138 non-null    float64\n 13  chairlifts           138 non-null    float64\n 14  gondolas             136 non-null    float64\n 15  snowpark             142 non-null    object \n 16  night_skiing         142 non-null    object \n 17  snow_cannons         77 non-null     float64\n 18  country_iso          501 non-null    object \n 19  altitude_diff        501 non-null    float64\n 20  total_slopes         501 non-null    float64\n 21  season_start         471 non-null    object \n 22  season_end           471 non-null    object \ndtypes: bool(1), float64(11), int64(1), object(10)\nmemory usage: 70.9+ KB\n"
     ]
    },
    {
     "output_type": "display_data",
     "data": {
      "text/plain": "None"
     },
     "metadata": {}
    }
   ],
   "source": [
    "display(df.info())\n"
   ]
  },
  {
   "cell_type": "markdown",
   "metadata": {
    "slideshow": {
     "slide_type": "subslide"
    }
   },
   "source": [
    "A lot of collumns of different lengths! \n",
    "We'll stick with the full length collumns as our data is pretty sparse as it is."
   ]
  },
  {
   "cell_type": "code",
   "execution_count": 2,
   "metadata": {
    "slideshow": {
     "slide_type": "subslide"
    }
   },
   "outputs": [
    {
     "output_type": "stream",
     "name": "stdout",
     "text": [
      "<class 'pandas.core.frame.DataFrame'>\nInt64Index: 501 entries, 0 to 514\nData columns (total 9 columns):\n #   Column          Non-Null Count  Dtype  \n---  ------          --------------  -----  \n 0   child_friendly  501 non-null    bool   \n 1   continent       501 non-null    object \n 2   max_altitude    501 non-null    float64\n 3   min_altitude    501 non-null    float64\n 4   season          501 non-null    object \n 5   ski_pass_price  501 non-null    int64  \n 6   country_iso     501 non-null    object \n 7   altitude_diff   501 non-null    float64\n 8   total_slopes    501 non-null    float64\ndtypes: bool(1), float64(4), int64(1), object(3)\nmemory usage: 29.8+ KB\nNone\n"
     ]
    }
   ],
   "source": [
    "df.drop(['country'], axis = 1, inplace=True)\n",
    "df.drop(['resort_name'], axis = 1, inplace=True)\n",
    "df.drop(df.iloc[:, 6:16], axis = 1, inplace=True)\n",
    "df.drop(df.iloc[:,9:11], axis = 1, inplace=True)\n",
    "print(df.info())\n"
   ]
  },
  {
   "cell_type": "markdown",
   "metadata": {
    "slideshow": {
     "slide_type": "subslide"
    }
   },
   "source": [
    "Much better, I suspect we'll get some colinearity problems from altitude-diff and min,max altitude but we'll start with these and see how the model performs.\n",
    "Let's do some exploratory data analysis."
   ]
  },
  {
   "cell_type": "code",
   "execution_count": 3,
   "metadata": {
    "slideshow": {
     "slide_type": "slide"
    }
   },
   "outputs": [
    {
     "output_type": "display_data",
     "data": {
      "application/vnd.plotly.v1+json": {
       "config": {
        "plotlyServerURL": "https://plot.ly"
       },
       "data": [
        {
         "coloraxis": "coloraxis",
         "hovertemplate": "x: %{x}<br>y: %{y}<br>color: %{z}<extra></extra>",
         "name": "0",
         "type": "heatmap",
         "x": [
          "child_friendly",
          "max_altitude",
          "min_altitude",
          "ski_pass_price",
          "altitude_diff",
          "total_slopes"
         ],
         "xaxis": "x",
         "y": [
          "child_friendly",
          "max_altitude",
          "min_altitude",
          "ski_pass_price",
          "altitude_diff",
          "total_slopes"
         ],
         "yaxis": "y",
         "z": [
          [
           1,
           0.0457684034546563,
           -0.018145689667892102,
           0.015167451650202604,
           0.09548760082206141,
           0.028084168675069958
          ],
          [
           0.0457684034546563,
           1,
           0.7847102786393056,
           0.4206433220842759,
           0.6675959528948969,
           0.305704913391376
          ],
          [
           -0.018145689667892102,
           0.7847102786393056,
           1,
           0.4027233615181497,
           0.062366885047251,
           0.05444211559533154
          ],
          [
           0.015167451650202604,
           0.4206433220842759,
           0.4027233615181497,
           1,
           0.19357082597780864,
           0.21028940060115844
          ],
          [
           0.09548760082206141,
           0.6675959528948969,
           0.062366885047251,
           0.19357082597780864,
           1,
           0.42683055731897057
          ],
          [
           0.028084168675069958,
           0.305704913391376,
           0.05444211559533154,
           0.21028940060115844,
           0.42683055731897057,
           1
          ]
         ]
        }
       ],
       "layout": {
        "coloraxis": {
         "colorscale": [
          [
           0,
           "rgb(75, 41, 145)"
          ],
          [
           0.16666666666666666,
           "rgb(135, 44, 162)"
          ],
          [
           0.3333333333333333,
           "rgb(192, 54, 157)"
          ],
          [
           0.5,
           "rgb(234, 79, 136)"
          ],
          [
           0.6666666666666666,
           "rgb(250, 120, 118)"
          ],
          [
           0.8333333333333334,
           "rgb(246, 169, 122)"
          ],
          [
           1,
           "rgb(237, 217, 163)"
          ]
         ]
        },
        "template": {
         "data": {
          "bar": [
           {
            "error_x": {
             "color": "#2a3f5f"
            },
            "error_y": {
             "color": "#2a3f5f"
            },
            "marker": {
             "line": {
              "color": "#E5ECF6",
              "width": 0.5
             }
            },
            "type": "bar"
           }
          ],
          "barpolar": [
           {
            "marker": {
             "line": {
              "color": "#E5ECF6",
              "width": 0.5
             }
            },
            "type": "barpolar"
           }
          ],
          "carpet": [
           {
            "aaxis": {
             "endlinecolor": "#2a3f5f",
             "gridcolor": "white",
             "linecolor": "white",
             "minorgridcolor": "white",
             "startlinecolor": "#2a3f5f"
            },
            "baxis": {
             "endlinecolor": "#2a3f5f",
             "gridcolor": "white",
             "linecolor": "white",
             "minorgridcolor": "white",
             "startlinecolor": "#2a3f5f"
            },
            "type": "carpet"
           }
          ],
          "choropleth": [
           {
            "colorbar": {
             "outlinewidth": 0,
             "ticks": ""
            },
            "type": "choropleth"
           }
          ],
          "contour": [
           {
            "colorbar": {
             "outlinewidth": 0,
             "ticks": ""
            },
            "colorscale": [
             [
              0,
              "#0d0887"
             ],
             [
              0.1111111111111111,
              "#46039f"
             ],
             [
              0.2222222222222222,
              "#7201a8"
             ],
             [
              0.3333333333333333,
              "#9c179e"
             ],
             [
              0.4444444444444444,
              "#bd3786"
             ],
             [
              0.5555555555555556,
              "#d8576b"
             ],
             [
              0.6666666666666666,
              "#ed7953"
             ],
             [
              0.7777777777777778,
              "#fb9f3a"
             ],
             [
              0.8888888888888888,
              "#fdca26"
             ],
             [
              1,
              "#f0f921"
             ]
            ],
            "type": "contour"
           }
          ],
          "contourcarpet": [
           {
            "colorbar": {
             "outlinewidth": 0,
             "ticks": ""
            },
            "type": "contourcarpet"
           }
          ],
          "heatmap": [
           {
            "colorbar": {
             "outlinewidth": 0,
             "ticks": ""
            },
            "colorscale": [
             [
              0,
              "#0d0887"
             ],
             [
              0.1111111111111111,
              "#46039f"
             ],
             [
              0.2222222222222222,
              "#7201a8"
             ],
             [
              0.3333333333333333,
              "#9c179e"
             ],
             [
              0.4444444444444444,
              "#bd3786"
             ],
             [
              0.5555555555555556,
              "#d8576b"
             ],
             [
              0.6666666666666666,
              "#ed7953"
             ],
             [
              0.7777777777777778,
              "#fb9f3a"
             ],
             [
              0.8888888888888888,
              "#fdca26"
             ],
             [
              1,
              "#f0f921"
             ]
            ],
            "type": "heatmap"
           }
          ],
          "heatmapgl": [
           {
            "colorbar": {
             "outlinewidth": 0,
             "ticks": ""
            },
            "colorscale": [
             [
              0,
              "#0d0887"
             ],
             [
              0.1111111111111111,
              "#46039f"
             ],
             [
              0.2222222222222222,
              "#7201a8"
             ],
             [
              0.3333333333333333,
              "#9c179e"
             ],
             [
              0.4444444444444444,
              "#bd3786"
             ],
             [
              0.5555555555555556,
              "#d8576b"
             ],
             [
              0.6666666666666666,
              "#ed7953"
             ],
             [
              0.7777777777777778,
              "#fb9f3a"
             ],
             [
              0.8888888888888888,
              "#fdca26"
             ],
             [
              1,
              "#f0f921"
             ]
            ],
            "type": "heatmapgl"
           }
          ],
          "histogram": [
           {
            "marker": {
             "colorbar": {
              "outlinewidth": 0,
              "ticks": ""
             }
            },
            "type": "histogram"
           }
          ],
          "histogram2d": [
           {
            "colorbar": {
             "outlinewidth": 0,
             "ticks": ""
            },
            "colorscale": [
             [
              0,
              "#0d0887"
             ],
             [
              0.1111111111111111,
              "#46039f"
             ],
             [
              0.2222222222222222,
              "#7201a8"
             ],
             [
              0.3333333333333333,
              "#9c179e"
             ],
             [
              0.4444444444444444,
              "#bd3786"
             ],
             [
              0.5555555555555556,
              "#d8576b"
             ],
             [
              0.6666666666666666,
              "#ed7953"
             ],
             [
              0.7777777777777778,
              "#fb9f3a"
             ],
             [
              0.8888888888888888,
              "#fdca26"
             ],
             [
              1,
              "#f0f921"
             ]
            ],
            "type": "histogram2d"
           }
          ],
          "histogram2dcontour": [
           {
            "colorbar": {
             "outlinewidth": 0,
             "ticks": ""
            },
            "colorscale": [
             [
              0,
              "#0d0887"
             ],
             [
              0.1111111111111111,
              "#46039f"
             ],
             [
              0.2222222222222222,
              "#7201a8"
             ],
             [
              0.3333333333333333,
              "#9c179e"
             ],
             [
              0.4444444444444444,
              "#bd3786"
             ],
             [
              0.5555555555555556,
              "#d8576b"
             ],
             [
              0.6666666666666666,
              "#ed7953"
             ],
             [
              0.7777777777777778,
              "#fb9f3a"
             ],
             [
              0.8888888888888888,
              "#fdca26"
             ],
             [
              1,
              "#f0f921"
             ]
            ],
            "type": "histogram2dcontour"
           }
          ],
          "mesh3d": [
           {
            "colorbar": {
             "outlinewidth": 0,
             "ticks": ""
            },
            "type": "mesh3d"
           }
          ],
          "parcoords": [
           {
            "line": {
             "colorbar": {
              "outlinewidth": 0,
              "ticks": ""
             }
            },
            "type": "parcoords"
           }
          ],
          "pie": [
           {
            "automargin": true,
            "type": "pie"
           }
          ],
          "scatter": [
           {
            "marker": {
             "colorbar": {
              "outlinewidth": 0,
              "ticks": ""
             }
            },
            "type": "scatter"
           }
          ],
          "scatter3d": [
           {
            "line": {
             "colorbar": {
              "outlinewidth": 0,
              "ticks": ""
             }
            },
            "marker": {
             "colorbar": {
              "outlinewidth": 0,
              "ticks": ""
             }
            },
            "type": "scatter3d"
           }
          ],
          "scattercarpet": [
           {
            "marker": {
             "colorbar": {
              "outlinewidth": 0,
              "ticks": ""
             }
            },
            "type": "scattercarpet"
           }
          ],
          "scattergeo": [
           {
            "marker": {
             "colorbar": {
              "outlinewidth": 0,
              "ticks": ""
             }
            },
            "type": "scattergeo"
           }
          ],
          "scattergl": [
           {
            "marker": {
             "colorbar": {
              "outlinewidth": 0,
              "ticks": ""
             }
            },
            "type": "scattergl"
           }
          ],
          "scattermapbox": [
           {
            "marker": {
             "colorbar": {
              "outlinewidth": 0,
              "ticks": ""
             }
            },
            "type": "scattermapbox"
           }
          ],
          "scatterpolar": [
           {
            "marker": {
             "colorbar": {
              "outlinewidth": 0,
              "ticks": ""
             }
            },
            "type": "scatterpolar"
           }
          ],
          "scatterpolargl": [
           {
            "marker": {
             "colorbar": {
              "outlinewidth": 0,
              "ticks": ""
             }
            },
            "type": "scatterpolargl"
           }
          ],
          "scatterternary": [
           {
            "marker": {
             "colorbar": {
              "outlinewidth": 0,
              "ticks": ""
             }
            },
            "type": "scatterternary"
           }
          ],
          "surface": [
           {
            "colorbar": {
             "outlinewidth": 0,
             "ticks": ""
            },
            "colorscale": [
             [
              0,
              "#0d0887"
             ],
             [
              0.1111111111111111,
              "#46039f"
             ],
             [
              0.2222222222222222,
              "#7201a8"
             ],
             [
              0.3333333333333333,
              "#9c179e"
             ],
             [
              0.4444444444444444,
              "#bd3786"
             ],
             [
              0.5555555555555556,
              "#d8576b"
             ],
             [
              0.6666666666666666,
              "#ed7953"
             ],
             [
              0.7777777777777778,
              "#fb9f3a"
             ],
             [
              0.8888888888888888,
              "#fdca26"
             ],
             [
              1,
              "#f0f921"
             ]
            ],
            "type": "surface"
           }
          ],
          "table": [
           {
            "cells": {
             "fill": {
              "color": "#EBF0F8"
             },
             "line": {
              "color": "white"
             }
            },
            "header": {
             "fill": {
              "color": "#C8D4E3"
             },
             "line": {
              "color": "white"
             }
            },
            "type": "table"
           }
          ]
         },
         "layout": {
          "annotationdefaults": {
           "arrowcolor": "#2a3f5f",
           "arrowhead": 0,
           "arrowwidth": 1
          },
          "autotypenumbers": "strict",
          "coloraxis": {
           "colorbar": {
            "outlinewidth": 0,
            "ticks": ""
           }
          },
          "colorscale": {
           "diverging": [
            [
             0,
             "#8e0152"
            ],
            [
             0.1,
             "#c51b7d"
            ],
            [
             0.2,
             "#de77ae"
            ],
            [
             0.3,
             "#f1b6da"
            ],
            [
             0.4,
             "#fde0ef"
            ],
            [
             0.5,
             "#f7f7f7"
            ],
            [
             0.6,
             "#e6f5d0"
            ],
            [
             0.7,
             "#b8e186"
            ],
            [
             0.8,
             "#7fbc41"
            ],
            [
             0.9,
             "#4d9221"
            ],
            [
             1,
             "#276419"
            ]
           ],
           "sequential": [
            [
             0,
             "#0d0887"
            ],
            [
             0.1111111111111111,
             "#46039f"
            ],
            [
             0.2222222222222222,
             "#7201a8"
            ],
            [
             0.3333333333333333,
             "#9c179e"
            ],
            [
             0.4444444444444444,
             "#bd3786"
            ],
            [
             0.5555555555555556,
             "#d8576b"
            ],
            [
             0.6666666666666666,
             "#ed7953"
            ],
            [
             0.7777777777777778,
             "#fb9f3a"
            ],
            [
             0.8888888888888888,
             "#fdca26"
            ],
            [
             1,
             "#f0f921"
            ]
           ],
           "sequentialminus": [
            [
             0,
             "#0d0887"
            ],
            [
             0.1111111111111111,
             "#46039f"
            ],
            [
             0.2222222222222222,
             "#7201a8"
            ],
            [
             0.3333333333333333,
             "#9c179e"
            ],
            [
             0.4444444444444444,
             "#bd3786"
            ],
            [
             0.5555555555555556,
             "#d8576b"
            ],
            [
             0.6666666666666666,
             "#ed7953"
            ],
            [
             0.7777777777777778,
             "#fb9f3a"
            ],
            [
             0.8888888888888888,
             "#fdca26"
            ],
            [
             1,
             "#f0f921"
            ]
           ]
          },
          "colorway": [
           "#636efa",
           "#EF553B",
           "#00cc96",
           "#ab63fa",
           "#FFA15A",
           "#19d3f3",
           "#FF6692",
           "#B6E880",
           "#FF97FF",
           "#FECB52"
          ],
          "font": {
           "color": "#2a3f5f"
          },
          "geo": {
           "bgcolor": "white",
           "lakecolor": "white",
           "landcolor": "#E5ECF6",
           "showlakes": true,
           "showland": true,
           "subunitcolor": "white"
          },
          "hoverlabel": {
           "align": "left"
          },
          "hovermode": "closest",
          "mapbox": {
           "style": "light"
          },
          "paper_bgcolor": "white",
          "plot_bgcolor": "#E5ECF6",
          "polar": {
           "angularaxis": {
            "gridcolor": "white",
            "linecolor": "white",
            "ticks": ""
           },
           "bgcolor": "#E5ECF6",
           "radialaxis": {
            "gridcolor": "white",
            "linecolor": "white",
            "ticks": ""
           }
          },
          "scene": {
           "xaxis": {
            "backgroundcolor": "#E5ECF6",
            "gridcolor": "white",
            "gridwidth": 2,
            "linecolor": "white",
            "showbackground": true,
            "ticks": "",
            "zerolinecolor": "white"
           },
           "yaxis": {
            "backgroundcolor": "#E5ECF6",
            "gridcolor": "white",
            "gridwidth": 2,
            "linecolor": "white",
            "showbackground": true,
            "ticks": "",
            "zerolinecolor": "white"
           },
           "zaxis": {
            "backgroundcolor": "#E5ECF6",
            "gridcolor": "white",
            "gridwidth": 2,
            "linecolor": "white",
            "showbackground": true,
            "ticks": "",
            "zerolinecolor": "white"
           }
          },
          "shapedefaults": {
           "line": {
            "color": "#2a3f5f"
           }
          },
          "ternary": {
           "aaxis": {
            "gridcolor": "white",
            "linecolor": "white",
            "ticks": ""
           },
           "baxis": {
            "gridcolor": "white",
            "linecolor": "white",
            "ticks": ""
           },
           "bgcolor": "#E5ECF6",
           "caxis": {
            "gridcolor": "white",
            "linecolor": "white",
            "ticks": ""
           }
          },
          "title": {
           "x": 0.05
          },
          "xaxis": {
           "automargin": true,
           "gridcolor": "white",
           "linecolor": "white",
           "ticks": "",
           "title": {
            "standoff": 15
           },
           "zerolinecolor": "white",
           "zerolinewidth": 2
          },
          "yaxis": {
           "automargin": true,
           "gridcolor": "white",
           "linecolor": "white",
           "ticks": "",
           "title": {
            "standoff": 15
           },
           "zerolinecolor": "white",
           "zerolinewidth": 2
          }
         }
        },
        "title": {
         "text": "Correlation heatmap of Skidata"
        },
        "xaxis": {
         "anchor": "y",
         "constrain": "domain",
         "domain": [
          0,
          1
         ],
         "scaleanchor": "y"
        },
        "yaxis": {
         "anchor": "x",
         "autorange": "reversed",
         "constrain": "domain",
         "domain": [
          0,
          1
         ]
        }
       }
      }
     },
     "metadata": {}
    }
   ],
   "source": [
    "px.imshow(df.corr(), color_continuous_scale='Agsunset', title=\"Correlation heatmap of Skidata\")"
   ]
  },
  {
   "cell_type": "markdown",
   "metadata": {
    "slideshow": {
     "slide_type": "subslide"
    }
   },
   "source": [
    "There seems to be a pretty high correlation between min and max altitude as well as between max altitude and the altitude difference which makes sense. My main intuition is that there's a significant relationship between the ski pass price and the altitude difference. "
   ]
  },
  {
   "cell_type": "code",
   "execution_count": 4,
   "metadata": {
    "slideshow": {
     "slide_type": "slide"
    }
   },
   "outputs": [
    {
     "output_type": "display_data",
     "data": {
      "application/vnd.plotly.v1+json": {
       "config": {
        "plotlyServerURL": "https://plot.ly"
       },
       "data": [
        {
         "hovertemplate": "altitude_diff=%{x}<br>ski_pass_price=%{y}<extra></extra>",
         "legendgroup": "",
         "marker": {
          "color": "#636efa",
          "symbol": "circle"
         },
         "mode": "markers",
         "name": "",
         "orientation": "v",
         "showlegend": false,
         "type": "scatter",
         "x": [
          830,
          378,
          1460,
          890,
          835,
          676,
          680,
          1100,
          355,
          254,
          1082,
          884,
          1225,
          1012,
          2337,
          700,
          1282,
          2063,
          45,
          1466,
          1465,
          138,
          1118,
          135,
          1273,
          933,
          1261,
          969,
          564,
          504,
          357,
          468,
          1465,
          982,
          1734,
          1240,
          928,
          1266,
          1377,
          610,
          1260,
          930,
          1036,
          1469,
          1050,
          683,
          1673,
          777,
          1289,
          420,
          2280,
          810,
          112,
          730,
          1150,
          1631,
          1515,
          260,
          1906,
          1960,
          1170,
          1069,
          1466,
          1466,
          428,
          240,
          2064,
          2120,
          2120,
          2205,
          2120,
          1070,
          2026,
          1377,
          1150,
          2120,
          1600,
          1376,
          817,
          2023,
          933,
          685,
          201,
          325,
          900,
          415,
          930,
          1570,
          615,
          996,
          1108,
          870,
          976,
          1051,
          900,
          1233,
          710,
          1990,
          582,
          988,
          683,
          1099,
          1620,
          1100,
          1870,
          1541,
          760,
          1240,
          1195,
          1495,
          1440,
          877,
          1541,
          1200,
          700,
          1266,
          1270,
          1337,
          1188,
          1337,
          1730,
          1541,
          1337,
          945,
          1541,
          1550,
          1182,
          1700,
          1201,
          1773,
          2063,
          1302,
          750,
          1039,
          1377,
          2337,
          625,
          895,
          143,
          970,
          990,
          1636,
          2509,
          1337,
          506,
          2509,
          896,
          2509,
          2509,
          330,
          1240,
          2120,
          2120,
          1520,
          1782,
          1503,
          1326,
          1340,
          930,
          1918,
          1100,
          108,
          1300,
          1164,
          1920,
          915,
          991,
          450,
          611,
          816,
          1226,
          930,
          841,
          1437,
          1000,
          1500,
          803,
          1109,
          1050,
          1506,
          860,
          760,
          990,
          1402,
          1070,
          4,
          1086,
          968,
          988,
          1382,
          788,
          875,
          1000,
          1250,
          550,
          400,
          455,
          549,
          914,
          489,
          686,
          1026,
          695,
          2034,
          744,
          1059,
          863,
          230,
          626,
          581,
          280,
          1036,
          894,
          717,
          832,
          850,
          608,
          847,
          457,
          945,
          1156,
          188,
          1063,
          788,
          928,
          712,
          722,
          619,
          1100,
          707,
          1778,
          972,
          1330,
          752,
          1100,
          680,
          615,
          1360,
          645,
          798,
          1380,
          1240,
          1116,
          612,
          1070,
          1270,
          665,
          650,
          2020,
          685,
          1450,
          822,
          402,
          1183,
          672,
          726,
          1154,
          1187,
          1513,
          1535,
          671,
          625,
          565,
          1323,
          579,
          605,
          532,
          1140,
          240,
          1050,
          482,
          1400,
          390,
          610,
          732,
          566,
          320,
          876,
          1330,
          770,
          1750,
          1606,
          1796,
          953,
          455,
          1362,
          669,
          690,
          1370,
          920,
          800,
          955,
          1289,
          510,
          505,
          1895,
          793,
          1159,
          920,
          1260,
          563,
          715,
          1495,
          458,
          416,
          518,
          1108,
          1713,
          1692,
          1688,
          1096,
          817,
          776,
          960,
          1250,
          549,
          1260,
          488,
          1451,
          1240,
          1014,
          488,
          229,
          1230,
          1071,
          582,
          2174,
          840,
          616,
          970,
          1308,
          1108,
          1787,
          800,
          1305,
          687,
          871,
          497,
          722,
          1300,
          881,
          308,
          1061,
          1225,
          300,
          828,
          402,
          594,
          1120,
          876,
          420,
          1564,
          490,
          733,
          1002,
          953,
          726,
          969,
          541,
          804,
          889,
          1085,
          1250,
          1318,
          2807,
          1137,
          20,
          550,
          387,
          1047,
          302,
          1489,
          306,
          652,
          480,
          1095,
          1175,
          1052,
          1250,
          533,
          425,
          976,
          925,
          738,
          1076,
          805,
          921,
          260,
          46,
          957,
          1100,
          969,
          1235,
          815,
          961,
          900,
          719,
          700,
          998,
          700,
          886,
          932,
          250,
          1350,
          380,
          778,
          1400,
          1150,
          565,
          295,
          560,
          945,
          610,
          84,
          590,
          834,
          400,
          348,
          870,
          676,
          1354,
          618,
          857,
          805,
          66,
          1060,
          96,
          1060,
          508,
          901,
          298,
          500,
          520,
          281,
          447,
          940,
          32,
          713,
          800,
          860,
          140,
          1396,
          622,
          601,
          95,
          1070,
          1000,
          309,
          255,
          304,
          396,
          20,
          38,
          25,
          764,
          140,
          230,
          60,
          464,
          817,
          631,
          312,
          415,
          346,
          478,
          252,
          420,
          250,
          1200,
          610,
          634,
          920,
          850,
          300,
          796,
          427,
          1199,
          750,
          400,
          970,
          707,
          915,
          676,
          580,
          348,
          854,
          1050,
          1302,
          354,
          643,
          125,
          700,
          900,
          630,
          429,
          580,
          1245,
          370,
          530,
          997,
          770
         ],
         "xaxis": "x",
         "y": [
          46,
          44,
          48,
          60,
          45,
          43,
          61,
          57,
          22,
          20,
          67,
          62,
          62,
          35,
          81,
          68,
          54,
          43,
          17,
          51,
          43,
          33,
          120,
          21,
          39,
          98,
          119,
          97,
          36,
          83,
          74,
          39,
          43,
          46,
          50,
          52,
          43,
          53,
          48,
          46,
          67,
          47,
          48,
          52,
          58,
          40,
          54,
          61,
          50,
          74,
          49,
          64,
          47,
          57,
          51,
          93,
          46,
          42,
          56,
          50,
          35,
          40,
          51,
          51,
          37,
          35,
          49,
          61,
          61,
          51,
          61,
          31,
          50,
          48,
          28,
          61,
          49,
          55,
          51,
          62,
          119,
          37,
          43,
          43,
          57,
          33,
          47,
          30,
          82,
          124,
          124,
          102,
          127,
          50,
          85,
          141,
          35,
          53,
          37,
          140,
          46,
          29,
          49,
          52,
          52,
          53,
          38,
          52,
          46,
          52,
          52,
          47,
          53,
          55,
          40,
          53,
          52,
          49,
          52,
          49,
          53,
          53,
          49,
          44,
          53,
          46,
          47,
          52,
          44,
          63,
          43,
          54,
          44,
          50,
          48,
          81,
          54,
          54,
          54,
          60,
          38,
          63,
          66,
          69,
          19,
          66,
          54,
          66,
          66,
          25,
          52,
          61,
          61,
          44,
          47,
          46,
          110,
          124,
          47,
          68,
          39,
          39,
          44,
          39,
          52,
          45,
          66,
          34,
          67,
          120,
          52,
          90,
          89,
          37,
          36,
          36,
          34,
          51,
          36,
          69,
          81,
          62,
          84,
          46,
          66,
          33,
          53,
          47,
          99,
          36,
          42,
          34,
          36,
          42,
          93,
          87,
          50,
          102,
          109,
          56,
          54,
          79,
          120,
          61,
          66,
          120,
          50,
          30,
          61,
          90,
          87,
          107,
          45,
          65,
          41,
          34,
          32,
          76,
          98,
          114,
          110,
          55,
          54,
          83,
          36,
          60,
          35,
          76,
          37,
          85,
          52,
          39,
          51,
          49,
          43,
          37,
          51,
          49,
          60,
          65,
          22,
          50,
          42,
          70,
          51,
          34,
          62,
          40,
          57,
          46,
          42,
          49,
          59,
          50,
          84,
          106,
          46,
          29,
          50,
          50,
          86,
          52,
          50,
          47,
          67,
          52,
          67,
          37,
          51,
          30,
          32,
          29,
          45,
          85,
          45,
          71,
          37,
          49,
          44,
          68,
          52,
          49,
          49,
          44,
          50,
          52,
          54,
          31,
          47,
          27,
          40,
          45,
          14,
          81,
          64,
          42,
          71,
          54,
          46,
          28,
          38,
          44,
          51,
          76,
          43,
          42,
          48,
          64,
          48,
          44,
          46,
          27,
          38,
          30,
          29,
          48,
          17,
          68,
          55,
          44,
          34,
          80,
          59,
          44,
          40,
          46,
          55,
          42,
          44,
          42,
          49,
          38,
          40,
          53,
          41,
          24,
          30,
          39,
          41,
          45,
          39,
          41,
          39,
          44,
          41,
          43,
          32,
          45,
          46,
          44,
          26,
          18,
          47,
          20,
          31,
          64,
          29,
          20,
          27,
          39,
          44,
          37,
          44,
          43,
          60,
          41,
          51,
          32,
          41,
          45,
          40,
          47,
          28,
          30,
          45,
          40,
          44,
          30,
          29,
          34,
          31,
          31,
          35,
          57,
          35,
          34,
          60,
          28,
          32,
          42,
          38,
          79,
          43,
          46,
          39,
          44,
          42,
          25,
          35,
          30,
          47,
          35,
          33,
          41,
          67,
          32,
          44,
          28,
          33,
          41,
          35,
          48,
          42,
          41,
          37,
          44,
          42,
          23,
          40,
          42,
          30,
          41,
          59,
          45,
          29,
          31,
          26,
          41,
          37,
          33,
          23,
          36,
          63,
          24,
          26,
          22,
          37,
          33,
          31,
          34,
          30,
          44,
          41,
          36,
          18,
          39,
          31,
          53,
          32,
          26,
          45,
          36,
          18,
          15,
          45,
          20,
          23,
          42,
          35,
          35,
          47,
          29,
          19,
          32,
          29,
          19,
          22,
          29,
          40,
          44,
          24,
          40,
          44,
          25,
          63,
          25,
          46,
          36,
          17,
          47,
          20,
          59,
          26,
          63,
          43,
          45,
          29,
          35,
          51,
          35,
          26,
          34,
          21,
          73,
          38,
          35,
          48,
          29,
          43,
          42,
          51
         ],
         "yaxis": "y"
        }
       ],
       "layout": {
        "legend": {
         "tracegroupgap": 0
        },
        "margin": {
         "t": 60
        },
        "template": {
         "data": {
          "bar": [
           {
            "error_x": {
             "color": "#2a3f5f"
            },
            "error_y": {
             "color": "#2a3f5f"
            },
            "marker": {
             "line": {
              "color": "#E5ECF6",
              "width": 0.5
             }
            },
            "type": "bar"
           }
          ],
          "barpolar": [
           {
            "marker": {
             "line": {
              "color": "#E5ECF6",
              "width": 0.5
             }
            },
            "type": "barpolar"
           }
          ],
          "carpet": [
           {
            "aaxis": {
             "endlinecolor": "#2a3f5f",
             "gridcolor": "white",
             "linecolor": "white",
             "minorgridcolor": "white",
             "startlinecolor": "#2a3f5f"
            },
            "baxis": {
             "endlinecolor": "#2a3f5f",
             "gridcolor": "white",
             "linecolor": "white",
             "minorgridcolor": "white",
             "startlinecolor": "#2a3f5f"
            },
            "type": "carpet"
           }
          ],
          "choropleth": [
           {
            "colorbar": {
             "outlinewidth": 0,
             "ticks": ""
            },
            "type": "choropleth"
           }
          ],
          "contour": [
           {
            "colorbar": {
             "outlinewidth": 0,
             "ticks": ""
            },
            "colorscale": [
             [
              0,
              "#0d0887"
             ],
             [
              0.1111111111111111,
              "#46039f"
             ],
             [
              0.2222222222222222,
              "#7201a8"
             ],
             [
              0.3333333333333333,
              "#9c179e"
             ],
             [
              0.4444444444444444,
              "#bd3786"
             ],
             [
              0.5555555555555556,
              "#d8576b"
             ],
             [
              0.6666666666666666,
              "#ed7953"
             ],
             [
              0.7777777777777778,
              "#fb9f3a"
             ],
             [
              0.8888888888888888,
              "#fdca26"
             ],
             [
              1,
              "#f0f921"
             ]
            ],
            "type": "contour"
           }
          ],
          "contourcarpet": [
           {
            "colorbar": {
             "outlinewidth": 0,
             "ticks": ""
            },
            "type": "contourcarpet"
           }
          ],
          "heatmap": [
           {
            "colorbar": {
             "outlinewidth": 0,
             "ticks": ""
            },
            "colorscale": [
             [
              0,
              "#0d0887"
             ],
             [
              0.1111111111111111,
              "#46039f"
             ],
             [
              0.2222222222222222,
              "#7201a8"
             ],
             [
              0.3333333333333333,
              "#9c179e"
             ],
             [
              0.4444444444444444,
              "#bd3786"
             ],
             [
              0.5555555555555556,
              "#d8576b"
             ],
             [
              0.6666666666666666,
              "#ed7953"
             ],
             [
              0.7777777777777778,
              "#fb9f3a"
             ],
             [
              0.8888888888888888,
              "#fdca26"
             ],
             [
              1,
              "#f0f921"
             ]
            ],
            "type": "heatmap"
           }
          ],
          "heatmapgl": [
           {
            "colorbar": {
             "outlinewidth": 0,
             "ticks": ""
            },
            "colorscale": [
             [
              0,
              "#0d0887"
             ],
             [
              0.1111111111111111,
              "#46039f"
             ],
             [
              0.2222222222222222,
              "#7201a8"
             ],
             [
              0.3333333333333333,
              "#9c179e"
             ],
             [
              0.4444444444444444,
              "#bd3786"
             ],
             [
              0.5555555555555556,
              "#d8576b"
             ],
             [
              0.6666666666666666,
              "#ed7953"
             ],
             [
              0.7777777777777778,
              "#fb9f3a"
             ],
             [
              0.8888888888888888,
              "#fdca26"
             ],
             [
              1,
              "#f0f921"
             ]
            ],
            "type": "heatmapgl"
           }
          ],
          "histogram": [
           {
            "marker": {
             "colorbar": {
              "outlinewidth": 0,
              "ticks": ""
             }
            },
            "type": "histogram"
           }
          ],
          "histogram2d": [
           {
            "colorbar": {
             "outlinewidth": 0,
             "ticks": ""
            },
            "colorscale": [
             [
              0,
              "#0d0887"
             ],
             [
              0.1111111111111111,
              "#46039f"
             ],
             [
              0.2222222222222222,
              "#7201a8"
             ],
             [
              0.3333333333333333,
              "#9c179e"
             ],
             [
              0.4444444444444444,
              "#bd3786"
             ],
             [
              0.5555555555555556,
              "#d8576b"
             ],
             [
              0.6666666666666666,
              "#ed7953"
             ],
             [
              0.7777777777777778,
              "#fb9f3a"
             ],
             [
              0.8888888888888888,
              "#fdca26"
             ],
             [
              1,
              "#f0f921"
             ]
            ],
            "type": "histogram2d"
           }
          ],
          "histogram2dcontour": [
           {
            "colorbar": {
             "outlinewidth": 0,
             "ticks": ""
            },
            "colorscale": [
             [
              0,
              "#0d0887"
             ],
             [
              0.1111111111111111,
              "#46039f"
             ],
             [
              0.2222222222222222,
              "#7201a8"
             ],
             [
              0.3333333333333333,
              "#9c179e"
             ],
             [
              0.4444444444444444,
              "#bd3786"
             ],
             [
              0.5555555555555556,
              "#d8576b"
             ],
             [
              0.6666666666666666,
              "#ed7953"
             ],
             [
              0.7777777777777778,
              "#fb9f3a"
             ],
             [
              0.8888888888888888,
              "#fdca26"
             ],
             [
              1,
              "#f0f921"
             ]
            ],
            "type": "histogram2dcontour"
           }
          ],
          "mesh3d": [
           {
            "colorbar": {
             "outlinewidth": 0,
             "ticks": ""
            },
            "type": "mesh3d"
           }
          ],
          "parcoords": [
           {
            "line": {
             "colorbar": {
              "outlinewidth": 0,
              "ticks": ""
             }
            },
            "type": "parcoords"
           }
          ],
          "pie": [
           {
            "automargin": true,
            "type": "pie"
           }
          ],
          "scatter": [
           {
            "marker": {
             "colorbar": {
              "outlinewidth": 0,
              "ticks": ""
             }
            },
            "type": "scatter"
           }
          ],
          "scatter3d": [
           {
            "line": {
             "colorbar": {
              "outlinewidth": 0,
              "ticks": ""
             }
            },
            "marker": {
             "colorbar": {
              "outlinewidth": 0,
              "ticks": ""
             }
            },
            "type": "scatter3d"
           }
          ],
          "scattercarpet": [
           {
            "marker": {
             "colorbar": {
              "outlinewidth": 0,
              "ticks": ""
             }
            },
            "type": "scattercarpet"
           }
          ],
          "scattergeo": [
           {
            "marker": {
             "colorbar": {
              "outlinewidth": 0,
              "ticks": ""
             }
            },
            "type": "scattergeo"
           }
          ],
          "scattergl": [
           {
            "marker": {
             "colorbar": {
              "outlinewidth": 0,
              "ticks": ""
             }
            },
            "type": "scattergl"
           }
          ],
          "scattermapbox": [
           {
            "marker": {
             "colorbar": {
              "outlinewidth": 0,
              "ticks": ""
             }
            },
            "type": "scattermapbox"
           }
          ],
          "scatterpolar": [
           {
            "marker": {
             "colorbar": {
              "outlinewidth": 0,
              "ticks": ""
             }
            },
            "type": "scatterpolar"
           }
          ],
          "scatterpolargl": [
           {
            "marker": {
             "colorbar": {
              "outlinewidth": 0,
              "ticks": ""
             }
            },
            "type": "scatterpolargl"
           }
          ],
          "scatterternary": [
           {
            "marker": {
             "colorbar": {
              "outlinewidth": 0,
              "ticks": ""
             }
            },
            "type": "scatterternary"
           }
          ],
          "surface": [
           {
            "colorbar": {
             "outlinewidth": 0,
             "ticks": ""
            },
            "colorscale": [
             [
              0,
              "#0d0887"
             ],
             [
              0.1111111111111111,
              "#46039f"
             ],
             [
              0.2222222222222222,
              "#7201a8"
             ],
             [
              0.3333333333333333,
              "#9c179e"
             ],
             [
              0.4444444444444444,
              "#bd3786"
             ],
             [
              0.5555555555555556,
              "#d8576b"
             ],
             [
              0.6666666666666666,
              "#ed7953"
             ],
             [
              0.7777777777777778,
              "#fb9f3a"
             ],
             [
              0.8888888888888888,
              "#fdca26"
             ],
             [
              1,
              "#f0f921"
             ]
            ],
            "type": "surface"
           }
          ],
          "table": [
           {
            "cells": {
             "fill": {
              "color": "#EBF0F8"
             },
             "line": {
              "color": "white"
             }
            },
            "header": {
             "fill": {
              "color": "#C8D4E3"
             },
             "line": {
              "color": "white"
             }
            },
            "type": "table"
           }
          ]
         },
         "layout": {
          "annotationdefaults": {
           "arrowcolor": "#2a3f5f",
           "arrowhead": 0,
           "arrowwidth": 1
          },
          "autotypenumbers": "strict",
          "coloraxis": {
           "colorbar": {
            "outlinewidth": 0,
            "ticks": ""
           }
          },
          "colorscale": {
           "diverging": [
            [
             0,
             "#8e0152"
            ],
            [
             0.1,
             "#c51b7d"
            ],
            [
             0.2,
             "#de77ae"
            ],
            [
             0.3,
             "#f1b6da"
            ],
            [
             0.4,
             "#fde0ef"
            ],
            [
             0.5,
             "#f7f7f7"
            ],
            [
             0.6,
             "#e6f5d0"
            ],
            [
             0.7,
             "#b8e186"
            ],
            [
             0.8,
             "#7fbc41"
            ],
            [
             0.9,
             "#4d9221"
            ],
            [
             1,
             "#276419"
            ]
           ],
           "sequential": [
            [
             0,
             "#0d0887"
            ],
            [
             0.1111111111111111,
             "#46039f"
            ],
            [
             0.2222222222222222,
             "#7201a8"
            ],
            [
             0.3333333333333333,
             "#9c179e"
            ],
            [
             0.4444444444444444,
             "#bd3786"
            ],
            [
             0.5555555555555556,
             "#d8576b"
            ],
            [
             0.6666666666666666,
             "#ed7953"
            ],
            [
             0.7777777777777778,
             "#fb9f3a"
            ],
            [
             0.8888888888888888,
             "#fdca26"
            ],
            [
             1,
             "#f0f921"
            ]
           ],
           "sequentialminus": [
            [
             0,
             "#0d0887"
            ],
            [
             0.1111111111111111,
             "#46039f"
            ],
            [
             0.2222222222222222,
             "#7201a8"
            ],
            [
             0.3333333333333333,
             "#9c179e"
            ],
            [
             0.4444444444444444,
             "#bd3786"
            ],
            [
             0.5555555555555556,
             "#d8576b"
            ],
            [
             0.6666666666666666,
             "#ed7953"
            ],
            [
             0.7777777777777778,
             "#fb9f3a"
            ],
            [
             0.8888888888888888,
             "#fdca26"
            ],
            [
             1,
             "#f0f921"
            ]
           ]
          },
          "colorway": [
           "#636efa",
           "#EF553B",
           "#00cc96",
           "#ab63fa",
           "#FFA15A",
           "#19d3f3",
           "#FF6692",
           "#B6E880",
           "#FF97FF",
           "#FECB52"
          ],
          "font": {
           "color": "#2a3f5f"
          },
          "geo": {
           "bgcolor": "white",
           "lakecolor": "white",
           "landcolor": "#E5ECF6",
           "showlakes": true,
           "showland": true,
           "subunitcolor": "white"
          },
          "hoverlabel": {
           "align": "left"
          },
          "hovermode": "closest",
          "mapbox": {
           "style": "light"
          },
          "paper_bgcolor": "white",
          "plot_bgcolor": "#E5ECF6",
          "polar": {
           "angularaxis": {
            "gridcolor": "white",
            "linecolor": "white",
            "ticks": ""
           },
           "bgcolor": "#E5ECF6",
           "radialaxis": {
            "gridcolor": "white",
            "linecolor": "white",
            "ticks": ""
           }
          },
          "scene": {
           "xaxis": {
            "backgroundcolor": "#E5ECF6",
            "gridcolor": "white",
            "gridwidth": 2,
            "linecolor": "white",
            "showbackground": true,
            "ticks": "",
            "zerolinecolor": "white"
           },
           "yaxis": {
            "backgroundcolor": "#E5ECF6",
            "gridcolor": "white",
            "gridwidth": 2,
            "linecolor": "white",
            "showbackground": true,
            "ticks": "",
            "zerolinecolor": "white"
           },
           "zaxis": {
            "backgroundcolor": "#E5ECF6",
            "gridcolor": "white",
            "gridwidth": 2,
            "linecolor": "white",
            "showbackground": true,
            "ticks": "",
            "zerolinecolor": "white"
           }
          },
          "shapedefaults": {
           "line": {
            "color": "#2a3f5f"
           }
          },
          "ternary": {
           "aaxis": {
            "gridcolor": "white",
            "linecolor": "white",
            "ticks": ""
           },
           "baxis": {
            "gridcolor": "white",
            "linecolor": "white",
            "ticks": ""
           },
           "bgcolor": "#E5ECF6",
           "caxis": {
            "gridcolor": "white",
            "linecolor": "white",
            "ticks": ""
           }
          },
          "title": {
           "x": 0.05
          },
          "xaxis": {
           "automargin": true,
           "gridcolor": "white",
           "linecolor": "white",
           "ticks": "",
           "title": {
            "standoff": 15
           },
           "zerolinecolor": "white",
           "zerolinewidth": 2
          },
          "yaxis": {
           "automargin": true,
           "gridcolor": "white",
           "linecolor": "white",
           "ticks": "",
           "title": {
            "standoff": 15
           },
           "zerolinecolor": "white",
           "zerolinewidth": 2
          }
         }
        },
        "xaxis": {
         "anchor": "y",
         "domain": [
          0,
          1
         ],
         "title": {
          "text": "altitude_diff"
         }
        },
        "yaxis": {
         "anchor": "x",
         "domain": [
          0,
          1
         ],
         "title": {
          "text": "ski_pass_price"
         }
        }
       }
      }
     },
     "metadata": {}
    }
   ],
   "source": [
    "fig = px.scatter(df,x='altitude_diff', y='ski_pass_price')\n",
    "fig.show()"
   ]
  },
  {
   "cell_type": "markdown",
   "metadata": {
    "slideshow": {
     "slide_type": "subslide"
    }
   },
   "source": [
    "The scatter plot shows a correlation between the ski pass price and altitude difference, however there seems to be two distinct distributions. I suspect it's because of disparities in price between Europe and America. Let's plot them seperately and see."
   ]
  },
  {
   "cell_type": "code",
   "execution_count": 5,
   "metadata": {
    "slideshow": {
     "slide_type": "skip"
    }
   },
   "outputs": [],
   "source": [
    "euro = df[df['continent'] == 'Europe'].copy()\n",
    "america = df[df['continent'] == 'America'].copy()\n",
    "rest = df[df['continent'] == 'Rest of the world'].copy()"
   ]
  },
  {
   "cell_type": "code",
   "execution_count": 6,
   "metadata": {
    "slideshow": {
     "slide_type": "subslide"
    }
   },
   "outputs": [
    {
     "output_type": "display_data",
     "data": {
      "application/vnd.plotly.v1+json": {
       "config": {
        "plotlyServerURL": "https://plot.ly"
       },
       "data": [
        {
         "mode": "markers",
         "type": "scatter",
         "x": [
          830,
          378,
          1460,
          890,
          835,
          676,
          680,
          1100,
          355,
          254,
          1082,
          884,
          1225,
          1012,
          2337,
          700,
          1282,
          2063,
          45,
          1466,
          1465,
          138,
          1118,
          135,
          1273,
          933,
          1261,
          969,
          564,
          504,
          357,
          468,
          1465,
          982,
          1734,
          1240,
          928,
          1266,
          1377,
          610,
          1260,
          930,
          1036,
          1469,
          1050,
          683,
          1673,
          777,
          1289,
          420,
          2280,
          810,
          112,
          730,
          1150,
          1631,
          1515,
          260,
          1906,
          1960,
          1170,
          1069,
          1466,
          1466,
          428,
          240,
          2064,
          2120,
          2120,
          2205,
          2120,
          1070,
          2026,
          1377,
          1150,
          2120,
          1600,
          1376,
          817,
          2023,
          933,
          685,
          201,
          325,
          900,
          415,
          930,
          1570,
          615,
          996,
          1108,
          870,
          976,
          1051,
          900,
          1233,
          710,
          1990,
          582,
          988,
          683,
          1099,
          1620,
          1100,
          1870,
          1541,
          760,
          1240,
          1195,
          1495,
          1440,
          877,
          1541,
          1200,
          700,
          1266,
          1270,
          1337,
          1188,
          1337,
          1730,
          1541,
          1337,
          945,
          1541,
          1550,
          1182,
          1700,
          1201,
          1773,
          2063,
          1302,
          750,
          1039,
          1377,
          2337,
          625,
          895,
          143,
          970,
          990,
          1636,
          2509,
          1337,
          506,
          2509,
          896,
          2509,
          2509,
          330,
          1240,
          2120,
          2120,
          1520,
          1782,
          1503,
          1326,
          1340,
          930,
          1918,
          1100,
          108,
          1300,
          1164,
          1920,
          915,
          991,
          450,
          611,
          816,
          1226,
          930,
          841,
          1437,
          1000,
          1500,
          803,
          1109,
          1050,
          1506,
          860,
          760,
          990,
          1402,
          1070,
          4,
          1086,
          968,
          988,
          1382,
          788,
          875,
          1000,
          1250,
          550,
          400,
          455,
          549,
          914,
          489,
          686,
          1026,
          695,
          2034,
          744,
          1059,
          863,
          230,
          626,
          581,
          280,
          1036,
          894,
          717,
          832,
          850,
          608,
          847,
          457,
          945,
          1156,
          188,
          1063,
          788,
          928,
          712,
          722,
          619,
          1100,
          707,
          1778,
          972,
          1330,
          752,
          1100,
          680,
          615,
          1360,
          645,
          798,
          1380,
          1240,
          1116,
          612,
          1070,
          1270,
          665,
          650,
          2020,
          685,
          1450,
          822,
          402,
          1183,
          672,
          726,
          1154,
          1187,
          1513,
          1535,
          671,
          625,
          565,
          1323,
          579,
          605,
          532,
          1140,
          240,
          1050,
          482,
          1400,
          390,
          610,
          732,
          566,
          320,
          876,
          1330,
          770,
          1750,
          1606,
          1796,
          953,
          455,
          1362,
          669,
          690,
          1370,
          920,
          800,
          955,
          1289,
          510,
          505,
          1895,
          793,
          1159,
          920,
          1260,
          563,
          715,
          1495,
          458,
          416,
          518,
          1108,
          1713,
          1692,
          1688,
          1096,
          817,
          776,
          960,
          1250,
          549,
          1260,
          488,
          1451,
          1240,
          1014,
          488,
          229,
          1230,
          1071,
          582,
          2174,
          840,
          616,
          970,
          1308,
          1108,
          1787,
          800,
          1305,
          687,
          871,
          497,
          722,
          1300,
          881,
          308,
          1061,
          1225,
          300,
          828,
          402,
          594,
          1120,
          876,
          420,
          1564,
          490,
          733,
          1002,
          953,
          726,
          969,
          541,
          804,
          889,
          1085,
          1250,
          1318,
          2807,
          1137,
          20,
          550,
          387,
          1047,
          302,
          1489,
          306,
          652,
          480,
          1095,
          1175,
          1052,
          1250,
          533,
          425,
          976,
          925,
          738,
          1076,
          805,
          921,
          260,
          46,
          957,
          1100,
          969,
          1235,
          815,
          961,
          900,
          719,
          700,
          998,
          700,
          886,
          932,
          250,
          1350,
          380,
          778,
          1400,
          1150,
          565,
          295,
          560,
          945,
          610,
          84,
          590,
          834,
          400,
          348,
          870,
          676,
          1354,
          618,
          857,
          805,
          66,
          1060,
          96,
          1060,
          508,
          901,
          298,
          500,
          520,
          281,
          447,
          940,
          32,
          713,
          800,
          860,
          140,
          1396,
          622,
          601,
          95,
          1070,
          1000,
          309,
          255,
          304,
          396,
          20,
          38,
          25,
          764,
          140,
          230,
          60,
          464,
          817,
          631,
          312,
          415,
          346,
          478,
          252,
          420,
          250,
          1200,
          610,
          634,
          920,
          850,
          300,
          796,
          427,
          1199,
          750,
          400,
          970,
          707,
          915,
          676,
          580,
          348,
          854,
          1050,
          1302,
          354,
          643,
          125,
          700,
          900,
          630,
          429,
          580,
          1245,
          370,
          530,
          997,
          770
         ],
         "xaxis": "x",
         "y": [
          46,
          44,
          48,
          60,
          45,
          43,
          61,
          57,
          22,
          20,
          67,
          62,
          62,
          35,
          81,
          68,
          54,
          43,
          17,
          51,
          43,
          33,
          120,
          21,
          39,
          98,
          119,
          97,
          36,
          83,
          74,
          39,
          43,
          46,
          50,
          52,
          43,
          53,
          48,
          46,
          67,
          47,
          48,
          52,
          58,
          40,
          54,
          61,
          50,
          74,
          49,
          64,
          47,
          57,
          51,
          93,
          46,
          42,
          56,
          50,
          35,
          40,
          51,
          51,
          37,
          35,
          49,
          61,
          61,
          51,
          61,
          31,
          50,
          48,
          28,
          61,
          49,
          55,
          51,
          62,
          119,
          37,
          43,
          43,
          57,
          33,
          47,
          30,
          82,
          124,
          124,
          102,
          127,
          50,
          85,
          141,
          35,
          53,
          37,
          140,
          46,
          29,
          49,
          52,
          52,
          53,
          38,
          52,
          46,
          52,
          52,
          47,
          53,
          55,
          40,
          53,
          52,
          49,
          52,
          49,
          53,
          53,
          49,
          44,
          53,
          46,
          47,
          52,
          44,
          63,
          43,
          54,
          44,
          50,
          48,
          81,
          54,
          54,
          54,
          60,
          38,
          63,
          66,
          69,
          19,
          66,
          54,
          66,
          66,
          25,
          52,
          61,
          61,
          44,
          47,
          46,
          110,
          124,
          47,
          68,
          39,
          39,
          44,
          39,
          52,
          45,
          66,
          34,
          67,
          120,
          52,
          90,
          89,
          37,
          36,
          36,
          34,
          51,
          36,
          69,
          81,
          62,
          84,
          46,
          66,
          33,
          53,
          47,
          99,
          36,
          42,
          34,
          36,
          42,
          93,
          87,
          50,
          102,
          109,
          56,
          54,
          79,
          120,
          61,
          66,
          120,
          50,
          30,
          61,
          90,
          87,
          107,
          45,
          65,
          41,
          34,
          32,
          76,
          98,
          114,
          110,
          55,
          54,
          83,
          36,
          60,
          35,
          76,
          37,
          85,
          52,
          39,
          51,
          49,
          43,
          37,
          51,
          49,
          60,
          65,
          22,
          50,
          42,
          70,
          51,
          34,
          62,
          40,
          57,
          46,
          42,
          49,
          59,
          50,
          84,
          106,
          46,
          29,
          50,
          50,
          86,
          52,
          50,
          47,
          67,
          52,
          67,
          37,
          51,
          30,
          32,
          29,
          45,
          85,
          45,
          71,
          37,
          49,
          44,
          68,
          52,
          49,
          49,
          44,
          50,
          52,
          54,
          31,
          47,
          27,
          40,
          45,
          14,
          81,
          64,
          42,
          71,
          54,
          46,
          28,
          38,
          44,
          51,
          76,
          43,
          42,
          48,
          64,
          48,
          44,
          46,
          27,
          38,
          30,
          29,
          48,
          17,
          68,
          55,
          44,
          34,
          80,
          59,
          44,
          40,
          46,
          55,
          42,
          44,
          42,
          49,
          38,
          40,
          53,
          41,
          24,
          30,
          39,
          41,
          45,
          39,
          41,
          39,
          44,
          41,
          43,
          32,
          45,
          46,
          44,
          26,
          18,
          47,
          20,
          31,
          64,
          29,
          20,
          27,
          39,
          44,
          37,
          44,
          43,
          60,
          41,
          51,
          32,
          41,
          45,
          40,
          47,
          28,
          30,
          45,
          40,
          44,
          30,
          29,
          34,
          31,
          31,
          35,
          57,
          35,
          34,
          60,
          28,
          32,
          42,
          38,
          79,
          43,
          46,
          39,
          44,
          42,
          25,
          35,
          30,
          47,
          35,
          33,
          41,
          67,
          32,
          44,
          28,
          33,
          41,
          35,
          48,
          42,
          41,
          37,
          44,
          42,
          23,
          40,
          42,
          30,
          41,
          59,
          45,
          29,
          31,
          26,
          41,
          37,
          33,
          23,
          36,
          63,
          24,
          26,
          22,
          37,
          33,
          31,
          34,
          30,
          44,
          41,
          36,
          18,
          39,
          31,
          53,
          32,
          26,
          45,
          36,
          18,
          15,
          45,
          20,
          23,
          42,
          35,
          35,
          47,
          29,
          19,
          32,
          29,
          19,
          22,
          29,
          40,
          44,
          24,
          40,
          44,
          25,
          63,
          25,
          46,
          36,
          17,
          47,
          20,
          59,
          26,
          63,
          43,
          45,
          29,
          35,
          51,
          35,
          26,
          34,
          21,
          73,
          38,
          35,
          48,
          29,
          43,
          42,
          51
         ],
         "yaxis": "y"
        },
        {
         "mode": "markers",
         "type": "scatter",
         "x": [
          830,
          378,
          1460,
          835,
          676,
          355,
          254,
          1012,
          2337,
          1282,
          2063,
          45,
          1466,
          1465,
          138,
          1273,
          564,
          468,
          1465,
          982,
          1734,
          1240,
          928,
          1266,
          1377,
          610,
          930,
          1036,
          1469,
          1050,
          683,
          1673,
          1289,
          2280,
          1515,
          260,
          1906,
          1960,
          1170,
          1069,
          1466,
          1466,
          428,
          240,
          2064,
          2120,
          2120,
          2205,
          2120,
          1070,
          2026,
          1377,
          1150,
          2120,
          1600,
          1376,
          817,
          2023,
          685,
          201,
          325,
          415,
          930,
          1570,
          1051,
          710,
          1990,
          582,
          683,
          1099,
          1620,
          1100,
          1870,
          1541,
          760,
          1240,
          1195,
          1495,
          1440,
          877,
          1541,
          1200,
          700,
          1266,
          1270,
          1337,
          1188,
          1337,
          1730,
          1541,
          1337,
          945,
          1541,
          1550,
          1182,
          1700,
          1201,
          1773,
          2063,
          1302,
          750,
          1039,
          1377,
          2337,
          625,
          895,
          143,
          970,
          990,
          1636,
          2509,
          1337,
          506,
          2509,
          896,
          2509,
          2509,
          330,
          1240,
          2120,
          2120,
          1520,
          1782,
          1503,
          930,
          1918,
          1100,
          108,
          1300,
          1164,
          1920,
          915,
          450,
          1226,
          1437,
          1000,
          1500,
          803,
          1109,
          1050,
          1506,
          1402,
          4,
          1086,
          968,
          1382,
          788,
          875,
          1000,
          1250,
          2034,
          230,
          894,
          832,
          850,
          608,
          188,
          1063,
          928,
          722,
          1100,
          1778,
          1330,
          1100,
          680,
          1360,
          1380,
          1240,
          1116,
          1070,
          1270,
          650,
          2020,
          685,
          1450,
          1183,
          1154,
          1187,
          1513,
          1535,
          1323,
          1140,
          240,
          1050,
          482,
          1400,
          320,
          876,
          1330,
          1750,
          1606,
          1796,
          953,
          455,
          1362,
          669,
          690,
          1370,
          920,
          800,
          955,
          1895,
          1159,
          920,
          1260,
          563,
          715,
          1495,
          416,
          518,
          1108,
          1692,
          1688,
          1096,
          817,
          776,
          960,
          1250,
          1451,
          1240,
          1014,
          582,
          2174,
          840,
          970,
          1308,
          1108,
          1787,
          800,
          1305,
          687,
          871,
          497,
          722,
          1300,
          308,
          1061,
          300,
          402,
          1120,
          876,
          420,
          1564,
          490,
          733,
          1002,
          726,
          969,
          541,
          1250,
          1318,
          2807,
          1137,
          20,
          550,
          387,
          1047,
          302,
          1489,
          306,
          652,
          480,
          1095,
          1175,
          1052,
          1250,
          533,
          425,
          1076,
          805,
          260,
          46,
          1100,
          1235,
          815,
          961,
          900,
          700,
          998,
          700,
          886,
          932,
          250,
          1350,
          778,
          1400,
          1150,
          565,
          295,
          560,
          945,
          84,
          590,
          834,
          400,
          348,
          870,
          676,
          1354,
          618,
          805,
          66,
          1060,
          1060,
          508,
          901,
          298,
          500,
          281,
          447,
          940,
          32,
          713,
          800,
          860,
          140,
          1396,
          622,
          601,
          95,
          1070,
          1000,
          255,
          304,
          396,
          20,
          38,
          25,
          764,
          140,
          230,
          60,
          464,
          817,
          312,
          415,
          346,
          478,
          252,
          420,
          250,
          1200,
          610,
          920,
          850,
          300,
          427,
          1199,
          750,
          400,
          970,
          707,
          915,
          676,
          348,
          854,
          1050,
          1302,
          643,
          125,
          700,
          900,
          429,
          580,
          1245,
          370,
          530,
          997
         ],
         "xaxis": "x2",
         "y": [
          46,
          44,
          48,
          45,
          43,
          22,
          20,
          35,
          81,
          54,
          43,
          17,
          51,
          43,
          33,
          39,
          36,
          39,
          43,
          46,
          50,
          52,
          43,
          53,
          48,
          46,
          47,
          48,
          52,
          58,
          40,
          54,
          50,
          49,
          46,
          42,
          56,
          50,
          35,
          40,
          51,
          51,
          37,
          35,
          49,
          61,
          61,
          51,
          61,
          31,
          50,
          48,
          28,
          61,
          49,
          55,
          51,
          62,
          37,
          43,
          43,
          33,
          47,
          30,
          50,
          35,
          53,
          37,
          46,
          29,
          49,
          52,
          52,
          53,
          38,
          52,
          46,
          52,
          52,
          47,
          53,
          55,
          40,
          53,
          52,
          49,
          52,
          49,
          53,
          53,
          49,
          44,
          53,
          46,
          47,
          52,
          44,
          63,
          43,
          54,
          44,
          50,
          48,
          81,
          54,
          54,
          54,
          60,
          38,
          63,
          66,
          69,
          19,
          66,
          54,
          66,
          66,
          25,
          52,
          61,
          61,
          44,
          47,
          46,
          47,
          68,
          39,
          39,
          44,
          39,
          52,
          45,
          34,
          52,
          37,
          36,
          36,
          34,
          51,
          36,
          69,
          46,
          33,
          53,
          47,
          36,
          42,
          34,
          36,
          42,
          61,
          30,
          45,
          41,
          34,
          32,
          55,
          54,
          36,
          35,
          37,
          52,
          51,
          43,
          37,
          49,
          22,
          50,
          42,
          51,
          34,
          40,
          57,
          46,
          42,
          50,
          46,
          29,
          50,
          50,
          47,
          37,
          51,
          30,
          32,
          29,
          37,
          49,
          44,
          52,
          49,
          49,
          44,
          50,
          52,
          54,
          31,
          47,
          27,
          40,
          45,
          42,
          54,
          46,
          28,
          38,
          44,
          51,
          43,
          42,
          48,
          48,
          44,
          46,
          27,
          38,
          30,
          29,
          55,
          44,
          34,
          46,
          55,
          42,
          42,
          49,
          38,
          40,
          53,
          41,
          24,
          30,
          39,
          41,
          45,
          41,
          39,
          41,
          32,
          46,
          44,
          26,
          18,
          47,
          20,
          31,
          29,
          20,
          27,
          44,
          43,
          60,
          41,
          51,
          32,
          41,
          45,
          40,
          47,
          28,
          30,
          45,
          40,
          44,
          30,
          29,
          34,
          31,
          35,
          34,
          28,
          32,
          38,
          43,
          46,
          39,
          44,
          25,
          35,
          30,
          47,
          35,
          33,
          41,
          32,
          44,
          28,
          33,
          41,
          35,
          48,
          41,
          37,
          44,
          42,
          23,
          40,
          42,
          30,
          41,
          45,
          29,
          31,
          41,
          37,
          33,
          23,
          36,
          24,
          26,
          22,
          37,
          33,
          31,
          34,
          30,
          44,
          41,
          36,
          18,
          39,
          31,
          32,
          26,
          45,
          36,
          18,
          15,
          45,
          20,
          23,
          42,
          35,
          35,
          29,
          19,
          32,
          29,
          19,
          22,
          29,
          40,
          44,
          40,
          44,
          25,
          25,
          46,
          36,
          17,
          47,
          20,
          59,
          26,
          43,
          45,
          29,
          35,
          35,
          26,
          34,
          21,
          38,
          35,
          48,
          29,
          43,
          42
         ],
         "yaxis": "y2"
        },
        {
         "mode": "markers",
         "type": "scatter",
         "x": [
          890,
          1100,
          1082,
          884,
          1225,
          1118,
          135,
          933,
          1261,
          969,
          504,
          1260,
          777,
          810,
          730,
          1150,
          1631,
          933,
          615,
          996,
          1108,
          870,
          976,
          900,
          1233,
          988,
          1326,
          1340,
          991,
          611,
          816,
          930,
          841,
          860,
          760,
          990,
          1070,
          988,
          550,
          455,
          549,
          914,
          489,
          686,
          1026,
          695,
          744,
          1059,
          863,
          626,
          581,
          1036,
          717,
          847,
          457,
          945,
          1156,
          788,
          712,
          619,
          707,
          752,
          645,
          798,
          612,
          665,
          822,
          402,
          726,
          671,
          625,
          565,
          579,
          605,
          532,
          390,
          610,
          732,
          566,
          770,
          510,
          505,
          793,
          458,
          1713,
          549,
          488,
          488,
          229,
          1230,
          616,
          953,
          921,
          969,
          380,
          857,
          96,
          520,
          309,
          631,
          796,
          580,
          630,
          770
         ],
         "xaxis": "x3",
         "y": [
          60,
          57,
          67,
          62,
          62,
          120,
          21,
          98,
          119,
          97,
          83,
          67,
          61,
          64,
          57,
          51,
          93,
          119,
          82,
          124,
          124,
          102,
          127,
          85,
          141,
          140,
          110,
          124,
          66,
          67,
          120,
          90,
          89,
          81,
          62,
          84,
          66,
          99,
          93,
          50,
          102,
          109,
          56,
          54,
          79,
          120,
          66,
          120,
          50,
          61,
          90,
          107,
          65,
          76,
          98,
          114,
          110,
          83,
          60,
          76,
          85,
          49,
          60,
          65,
          70,
          62,
          49,
          59,
          106,
          86,
          52,
          50,
          67,
          52,
          67,
          45,
          85,
          45,
          71,
          68,
          81,
          64,
          71,
          76,
          64,
          48,
          68,
          80,
          59,
          44,
          44,
          64,
          60,
          79,
          67,
          59,
          26,
          63,
          53,
          47,
          63,
          63,
          73,
          51
         ],
         "yaxis": "y3"
        },
        {
         "mode": "markers",
         "type": "scatter",
         "x": [
          680,
          700,
          357,
          420,
          112,
          900,
          400,
          280,
          972,
          615,
          672,
          1289,
          1260,
          1071,
          881,
          1225,
          828,
          594,
          804,
          889,
          1085,
          976,
          925,
          738,
          957,
          719,
          610,
          634,
          354
         ],
         "xaxis": "x4",
         "y": [
          61,
          68,
          74,
          74,
          47,
          57,
          87,
          87,
          39,
          51,
          84,
          14,
          17,
          40,
          39,
          44,
          43,
          45,
          39,
          44,
          37,
          31,
          35,
          57,
          42,
          42,
          42,
          24,
          51
         ],
         "yaxis": "y4"
        }
       ],
       "layout": {
        "annotations": [
         {
          "font": {
           "size": 16
          },
          "showarrow": false,
          "text": "All",
          "x": 0.225,
          "xanchor": "center",
          "xref": "paper",
          "y": 1,
          "yanchor": "bottom",
          "yref": "paper"
         },
         {
          "font": {
           "size": 16
          },
          "showarrow": false,
          "text": "Europe",
          "x": 0.775,
          "xanchor": "center",
          "xref": "paper",
          "y": 1,
          "yanchor": "bottom",
          "yref": "paper"
         },
         {
          "font": {
           "size": 16
          },
          "showarrow": false,
          "text": "America",
          "x": 0.225,
          "xanchor": "center",
          "xref": "paper",
          "y": 0.375,
          "yanchor": "bottom",
          "yref": "paper"
         },
         {
          "font": {
           "size": 16
          },
          "showarrow": false,
          "text": "Rest of the World",
          "x": 0.775,
          "xanchor": "center",
          "xref": "paper",
          "y": 0.375,
          "yanchor": "bottom",
          "yref": "paper"
         }
        ],
        "template": {
         "data": {
          "bar": [
           {
            "error_x": {
             "color": "#2a3f5f"
            },
            "error_y": {
             "color": "#2a3f5f"
            },
            "marker": {
             "line": {
              "color": "#E5ECF6",
              "width": 0.5
             }
            },
            "type": "bar"
           }
          ],
          "barpolar": [
           {
            "marker": {
             "line": {
              "color": "#E5ECF6",
              "width": 0.5
             }
            },
            "type": "barpolar"
           }
          ],
          "carpet": [
           {
            "aaxis": {
             "endlinecolor": "#2a3f5f",
             "gridcolor": "white",
             "linecolor": "white",
             "minorgridcolor": "white",
             "startlinecolor": "#2a3f5f"
            },
            "baxis": {
             "endlinecolor": "#2a3f5f",
             "gridcolor": "white",
             "linecolor": "white",
             "minorgridcolor": "white",
             "startlinecolor": "#2a3f5f"
            },
            "type": "carpet"
           }
          ],
          "choropleth": [
           {
            "colorbar": {
             "outlinewidth": 0,
             "ticks": ""
            },
            "type": "choropleth"
           }
          ],
          "contour": [
           {
            "colorbar": {
             "outlinewidth": 0,
             "ticks": ""
            },
            "colorscale": [
             [
              0,
              "#0d0887"
             ],
             [
              0.1111111111111111,
              "#46039f"
             ],
             [
              0.2222222222222222,
              "#7201a8"
             ],
             [
              0.3333333333333333,
              "#9c179e"
             ],
             [
              0.4444444444444444,
              "#bd3786"
             ],
             [
              0.5555555555555556,
              "#d8576b"
             ],
             [
              0.6666666666666666,
              "#ed7953"
             ],
             [
              0.7777777777777778,
              "#fb9f3a"
             ],
             [
              0.8888888888888888,
              "#fdca26"
             ],
             [
              1,
              "#f0f921"
             ]
            ],
            "type": "contour"
           }
          ],
          "contourcarpet": [
           {
            "colorbar": {
             "outlinewidth": 0,
             "ticks": ""
            },
            "type": "contourcarpet"
           }
          ],
          "heatmap": [
           {
            "colorbar": {
             "outlinewidth": 0,
             "ticks": ""
            },
            "colorscale": [
             [
              0,
              "#0d0887"
             ],
             [
              0.1111111111111111,
              "#46039f"
             ],
             [
              0.2222222222222222,
              "#7201a8"
             ],
             [
              0.3333333333333333,
              "#9c179e"
             ],
             [
              0.4444444444444444,
              "#bd3786"
             ],
             [
              0.5555555555555556,
              "#d8576b"
             ],
             [
              0.6666666666666666,
              "#ed7953"
             ],
             [
              0.7777777777777778,
              "#fb9f3a"
             ],
             [
              0.8888888888888888,
              "#fdca26"
             ],
             [
              1,
              "#f0f921"
             ]
            ],
            "type": "heatmap"
           }
          ],
          "heatmapgl": [
           {
            "colorbar": {
             "outlinewidth": 0,
             "ticks": ""
            },
            "colorscale": [
             [
              0,
              "#0d0887"
             ],
             [
              0.1111111111111111,
              "#46039f"
             ],
             [
              0.2222222222222222,
              "#7201a8"
             ],
             [
              0.3333333333333333,
              "#9c179e"
             ],
             [
              0.4444444444444444,
              "#bd3786"
             ],
             [
              0.5555555555555556,
              "#d8576b"
             ],
             [
              0.6666666666666666,
              "#ed7953"
             ],
             [
              0.7777777777777778,
              "#fb9f3a"
             ],
             [
              0.8888888888888888,
              "#fdca26"
             ],
             [
              1,
              "#f0f921"
             ]
            ],
            "type": "heatmapgl"
           }
          ],
          "histogram": [
           {
            "marker": {
             "colorbar": {
              "outlinewidth": 0,
              "ticks": ""
             }
            },
            "type": "histogram"
           }
          ],
          "histogram2d": [
           {
            "colorbar": {
             "outlinewidth": 0,
             "ticks": ""
            },
            "colorscale": [
             [
              0,
              "#0d0887"
             ],
             [
              0.1111111111111111,
              "#46039f"
             ],
             [
              0.2222222222222222,
              "#7201a8"
             ],
             [
              0.3333333333333333,
              "#9c179e"
             ],
             [
              0.4444444444444444,
              "#bd3786"
             ],
             [
              0.5555555555555556,
              "#d8576b"
             ],
             [
              0.6666666666666666,
              "#ed7953"
             ],
             [
              0.7777777777777778,
              "#fb9f3a"
             ],
             [
              0.8888888888888888,
              "#fdca26"
             ],
             [
              1,
              "#f0f921"
             ]
            ],
            "type": "histogram2d"
           }
          ],
          "histogram2dcontour": [
           {
            "colorbar": {
             "outlinewidth": 0,
             "ticks": ""
            },
            "colorscale": [
             [
              0,
              "#0d0887"
             ],
             [
              0.1111111111111111,
              "#46039f"
             ],
             [
              0.2222222222222222,
              "#7201a8"
             ],
             [
              0.3333333333333333,
              "#9c179e"
             ],
             [
              0.4444444444444444,
              "#bd3786"
             ],
             [
              0.5555555555555556,
              "#d8576b"
             ],
             [
              0.6666666666666666,
              "#ed7953"
             ],
             [
              0.7777777777777778,
              "#fb9f3a"
             ],
             [
              0.8888888888888888,
              "#fdca26"
             ],
             [
              1,
              "#f0f921"
             ]
            ],
            "type": "histogram2dcontour"
           }
          ],
          "mesh3d": [
           {
            "colorbar": {
             "outlinewidth": 0,
             "ticks": ""
            },
            "type": "mesh3d"
           }
          ],
          "parcoords": [
           {
            "line": {
             "colorbar": {
              "outlinewidth": 0,
              "ticks": ""
             }
            },
            "type": "parcoords"
           }
          ],
          "pie": [
           {
            "automargin": true,
            "type": "pie"
           }
          ],
          "scatter": [
           {
            "marker": {
             "colorbar": {
              "outlinewidth": 0,
              "ticks": ""
             }
            },
            "type": "scatter"
           }
          ],
          "scatter3d": [
           {
            "line": {
             "colorbar": {
              "outlinewidth": 0,
              "ticks": ""
             }
            },
            "marker": {
             "colorbar": {
              "outlinewidth": 0,
              "ticks": ""
             }
            },
            "type": "scatter3d"
           }
          ],
          "scattercarpet": [
           {
            "marker": {
             "colorbar": {
              "outlinewidth": 0,
              "ticks": ""
             }
            },
            "type": "scattercarpet"
           }
          ],
          "scattergeo": [
           {
            "marker": {
             "colorbar": {
              "outlinewidth": 0,
              "ticks": ""
             }
            },
            "type": "scattergeo"
           }
          ],
          "scattergl": [
           {
            "marker": {
             "colorbar": {
              "outlinewidth": 0,
              "ticks": ""
             }
            },
            "type": "scattergl"
           }
          ],
          "scattermapbox": [
           {
            "marker": {
             "colorbar": {
              "outlinewidth": 0,
              "ticks": ""
             }
            },
            "type": "scattermapbox"
           }
          ],
          "scatterpolar": [
           {
            "marker": {
             "colorbar": {
              "outlinewidth": 0,
              "ticks": ""
             }
            },
            "type": "scatterpolar"
           }
          ],
          "scatterpolargl": [
           {
            "marker": {
             "colorbar": {
              "outlinewidth": 0,
              "ticks": ""
             }
            },
            "type": "scatterpolargl"
           }
          ],
          "scatterternary": [
           {
            "marker": {
             "colorbar": {
              "outlinewidth": 0,
              "ticks": ""
             }
            },
            "type": "scatterternary"
           }
          ],
          "surface": [
           {
            "colorbar": {
             "outlinewidth": 0,
             "ticks": ""
            },
            "colorscale": [
             [
              0,
              "#0d0887"
             ],
             [
              0.1111111111111111,
              "#46039f"
             ],
             [
              0.2222222222222222,
              "#7201a8"
             ],
             [
              0.3333333333333333,
              "#9c179e"
             ],
             [
              0.4444444444444444,
              "#bd3786"
             ],
             [
              0.5555555555555556,
              "#d8576b"
             ],
             [
              0.6666666666666666,
              "#ed7953"
             ],
             [
              0.7777777777777778,
              "#fb9f3a"
             ],
             [
              0.8888888888888888,
              "#fdca26"
             ],
             [
              1,
              "#f0f921"
             ]
            ],
            "type": "surface"
           }
          ],
          "table": [
           {
            "cells": {
             "fill": {
              "color": "#EBF0F8"
             },
             "line": {
              "color": "white"
             }
            },
            "header": {
             "fill": {
              "color": "#C8D4E3"
             },
             "line": {
              "color": "white"
             }
            },
            "type": "table"
           }
          ]
         },
         "layout": {
          "annotationdefaults": {
           "arrowcolor": "#2a3f5f",
           "arrowhead": 0,
           "arrowwidth": 1
          },
          "autotypenumbers": "strict",
          "coloraxis": {
           "colorbar": {
            "outlinewidth": 0,
            "ticks": ""
           }
          },
          "colorscale": {
           "diverging": [
            [
             0,
             "#8e0152"
            ],
            [
             0.1,
             "#c51b7d"
            ],
            [
             0.2,
             "#de77ae"
            ],
            [
             0.3,
             "#f1b6da"
            ],
            [
             0.4,
             "#fde0ef"
            ],
            [
             0.5,
             "#f7f7f7"
            ],
            [
             0.6,
             "#e6f5d0"
            ],
            [
             0.7,
             "#b8e186"
            ],
            [
             0.8,
             "#7fbc41"
            ],
            [
             0.9,
             "#4d9221"
            ],
            [
             1,
             "#276419"
            ]
           ],
           "sequential": [
            [
             0,
             "#0d0887"
            ],
            [
             0.1111111111111111,
             "#46039f"
            ],
            [
             0.2222222222222222,
             "#7201a8"
            ],
            [
             0.3333333333333333,
             "#9c179e"
            ],
            [
             0.4444444444444444,
             "#bd3786"
            ],
            [
             0.5555555555555556,
             "#d8576b"
            ],
            [
             0.6666666666666666,
             "#ed7953"
            ],
            [
             0.7777777777777778,
             "#fb9f3a"
            ],
            [
             0.8888888888888888,
             "#fdca26"
            ],
            [
             1,
             "#f0f921"
            ]
           ],
           "sequentialminus": [
            [
             0,
             "#0d0887"
            ],
            [
             0.1111111111111111,
             "#46039f"
            ],
            [
             0.2222222222222222,
             "#7201a8"
            ],
            [
             0.3333333333333333,
             "#9c179e"
            ],
            [
             0.4444444444444444,
             "#bd3786"
            ],
            [
             0.5555555555555556,
             "#d8576b"
            ],
            [
             0.6666666666666666,
             "#ed7953"
            ],
            [
             0.7777777777777778,
             "#fb9f3a"
            ],
            [
             0.8888888888888888,
             "#fdca26"
            ],
            [
             1,
             "#f0f921"
            ]
           ]
          },
          "colorway": [
           "#636efa",
           "#EF553B",
           "#00cc96",
           "#ab63fa",
           "#FFA15A",
           "#19d3f3",
           "#FF6692",
           "#B6E880",
           "#FF97FF",
           "#FECB52"
          ],
          "font": {
           "color": "#2a3f5f"
          },
          "geo": {
           "bgcolor": "white",
           "lakecolor": "white",
           "landcolor": "#E5ECF6",
           "showlakes": true,
           "showland": true,
           "subunitcolor": "white"
          },
          "hoverlabel": {
           "align": "left"
          },
          "hovermode": "closest",
          "mapbox": {
           "style": "light"
          },
          "paper_bgcolor": "white",
          "plot_bgcolor": "#E5ECF6",
          "polar": {
           "angularaxis": {
            "gridcolor": "white",
            "linecolor": "white",
            "ticks": ""
           },
           "bgcolor": "#E5ECF6",
           "radialaxis": {
            "gridcolor": "white",
            "linecolor": "white",
            "ticks": ""
           }
          },
          "scene": {
           "xaxis": {
            "backgroundcolor": "#E5ECF6",
            "gridcolor": "white",
            "gridwidth": 2,
            "linecolor": "white",
            "showbackground": true,
            "ticks": "",
            "zerolinecolor": "white"
           },
           "yaxis": {
            "backgroundcolor": "#E5ECF6",
            "gridcolor": "white",
            "gridwidth": 2,
            "linecolor": "white",
            "showbackground": true,
            "ticks": "",
            "zerolinecolor": "white"
           },
           "zaxis": {
            "backgroundcolor": "#E5ECF6",
            "gridcolor": "white",
            "gridwidth": 2,
            "linecolor": "white",
            "showbackground": true,
            "ticks": "",
            "zerolinecolor": "white"
           }
          },
          "shapedefaults": {
           "line": {
            "color": "#2a3f5f"
           }
          },
          "ternary": {
           "aaxis": {
            "gridcolor": "white",
            "linecolor": "white",
            "ticks": ""
           },
           "baxis": {
            "gridcolor": "white",
            "linecolor": "white",
            "ticks": ""
           },
           "bgcolor": "#E5ECF6",
           "caxis": {
            "gridcolor": "white",
            "linecolor": "white",
            "ticks": ""
           }
          },
          "title": {
           "x": 0.05
          },
          "xaxis": {
           "automargin": true,
           "gridcolor": "white",
           "linecolor": "white",
           "ticks": "",
           "title": {
            "standoff": 15
           },
           "zerolinecolor": "white",
           "zerolinewidth": 2
          },
          "yaxis": {
           "automargin": true,
           "gridcolor": "white",
           "linecolor": "white",
           "ticks": "",
           "title": {
            "standoff": 15
           },
           "zerolinecolor": "white",
           "zerolinewidth": 2
          }
         }
        },
        "xaxis": {
         "anchor": "y",
         "domain": [
          0,
          0.45
         ]
        },
        "xaxis2": {
         "anchor": "y2",
         "domain": [
          0.55,
          1
         ]
        },
        "xaxis3": {
         "anchor": "y3",
         "domain": [
          0,
          0.45
         ]
        },
        "xaxis4": {
         "anchor": "y4",
         "domain": [
          0.55,
          1
         ]
        },
        "yaxis": {
         "anchor": "x",
         "domain": [
          0.625,
          1
         ]
        },
        "yaxis2": {
         "anchor": "x2",
         "domain": [
          0.625,
          1
         ]
        },
        "yaxis3": {
         "anchor": "x3",
         "domain": [
          0,
          0.375
         ]
        },
        "yaxis4": {
         "anchor": "x4",
         "domain": [
          0,
          0.375
         ]
        }
       }
      }
     },
     "metadata": {}
    }
   ],
   "source": [
    "fig = make_subplots(\n",
    "    rows=2,cols=2,\n",
    "    subplot_titles=('All', 'Europe', 'America', 'Rest of the World'))\n",
    "\n",
    "fig.add_trace(go.Scatter(x=df['altitude_diff'], y=df['ski_pass_price'], mode='markers'),row=1,col=1)\n",
    "fig.add_trace(go.Scatter(x=euro['altitude_diff'], y=euro['ski_pass_price'], mode='markers'),row=1,col=2)\n",
    "fig.add_trace(go.Scatter(x=america['altitude_diff'], y=america['ski_pass_price'], mode='markers'),row=2,col=1)\n",
    "fig.add_trace(go.Scatter(x=rest['altitude_diff'], y=rest['ski_pass_price'], mode='markers'),row=2,col=2)"
   ]
  },
  {
   "cell_type": "markdown",
   "metadata": {
    "slideshow": {
     "slide_type": "subslide"
    }
   },
   "source": [
    "As suspected there seems to be distinct distributions for each 'continent'. This should hopefully be captured by that variable in the regression model. Let's split the data and start modelling!"
   ]
  },
  {
   "cell_type": "code",
   "execution_count": 9,
   "metadata": {
    "slideshow": {
     "slide_type": "slide"
    }
   },
   "outputs": [],
   "source": [
    "train, Test = train_test_split(df, train_size = 0.6)\n",
    "Test, Validate = train_test_split(Test, train_size = 0.5)"
   ]
  },
  {
   "cell_type": "code",
   "execution_count": 10,
   "metadata": {
    "slideshow": {
     "slide_type": "fragment"
    }
   },
   "outputs": [
    {
     "output_type": "execute_result",
     "data": {
      "text/plain": [
       "<class 'statsmodels.iolib.summary.Summary'>\n",
       "\"\"\"\n",
       "                            OLS Regression Results                            \n",
       "==============================================================================\n",
       "Dep. Variable:         ski_pass_price   R-squared:                       0.775\n",
       "Model:                            OLS   Adj. R-squared:                  0.723\n",
       "Method:                 Least Squares   F-statistic:                     14.66\n",
       "Date:                Thu, 06 May 2021   Prob (F-statistic):           2.13e-52\n",
       "Time:                        18:24:20   Log-Likelihood:                -1120.0\n",
       "No. Observations:                 300   AIC:                             2356.\n",
       "Df Residuals:                     242   BIC:                             2571.\n",
       "Df Model:                          57                                         \n",
       "Covariance Type:            nonrobust                                         \n",
       "=========================================================================================================================================\n",
       "                                                                            coef    std err          t      P>|t|      [0.025      0.975]\n",
       "-----------------------------------------------------------------------------------------------------------------------------------------\n",
       "Intercept                                                                22.4324      8.659      2.591      0.010       5.375      39.490\n",
       "child_friendly[T.True]                                                    2.4391      9.803      0.249      0.804     -16.870      21.748\n",
       "continent[T.Europe]                                                      -6.7418      5.621     -1.199      0.232     -17.813       4.330\n",
       "continent[T.Rest of the world]                                            0.7986      3.464      0.231      0.818      -6.025       7.622\n",
       "season[T.December - April June - August October - November]              -6.3112     11.596     -0.544      0.587     -29.154      16.532\n",
       "season[T.December - March]                                               -4.5143      2.673     -1.689      0.092      -9.779       0.750\n",
       "season[T.December - May]                                                 -0.4950      7.287     -0.068      0.946     -14.849      13.859\n",
       "season[T.December - depending on snow conditions]                         0.5925     11.495      0.052      0.959     -22.051      23.236\n",
       "season[T.July - April]                                                   -0.2225     11.519     -0.019      0.985     -22.914      22.468\n",
       "season[T.July - September]                                              -23.7825     11.689     -2.035      0.043     -46.808      -0.757\n",
       "season[T.June - May]                                                      5.7892     11.416      0.507      0.613     -16.697      28.276\n",
       "season[T.June - October]                                                 21.2393      8.056      2.636      0.009       5.370      37.108\n",
       "season[T.June - September]                                               10.7996      5.916      1.825      0.069      -0.854      22.453\n",
       "season[T.May - October]                                                  13.3658     11.678      1.145      0.254      -9.638      36.370\n",
       "season[T.November - April]                                                6.3444      1.965      3.229      0.001       2.474      10.215\n",
       "season[T.November - May]                                                 -0.0010      2.975     -0.000      1.000      -5.861       5.859\n",
       "season[T.November - May June - August]                                    1.1162     11.557      0.097      0.923     -21.649      23.881\n",
       "season[T.October - April]                                                 7.7341      5.857      1.321      0.188      -3.802      19.271\n",
       "season[T.October - June]                                                 -2.4935      9.590     -0.260      0.795     -21.385      16.398\n",
       "season[T.October - May]                                                  -6.8300      5.442     -1.255      0.211     -17.549       3.890\n",
       "season[T.October - November December - May June - October]                6.2032     11.525      0.538      0.591     -16.500      28.906\n",
       "season[T.September - April]                                              -6.5355     11.455     -0.571      0.569     -29.100      16.029\n",
       "season[T.September - June]                                               -5.5638     11.476     -0.485      0.628     -28.170      17.043\n",
       "season[T.September - May]                                                -4.5762     11.520     -0.397      0.692     -27.269      18.117\n",
       "season[T.Year-round]                                                     -0.2763     11.515     -0.024      0.981     -22.959      22.406\n",
       "season[T.depending on snow conditions - April]                            5.1467      6.739      0.764      0.446      -8.129      18.422\n",
       "season[T.depending on snow conditions - July]                             2.0945     11.488      0.182      0.855     -20.536      24.725\n",
       "season[T.depending on snow conditions - depending on snow conditions]    -0.0329      7.063     -0.005      0.996     -13.946      13.880\n",
       "season[T.no report]                                                     -10.4974      4.153     -2.528      0.012     -18.677      -2.318\n",
       "country_iso[T.ARG]                                                      -16.3830      7.304     -2.243      0.026     -30.770      -1.995\n",
       "country_iso[T.AUS]                                                       36.3523      7.339      4.954      0.000      21.896      50.808\n",
       "country_iso[T.AUT]                                                        6.9138      6.075      1.138      0.256      -5.053      18.881\n",
       "country_iso[T.BGR]                                                       -6.8713      9.907     -0.694      0.489     -26.386      12.643\n",
       "country_iso[T.CAN]                                                       16.5637      4.103      4.037      0.000       8.481      24.646\n",
       "country_iso[T.CHE]                                                       13.7057      6.202      2.210      0.028       1.489      25.922\n",
       "country_iso[T.CHL]                                                      -10.4865      8.385     -1.251      0.212     -27.003       6.030\n",
       "country_iso[T.CZE]                                                        6.3148     12.758      0.495      0.621     -18.816      31.446\n",
       "country_iso[T.DEU]                                                        0.1942      6.821      0.028      0.977     -13.242      13.630\n",
       "country_iso[T.DNK]                                                        8.2798     10.800      0.767      0.444     -12.994      29.554\n",
       "country_iso[T.ESP]                                                        5.6423      7.748      0.728      0.467      -9.620      20.904\n",
       "country_iso[T.FIN]                                                       20.1229     11.415      1.763      0.079      -2.363      42.609\n",
       "country_iso[T.FRA]                                                        0.4611      6.131      0.075      0.940     -11.616      12.539\n",
       "country_iso[T.GBR]                                                        9.4944      8.637      1.099      0.273      -7.519      26.508\n",
       "country_iso[T.GEO]                                                      -36.2827     10.051     -3.610      0.000     -56.082     -16.484\n",
       "country_iso[T.GRC]                                                        6.3300     13.243      0.478      0.633     -19.757      32.417\n",
       "country_iso[T.ITA]                                                        3.0184      6.238      0.484      0.629      -9.270      15.306\n",
       "country_iso[T.JPN]                                                        8.9607      5.269      1.701      0.090      -1.418      19.339\n",
       "country_iso[T.KOR]                                                       13.1541     10.075      1.306      0.193      -6.691      32.999\n",
       "country_iso[T.NOR]                                                       15.9351      7.409      2.151      0.032       1.341      30.529\n",
       "country_iso[T.NZL]                                                       12.1394      9.600      1.265      0.207      -6.771      31.050\n",
       "country_iso[T.POL]                                                       -8.9998     12.788     -0.704      0.482     -34.191      16.191\n",
       "country_iso[T.RUS]                                                        1.4908     10.003      0.149      0.882     -18.213      21.195\n",
       "country_iso[T.SVK]                                                        1.0356      8.553      0.121      0.904     -15.812      17.883\n",
       "country_iso[T.SVN]                                                        5.6557     12.745      0.444      0.658     -19.449      30.760\n",
       "country_iso[T.SWE]                                                       16.5830     13.110      1.265      0.207      -9.242      42.408\n",
       "country_iso[T.TUR]                                                      -33.5252     10.063     -3.332      0.001     -53.348     -13.703\n",
       "country_iso[T.UKR]                                                        3.9174     13.034      0.301      0.764     -21.756      29.591\n",
       "country_iso[T.USA]                                                       38.6814      3.441     11.240      0.000      31.903      45.460\n",
       "max_altitude                                                              0.0054      0.001      6.558      0.000       0.004       0.007\n",
       "min_altitude                                                             -0.0003      0.001     -0.254      0.800      -0.003       0.002\n",
       "altitude_diff                                                             0.0057      0.001      4.151      0.000       0.003       0.008\n",
       "total_slopes                                                              0.0235      0.008      3.122      0.002       0.009       0.038\n",
       "==============================================================================\n",
       "Omnibus:                       39.576   Durbin-Watson:                   2.331\n",
       "Prob(Omnibus):                  0.000   Jarque-Bera (JB):              227.457\n",
       "Skew:                           0.278   Prob(JB):                     4.06e-50\n",
       "Kurtosis:                       7.229   Cond. No.                     1.78e+19\n",
       "==============================================================================\n",
       "\n",
       "Notes:\n",
       "[1] Standard Errors assume that the covariance matrix of the errors is correctly specified.\n",
       "[2] The smallest eigenvalue is 7.61e-30. This might indicate that there are\n",
       "strong multicollinearity problems or that the design matrix is singular.\n",
       "\"\"\""
      ],
      "text/html": "<table class=\"simpletable\">\n<caption>OLS Regression Results</caption>\n<tr>\n  <th>Dep. Variable:</th>     <td>ski_pass_price</td>  <th>  R-squared:         </th> <td>   0.775</td>\n</tr>\n<tr>\n  <th>Model:</th>                   <td>OLS</td>       <th>  Adj. R-squared:    </th> <td>   0.723</td>\n</tr>\n<tr>\n  <th>Method:</th>             <td>Least Squares</td>  <th>  F-statistic:       </th> <td>   14.66</td>\n</tr>\n<tr>\n  <th>Date:</th>             <td>Thu, 06 May 2021</td> <th>  Prob (F-statistic):</th> <td>2.13e-52</td>\n</tr>\n<tr>\n  <th>Time:</th>                 <td>18:24:20</td>     <th>  Log-Likelihood:    </th> <td> -1120.0</td>\n</tr>\n<tr>\n  <th>No. Observations:</th>      <td>   300</td>      <th>  AIC:               </th> <td>   2356.</td>\n</tr>\n<tr>\n  <th>Df Residuals:</th>          <td>   242</td>      <th>  BIC:               </th> <td>   2571.</td>\n</tr>\n<tr>\n  <th>Df Model:</th>              <td>    57</td>      <th>                     </th>     <td> </td>   \n</tr>\n<tr>\n  <th>Covariance Type:</th>      <td>nonrobust</td>    <th>                     </th>     <td> </td>   \n</tr>\n</table>\n<table class=\"simpletable\">\n<tr>\n                                    <td></td>                                       <th>coef</th>     <th>std err</th>      <th>t</th>      <th>P>|t|</th>  <th>[0.025</th>    <th>0.975]</th>  \n</tr>\n<tr>\n  <th>Intercept</th>                                                             <td>   22.4324</td> <td>    8.659</td> <td>    2.591</td> <td> 0.010</td> <td>    5.375</td> <td>   39.490</td>\n</tr>\n<tr>\n  <th>child_friendly[T.True]</th>                                                <td>    2.4391</td> <td>    9.803</td> <td>    0.249</td> <td> 0.804</td> <td>  -16.870</td> <td>   21.748</td>\n</tr>\n<tr>\n  <th>continent[T.Europe]</th>                                                   <td>   -6.7418</td> <td>    5.621</td> <td>   -1.199</td> <td> 0.232</td> <td>  -17.813</td> <td>    4.330</td>\n</tr>\n<tr>\n  <th>continent[T.Rest of the world]</th>                                        <td>    0.7986</td> <td>    3.464</td> <td>    0.231</td> <td> 0.818</td> <td>   -6.025</td> <td>    7.622</td>\n</tr>\n<tr>\n  <th>season[T.December - April June - August October - November]</th>           <td>   -6.3112</td> <td>   11.596</td> <td>   -0.544</td> <td> 0.587</td> <td>  -29.154</td> <td>   16.532</td>\n</tr>\n<tr>\n  <th>season[T.December - March]</th>                                            <td>   -4.5143</td> <td>    2.673</td> <td>   -1.689</td> <td> 0.092</td> <td>   -9.779</td> <td>    0.750</td>\n</tr>\n<tr>\n  <th>season[T.December - May]</th>                                              <td>   -0.4950</td> <td>    7.287</td> <td>   -0.068</td> <td> 0.946</td> <td>  -14.849</td> <td>   13.859</td>\n</tr>\n<tr>\n  <th>season[T.December - depending on snow conditions]</th>                     <td>    0.5925</td> <td>   11.495</td> <td>    0.052</td> <td> 0.959</td> <td>  -22.051</td> <td>   23.236</td>\n</tr>\n<tr>\n  <th>season[T.July - April]</th>                                                <td>   -0.2225</td> <td>   11.519</td> <td>   -0.019</td> <td> 0.985</td> <td>  -22.914</td> <td>   22.468</td>\n</tr>\n<tr>\n  <th>season[T.July - September]</th>                                            <td>  -23.7825</td> <td>   11.689</td> <td>   -2.035</td> <td> 0.043</td> <td>  -46.808</td> <td>   -0.757</td>\n</tr>\n<tr>\n  <th>season[T.June - May]</th>                                                  <td>    5.7892</td> <td>   11.416</td> <td>    0.507</td> <td> 0.613</td> <td>  -16.697</td> <td>   28.276</td>\n</tr>\n<tr>\n  <th>season[T.June - October]</th>                                              <td>   21.2393</td> <td>    8.056</td> <td>    2.636</td> <td> 0.009</td> <td>    5.370</td> <td>   37.108</td>\n</tr>\n<tr>\n  <th>season[T.June - September]</th>                                            <td>   10.7996</td> <td>    5.916</td> <td>    1.825</td> <td> 0.069</td> <td>   -0.854</td> <td>   22.453</td>\n</tr>\n<tr>\n  <th>season[T.May - October]</th>                                               <td>   13.3658</td> <td>   11.678</td> <td>    1.145</td> <td> 0.254</td> <td>   -9.638</td> <td>   36.370</td>\n</tr>\n<tr>\n  <th>season[T.November - April]</th>                                            <td>    6.3444</td> <td>    1.965</td> <td>    3.229</td> <td> 0.001</td> <td>    2.474</td> <td>   10.215</td>\n</tr>\n<tr>\n  <th>season[T.November - May]</th>                                              <td>   -0.0010</td> <td>    2.975</td> <td>   -0.000</td> <td> 1.000</td> <td>   -5.861</td> <td>    5.859</td>\n</tr>\n<tr>\n  <th>season[T.November - May June - August]</th>                                <td>    1.1162</td> <td>   11.557</td> <td>    0.097</td> <td> 0.923</td> <td>  -21.649</td> <td>   23.881</td>\n</tr>\n<tr>\n  <th>season[T.October - April]</th>                                             <td>    7.7341</td> <td>    5.857</td> <td>    1.321</td> <td> 0.188</td> <td>   -3.802</td> <td>   19.271</td>\n</tr>\n<tr>\n  <th>season[T.October - June]</th>                                              <td>   -2.4935</td> <td>    9.590</td> <td>   -0.260</td> <td> 0.795</td> <td>  -21.385</td> <td>   16.398</td>\n</tr>\n<tr>\n  <th>season[T.October - May]</th>                                               <td>   -6.8300</td> <td>    5.442</td> <td>   -1.255</td> <td> 0.211</td> <td>  -17.549</td> <td>    3.890</td>\n</tr>\n<tr>\n  <th>season[T.October - November December - May June - October]</th>            <td>    6.2032</td> <td>   11.525</td> <td>    0.538</td> <td> 0.591</td> <td>  -16.500</td> <td>   28.906</td>\n</tr>\n<tr>\n  <th>season[T.September - April]</th>                                           <td>   -6.5355</td> <td>   11.455</td> <td>   -0.571</td> <td> 0.569</td> <td>  -29.100</td> <td>   16.029</td>\n</tr>\n<tr>\n  <th>season[T.September - June]</th>                                            <td>   -5.5638</td> <td>   11.476</td> <td>   -0.485</td> <td> 0.628</td> <td>  -28.170</td> <td>   17.043</td>\n</tr>\n<tr>\n  <th>season[T.September - May]</th>                                             <td>   -4.5762</td> <td>   11.520</td> <td>   -0.397</td> <td> 0.692</td> <td>  -27.269</td> <td>   18.117</td>\n</tr>\n<tr>\n  <th>season[T.Year-round]</th>                                                  <td>   -0.2763</td> <td>   11.515</td> <td>   -0.024</td> <td> 0.981</td> <td>  -22.959</td> <td>   22.406</td>\n</tr>\n<tr>\n  <th>season[T.depending on snow conditions - April]</th>                        <td>    5.1467</td> <td>    6.739</td> <td>    0.764</td> <td> 0.446</td> <td>   -8.129</td> <td>   18.422</td>\n</tr>\n<tr>\n  <th>season[T.depending on snow conditions - July]</th>                         <td>    2.0945</td> <td>   11.488</td> <td>    0.182</td> <td> 0.855</td> <td>  -20.536</td> <td>   24.725</td>\n</tr>\n<tr>\n  <th>season[T.depending on snow conditions - depending on snow conditions]</th> <td>   -0.0329</td> <td>    7.063</td> <td>   -0.005</td> <td> 0.996</td> <td>  -13.946</td> <td>   13.880</td>\n</tr>\n<tr>\n  <th>season[T.no report]</th>                                                   <td>  -10.4974</td> <td>    4.153</td> <td>   -2.528</td> <td> 0.012</td> <td>  -18.677</td> <td>   -2.318</td>\n</tr>\n<tr>\n  <th>country_iso[T.ARG]</th>                                                    <td>  -16.3830</td> <td>    7.304</td> <td>   -2.243</td> <td> 0.026</td> <td>  -30.770</td> <td>   -1.995</td>\n</tr>\n<tr>\n  <th>country_iso[T.AUS]</th>                                                    <td>   36.3523</td> <td>    7.339</td> <td>    4.954</td> <td> 0.000</td> <td>   21.896</td> <td>   50.808</td>\n</tr>\n<tr>\n  <th>country_iso[T.AUT]</th>                                                    <td>    6.9138</td> <td>    6.075</td> <td>    1.138</td> <td> 0.256</td> <td>   -5.053</td> <td>   18.881</td>\n</tr>\n<tr>\n  <th>country_iso[T.BGR]</th>                                                    <td>   -6.8713</td> <td>    9.907</td> <td>   -0.694</td> <td> 0.489</td> <td>  -26.386</td> <td>   12.643</td>\n</tr>\n<tr>\n  <th>country_iso[T.CAN]</th>                                                    <td>   16.5637</td> <td>    4.103</td> <td>    4.037</td> <td> 0.000</td> <td>    8.481</td> <td>   24.646</td>\n</tr>\n<tr>\n  <th>country_iso[T.CHE]</th>                                                    <td>   13.7057</td> <td>    6.202</td> <td>    2.210</td> <td> 0.028</td> <td>    1.489</td> <td>   25.922</td>\n</tr>\n<tr>\n  <th>country_iso[T.CHL]</th>                                                    <td>  -10.4865</td> <td>    8.385</td> <td>   -1.251</td> <td> 0.212</td> <td>  -27.003</td> <td>    6.030</td>\n</tr>\n<tr>\n  <th>country_iso[T.CZE]</th>                                                    <td>    6.3148</td> <td>   12.758</td> <td>    0.495</td> <td> 0.621</td> <td>  -18.816</td> <td>   31.446</td>\n</tr>\n<tr>\n  <th>country_iso[T.DEU]</th>                                                    <td>    0.1942</td> <td>    6.821</td> <td>    0.028</td> <td> 0.977</td> <td>  -13.242</td> <td>   13.630</td>\n</tr>\n<tr>\n  <th>country_iso[T.DNK]</th>                                                    <td>    8.2798</td> <td>   10.800</td> <td>    0.767</td> <td> 0.444</td> <td>  -12.994</td> <td>   29.554</td>\n</tr>\n<tr>\n  <th>country_iso[T.ESP]</th>                                                    <td>    5.6423</td> <td>    7.748</td> <td>    0.728</td> <td> 0.467</td> <td>   -9.620</td> <td>   20.904</td>\n</tr>\n<tr>\n  <th>country_iso[T.FIN]</th>                                                    <td>   20.1229</td> <td>   11.415</td> <td>    1.763</td> <td> 0.079</td> <td>   -2.363</td> <td>   42.609</td>\n</tr>\n<tr>\n  <th>country_iso[T.FRA]</th>                                                    <td>    0.4611</td> <td>    6.131</td> <td>    0.075</td> <td> 0.940</td> <td>  -11.616</td> <td>   12.539</td>\n</tr>\n<tr>\n  <th>country_iso[T.GBR]</th>                                                    <td>    9.4944</td> <td>    8.637</td> <td>    1.099</td> <td> 0.273</td> <td>   -7.519</td> <td>   26.508</td>\n</tr>\n<tr>\n  <th>country_iso[T.GEO]</th>                                                    <td>  -36.2827</td> <td>   10.051</td> <td>   -3.610</td> <td> 0.000</td> <td>  -56.082</td> <td>  -16.484</td>\n</tr>\n<tr>\n  <th>country_iso[T.GRC]</th>                                                    <td>    6.3300</td> <td>   13.243</td> <td>    0.478</td> <td> 0.633</td> <td>  -19.757</td> <td>   32.417</td>\n</tr>\n<tr>\n  <th>country_iso[T.ITA]</th>                                                    <td>    3.0184</td> <td>    6.238</td> <td>    0.484</td> <td> 0.629</td> <td>   -9.270</td> <td>   15.306</td>\n</tr>\n<tr>\n  <th>country_iso[T.JPN]</th>                                                    <td>    8.9607</td> <td>    5.269</td> <td>    1.701</td> <td> 0.090</td> <td>   -1.418</td> <td>   19.339</td>\n</tr>\n<tr>\n  <th>country_iso[T.KOR]</th>                                                    <td>   13.1541</td> <td>   10.075</td> <td>    1.306</td> <td> 0.193</td> <td>   -6.691</td> <td>   32.999</td>\n</tr>\n<tr>\n  <th>country_iso[T.NOR]</th>                                                    <td>   15.9351</td> <td>    7.409</td> <td>    2.151</td> <td> 0.032</td> <td>    1.341</td> <td>   30.529</td>\n</tr>\n<tr>\n  <th>country_iso[T.NZL]</th>                                                    <td>   12.1394</td> <td>    9.600</td> <td>    1.265</td> <td> 0.207</td> <td>   -6.771</td> <td>   31.050</td>\n</tr>\n<tr>\n  <th>country_iso[T.POL]</th>                                                    <td>   -8.9998</td> <td>   12.788</td> <td>   -0.704</td> <td> 0.482</td> <td>  -34.191</td> <td>   16.191</td>\n</tr>\n<tr>\n  <th>country_iso[T.RUS]</th>                                                    <td>    1.4908</td> <td>   10.003</td> <td>    0.149</td> <td> 0.882</td> <td>  -18.213</td> <td>   21.195</td>\n</tr>\n<tr>\n  <th>country_iso[T.SVK]</th>                                                    <td>    1.0356</td> <td>    8.553</td> <td>    0.121</td> <td> 0.904</td> <td>  -15.812</td> <td>   17.883</td>\n</tr>\n<tr>\n  <th>country_iso[T.SVN]</th>                                                    <td>    5.6557</td> <td>   12.745</td> <td>    0.444</td> <td> 0.658</td> <td>  -19.449</td> <td>   30.760</td>\n</tr>\n<tr>\n  <th>country_iso[T.SWE]</th>                                                    <td>   16.5830</td> <td>   13.110</td> <td>    1.265</td> <td> 0.207</td> <td>   -9.242</td> <td>   42.408</td>\n</tr>\n<tr>\n  <th>country_iso[T.TUR]</th>                                                    <td>  -33.5252</td> <td>   10.063</td> <td>   -3.332</td> <td> 0.001</td> <td>  -53.348</td> <td>  -13.703</td>\n</tr>\n<tr>\n  <th>country_iso[T.UKR]</th>                                                    <td>    3.9174</td> <td>   13.034</td> <td>    0.301</td> <td> 0.764</td> <td>  -21.756</td> <td>   29.591</td>\n</tr>\n<tr>\n  <th>country_iso[T.USA]</th>                                                    <td>   38.6814</td> <td>    3.441</td> <td>   11.240</td> <td> 0.000</td> <td>   31.903</td> <td>   45.460</td>\n</tr>\n<tr>\n  <th>max_altitude</th>                                                          <td>    0.0054</td> <td>    0.001</td> <td>    6.558</td> <td> 0.000</td> <td>    0.004</td> <td>    0.007</td>\n</tr>\n<tr>\n  <th>min_altitude</th>                                                          <td>   -0.0003</td> <td>    0.001</td> <td>   -0.254</td> <td> 0.800</td> <td>   -0.003</td> <td>    0.002</td>\n</tr>\n<tr>\n  <th>altitude_diff</th>                                                         <td>    0.0057</td> <td>    0.001</td> <td>    4.151</td> <td> 0.000</td> <td>    0.003</td> <td>    0.008</td>\n</tr>\n<tr>\n  <th>total_slopes</th>                                                          <td>    0.0235</td> <td>    0.008</td> <td>    3.122</td> <td> 0.002</td> <td>    0.009</td> <td>    0.038</td>\n</tr>\n</table>\n<table class=\"simpletable\">\n<tr>\n  <th>Omnibus:</th>       <td>39.576</td> <th>  Durbin-Watson:     </th> <td>   2.331</td>\n</tr>\n<tr>\n  <th>Prob(Omnibus):</th> <td> 0.000</td> <th>  Jarque-Bera (JB):  </th> <td> 227.457</td>\n</tr>\n<tr>\n  <th>Skew:</th>          <td> 0.278</td> <th>  Prob(JB):          </th> <td>4.06e-50</td>\n</tr>\n<tr>\n  <th>Kurtosis:</th>      <td> 7.229</td> <th>  Cond. No.          </th> <td>1.78e+19</td>\n</tr>\n</table><br/><br/>Notes:<br/>[1] Standard Errors assume that the covariance matrix of the errors is correctly specified.<br/>[2] The smallest eigenvalue is 7.61e-30. This might indicate that there are<br/>strong multicollinearity problems or that the design matrix is singular."
     },
     "metadata": {},
     "execution_count": 10
    }
   ],
   "source": [
    "f = 'ski_pass_price ~ ' + ' + '.join(df.columns.drop('ski_pass_price'))\n",
    "model = smf.ols(formula = f, data = train).fit()\n",
    "model.summary()"
   ]
  },
  {
   "cell_type": "markdown",
   "metadata": {
    "slideshow": {
     "slide_type": "subslide"
    }
   },
   "source": [
    "There are a lot of predictors in this model especially for the country and season variables. We get a high R-squared but I suspect it won't generalise very well."
   ]
  },
  {
   "cell_type": "code",
   "execution_count": 11,
   "metadata": {
    "slideshow": {
     "slide_type": "subslide"
    }
   },
   "outputs": [
    {
     "output_type": "error",
     "ename": "PatsyError",
     "evalue": "predict requires that you use a DataFrame when predicting from a model\nthat was created using the formula api.\n\nThe original error message returned by patsy is:\nError converting data to categorical: observation with value 'May - September' does not match any of the expected levels (expected: ['December - April', 'December - April June - August October - November', ..., 'depending on snow conditions - depending on snow conditions', 'no report'])\n    ski_pass_price ~ child_friendly + continent + max_altitude + min_altitude + season + country_iso + altitude_diff + total_slopes\n                                                                                ^^^^^^",
     "traceback": [
      "\u001b[1;31m---------------------------------------------------------------------------\u001b[0m",
      "\u001b[1;31mKeyError\u001b[0m                                  Traceback (most recent call last)",
      "\u001b[1;32m~\\AppData\\Local\\Programs\\Python\\Python38-32\\lib\\site-packages\\patsy\\categorical.py\u001b[0m in \u001b[0;36mcategorical_to_int\u001b[1;34m(data, levels, NA_action, origin)\u001b[0m\n\u001b[0;32m    345\u001b[0m             \u001b[1;32mtry\u001b[0m\u001b[1;33m:\u001b[0m\u001b[1;33m\u001b[0m\u001b[1;33m\u001b[0m\u001b[0m\n\u001b[1;32m--> 346\u001b[1;33m                 \u001b[0mout\u001b[0m\u001b[1;33m[\u001b[0m\u001b[0mi\u001b[0m\u001b[1;33m]\u001b[0m \u001b[1;33m=\u001b[0m \u001b[0mlevel_to_int\u001b[0m\u001b[1;33m[\u001b[0m\u001b[0mvalue\u001b[0m\u001b[1;33m]\u001b[0m\u001b[1;33m\u001b[0m\u001b[1;33m\u001b[0m\u001b[0m\n\u001b[0m\u001b[0;32m    347\u001b[0m             \u001b[1;32mexcept\u001b[0m \u001b[0mKeyError\u001b[0m\u001b[1;33m:\u001b[0m\u001b[1;33m\u001b[0m\u001b[1;33m\u001b[0m\u001b[0m\n",
      "\u001b[1;31mKeyError\u001b[0m: 'May - September'",
      "\nDuring handling of the above exception, another exception occurred:\n",
      "\u001b[1;31mPatsyError\u001b[0m                                Traceback (most recent call last)",
      "\u001b[1;32m~\\AppData\\Local\\Programs\\Python\\Python38-32\\lib\\site-packages\\statsmodels\\base\\model.py\u001b[0m in \u001b[0;36mpredict\u001b[1;34m(self, exog, transform, *args, **kwargs)\u001b[0m\n\u001b[0;32m   1076\u001b[0m             \u001b[1;32mtry\u001b[0m\u001b[1;33m:\u001b[0m\u001b[1;33m\u001b[0m\u001b[1;33m\u001b[0m\u001b[0m\n\u001b[1;32m-> 1077\u001b[1;33m                 \u001b[0mexog\u001b[0m \u001b[1;33m=\u001b[0m \u001b[0mdmatrix\u001b[0m\u001b[1;33m(\u001b[0m\u001b[0mdesign_info\u001b[0m\u001b[1;33m,\u001b[0m \u001b[0mexog\u001b[0m\u001b[1;33m,\u001b[0m \u001b[0mreturn_type\u001b[0m\u001b[1;33m=\u001b[0m\u001b[1;34m\"dataframe\"\u001b[0m\u001b[1;33m)\u001b[0m\u001b[1;33m\u001b[0m\u001b[1;33m\u001b[0m\u001b[0m\n\u001b[0m\u001b[0;32m   1078\u001b[0m             \u001b[1;32mexcept\u001b[0m \u001b[0mException\u001b[0m \u001b[1;32mas\u001b[0m \u001b[0mexc\u001b[0m\u001b[1;33m:\u001b[0m\u001b[1;33m\u001b[0m\u001b[1;33m\u001b[0m\u001b[0m\n",
      "\u001b[1;32m~\\AppData\\Local\\Programs\\Python\\Python38-32\\lib\\site-packages\\patsy\\highlevel.py\u001b[0m in \u001b[0;36mdmatrix\u001b[1;34m(formula_like, data, eval_env, NA_action, return_type)\u001b[0m\n\u001b[0;32m    289\u001b[0m     \u001b[0meval_env\u001b[0m \u001b[1;33m=\u001b[0m \u001b[0mEvalEnvironment\u001b[0m\u001b[1;33m.\u001b[0m\u001b[0mcapture\u001b[0m\u001b[1;33m(\u001b[0m\u001b[0meval_env\u001b[0m\u001b[1;33m,\u001b[0m \u001b[0mreference\u001b[0m\u001b[1;33m=\u001b[0m\u001b[1;36m1\u001b[0m\u001b[1;33m)\u001b[0m\u001b[1;33m\u001b[0m\u001b[1;33m\u001b[0m\u001b[0m\n\u001b[1;32m--> 290\u001b[1;33m     (lhs, rhs) = _do_highlevel_design(formula_like, data, eval_env,\n\u001b[0m\u001b[0;32m    291\u001b[0m                                       NA_action, return_type)\n",
      "\u001b[1;32m~\\AppData\\Local\\Programs\\Python\\Python38-32\\lib\\site-packages\\patsy\\highlevel.py\u001b[0m in \u001b[0;36m_do_highlevel_design\u001b[1;34m(formula_like, data, eval_env, NA_action, return_type)\u001b[0m\n\u001b[0;32m    166\u001b[0m     \u001b[1;32mif\u001b[0m \u001b[0mdesign_infos\u001b[0m \u001b[1;32mis\u001b[0m \u001b[1;32mnot\u001b[0m \u001b[1;32mNone\u001b[0m\u001b[1;33m:\u001b[0m\u001b[1;33m\u001b[0m\u001b[1;33m\u001b[0m\u001b[0m\n\u001b[1;32m--> 167\u001b[1;33m         return build_design_matrices(design_infos, data,\n\u001b[0m\u001b[0;32m    168\u001b[0m                                      \u001b[0mNA_action\u001b[0m\u001b[1;33m=\u001b[0m\u001b[0mNA_action\u001b[0m\u001b[1;33m,\u001b[0m\u001b[1;33m\u001b[0m\u001b[1;33m\u001b[0m\u001b[0m\n",
      "\u001b[1;32m~\\AppData\\Local\\Programs\\Python\\Python38-32\\lib\\site-packages\\patsy\\build.py\u001b[0m in \u001b[0;36mbuild_design_matrices\u001b[1;34m(design_infos, data, NA_action, return_type, dtype)\u001b[0m\n\u001b[0;32m    887\u001b[0m             \u001b[1;32mif\u001b[0m \u001b[0mfactor_info\u001b[0m \u001b[1;32mnot\u001b[0m \u001b[1;32min\u001b[0m \u001b[0mfactor_info_to_values\u001b[0m\u001b[1;33m:\u001b[0m\u001b[1;33m\u001b[0m\u001b[1;33m\u001b[0m\u001b[0m\n\u001b[1;32m--> 888\u001b[1;33m                 \u001b[0mvalue\u001b[0m\u001b[1;33m,\u001b[0m \u001b[0mis_NA\u001b[0m \u001b[1;33m=\u001b[0m \u001b[0m_eval_factor\u001b[0m\u001b[1;33m(\u001b[0m\u001b[0mfactor_info\u001b[0m\u001b[1;33m,\u001b[0m \u001b[0mdata\u001b[0m\u001b[1;33m,\u001b[0m \u001b[0mNA_action\u001b[0m\u001b[1;33m)\u001b[0m\u001b[1;33m\u001b[0m\u001b[1;33m\u001b[0m\u001b[0m\n\u001b[0m\u001b[0;32m    889\u001b[0m                 \u001b[0mfactor_info_to_isNAs\u001b[0m\u001b[1;33m[\u001b[0m\u001b[0mfactor_info\u001b[0m\u001b[1;33m]\u001b[0m \u001b[1;33m=\u001b[0m \u001b[0mis_NA\u001b[0m\u001b[1;33m\u001b[0m\u001b[1;33m\u001b[0m\u001b[0m\n",
      "\u001b[1;32m~\\AppData\\Local\\Programs\\Python\\Python38-32\\lib\\site-packages\\patsy\\build.py\u001b[0m in \u001b[0;36m_eval_factor\u001b[1;34m(factor_info, data, NA_action)\u001b[0m\n\u001b[0;32m     83\u001b[0m         \u001b[1;32massert\u001b[0m \u001b[0mfactor_info\u001b[0m\u001b[1;33m.\u001b[0m\u001b[0mtype\u001b[0m \u001b[1;33m==\u001b[0m \u001b[1;34m\"categorical\"\u001b[0m\u001b[1;33m\u001b[0m\u001b[1;33m\u001b[0m\u001b[0m\n\u001b[1;32m---> 84\u001b[1;33m         result = categorical_to_int(result, factor_info.categories, NA_action,\n\u001b[0m\u001b[0;32m     85\u001b[0m                                     origin=factor_info.factor)\n",
      "\u001b[1;32m~\\AppData\\Local\\Programs\\Python\\Python38-32\\lib\\site-packages\\patsy\\categorical.py\u001b[0m in \u001b[0;36mcategorical_to_int\u001b[1;34m(data, levels, NA_action, origin)\u001b[0m\n\u001b[0;32m    358\u001b[0m                 \u001b[0mlevel_str\u001b[0m \u001b[1;33m=\u001b[0m \u001b[1;34m\"[%s]\"\u001b[0m \u001b[1;33m%\u001b[0m \u001b[1;33m(\u001b[0m\u001b[1;34m\", \"\u001b[0m\u001b[1;33m.\u001b[0m\u001b[0mjoin\u001b[0m\u001b[1;33m(\u001b[0m\u001b[0mlevel_strs\u001b[0m\u001b[1;33m)\u001b[0m\u001b[1;33m)\u001b[0m\u001b[1;33m\u001b[0m\u001b[1;33m\u001b[0m\u001b[0m\n\u001b[1;32m--> 359\u001b[1;33m                 raise PatsyError(\"Error converting data to categorical: \"\n\u001b[0m\u001b[0;32m    360\u001b[0m                                  \u001b[1;34m\"observation with value %r does not match \"\u001b[0m\u001b[1;33m\u001b[0m\u001b[1;33m\u001b[0m\u001b[0m\n",
      "\u001b[1;31mPatsyError\u001b[0m: Error converting data to categorical: observation with value 'May - September' does not match any of the expected levels (expected: ['December - April', 'December - April June - August October - November', ..., 'depending on snow conditions - depending on snow conditions', 'no report'])\n    ski_pass_price ~ child_friendly + continent + max_altitude + min_altitude + season + country_iso + altitude_diff + total_slopes\n                                                                                ^^^^^^",
      "\nDuring handling of the above exception, another exception occurred:\n",
      "\u001b[1;31mPatsyError\u001b[0m                                Traceback (most recent call last)",
      "\u001b[1;32m<ipython-input-11-d55dc1f122ef>\u001b[0m in \u001b[0;36m<module>\u001b[1;34m\u001b[0m\n\u001b[1;32m----> 1\u001b[1;33m \u001b[0mpredictions\u001b[0m \u001b[1;33m=\u001b[0m \u001b[0mmodel\u001b[0m\u001b[1;33m.\u001b[0m\u001b[0mpredict\u001b[0m\u001b[1;33m(\u001b[0m\u001b[0mTest\u001b[0m\u001b[1;33m)\u001b[0m\u001b[1;33m\u001b[0m\u001b[1;33m\u001b[0m\u001b[0m\n\u001b[0m",
      "\u001b[1;32m~\\AppData\\Local\\Programs\\Python\\Python38-32\\lib\\site-packages\\statsmodels\\base\\model.py\u001b[0m in \u001b[0;36mpredict\u001b[1;34m(self, exog, transform, *args, **kwargs)\u001b[0m\n\u001b[0;32m   1082\u001b[0m                        \u001b[1;34m'\\n\\nThe original error message returned by patsy is:\\n'\u001b[0m\u001b[1;33m\u001b[0m\u001b[1;33m\u001b[0m\u001b[0m\n\u001b[0;32m   1083\u001b[0m                        '{0}'.format(str(str(exc))))\n\u001b[1;32m-> 1084\u001b[1;33m                 \u001b[1;32mraise\u001b[0m \u001b[0mexc\u001b[0m\u001b[1;33m.\u001b[0m\u001b[0m__class__\u001b[0m\u001b[1;33m(\u001b[0m\u001b[0mmsg\u001b[0m\u001b[1;33m)\u001b[0m\u001b[1;33m\u001b[0m\u001b[1;33m\u001b[0m\u001b[0m\n\u001b[0m\u001b[0;32m   1085\u001b[0m             \u001b[1;32mif\u001b[0m \u001b[0morig_exog_len\u001b[0m \u001b[1;33m>\u001b[0m \u001b[0mlen\u001b[0m\u001b[1;33m(\u001b[0m\u001b[0mexog\u001b[0m\u001b[1;33m)\u001b[0m \u001b[1;32mand\u001b[0m \u001b[1;32mnot\u001b[0m \u001b[0mis_dict\u001b[0m\u001b[1;33m:\u001b[0m\u001b[1;33m\u001b[0m\u001b[1;33m\u001b[0m\u001b[0m\n\u001b[0;32m   1086\u001b[0m                 \u001b[1;32mif\u001b[0m \u001b[0mexog_index\u001b[0m \u001b[1;32mis\u001b[0m \u001b[1;32mNone\u001b[0m\u001b[1;33m:\u001b[0m\u001b[1;33m\u001b[0m\u001b[1;33m\u001b[0m\u001b[0m\n",
      "\u001b[1;31mPatsyError\u001b[0m: predict requires that you use a DataFrame when predicting from a model\nthat was created using the formula api.\n\nThe original error message returned by patsy is:\nError converting data to categorical: observation with value 'May - September' does not match any of the expected levels (expected: ['December - April', 'December - April June - August October - November', ..., 'depending on snow conditions - depending on snow conditions', 'no report'])\n    ski_pass_price ~ child_friendly + continent + max_altitude + min_altitude + season + country_iso + altitude_diff + total_slopes\n                                                                                ^^^^^^"
     ]
    }
   ],
   "source": [
    "predictions = model.predict(Test)"
   ]
  },
  {
   "cell_type": "markdown",
   "metadata": {
    "slideshow": {
     "slide_type": "subslide"
    }
   },
   "source": [
    "There's too many categories and not enough data! Looks like we need to drop Season and Country as predictors."
   ]
  },
  {
   "cell_type": "code",
   "execution_count": 12,
   "metadata": {
    "slideshow": {
     "slide_type": "slide"
    }
   },
   "outputs": [
    {
     "output_type": "execute_result",
     "data": {
      "text/plain": [
       "<class 'statsmodels.iolib.summary.Summary'>\n",
       "\"\"\"\n",
       "                            OLS Regression Results                            \n",
       "==============================================================================\n",
       "Dep. Variable:         ski_pass_price   R-squared:                       0.558\n",
       "Model:                            OLS   Adj. R-squared:                  0.549\n",
       "Method:                 Least Squares   F-statistic:                     61.76\n",
       "Date:                Thu, 06 May 2021   Prob (F-statistic):           3.38e-49\n",
       "Time:                        18:24:29   Log-Likelihood:                -1221.4\n",
       "No. Observations:                 300   AIC:                             2457.\n",
       "Df Residuals:                     293   BIC:                             2483.\n",
       "Df Model:                           6                                         \n",
       "Covariance Type:            nonrobust                                         \n",
       "==================================================================================================\n",
       "                                     coef    std err          t      P>|t|      [0.025      0.975]\n",
       "--------------------------------------------------------------------------------------------------\n",
       "Intercept                         68.6192      9.124      7.521      0.000      50.662      86.576\n",
       "child_friendly[T.True]            -8.8453      8.648     -1.023      0.307     -25.865       8.174\n",
       "continent[T.Europe]              -34.6220      2.244    -15.427      0.000     -39.039     -30.205\n",
       "continent[T.Rest of the world]   -21.3978      4.027     -5.314      0.000     -29.323     -13.473\n",
       "max_altitude                       0.0051      0.001      6.578      0.000       0.004       0.007\n",
       "min_altitude                       0.0005      0.001      0.419      0.675      -0.002       0.003\n",
       "altitude_diff                      0.0046      0.001      3.164      0.002       0.002       0.007\n",
       "total_slopes                       0.0271      0.009      2.969      0.003       0.009       0.045\n",
       "==============================================================================\n",
       "Omnibus:                       26.105   Durbin-Watson:                   2.333\n",
       "Prob(Omnibus):                  0.000   Jarque-Bera (JB):               62.601\n",
       "Skew:                           0.402   Prob(JB):                     2.55e-14\n",
       "Kurtosis:                       5.088   Cond. No.                     3.87e+15\n",
       "==============================================================================\n",
       "\n",
       "Notes:\n",
       "[1] Standard Errors assume that the covariance matrix of the errors is correctly specified.\n",
       "[2] The smallest eigenvalue is 1.6e-22. This might indicate that there are\n",
       "strong multicollinearity problems or that the design matrix is singular.\n",
       "\"\"\""
      ],
      "text/html": "<table class=\"simpletable\">\n<caption>OLS Regression Results</caption>\n<tr>\n  <th>Dep. Variable:</th>     <td>ski_pass_price</td>  <th>  R-squared:         </th> <td>   0.558</td>\n</tr>\n<tr>\n  <th>Model:</th>                   <td>OLS</td>       <th>  Adj. R-squared:    </th> <td>   0.549</td>\n</tr>\n<tr>\n  <th>Method:</th>             <td>Least Squares</td>  <th>  F-statistic:       </th> <td>   61.76</td>\n</tr>\n<tr>\n  <th>Date:</th>             <td>Thu, 06 May 2021</td> <th>  Prob (F-statistic):</th> <td>3.38e-49</td>\n</tr>\n<tr>\n  <th>Time:</th>                 <td>18:24:29</td>     <th>  Log-Likelihood:    </th> <td> -1221.4</td>\n</tr>\n<tr>\n  <th>No. Observations:</th>      <td>   300</td>      <th>  AIC:               </th> <td>   2457.</td>\n</tr>\n<tr>\n  <th>Df Residuals:</th>          <td>   293</td>      <th>  BIC:               </th> <td>   2483.</td>\n</tr>\n<tr>\n  <th>Df Model:</th>              <td>     6</td>      <th>                     </th>     <td> </td>   \n</tr>\n<tr>\n  <th>Covariance Type:</th>      <td>nonrobust</td>    <th>                     </th>     <td> </td>   \n</tr>\n</table>\n<table class=\"simpletable\">\n<tr>\n                 <td></td>                   <th>coef</th>     <th>std err</th>      <th>t</th>      <th>P>|t|</th>  <th>[0.025</th>    <th>0.975]</th>  \n</tr>\n<tr>\n  <th>Intercept</th>                      <td>   68.6192</td> <td>    9.124</td> <td>    7.521</td> <td> 0.000</td> <td>   50.662</td> <td>   86.576</td>\n</tr>\n<tr>\n  <th>child_friendly[T.True]</th>         <td>   -8.8453</td> <td>    8.648</td> <td>   -1.023</td> <td> 0.307</td> <td>  -25.865</td> <td>    8.174</td>\n</tr>\n<tr>\n  <th>continent[T.Europe]</th>            <td>  -34.6220</td> <td>    2.244</td> <td>  -15.427</td> <td> 0.000</td> <td>  -39.039</td> <td>  -30.205</td>\n</tr>\n<tr>\n  <th>continent[T.Rest of the world]</th> <td>  -21.3978</td> <td>    4.027</td> <td>   -5.314</td> <td> 0.000</td> <td>  -29.323</td> <td>  -13.473</td>\n</tr>\n<tr>\n  <th>max_altitude</th>                   <td>    0.0051</td> <td>    0.001</td> <td>    6.578</td> <td> 0.000</td> <td>    0.004</td> <td>    0.007</td>\n</tr>\n<tr>\n  <th>min_altitude</th>                   <td>    0.0005</td> <td>    0.001</td> <td>    0.419</td> <td> 0.675</td> <td>   -0.002</td> <td>    0.003</td>\n</tr>\n<tr>\n  <th>altitude_diff</th>                  <td>    0.0046</td> <td>    0.001</td> <td>    3.164</td> <td> 0.002</td> <td>    0.002</td> <td>    0.007</td>\n</tr>\n<tr>\n  <th>total_slopes</th>                   <td>    0.0271</td> <td>    0.009</td> <td>    2.969</td> <td> 0.003</td> <td>    0.009</td> <td>    0.045</td>\n</tr>\n</table>\n<table class=\"simpletable\">\n<tr>\n  <th>Omnibus:</th>       <td>26.105</td> <th>  Durbin-Watson:     </th> <td>   2.333</td>\n</tr>\n<tr>\n  <th>Prob(Omnibus):</th> <td> 0.000</td> <th>  Jarque-Bera (JB):  </th> <td>  62.601</td>\n</tr>\n<tr>\n  <th>Skew:</th>          <td> 0.402</td> <th>  Prob(JB):          </th> <td>2.55e-14</td>\n</tr>\n<tr>\n  <th>Kurtosis:</th>      <td> 5.088</td> <th>  Cond. No.          </th> <td>3.87e+15</td>\n</tr>\n</table><br/><br/>Notes:<br/>[1] Standard Errors assume that the covariance matrix of the errors is correctly specified.<br/>[2] The smallest eigenvalue is 1.6e-22. This might indicate that there are<br/>strong multicollinearity problems or that the design matrix is singular."
     },
     "metadata": {},
     "execution_count": 12
    }
   ],
   "source": [
    "f = 'ski_pass_price ~ ' + ' + '.join(df.columns.drop(['ski_pass_price','season','country_iso']))\n",
    "model = smf.ols(formula = f, data = train).fit()\n",
    "model.summary()"
   ]
  },
  {
   "cell_type": "markdown",
   "metadata": {
    "slideshow": {
     "slide_type": "subslide"
    }
   },
   "source": [
    "Rsquared has gone down as expected and min_altitude is not significant at a=0.05 so we'll drop it."
   ]
  },
  {
   "cell_type": "code",
   "execution_count": 13,
   "metadata": {
    "slideshow": {
     "slide_type": "slide"
    }
   },
   "outputs": [
    {
     "output_type": "execute_result",
     "data": {
      "text/plain": [
       "<class 'statsmodels.iolib.summary.Summary'>\n",
       "\"\"\"\n",
       "                            OLS Regression Results                            \n",
       "==============================================================================\n",
       "Dep. Variable:         ski_pass_price   R-squared:                       0.577\n",
       "Model:                            OLS   Adj. R-squared:                  0.572\n",
       "Method:                 Least Squares   F-statistic:                     112.2\n",
       "Date:                Thu, 06 May 2021   Prob (F-statistic):           6.02e-89\n",
       "Time:                        18:24:34   Log-Likelihood:                -2017.6\n",
       "No. Observations:                 501   AIC:                             4049.\n",
       "Df Residuals:                     494   BIC:                             4079.\n",
       "Df Model:                           6                                         \n",
       "Covariance Type:            nonrobust                                         \n",
       "==================================================================================================\n",
       "                                     coef    std err          t      P>|t|      [0.025      0.975]\n",
       "--------------------------------------------------------------------------------------------------\n",
       "Intercept                         56.4400      7.285      7.748      0.000      42.127      70.753\n",
       "child_friendly[T.True]             4.0362      6.991      0.577      0.564      -9.700      17.772\n",
       "continent[T.Europe]              -34.9398      1.685    -20.733      0.000     -38.251     -31.629\n",
       "continent[T.Rest of the world]   -23.9408      2.966     -8.070      0.000     -29.769     -18.112\n",
       "max_altitude                       0.0042      0.001      3.793      0.000       0.002       0.006\n",
       "altitude_diff                      0.0060      0.002      3.212      0.001       0.002       0.010\n",
       "total_slopes                       0.0309      0.007      4.336      0.000       0.017       0.045\n",
       "==============================================================================\n",
       "Omnibus:                       42.871   Durbin-Watson:                   1.630\n",
       "Prob(Omnibus):                  0.000   Jarque-Bera (JB):               99.936\n",
       "Skew:                           0.457   Prob(JB):                     1.99e-22\n",
       "Kurtosis:                       4.988   Cond. No.                     4.08e+04\n",
       "==============================================================================\n",
       "\n",
       "Notes:\n",
       "[1] Standard Errors assume that the covariance matrix of the errors is correctly specified.\n",
       "[2] The condition number is large, 4.08e+04. This might indicate that there are\n",
       "strong multicollinearity or other numerical problems.\n",
       "\"\"\""
      ],
      "text/html": "<table class=\"simpletable\">\n<caption>OLS Regression Results</caption>\n<tr>\n  <th>Dep. Variable:</th>     <td>ski_pass_price</td>  <th>  R-squared:         </th> <td>   0.577</td>\n</tr>\n<tr>\n  <th>Model:</th>                   <td>OLS</td>       <th>  Adj. R-squared:    </th> <td>   0.572</td>\n</tr>\n<tr>\n  <th>Method:</th>             <td>Least Squares</td>  <th>  F-statistic:       </th> <td>   112.2</td>\n</tr>\n<tr>\n  <th>Date:</th>             <td>Thu, 06 May 2021</td> <th>  Prob (F-statistic):</th> <td>6.02e-89</td>\n</tr>\n<tr>\n  <th>Time:</th>                 <td>18:24:34</td>     <th>  Log-Likelihood:    </th> <td> -2017.6</td>\n</tr>\n<tr>\n  <th>No. Observations:</th>      <td>   501</td>      <th>  AIC:               </th> <td>   4049.</td>\n</tr>\n<tr>\n  <th>Df Residuals:</th>          <td>   494</td>      <th>  BIC:               </th> <td>   4079.</td>\n</tr>\n<tr>\n  <th>Df Model:</th>              <td>     6</td>      <th>                     </th>     <td> </td>   \n</tr>\n<tr>\n  <th>Covariance Type:</th>      <td>nonrobust</td>    <th>                     </th>     <td> </td>   \n</tr>\n</table>\n<table class=\"simpletable\">\n<tr>\n                 <td></td>                   <th>coef</th>     <th>std err</th>      <th>t</th>      <th>P>|t|</th>  <th>[0.025</th>    <th>0.975]</th>  \n</tr>\n<tr>\n  <th>Intercept</th>                      <td>   56.4400</td> <td>    7.285</td> <td>    7.748</td> <td> 0.000</td> <td>   42.127</td> <td>   70.753</td>\n</tr>\n<tr>\n  <th>child_friendly[T.True]</th>         <td>    4.0362</td> <td>    6.991</td> <td>    0.577</td> <td> 0.564</td> <td>   -9.700</td> <td>   17.772</td>\n</tr>\n<tr>\n  <th>continent[T.Europe]</th>            <td>  -34.9398</td> <td>    1.685</td> <td>  -20.733</td> <td> 0.000</td> <td>  -38.251</td> <td>  -31.629</td>\n</tr>\n<tr>\n  <th>continent[T.Rest of the world]</th> <td>  -23.9408</td> <td>    2.966</td> <td>   -8.070</td> <td> 0.000</td> <td>  -29.769</td> <td>  -18.112</td>\n</tr>\n<tr>\n  <th>max_altitude</th>                   <td>    0.0042</td> <td>    0.001</td> <td>    3.793</td> <td> 0.000</td> <td>    0.002</td> <td>    0.006</td>\n</tr>\n<tr>\n  <th>altitude_diff</th>                  <td>    0.0060</td> <td>    0.002</td> <td>    3.212</td> <td> 0.001</td> <td>    0.002</td> <td>    0.010</td>\n</tr>\n<tr>\n  <th>total_slopes</th>                   <td>    0.0309</td> <td>    0.007</td> <td>    4.336</td> <td> 0.000</td> <td>    0.017</td> <td>    0.045</td>\n</tr>\n</table>\n<table class=\"simpletable\">\n<tr>\n  <th>Omnibus:</th>       <td>42.871</td> <th>  Durbin-Watson:     </th> <td>   1.630</td>\n</tr>\n<tr>\n  <th>Prob(Omnibus):</th> <td> 0.000</td> <th>  Jarque-Bera (JB):  </th> <td>  99.936</td>\n</tr>\n<tr>\n  <th>Skew:</th>          <td> 0.457</td> <th>  Prob(JB):          </th> <td>1.99e-22</td>\n</tr>\n<tr>\n  <th>Kurtosis:</th>      <td> 4.988</td> <th>  Cond. No.          </th> <td>4.08e+04</td>\n</tr>\n</table><br/><br/>Notes:<br/>[1] Standard Errors assume that the covariance matrix of the errors is correctly specified.<br/>[2] The condition number is large, 4.08e+04. This might indicate that there are<br/>strong multicollinearity or other numerical problems."
     },
     "metadata": {},
     "execution_count": 13
    }
   ],
   "source": [
    "f = 'ski_pass_price ~ ' + ' + '.join(df.columns.drop(['ski_pass_price','season','country_iso', 'min_altitude']))\n",
    "model = smf.ols(formula = f, data = df).fit()\n",
    "model.summary()"
   ]
  },
  {
   "cell_type": "markdown",
   "metadata": {
    "slideshow": {
     "slide_type": "subslide"
    }
   },
   "source": [
    "Rsquared has gone up! But child_friendly is no longer significant so let's drop it and continue."
   ]
  },
  {
   "cell_type": "code",
   "execution_count": 14,
   "metadata": {
    "slideshow": {
     "slide_type": "slide"
    }
   },
   "outputs": [
    {
     "output_type": "execute_result",
     "data": {
      "text/plain": [
       "<class 'statsmodels.iolib.summary.Summary'>\n",
       "\"\"\"\n",
       "                            OLS Regression Results                            \n",
       "==============================================================================\n",
       "Dep. Variable:         ski_pass_price   R-squared:                       0.557\n",
       "Model:                            OLS   Adj. R-squared:                  0.549\n",
       "Method:                 Least Squares   F-statistic:                     73.89\n",
       "Date:                Thu, 06 May 2021   Prob (F-statistic):           6.25e-50\n",
       "Time:                        18:24:37   Log-Likelihood:                -1221.9\n",
       "No. Observations:                 300   AIC:                             2456.\n",
       "Df Residuals:                     294   BIC:                             2478.\n",
       "Df Model:                           5                                         \n",
       "Covariance Type:            nonrobust                                         \n",
       "==================================================================================================\n",
       "                                     coef    std err          t      P>|t|      [0.025      0.975]\n",
       "--------------------------------------------------------------------------------------------------\n",
       "Intercept                         59.8771      3.195     18.742      0.000      53.589      66.165\n",
       "continent[T.Europe]              -34.5430      2.243    -15.399      0.000     -38.958     -30.128\n",
       "continent[T.Rest of the world]   -20.4136      3.910     -5.221      0.000     -28.109     -12.718\n",
       "max_altitude                       0.0057      0.001      3.821      0.000       0.003       0.009\n",
       "altitude_diff                      0.0039      0.003      1.512      0.132      -0.001       0.009\n",
       "total_slopes                       0.0273      0.009      2.993      0.003       0.009       0.045\n",
       "==============================================================================\n",
       "Omnibus:                       24.848   Durbin-Watson:                   2.323\n",
       "Prob(Omnibus):                  0.000   Jarque-Bera (JB):               60.743\n",
       "Skew:                           0.370   Prob(JB):                     6.45e-14\n",
       "Kurtosis:                       5.076   Cond. No.                     1.38e+04\n",
       "==============================================================================\n",
       "\n",
       "Notes:\n",
       "[1] Standard Errors assume that the covariance matrix of the errors is correctly specified.\n",
       "[2] The condition number is large, 1.38e+04. This might indicate that there are\n",
       "strong multicollinearity or other numerical problems.\n",
       "\"\"\""
      ],
      "text/html": "<table class=\"simpletable\">\n<caption>OLS Regression Results</caption>\n<tr>\n  <th>Dep. Variable:</th>     <td>ski_pass_price</td>  <th>  R-squared:         </th> <td>   0.557</td>\n</tr>\n<tr>\n  <th>Model:</th>                   <td>OLS</td>       <th>  Adj. R-squared:    </th> <td>   0.549</td>\n</tr>\n<tr>\n  <th>Method:</th>             <td>Least Squares</td>  <th>  F-statistic:       </th> <td>   73.89</td>\n</tr>\n<tr>\n  <th>Date:</th>             <td>Thu, 06 May 2021</td> <th>  Prob (F-statistic):</th> <td>6.25e-50</td>\n</tr>\n<tr>\n  <th>Time:</th>                 <td>18:24:37</td>     <th>  Log-Likelihood:    </th> <td> -1221.9</td>\n</tr>\n<tr>\n  <th>No. Observations:</th>      <td>   300</td>      <th>  AIC:               </th> <td>   2456.</td>\n</tr>\n<tr>\n  <th>Df Residuals:</th>          <td>   294</td>      <th>  BIC:               </th> <td>   2478.</td>\n</tr>\n<tr>\n  <th>Df Model:</th>              <td>     5</td>      <th>                     </th>     <td> </td>   \n</tr>\n<tr>\n  <th>Covariance Type:</th>      <td>nonrobust</td>    <th>                     </th>     <td> </td>   \n</tr>\n</table>\n<table class=\"simpletable\">\n<tr>\n                 <td></td>                   <th>coef</th>     <th>std err</th>      <th>t</th>      <th>P>|t|</th>  <th>[0.025</th>    <th>0.975]</th>  \n</tr>\n<tr>\n  <th>Intercept</th>                      <td>   59.8771</td> <td>    3.195</td> <td>   18.742</td> <td> 0.000</td> <td>   53.589</td> <td>   66.165</td>\n</tr>\n<tr>\n  <th>continent[T.Europe]</th>            <td>  -34.5430</td> <td>    2.243</td> <td>  -15.399</td> <td> 0.000</td> <td>  -38.958</td> <td>  -30.128</td>\n</tr>\n<tr>\n  <th>continent[T.Rest of the world]</th> <td>  -20.4136</td> <td>    3.910</td> <td>   -5.221</td> <td> 0.000</td> <td>  -28.109</td> <td>  -12.718</td>\n</tr>\n<tr>\n  <th>max_altitude</th>                   <td>    0.0057</td> <td>    0.001</td> <td>    3.821</td> <td> 0.000</td> <td>    0.003</td> <td>    0.009</td>\n</tr>\n<tr>\n  <th>altitude_diff</th>                  <td>    0.0039</td> <td>    0.003</td> <td>    1.512</td> <td> 0.132</td> <td>   -0.001</td> <td>    0.009</td>\n</tr>\n<tr>\n  <th>total_slopes</th>                   <td>    0.0273</td> <td>    0.009</td> <td>    2.993</td> <td> 0.003</td> <td>    0.009</td> <td>    0.045</td>\n</tr>\n</table>\n<table class=\"simpletable\">\n<tr>\n  <th>Omnibus:</th>       <td>24.848</td> <th>  Durbin-Watson:     </th> <td>   2.323</td>\n</tr>\n<tr>\n  <th>Prob(Omnibus):</th> <td> 0.000</td> <th>  Jarque-Bera (JB):  </th> <td>  60.743</td>\n</tr>\n<tr>\n  <th>Skew:</th>          <td> 0.370</td> <th>  Prob(JB):          </th> <td>6.45e-14</td>\n</tr>\n<tr>\n  <th>Kurtosis:</th>      <td> 5.076</td> <th>  Cond. No.          </th> <td>1.38e+04</td>\n</tr>\n</table><br/><br/>Notes:<br/>[1] Standard Errors assume that the covariance matrix of the errors is correctly specified.<br/>[2] The condition number is large, 1.38e+04. This might indicate that there are<br/>strong multicollinearity or other numerical problems."
     },
     "metadata": {},
     "execution_count": 14
    }
   ],
   "source": [
    "f = 'ski_pass_price ~ ' + ' + '.join(df.columns.drop(['ski_pass_price','season','country_iso', 'child_friendly', 'min_altitude']))\n",
    "model = smf.ols(formula = f, data = train).fit()\n",
    "model.summary()"
   ]
  },
  {
   "cell_type": "markdown",
   "metadata": {
    "slideshow": {
     "slide_type": "subslide"
    }
   },
   "source": [
    "All the variables are significant so let's see how she performs."
   ]
  },
  {
   "cell_type": "code",
   "execution_count": 15,
   "metadata": {
    "slideshow": {
     "slide_type": "skip"
    }
   },
   "outputs": [],
   "source": [
    "def plot_scatter_and_line(x, scatter_y, line_y, scatter_name, line_name, title, x_title, y_title):\n",
    "\n",
    "    fig = go.Figure()\n",
    "    \n",
    "    fig.add_trace(go.Scatter(\n",
    "        x=x, y=scatter_y, name=scatter_name, mode=\"markers\"))\n",
    "    fig.add_trace(go.Scatter(\n",
    "        x=x, y=line_y, name=line_name))\n",
    "    fig.update_layout(title=title, xaxis_title=x_title,\n",
    "        yaxis_title=y_title)\n",
    "    \n",
    "    return fig"
   ]
  },
  {
   "cell_type": "code",
   "execution_count": 16,
   "metadata": {
    "slideshow": {
     "slide_type": "slide"
    }
   },
   "outputs": [
    {
     "output_type": "display_data",
     "data": {
      "application/vnd.plotly.v1+json": {
       "config": {
        "plotlyServerURL": "https://plot.ly"
       },
       "data": [
        {
         "mode": "markers",
         "name": "Predictions",
         "type": "scatter",
         "x": [
          23,
          42,
          50,
          66,
          36,
          44,
          102,
          30,
          34,
          29,
          50,
          81,
          41,
          39,
          44,
          42,
          51,
          46,
          35,
          34,
          38,
          45,
          54,
          90,
          35,
          44,
          41,
          49,
          30,
          23,
          45,
          31,
          36,
          40,
          45,
          52,
          51,
          40,
          43,
          63,
          44,
          35,
          36,
          37,
          49,
          35,
          48,
          41,
          54,
          21,
          46,
          51,
          59,
          31,
          42,
          67,
          34,
          54,
          37,
          60,
          52,
          45,
          44,
          43,
          89,
          38,
          34,
          31,
          73,
          32,
          81,
          51,
          54,
          34,
          44,
          45,
          47,
          39,
          50,
          42,
          120,
          46,
          47,
          52,
          35,
          55,
          52,
          22,
          38,
          27,
          39,
          20,
          35,
          27,
          40,
          29,
          25,
          49,
          37,
          20
         ],
         "y": [
          31.37954076549613,
          50.00281098914309,
          76.10551052278932,
          79.49926189596475,
          43.011834615933545,
          44.83759062180179,
          76.90797607597311,
          32.62366813349384,
          41.38157607923927,
          34.41518841517863,
          46.59219511768116,
          65.30514876774194,
          40.69478843073778,
          44.55466297924815,
          42.19907941183232,
          34.74355794369798,
          55.80803041718004,
          41.458105626541936,
          35.712280989238664,
          45.438492939096086,
          35.827796428401726,
          78.96941642034732,
          33.67565086396466,
          70.78021422429272,
          39.900052833750294,
          70.42903439987863,
          42.9957273750969,
          53.47127452639156,
          43.29459083593302,
          33.492211117543626,
          34.548860228385806,
          41.119799826762716,
          45.97254438484558,
          38.940812824087814,
          41.727272201807516,
          50.493593076712585,
          30.033134781333473,
          31.54795463310684,
          51.92084719138886,
          67.33921954706965,
          44.733603846959106,
          36.311995723084664,
          36.6200191550278,
          26.14913276037546,
          49.37630569653864,
          37.39009778439157,
          46.39825246730715,
          31.554448956207747,
          42.02989312313537,
          72.81398540178003,
          40.929642527577755,
          52.418036504496335,
          80.26918009899443,
          37.570900319264574,
          38.20831775667623,
          80.04949500454367,
          44.1655089038213,
          43.554273112944735,
          36.413783525296076,
          58.036305067491476,
          74.57081701265265,
          69.94124454721161,
          43.471968778795116,
          34.49733662415296,
          84.46824748993721,
          43.49008830510698,
          43.19406737141207,
          38.075760190071044,
          67.59966024725267,
          33.82416612607879,
          65.30514876774194,
          59.607105681002494,
          38.77624844262806,
          40.94833414213184,
          39.27285328792407,
          36.03421243772252,
          43.89987054591354,
          52.301356935593894,
          72.03926678931786,
          26.75626229031196,
          86.96481467797234,
          42.61664368408104,
          44.85271513208068,
          53.913633979449344,
          34.08578887007103,
          45.150891883107654,
          44.54825436742433,
          43.84970796048252,
          42.503445508176696,
          40.879309539185144,
          37.24974301324452,
          39.80536014747706,
          49.75893499647198,
          36.93867056295016,
          41.33627726345959,
          45.45327460426668,
          40.51232745171791,
          42.24462538481574,
          35.61468474354343,
          30.179376660984563
         ]
        },
        {
         "name": "y=x",
         "type": "scatter",
         "x": [
          23,
          42,
          50,
          66,
          36,
          44,
          102,
          30,
          34,
          29,
          50,
          81,
          41,
          39,
          44,
          42,
          51,
          46,
          35,
          34,
          38,
          45,
          54,
          90,
          35,
          44,
          41,
          49,
          30,
          23,
          45,
          31,
          36,
          40,
          45,
          52,
          51,
          40,
          43,
          63,
          44,
          35,
          36,
          37,
          49,
          35,
          48,
          41,
          54,
          21,
          46,
          51,
          59,
          31,
          42,
          67,
          34,
          54,
          37,
          60,
          52,
          45,
          44,
          43,
          89,
          38,
          34,
          31,
          73,
          32,
          81,
          51,
          54,
          34,
          44,
          45,
          47,
          39,
          50,
          42,
          120,
          46,
          47,
          52,
          35,
          55,
          52,
          22,
          38,
          27,
          39,
          20,
          35,
          27,
          40,
          29,
          25,
          49,
          37,
          20
         ],
         "y": [
          23,
          42,
          50,
          66,
          36,
          44,
          102,
          30,
          34,
          29,
          50,
          81,
          41,
          39,
          44,
          42,
          51,
          46,
          35,
          34,
          38,
          45,
          54,
          90,
          35,
          44,
          41,
          49,
          30,
          23,
          45,
          31,
          36,
          40,
          45,
          52,
          51,
          40,
          43,
          63,
          44,
          35,
          36,
          37,
          49,
          35,
          48,
          41,
          54,
          21,
          46,
          51,
          59,
          31,
          42,
          67,
          34,
          54,
          37,
          60,
          52,
          45,
          44,
          43,
          89,
          38,
          34,
          31,
          73,
          32,
          81,
          51,
          54,
          34,
          44,
          45,
          47,
          39,
          50,
          42,
          120,
          46,
          47,
          52,
          35,
          55,
          52,
          22,
          38,
          27,
          39,
          20,
          35,
          27,
          40,
          29,
          25,
          49,
          37,
          20
         ]
        }
       ],
       "layout": {
        "template": {
         "data": {
          "bar": [
           {
            "error_x": {
             "color": "#2a3f5f"
            },
            "error_y": {
             "color": "#2a3f5f"
            },
            "marker": {
             "line": {
              "color": "#E5ECF6",
              "width": 0.5
             }
            },
            "type": "bar"
           }
          ],
          "barpolar": [
           {
            "marker": {
             "line": {
              "color": "#E5ECF6",
              "width": 0.5
             }
            },
            "type": "barpolar"
           }
          ],
          "carpet": [
           {
            "aaxis": {
             "endlinecolor": "#2a3f5f",
             "gridcolor": "white",
             "linecolor": "white",
             "minorgridcolor": "white",
             "startlinecolor": "#2a3f5f"
            },
            "baxis": {
             "endlinecolor": "#2a3f5f",
             "gridcolor": "white",
             "linecolor": "white",
             "minorgridcolor": "white",
             "startlinecolor": "#2a3f5f"
            },
            "type": "carpet"
           }
          ],
          "choropleth": [
           {
            "colorbar": {
             "outlinewidth": 0,
             "ticks": ""
            },
            "type": "choropleth"
           }
          ],
          "contour": [
           {
            "colorbar": {
             "outlinewidth": 0,
             "ticks": ""
            },
            "colorscale": [
             [
              0,
              "#0d0887"
             ],
             [
              0.1111111111111111,
              "#46039f"
             ],
             [
              0.2222222222222222,
              "#7201a8"
             ],
             [
              0.3333333333333333,
              "#9c179e"
             ],
             [
              0.4444444444444444,
              "#bd3786"
             ],
             [
              0.5555555555555556,
              "#d8576b"
             ],
             [
              0.6666666666666666,
              "#ed7953"
             ],
             [
              0.7777777777777778,
              "#fb9f3a"
             ],
             [
              0.8888888888888888,
              "#fdca26"
             ],
             [
              1,
              "#f0f921"
             ]
            ],
            "type": "contour"
           }
          ],
          "contourcarpet": [
           {
            "colorbar": {
             "outlinewidth": 0,
             "ticks": ""
            },
            "type": "contourcarpet"
           }
          ],
          "heatmap": [
           {
            "colorbar": {
             "outlinewidth": 0,
             "ticks": ""
            },
            "colorscale": [
             [
              0,
              "#0d0887"
             ],
             [
              0.1111111111111111,
              "#46039f"
             ],
             [
              0.2222222222222222,
              "#7201a8"
             ],
             [
              0.3333333333333333,
              "#9c179e"
             ],
             [
              0.4444444444444444,
              "#bd3786"
             ],
             [
              0.5555555555555556,
              "#d8576b"
             ],
             [
              0.6666666666666666,
              "#ed7953"
             ],
             [
              0.7777777777777778,
              "#fb9f3a"
             ],
             [
              0.8888888888888888,
              "#fdca26"
             ],
             [
              1,
              "#f0f921"
             ]
            ],
            "type": "heatmap"
           }
          ],
          "heatmapgl": [
           {
            "colorbar": {
             "outlinewidth": 0,
             "ticks": ""
            },
            "colorscale": [
             [
              0,
              "#0d0887"
             ],
             [
              0.1111111111111111,
              "#46039f"
             ],
             [
              0.2222222222222222,
              "#7201a8"
             ],
             [
              0.3333333333333333,
              "#9c179e"
             ],
             [
              0.4444444444444444,
              "#bd3786"
             ],
             [
              0.5555555555555556,
              "#d8576b"
             ],
             [
              0.6666666666666666,
              "#ed7953"
             ],
             [
              0.7777777777777778,
              "#fb9f3a"
             ],
             [
              0.8888888888888888,
              "#fdca26"
             ],
             [
              1,
              "#f0f921"
             ]
            ],
            "type": "heatmapgl"
           }
          ],
          "histogram": [
           {
            "marker": {
             "colorbar": {
              "outlinewidth": 0,
              "ticks": ""
             }
            },
            "type": "histogram"
           }
          ],
          "histogram2d": [
           {
            "colorbar": {
             "outlinewidth": 0,
             "ticks": ""
            },
            "colorscale": [
             [
              0,
              "#0d0887"
             ],
             [
              0.1111111111111111,
              "#46039f"
             ],
             [
              0.2222222222222222,
              "#7201a8"
             ],
             [
              0.3333333333333333,
              "#9c179e"
             ],
             [
              0.4444444444444444,
              "#bd3786"
             ],
             [
              0.5555555555555556,
              "#d8576b"
             ],
             [
              0.6666666666666666,
              "#ed7953"
             ],
             [
              0.7777777777777778,
              "#fb9f3a"
             ],
             [
              0.8888888888888888,
              "#fdca26"
             ],
             [
              1,
              "#f0f921"
             ]
            ],
            "type": "histogram2d"
           }
          ],
          "histogram2dcontour": [
           {
            "colorbar": {
             "outlinewidth": 0,
             "ticks": ""
            },
            "colorscale": [
             [
              0,
              "#0d0887"
             ],
             [
              0.1111111111111111,
              "#46039f"
             ],
             [
              0.2222222222222222,
              "#7201a8"
             ],
             [
              0.3333333333333333,
              "#9c179e"
             ],
             [
              0.4444444444444444,
              "#bd3786"
             ],
             [
              0.5555555555555556,
              "#d8576b"
             ],
             [
              0.6666666666666666,
              "#ed7953"
             ],
             [
              0.7777777777777778,
              "#fb9f3a"
             ],
             [
              0.8888888888888888,
              "#fdca26"
             ],
             [
              1,
              "#f0f921"
             ]
            ],
            "type": "histogram2dcontour"
           }
          ],
          "mesh3d": [
           {
            "colorbar": {
             "outlinewidth": 0,
             "ticks": ""
            },
            "type": "mesh3d"
           }
          ],
          "parcoords": [
           {
            "line": {
             "colorbar": {
              "outlinewidth": 0,
              "ticks": ""
             }
            },
            "type": "parcoords"
           }
          ],
          "pie": [
           {
            "automargin": true,
            "type": "pie"
           }
          ],
          "scatter": [
           {
            "marker": {
             "colorbar": {
              "outlinewidth": 0,
              "ticks": ""
             }
            },
            "type": "scatter"
           }
          ],
          "scatter3d": [
           {
            "line": {
             "colorbar": {
              "outlinewidth": 0,
              "ticks": ""
             }
            },
            "marker": {
             "colorbar": {
              "outlinewidth": 0,
              "ticks": ""
             }
            },
            "type": "scatter3d"
           }
          ],
          "scattercarpet": [
           {
            "marker": {
             "colorbar": {
              "outlinewidth": 0,
              "ticks": ""
             }
            },
            "type": "scattercarpet"
           }
          ],
          "scattergeo": [
           {
            "marker": {
             "colorbar": {
              "outlinewidth": 0,
              "ticks": ""
             }
            },
            "type": "scattergeo"
           }
          ],
          "scattergl": [
           {
            "marker": {
             "colorbar": {
              "outlinewidth": 0,
              "ticks": ""
             }
            },
            "type": "scattergl"
           }
          ],
          "scattermapbox": [
           {
            "marker": {
             "colorbar": {
              "outlinewidth": 0,
              "ticks": ""
             }
            },
            "type": "scattermapbox"
           }
          ],
          "scatterpolar": [
           {
            "marker": {
             "colorbar": {
              "outlinewidth": 0,
              "ticks": ""
             }
            },
            "type": "scatterpolar"
           }
          ],
          "scatterpolargl": [
           {
            "marker": {
             "colorbar": {
              "outlinewidth": 0,
              "ticks": ""
             }
            },
            "type": "scatterpolargl"
           }
          ],
          "scatterternary": [
           {
            "marker": {
             "colorbar": {
              "outlinewidth": 0,
              "ticks": ""
             }
            },
            "type": "scatterternary"
           }
          ],
          "surface": [
           {
            "colorbar": {
             "outlinewidth": 0,
             "ticks": ""
            },
            "colorscale": [
             [
              0,
              "#0d0887"
             ],
             [
              0.1111111111111111,
              "#46039f"
             ],
             [
              0.2222222222222222,
              "#7201a8"
             ],
             [
              0.3333333333333333,
              "#9c179e"
             ],
             [
              0.4444444444444444,
              "#bd3786"
             ],
             [
              0.5555555555555556,
              "#d8576b"
             ],
             [
              0.6666666666666666,
              "#ed7953"
             ],
             [
              0.7777777777777778,
              "#fb9f3a"
             ],
             [
              0.8888888888888888,
              "#fdca26"
             ],
             [
              1,
              "#f0f921"
             ]
            ],
            "type": "surface"
           }
          ],
          "table": [
           {
            "cells": {
             "fill": {
              "color": "#EBF0F8"
             },
             "line": {
              "color": "white"
             }
            },
            "header": {
             "fill": {
              "color": "#C8D4E3"
             },
             "line": {
              "color": "white"
             }
            },
            "type": "table"
           }
          ]
         },
         "layout": {
          "annotationdefaults": {
           "arrowcolor": "#2a3f5f",
           "arrowhead": 0,
           "arrowwidth": 1
          },
          "autotypenumbers": "strict",
          "coloraxis": {
           "colorbar": {
            "outlinewidth": 0,
            "ticks": ""
           }
          },
          "colorscale": {
           "diverging": [
            [
             0,
             "#8e0152"
            ],
            [
             0.1,
             "#c51b7d"
            ],
            [
             0.2,
             "#de77ae"
            ],
            [
             0.3,
             "#f1b6da"
            ],
            [
             0.4,
             "#fde0ef"
            ],
            [
             0.5,
             "#f7f7f7"
            ],
            [
             0.6,
             "#e6f5d0"
            ],
            [
             0.7,
             "#b8e186"
            ],
            [
             0.8,
             "#7fbc41"
            ],
            [
             0.9,
             "#4d9221"
            ],
            [
             1,
             "#276419"
            ]
           ],
           "sequential": [
            [
             0,
             "#0d0887"
            ],
            [
             0.1111111111111111,
             "#46039f"
            ],
            [
             0.2222222222222222,
             "#7201a8"
            ],
            [
             0.3333333333333333,
             "#9c179e"
            ],
            [
             0.4444444444444444,
             "#bd3786"
            ],
            [
             0.5555555555555556,
             "#d8576b"
            ],
            [
             0.6666666666666666,
             "#ed7953"
            ],
            [
             0.7777777777777778,
             "#fb9f3a"
            ],
            [
             0.8888888888888888,
             "#fdca26"
            ],
            [
             1,
             "#f0f921"
            ]
           ],
           "sequentialminus": [
            [
             0,
             "#0d0887"
            ],
            [
             0.1111111111111111,
             "#46039f"
            ],
            [
             0.2222222222222222,
             "#7201a8"
            ],
            [
             0.3333333333333333,
             "#9c179e"
            ],
            [
             0.4444444444444444,
             "#bd3786"
            ],
            [
             0.5555555555555556,
             "#d8576b"
            ],
            [
             0.6666666666666666,
             "#ed7953"
            ],
            [
             0.7777777777777778,
             "#fb9f3a"
            ],
            [
             0.8888888888888888,
             "#fdca26"
            ],
            [
             1,
             "#f0f921"
            ]
           ]
          },
          "colorway": [
           "#636efa",
           "#EF553B",
           "#00cc96",
           "#ab63fa",
           "#FFA15A",
           "#19d3f3",
           "#FF6692",
           "#B6E880",
           "#FF97FF",
           "#FECB52"
          ],
          "font": {
           "color": "#2a3f5f"
          },
          "geo": {
           "bgcolor": "white",
           "lakecolor": "white",
           "landcolor": "#E5ECF6",
           "showlakes": true,
           "showland": true,
           "subunitcolor": "white"
          },
          "hoverlabel": {
           "align": "left"
          },
          "hovermode": "closest",
          "mapbox": {
           "style": "light"
          },
          "paper_bgcolor": "white",
          "plot_bgcolor": "#E5ECF6",
          "polar": {
           "angularaxis": {
            "gridcolor": "white",
            "linecolor": "white",
            "ticks": ""
           },
           "bgcolor": "#E5ECF6",
           "radialaxis": {
            "gridcolor": "white",
            "linecolor": "white",
            "ticks": ""
           }
          },
          "scene": {
           "xaxis": {
            "backgroundcolor": "#E5ECF6",
            "gridcolor": "white",
            "gridwidth": 2,
            "linecolor": "white",
            "showbackground": true,
            "ticks": "",
            "zerolinecolor": "white"
           },
           "yaxis": {
            "backgroundcolor": "#E5ECF6",
            "gridcolor": "white",
            "gridwidth": 2,
            "linecolor": "white",
            "showbackground": true,
            "ticks": "",
            "zerolinecolor": "white"
           },
           "zaxis": {
            "backgroundcolor": "#E5ECF6",
            "gridcolor": "white",
            "gridwidth": 2,
            "linecolor": "white",
            "showbackground": true,
            "ticks": "",
            "zerolinecolor": "white"
           }
          },
          "shapedefaults": {
           "line": {
            "color": "#2a3f5f"
           }
          },
          "ternary": {
           "aaxis": {
            "gridcolor": "white",
            "linecolor": "white",
            "ticks": ""
           },
           "baxis": {
            "gridcolor": "white",
            "linecolor": "white",
            "ticks": ""
           },
           "bgcolor": "#E5ECF6",
           "caxis": {
            "gridcolor": "white",
            "linecolor": "white",
            "ticks": ""
           }
          },
          "title": {
           "x": 0.05
          },
          "xaxis": {
           "automargin": true,
           "gridcolor": "white",
           "linecolor": "white",
           "ticks": "",
           "title": {
            "standoff": 15
           },
           "zerolinecolor": "white",
           "zerolinewidth": 2
          },
          "yaxis": {
           "automargin": true,
           "gridcolor": "white",
           "linecolor": "white",
           "ticks": "",
           "title": {
            "standoff": 15
           },
           "zerolinecolor": "white",
           "zerolinewidth": 2
          }
         }
        },
        "title": {
         "text": "Predicted vs true price"
        },
        "xaxis": {
         "title": {
          "text": "Pass_px"
         }
        },
        "yaxis": {
         "title": {
          "text": "Predicted price"
         }
        }
       }
      }
     },
     "metadata": {}
    }
   ],
   "source": [
    "Test['predictions'] = model.predict(Test)\n",
    "px.scatter(Test, x= 'predictions', y = 'ski_pass_price')\n",
    "line_y = Test['ski_pass_price']\n",
    "plot_scatter_and_line(Test['ski_pass_price'], Test['predictions'], line_y, 'Predictions', 'y=x','Predicted vs true price', 'Pass_px', 'Predicted price')\n"
   ]
  },
  {
   "cell_type": "markdown",
   "metadata": {
    "slideshow": {
     "slide_type": "subslide"
    }
   },
   "source": [
    "Seems to be some outliers and quite a bit of variance. Let's calculate the RMSE."
   ]
  },
  {
   "cell_type": "code",
   "execution_count": 27,
   "metadata": {
    "slideshow": {
     "slide_type": "subslide"
    }
   },
   "outputs": [
    {
     "output_type": "stream",
     "name": "stdout",
     "text": [
      "RMSE:  12.86 \n\nMean ski pass price:  44.78 \n\nComparison:  28.71 %\n\n"
     ]
    }
   ],
   "source": [
    "RMSE = np.sqrt(mean_squared_error(Test['predictions'],Test['ski_pass_price']))\n",
    "mean_pass = Test['ski_pass_price'].mean()\n",
    "def print_RMSE(rmse, mean):\n",
    "    print('RMSE: ', round(rmse,2), '\\n')\n",
    "    print('Mean ski pass price: ', round(mean, 2), '\\n')\n",
    "    print('Comparison: ', round(RMSE/mean_pass *100, 2), '%\\n')\n",
    "\n",
    "print_RMSE(RMSE, mean_pass)\n"
   ]
  },
  {
   "cell_type": "markdown",
   "metadata": {
    "slideshow": {
     "slide_type": "fragment"
    }
   },
   "source": [
    "RMSE is about 25% of the mean price... Not a brilliant model. Let's investigate by plotting the residuals of the model."
   ]
  },
  {
   "cell_type": "code",
   "execution_count": 108,
   "metadata": {
    "slideshow": {
     "slide_type": "slide"
    }
   },
   "outputs": [
    {
     "data": {
      "application/vnd.plotly.v1+json": {
       "config": {
        "plotlyServerURL": "https://plot.ly"
       },
       "data": [
        {
         "mode": "markers",
         "name": "Model residuals",
         "type": "scatter",
         "x": [
          43,
          49,
          22,
          29,
          36,
          44,
          39,
          32,
          49,
          22,
          51,
          35,
          73,
          54,
          93,
          44,
          52,
          40,
          40,
          97,
          30,
          57,
          42,
          53,
          31,
          102,
          58,
          61,
          34,
          32,
          42,
          22,
          48,
          49,
          39,
          52,
          45,
          61,
          46,
          46,
          44,
          52,
          55,
          54,
          59,
          63,
          43,
          24,
          49,
          63,
          45,
          36,
          48,
          49,
          38,
          50,
          41,
          39,
          45,
          18,
          30,
          38,
          19,
          46,
          41,
          56,
          64,
          82,
          38,
          38,
          37,
          36,
          39,
          61,
          87,
          98,
          29,
          40,
          48,
          40,
          67,
          52,
          32,
          31,
          68,
          41,
          37,
          53,
          31,
          45,
          26,
          42,
          60,
          43,
          42,
          44,
          40,
          35,
          44,
          22,
          30,
          50,
          90,
          114,
          57,
          20,
          89,
          26,
          31,
          57,
          30,
          40,
          31,
          35,
          43,
          29,
          46,
          60,
          29,
          46,
          36,
          45,
          76,
          37,
          37,
          21,
          49,
          20,
          47,
          49,
          39,
          48,
          23,
          52,
          54,
          43,
          36,
          39,
          80,
          29,
          30,
          45,
          30,
          127,
          44,
          81,
          53,
          41,
          45,
          52,
          32,
          53,
          107,
          50,
          46,
          53,
          102,
          44,
          30,
          19,
          49,
          46,
          62,
          30,
          51,
          49,
          33,
          79,
          48,
          46,
          32,
          46,
          47,
          34,
          31,
          36,
          63,
          67,
          48,
          27,
          51,
          18,
          41,
          66,
          61,
          25,
          53,
          66,
          68,
          34,
          62,
          51,
          66,
          34,
          25,
          99,
          29,
          39,
          84,
          40,
          47,
          98,
          42,
          124,
          120,
          52,
          34,
          69,
          68,
          62,
          25,
          38,
          28,
          45,
          110,
          40,
          47,
          17,
          51,
          36,
          63,
          57,
          40,
          33,
          46,
          35,
          49,
          63,
          60,
          47,
          23,
          44,
          52,
          41,
          42,
          83,
          44,
          40,
          33,
          52,
          36,
          35,
          42,
          54,
          35,
          76,
          29,
          124,
          140,
          32,
          44,
          79,
          47,
          57,
          35,
          46,
          65,
          43,
          66,
          54,
          61,
          30,
          85,
          47,
          50,
          46,
          51,
          48,
          81,
          106,
          26,
          124,
          48,
          46,
          37,
          48,
          42,
          21,
          35,
          37,
          50,
          47,
          54,
          84,
          53,
          61,
          31,
          60,
          81,
          62,
          55,
          17,
          60,
          119,
          44,
          51,
          45,
          35,
          31,
          42
         ],
         "y": [
          -2.025223119542275,
          -3.376260231844512,
          -11.25061727832496,
          -14.412895095422549,
          -0.2966802111917346,
          2.401356299529752,
          -4.07451643296384,
          2.8885642227806763,
          2.4351044382406,
          -9.49916660644337,
          -11.788019171097147,
          -4.267641234917335,
          4.761994199114298,
          15.111975508268053,
          6.655823773197383,
          11.013113203969716,
          5.28234324055213,
          -8.663873606979294,
          9.461321669675947,
          9.076531529100293,
          -9.210928411148842,
          10.749008454296423,
          5.496255013342896,
          -11.951445489350277,
          -7.4456108336936495,
          26.322322000983362,
          14.232261324229185,
          12.07539886949214,
          -0.6228287586299857,
          -3.3853801303584987,
          3.538534685022519,
          -14.710736866639849,
          5.6857198077265565,
          -3.9561152899097394,
          -3.3638178889754755,
          1.172683872526349,
          10.79406699802744,
          13.43376875208289,
          2.662634140680858,
          6.559686031103517,
          -5.559399775505447,
          8.875912116280055,
          8.71619893661115,
          7.825388517087184,
          -19.105693206836108,
          -8.7631315288873,
          14.239438547866023,
          -24.291876951090885,
          5.963194714483535,
          8.879885245390888,
          -24.627510930768352,
          -3.672280527743503,
          -0.315358236492969,
          -11.005432055769816,
          -1.9726194491775573,
          4.201676630109269,
          1.8128418005357219,
          -0.7884567817456372,
          9.490744266128424,
          -10.750999800524308,
          -9.303785528154982,
          -2.6857457009815064,
          -17.26774779979332,
          2.2120994827550646,
          10.442838907222168,
          -4.726764121846017,
          -16.07320942571485,
          -0.46678075304041045,
          -0.06927309564422757,
          3.680195703096807,
          -7.005725395799182,
          -5.561751071045315,
          1.5789869862703583,
          -9.495661912400564,
          42.8391100937217,
          11.379567347243523,
          -14.860371401785706,
          -1.292816357977344,
          4.78022919108588,
          -6.315075359807153,
          -8.645139589640053,
          0.6427386272724576,
          -4.31923281780923,
          -6.074447479330097,
          18.89590050986248,
          2.5708071278806273,
          2.0272737153952463,
          -2.90164713361456,
          -5.337126484560514,
          10.66846832509949,
          -41.12524384950781,
          5.795746738964517,
          -15.529578707115135,
          11.01919181373863,
          -2.0253550162199545,
          2.4349898328620867,
          -0.21315346118662148,
          0.48722302229553804,
          10.617239313154393,
          -20.97167111118334,
          -16.659395110021997,
          -21.72849427290521,
          18.500786745649066,
          32.775410522052155,
          7.33641696491825,
          -14.562085252086547,
          6.494538823498019,
          -2.8434136127932064,
          -8.903673530790655,
          -23.091727653156312,
          0.8442775275681171,
          3.141328138247289,
          -24.90307211731266,
          -1.4498506678914254,
          8.269570210481241,
          3.098852077688175,
          8.251253715740553,
          -8.064389354125368,
          -4.616906675698388,
          3.6004825087664045,
          0.3960153228214054,
          -32.766282143937644,
          0.5983326948356478,
          -10.901752402100684,
          11.472003615127623,
          -50.45827357071016,
          0.09123013737921326,
          -15.162288710412142,
          -1.7873868601415381,
          -1.2049726845718922,
          -11.332690342484163,
          3.2390157249873113,
          -7.242839419903614,
          -15.609412040765932,
          5.005432670479486,
          -1.882149035596285,
          -5.523424552120737,
          -4.4512216143471335,
          1.596992177566463,
          -13.177843152837958,
          -1.2609686333110908,
          3.5602419702948325,
          -12.757371198782948,
          37.77689357850417,
          2.084784621148721,
          15.18968265367198,
          3.9924789917686923,
          -1.93732063310118,
          5.458295506661344,
          11.357015971058175,
          -5.418843673656781,
          -2.90164713361456,
          27.973307687471518,
          4.040243442365735,
          -3.0516149788381597,
          2.985574903303686,
          20.77822504536121,
          -3.487724424442561,
          -11.793144074092474,
          -11.046821525427049,
          -5.446239336702689,
          12.423419518574384,
          -17.28665333733848,
          -7.063830765191192,
          1.86190515476504,
          -1.2049726845718922,
          -8.230028621785728,
          0.14294809338943537,
          -31.57896403039166,
          -0.7399720926964122,
          -0.29826110618085977,
          11.866178729091715,
          4.974889367060513,
          -4.084051055252878,
          -4.737491214098753,
          0.8760587163511175,
          8.889493252994221,
          -9.382359011137027,
          -9.821366053061155,
          -14.415823521231964,
          -11.788019171097147,
          -25.825403150211045,
          10.55541193165179,
          -7.573383573143218,
          -9.495661912400564,
          -6.846686277863995,
          13.249632544907683,
          -12.941685703934567,
          20.740451298189342,
          -8.121787263950736,
          -19.308778836565608,
          9.536487298512917,
          -12.085137873551503,
          -10.030434204602201,
          -13.748142405054537,
          17.61749749413154,
          -15.260380180262345,
          6.185029891169151,
          36.535149005800896,
          2.055071524475345,
          7.6742640988173605,
          23.17495114610398,
          -6.970772789908629,
          36.66965389421519,
          38.166230351553295,
          8.794657202472706,
          0.6186057571411538,
          17.85835093081483,
          0.31974393877159457,
          -17.191211968019545,
          -9.276456198809086,
          -3.2730039086099296,
          -14.563976121083101,
          10.534476667764736,
          26.585939822860155,
          2.0933980433999295,
          2.9682986047020705,
          -20.36121827627126,
          10.255933132354599,
          10.638549221741588,
          -4.783458654376176,
          11.951207413303116,
          -8.369667182205902,
          -2.8703226219464355,
          11.803565278356622,
          0.6449035959834291,
          8.015899780662771,
          -11.719301707390187,
          -18.803604929034037,
          7.477200666013701,
          -8.669437923741139,
          5.1583982443494705,
          -1.8105178228545853,
          1.966578043083949,
          5.55386727284106,
          12.475043890791241,
          -3.0100021748852583,
          -0.5197656125832921,
          3.2985819321343826,
          -21.887971116078702,
          -9.84037079316819,
          -2.792151737933544,
          8.888999256556502,
          14.168359416948896,
          -11.91012468004216,
          8.620411453782921,
          -16.069538746177564,
          38.58985643141668,
          51.09446674869527,
          0.6488388821368289,
          3.1605027842004034,
          7.035873215159228,
          1.1378377626567584,
          -23.43577809722632,
          -9.86818356320881,
          5.3915098380903,
          -4.986533925802391,
          11.337296552876644,
          12.263923421142295,
          5.421749003455169,
          -16.736151019853253,
          -10.924733246713451,
          4.874354325809989,
          4.707962580222905,
          0.4506443619274165,
          4.381311798528998,
          6.459262675788324,
          4.715293409217757,
          12.64572414179085,
          36.38335074559315,
          -7.500587032746289,
          38.95679598378901,
          -9.821366053061155,
          8.60140387581383,
          -3.44311257473413,
          5.995794201761065,
          -3.802044274243613,
          -16.975876468564245,
          -2.177650072477867,
          -4.600106535392683,
          -7.201108364655532,
          5.92940751924084,
          17.876477390928727,
          0.5611945663158338,
          13.81251320695845,
          9.825127308176732,
          -13.008022023314275,
          -22.043835419894762,
          9.873766216348557,
          -11.49771871804117,
          23.36397395722257,
          -39.759411433214446,
          2.2869307189878754,
          31.814602071044916,
          -39.04429021690429,
          21.837042390633098,
          5.662307298500103,
          0.3700794933849565,
          -5.973651418526465,
          -0.9405379135164367
         ]
        },
        {
         "name": "y=0",
         "type": "scatter",
         "x": [
          43,
          49,
          22,
          29,
          36,
          44,
          39,
          32,
          49,
          22,
          51,
          35,
          73,
          54,
          93,
          44,
          52,
          40,
          40,
          97,
          30,
          57,
          42,
          53,
          31,
          102,
          58,
          61,
          34,
          32,
          42,
          22,
          48,
          49,
          39,
          52,
          45,
          61,
          46,
          46,
          44,
          52,
          55,
          54,
          59,
          63,
          43,
          24,
          49,
          63,
          45,
          36,
          48,
          49,
          38,
          50,
          41,
          39,
          45,
          18,
          30,
          38,
          19,
          46,
          41,
          56,
          64,
          82,
          38,
          38,
          37,
          36,
          39,
          61,
          87,
          98,
          29,
          40,
          48,
          40,
          67,
          52,
          32,
          31,
          68,
          41,
          37,
          53,
          31,
          45,
          26,
          42,
          60,
          43,
          42,
          44,
          40,
          35,
          44,
          22,
          30,
          50,
          90,
          114,
          57,
          20,
          89,
          26,
          31,
          57,
          30,
          40,
          31,
          35,
          43,
          29,
          46,
          60,
          29,
          46,
          36,
          45,
          76,
          37,
          37,
          21,
          49,
          20,
          47,
          49,
          39,
          48,
          23,
          52,
          54,
          43,
          36,
          39,
          80,
          29,
          30,
          45,
          30,
          127,
          44,
          81,
          53,
          41,
          45,
          52,
          32,
          53,
          107,
          50,
          46,
          53,
          102,
          44,
          30,
          19,
          49,
          46,
          62,
          30,
          51,
          49,
          33,
          79,
          48,
          46,
          32,
          46,
          47,
          34,
          31,
          36,
          63,
          67,
          48,
          27,
          51,
          18,
          41,
          66,
          61,
          25,
          53,
          66,
          68,
          34,
          62,
          51,
          66,
          34,
          25,
          99,
          29,
          39,
          84,
          40,
          47,
          98,
          42,
          124,
          120,
          52,
          34,
          69,
          68,
          62,
          25,
          38,
          28,
          45,
          110,
          40,
          47,
          17,
          51,
          36,
          63,
          57,
          40,
          33,
          46,
          35,
          49,
          63,
          60,
          47,
          23,
          44,
          52,
          41,
          42,
          83,
          44,
          40,
          33,
          52,
          36,
          35,
          42,
          54,
          35,
          76,
          29,
          124,
          140,
          32,
          44,
          79,
          47,
          57,
          35,
          46,
          65,
          43,
          66,
          54,
          61,
          30,
          85,
          47,
          50,
          46,
          51,
          48,
          81,
          106,
          26,
          124,
          48,
          46,
          37,
          48,
          42,
          21,
          35,
          37,
          50,
          47,
          54,
          84,
          53,
          61,
          31,
          60,
          81,
          62,
          55,
          17,
          60,
          119,
          44,
          51,
          45,
          35,
          31,
          42
         ],
         "y": [
          0,
          0,
          0,
          0,
          0,
          0,
          0,
          0,
          0,
          0,
          0,
          0,
          0,
          0,
          0,
          0,
          0,
          0,
          0,
          0,
          0,
          0,
          0,
          0,
          0,
          0,
          0,
          0,
          0,
          0,
          0,
          0,
          0,
          0,
          0,
          0,
          0,
          0,
          0,
          0,
          0,
          0,
          0,
          0,
          0,
          0,
          0,
          0,
          0,
          0,
          0,
          0,
          0,
          0,
          0,
          0,
          0,
          0,
          0,
          0,
          0,
          0,
          0,
          0,
          0,
          0,
          0,
          0,
          0,
          0,
          0,
          0,
          0,
          0,
          0,
          0,
          0,
          0,
          0,
          0,
          0,
          0,
          0,
          0,
          0,
          0,
          0,
          0,
          0,
          0,
          0,
          0,
          0,
          0,
          0,
          0,
          0,
          0,
          0,
          0,
          0,
          0,
          0,
          0,
          0,
          0,
          0,
          0,
          0,
          0,
          0,
          0,
          0,
          0,
          0,
          0,
          0,
          0,
          0,
          0,
          0,
          0,
          0,
          0,
          0,
          0,
          0,
          0,
          0,
          0,
          0,
          0,
          0,
          0,
          0,
          0,
          0,
          0,
          0,
          0,
          0,
          0,
          0,
          0,
          0,
          0,
          0,
          0,
          0,
          0,
          0,
          0,
          0,
          0,
          0,
          0,
          0,
          0,
          0,
          0,
          0,
          0,
          0,
          0,
          0,
          0,
          0,
          0,
          0,
          0,
          0,
          0,
          0,
          0,
          0,
          0,
          0,
          0,
          0,
          0,
          0,
          0,
          0,
          0,
          0,
          0,
          0,
          0,
          0,
          0,
          0,
          0,
          0,
          0,
          0,
          0,
          0,
          0,
          0,
          0,
          0,
          0,
          0,
          0,
          0,
          0,
          0,
          0,
          0,
          0,
          0,
          0,
          0,
          0,
          0,
          0,
          0,
          0,
          0,
          0,
          0,
          0,
          0,
          0,
          0,
          0,
          0,
          0,
          0,
          0,
          0,
          0,
          0,
          0,
          0,
          0,
          0,
          0,
          0,
          0,
          0,
          0,
          0,
          0,
          0,
          0,
          0,
          0,
          0,
          0,
          0,
          0,
          0,
          0,
          0,
          0,
          0,
          0,
          0,
          0,
          0,
          0,
          0,
          0,
          0,
          0,
          0,
          0,
          0,
          0,
          0,
          0,
          0,
          0,
          0,
          0,
          0,
          0,
          0,
          0,
          0,
          0,
          0,
          0,
          0,
          0,
          0,
          0,
          0,
          0,
          0,
          0,
          0,
          0,
          0,
          0,
          0,
          0,
          0,
          0
         ]
        }
       ],
       "layout": {
        "template": {
         "data": {
          "bar": [
           {
            "error_x": {
             "color": "#2a3f5f"
            },
            "error_y": {
             "color": "#2a3f5f"
            },
            "marker": {
             "line": {
              "color": "#E5ECF6",
              "width": 0.5
             }
            },
            "type": "bar"
           }
          ],
          "barpolar": [
           {
            "marker": {
             "line": {
              "color": "#E5ECF6",
              "width": 0.5
             }
            },
            "type": "barpolar"
           }
          ],
          "carpet": [
           {
            "aaxis": {
             "endlinecolor": "#2a3f5f",
             "gridcolor": "white",
             "linecolor": "white",
             "minorgridcolor": "white",
             "startlinecolor": "#2a3f5f"
            },
            "baxis": {
             "endlinecolor": "#2a3f5f",
             "gridcolor": "white",
             "linecolor": "white",
             "minorgridcolor": "white",
             "startlinecolor": "#2a3f5f"
            },
            "type": "carpet"
           }
          ],
          "choropleth": [
           {
            "colorbar": {
             "outlinewidth": 0,
             "ticks": ""
            },
            "type": "choropleth"
           }
          ],
          "contour": [
           {
            "colorbar": {
             "outlinewidth": 0,
             "ticks": ""
            },
            "colorscale": [
             [
              0,
              "#0d0887"
             ],
             [
              0.1111111111111111,
              "#46039f"
             ],
             [
              0.2222222222222222,
              "#7201a8"
             ],
             [
              0.3333333333333333,
              "#9c179e"
             ],
             [
              0.4444444444444444,
              "#bd3786"
             ],
             [
              0.5555555555555556,
              "#d8576b"
             ],
             [
              0.6666666666666666,
              "#ed7953"
             ],
             [
              0.7777777777777778,
              "#fb9f3a"
             ],
             [
              0.8888888888888888,
              "#fdca26"
             ],
             [
              1,
              "#f0f921"
             ]
            ],
            "type": "contour"
           }
          ],
          "contourcarpet": [
           {
            "colorbar": {
             "outlinewidth": 0,
             "ticks": ""
            },
            "type": "contourcarpet"
           }
          ],
          "heatmap": [
           {
            "colorbar": {
             "outlinewidth": 0,
             "ticks": ""
            },
            "colorscale": [
             [
              0,
              "#0d0887"
             ],
             [
              0.1111111111111111,
              "#46039f"
             ],
             [
              0.2222222222222222,
              "#7201a8"
             ],
             [
              0.3333333333333333,
              "#9c179e"
             ],
             [
              0.4444444444444444,
              "#bd3786"
             ],
             [
              0.5555555555555556,
              "#d8576b"
             ],
             [
              0.6666666666666666,
              "#ed7953"
             ],
             [
              0.7777777777777778,
              "#fb9f3a"
             ],
             [
              0.8888888888888888,
              "#fdca26"
             ],
             [
              1,
              "#f0f921"
             ]
            ],
            "type": "heatmap"
           }
          ],
          "heatmapgl": [
           {
            "colorbar": {
             "outlinewidth": 0,
             "ticks": ""
            },
            "colorscale": [
             [
              0,
              "#0d0887"
             ],
             [
              0.1111111111111111,
              "#46039f"
             ],
             [
              0.2222222222222222,
              "#7201a8"
             ],
             [
              0.3333333333333333,
              "#9c179e"
             ],
             [
              0.4444444444444444,
              "#bd3786"
             ],
             [
              0.5555555555555556,
              "#d8576b"
             ],
             [
              0.6666666666666666,
              "#ed7953"
             ],
             [
              0.7777777777777778,
              "#fb9f3a"
             ],
             [
              0.8888888888888888,
              "#fdca26"
             ],
             [
              1,
              "#f0f921"
             ]
            ],
            "type": "heatmapgl"
           }
          ],
          "histogram": [
           {
            "marker": {
             "colorbar": {
              "outlinewidth": 0,
              "ticks": ""
             }
            },
            "type": "histogram"
           }
          ],
          "histogram2d": [
           {
            "colorbar": {
             "outlinewidth": 0,
             "ticks": ""
            },
            "colorscale": [
             [
              0,
              "#0d0887"
             ],
             [
              0.1111111111111111,
              "#46039f"
             ],
             [
              0.2222222222222222,
              "#7201a8"
             ],
             [
              0.3333333333333333,
              "#9c179e"
             ],
             [
              0.4444444444444444,
              "#bd3786"
             ],
             [
              0.5555555555555556,
              "#d8576b"
             ],
             [
              0.6666666666666666,
              "#ed7953"
             ],
             [
              0.7777777777777778,
              "#fb9f3a"
             ],
             [
              0.8888888888888888,
              "#fdca26"
             ],
             [
              1,
              "#f0f921"
             ]
            ],
            "type": "histogram2d"
           }
          ],
          "histogram2dcontour": [
           {
            "colorbar": {
             "outlinewidth": 0,
             "ticks": ""
            },
            "colorscale": [
             [
              0,
              "#0d0887"
             ],
             [
              0.1111111111111111,
              "#46039f"
             ],
             [
              0.2222222222222222,
              "#7201a8"
             ],
             [
              0.3333333333333333,
              "#9c179e"
             ],
             [
              0.4444444444444444,
              "#bd3786"
             ],
             [
              0.5555555555555556,
              "#d8576b"
             ],
             [
              0.6666666666666666,
              "#ed7953"
             ],
             [
              0.7777777777777778,
              "#fb9f3a"
             ],
             [
              0.8888888888888888,
              "#fdca26"
             ],
             [
              1,
              "#f0f921"
             ]
            ],
            "type": "histogram2dcontour"
           }
          ],
          "mesh3d": [
           {
            "colorbar": {
             "outlinewidth": 0,
             "ticks": ""
            },
            "type": "mesh3d"
           }
          ],
          "parcoords": [
           {
            "line": {
             "colorbar": {
              "outlinewidth": 0,
              "ticks": ""
             }
            },
            "type": "parcoords"
           }
          ],
          "pie": [
           {
            "automargin": true,
            "type": "pie"
           }
          ],
          "scatter": [
           {
            "marker": {
             "colorbar": {
              "outlinewidth": 0,
              "ticks": ""
             }
            },
            "type": "scatter"
           }
          ],
          "scatter3d": [
           {
            "line": {
             "colorbar": {
              "outlinewidth": 0,
              "ticks": ""
             }
            },
            "marker": {
             "colorbar": {
              "outlinewidth": 0,
              "ticks": ""
             }
            },
            "type": "scatter3d"
           }
          ],
          "scattercarpet": [
           {
            "marker": {
             "colorbar": {
              "outlinewidth": 0,
              "ticks": ""
             }
            },
            "type": "scattercarpet"
           }
          ],
          "scattergeo": [
           {
            "marker": {
             "colorbar": {
              "outlinewidth": 0,
              "ticks": ""
             }
            },
            "type": "scattergeo"
           }
          ],
          "scattergl": [
           {
            "marker": {
             "colorbar": {
              "outlinewidth": 0,
              "ticks": ""
             }
            },
            "type": "scattergl"
           }
          ],
          "scattermapbox": [
           {
            "marker": {
             "colorbar": {
              "outlinewidth": 0,
              "ticks": ""
             }
            },
            "type": "scattermapbox"
           }
          ],
          "scatterpolar": [
           {
            "marker": {
             "colorbar": {
              "outlinewidth": 0,
              "ticks": ""
             }
            },
            "type": "scatterpolar"
           }
          ],
          "scatterpolargl": [
           {
            "marker": {
             "colorbar": {
              "outlinewidth": 0,
              "ticks": ""
             }
            },
            "type": "scatterpolargl"
           }
          ],
          "scatterternary": [
           {
            "marker": {
             "colorbar": {
              "outlinewidth": 0,
              "ticks": ""
             }
            },
            "type": "scatterternary"
           }
          ],
          "surface": [
           {
            "colorbar": {
             "outlinewidth": 0,
             "ticks": ""
            },
            "colorscale": [
             [
              0,
              "#0d0887"
             ],
             [
              0.1111111111111111,
              "#46039f"
             ],
             [
              0.2222222222222222,
              "#7201a8"
             ],
             [
              0.3333333333333333,
              "#9c179e"
             ],
             [
              0.4444444444444444,
              "#bd3786"
             ],
             [
              0.5555555555555556,
              "#d8576b"
             ],
             [
              0.6666666666666666,
              "#ed7953"
             ],
             [
              0.7777777777777778,
              "#fb9f3a"
             ],
             [
              0.8888888888888888,
              "#fdca26"
             ],
             [
              1,
              "#f0f921"
             ]
            ],
            "type": "surface"
           }
          ],
          "table": [
           {
            "cells": {
             "fill": {
              "color": "#EBF0F8"
             },
             "line": {
              "color": "white"
             }
            },
            "header": {
             "fill": {
              "color": "#C8D4E3"
             },
             "line": {
              "color": "white"
             }
            },
            "type": "table"
           }
          ]
         },
         "layout": {
          "annotationdefaults": {
           "arrowcolor": "#2a3f5f",
           "arrowhead": 0,
           "arrowwidth": 1
          },
          "autotypenumbers": "strict",
          "coloraxis": {
           "colorbar": {
            "outlinewidth": 0,
            "ticks": ""
           }
          },
          "colorscale": {
           "diverging": [
            [
             0,
             "#8e0152"
            ],
            [
             0.1,
             "#c51b7d"
            ],
            [
             0.2,
             "#de77ae"
            ],
            [
             0.3,
             "#f1b6da"
            ],
            [
             0.4,
             "#fde0ef"
            ],
            [
             0.5,
             "#f7f7f7"
            ],
            [
             0.6,
             "#e6f5d0"
            ],
            [
             0.7,
             "#b8e186"
            ],
            [
             0.8,
             "#7fbc41"
            ],
            [
             0.9,
             "#4d9221"
            ],
            [
             1,
             "#276419"
            ]
           ],
           "sequential": [
            [
             0,
             "#0d0887"
            ],
            [
             0.1111111111111111,
             "#46039f"
            ],
            [
             0.2222222222222222,
             "#7201a8"
            ],
            [
             0.3333333333333333,
             "#9c179e"
            ],
            [
             0.4444444444444444,
             "#bd3786"
            ],
            [
             0.5555555555555556,
             "#d8576b"
            ],
            [
             0.6666666666666666,
             "#ed7953"
            ],
            [
             0.7777777777777778,
             "#fb9f3a"
            ],
            [
             0.8888888888888888,
             "#fdca26"
            ],
            [
             1,
             "#f0f921"
            ]
           ],
           "sequentialminus": [
            [
             0,
             "#0d0887"
            ],
            [
             0.1111111111111111,
             "#46039f"
            ],
            [
             0.2222222222222222,
             "#7201a8"
            ],
            [
             0.3333333333333333,
             "#9c179e"
            ],
            [
             0.4444444444444444,
             "#bd3786"
            ],
            [
             0.5555555555555556,
             "#d8576b"
            ],
            [
             0.6666666666666666,
             "#ed7953"
            ],
            [
             0.7777777777777778,
             "#fb9f3a"
            ],
            [
             0.8888888888888888,
             "#fdca26"
            ],
            [
             1,
             "#f0f921"
            ]
           ]
          },
          "colorway": [
           "#636efa",
           "#EF553B",
           "#00cc96",
           "#ab63fa",
           "#FFA15A",
           "#19d3f3",
           "#FF6692",
           "#B6E880",
           "#FF97FF",
           "#FECB52"
          ],
          "font": {
           "color": "#2a3f5f"
          },
          "geo": {
           "bgcolor": "white",
           "lakecolor": "white",
           "landcolor": "#E5ECF6",
           "showlakes": true,
           "showland": true,
           "subunitcolor": "white"
          },
          "hoverlabel": {
           "align": "left"
          },
          "hovermode": "closest",
          "mapbox": {
           "style": "light"
          },
          "paper_bgcolor": "white",
          "plot_bgcolor": "#E5ECF6",
          "polar": {
           "angularaxis": {
            "gridcolor": "white",
            "linecolor": "white",
            "ticks": ""
           },
           "bgcolor": "#E5ECF6",
           "radialaxis": {
            "gridcolor": "white",
            "linecolor": "white",
            "ticks": ""
           }
          },
          "scene": {
           "xaxis": {
            "backgroundcolor": "#E5ECF6",
            "gridcolor": "white",
            "gridwidth": 2,
            "linecolor": "white",
            "showbackground": true,
            "ticks": "",
            "zerolinecolor": "white"
           },
           "yaxis": {
            "backgroundcolor": "#E5ECF6",
            "gridcolor": "white",
            "gridwidth": 2,
            "linecolor": "white",
            "showbackground": true,
            "ticks": "",
            "zerolinecolor": "white"
           },
           "zaxis": {
            "backgroundcolor": "#E5ECF6",
            "gridcolor": "white",
            "gridwidth": 2,
            "linecolor": "white",
            "showbackground": true,
            "ticks": "",
            "zerolinecolor": "white"
           }
          },
          "shapedefaults": {
           "line": {
            "color": "#2a3f5f"
           }
          },
          "ternary": {
           "aaxis": {
            "gridcolor": "white",
            "linecolor": "white",
            "ticks": ""
           },
           "baxis": {
            "gridcolor": "white",
            "linecolor": "white",
            "ticks": ""
           },
           "bgcolor": "#E5ECF6",
           "caxis": {
            "gridcolor": "white",
            "linecolor": "white",
            "ticks": ""
           }
          },
          "title": {
           "x": 0.05
          },
          "xaxis": {
           "automargin": true,
           "gridcolor": "white",
           "linecolor": "white",
           "ticks": "",
           "title": {
            "standoff": 15
           },
           "zerolinecolor": "white",
           "zerolinewidth": 2
          },
          "yaxis": {
           "automargin": true,
           "gridcolor": "white",
           "linecolor": "white",
           "ticks": "",
           "title": {
            "standoff": 15
           },
           "zerolinecolor": "white",
           "zerolinewidth": 2
          }
         }
        },
        "title": {
         "text": "Model residual plot"
        },
        "xaxis": {
         "title": {
          "text": "Pass_px"
         }
        },
        "yaxis": {
         "title": {
          "text": "Residuals"
         }
        }
       }
      },
      "text/html": [
       "<div>                            <div id=\"59baa984-2efe-49cb-8bd5-80cb9794ef67\" class=\"plotly-graph-div\" style=\"height:525px; width:100%;\"></div>            <script type=\"text/javascript\">                require([\"plotly\"], function(Plotly) {                    window.PLOTLYENV=window.PLOTLYENV || {};                                    if (document.getElementById(\"59baa984-2efe-49cb-8bd5-80cb9794ef67\")) {                    Plotly.newPlot(                        \"59baa984-2efe-49cb-8bd5-80cb9794ef67\",                        [{\"mode\": \"markers\", \"name\": \"Model residuals\", \"type\": \"scatter\", \"x\": [43, 49, 22, 29, 36, 44, 39, 32, 49, 22, 51, 35, 73, 54, 93, 44, 52, 40, 40, 97, 30, 57, 42, 53, 31, 102, 58, 61, 34, 32, 42, 22, 48, 49, 39, 52, 45, 61, 46, 46, 44, 52, 55, 54, 59, 63, 43, 24, 49, 63, 45, 36, 48, 49, 38, 50, 41, 39, 45, 18, 30, 38, 19, 46, 41, 56, 64, 82, 38, 38, 37, 36, 39, 61, 87, 98, 29, 40, 48, 40, 67, 52, 32, 31, 68, 41, 37, 53, 31, 45, 26, 42, 60, 43, 42, 44, 40, 35, 44, 22, 30, 50, 90, 114, 57, 20, 89, 26, 31, 57, 30, 40, 31, 35, 43, 29, 46, 60, 29, 46, 36, 45, 76, 37, 37, 21, 49, 20, 47, 49, 39, 48, 23, 52, 54, 43, 36, 39, 80, 29, 30, 45, 30, 127, 44, 81, 53, 41, 45, 52, 32, 53, 107, 50, 46, 53, 102, 44, 30, 19, 49, 46, 62, 30, 51, 49, 33, 79, 48, 46, 32, 46, 47, 34, 31, 36, 63, 67, 48, 27, 51, 18, 41, 66, 61, 25, 53, 66, 68, 34, 62, 51, 66, 34, 25, 99, 29, 39, 84, 40, 47, 98, 42, 124, 120, 52, 34, 69, 68, 62, 25, 38, 28, 45, 110, 40, 47, 17, 51, 36, 63, 57, 40, 33, 46, 35, 49, 63, 60, 47, 23, 44, 52, 41, 42, 83, 44, 40, 33, 52, 36, 35, 42, 54, 35, 76, 29, 124, 140, 32, 44, 79, 47, 57, 35, 46, 65, 43, 66, 54, 61, 30, 85, 47, 50, 46, 51, 48, 81, 106, 26, 124, 48, 46, 37, 48, 42, 21, 35, 37, 50, 47, 54, 84, 53, 61, 31, 60, 81, 62, 55, 17, 60, 119, 44, 51, 45, 35, 31, 42], \"y\": [-2.025223119542275, -3.376260231844512, -11.25061727832496, -14.412895095422549, -0.2966802111917346, 2.401356299529752, -4.07451643296384, 2.8885642227806763, 2.4351044382406, -9.49916660644337, -11.788019171097147, -4.267641234917335, 4.761994199114298, 15.111975508268053, 6.655823773197383, 11.013113203969716, 5.28234324055213, -8.663873606979294, 9.461321669675947, 9.076531529100293, -9.210928411148842, 10.749008454296423, 5.496255013342896, -11.951445489350277, -7.4456108336936495, 26.322322000983362, 14.232261324229185, 12.07539886949214, -0.6228287586299857, -3.3853801303584987, 3.538534685022519, -14.710736866639849, 5.6857198077265565, -3.9561152899097394, -3.3638178889754755, 1.172683872526349, 10.79406699802744, 13.43376875208289, 2.662634140680858, 6.559686031103517, -5.559399775505447, 8.875912116280055, 8.71619893661115, 7.825388517087184, -19.105693206836108, -8.7631315288873, 14.239438547866023, -24.291876951090885, 5.963194714483535, 8.879885245390888, -24.627510930768352, -3.672280527743503, -0.315358236492969, -11.005432055769816, -1.9726194491775573, 4.201676630109269, 1.8128418005357219, -0.7884567817456372, 9.490744266128424, -10.750999800524308, -9.303785528154982, -2.6857457009815064, -17.26774779979332, 2.2120994827550646, 10.442838907222168, -4.726764121846017, -16.07320942571485, -0.46678075304041045, -0.06927309564422757, 3.680195703096807, -7.005725395799182, -5.561751071045315, 1.5789869862703583, -9.495661912400564, 42.8391100937217, 11.379567347243523, -14.860371401785706, -1.292816357977344, 4.78022919108588, -6.315075359807153, -8.645139589640053, 0.6427386272724576, -4.31923281780923, -6.074447479330097, 18.89590050986248, 2.5708071278806273, 2.0272737153952463, -2.90164713361456, -5.337126484560514, 10.66846832509949, -41.12524384950781, 5.795746738964517, -15.529578707115135, 11.01919181373863, -2.0253550162199545, 2.4349898328620867, -0.21315346118662148, 0.48722302229553804, 10.617239313154393, -20.97167111118334, -16.659395110021997, -21.72849427290521, 18.500786745649066, 32.775410522052155, 7.33641696491825, -14.562085252086547, 6.494538823498019, -2.8434136127932064, -8.903673530790655, -23.091727653156312, 0.8442775275681171, 3.141328138247289, -24.90307211731266, -1.4498506678914254, 8.269570210481241, 3.098852077688175, 8.251253715740553, -8.064389354125368, -4.616906675698388, 3.6004825087664045, 0.3960153228214054, -32.766282143937644, 0.5983326948356478, -10.901752402100684, 11.472003615127623, -50.45827357071016, 0.09123013737921326, -15.162288710412142, -1.7873868601415381, -1.2049726845718922, -11.332690342484163, 3.2390157249873113, -7.242839419903614, -15.609412040765932, 5.005432670479486, -1.882149035596285, -5.523424552120737, -4.4512216143471335, 1.596992177566463, -13.177843152837958, -1.2609686333110908, 3.5602419702948325, -12.757371198782948, 37.77689357850417, 2.084784621148721, 15.18968265367198, 3.9924789917686923, -1.93732063310118, 5.458295506661344, 11.357015971058175, -5.418843673656781, -2.90164713361456, 27.973307687471518, 4.040243442365735, -3.0516149788381597, 2.985574903303686, 20.77822504536121, -3.487724424442561, -11.793144074092474, -11.046821525427049, -5.446239336702689, 12.423419518574384, -17.28665333733848, -7.063830765191192, 1.86190515476504, -1.2049726845718922, -8.230028621785728, 0.14294809338943537, -31.57896403039166, -0.7399720926964122, -0.29826110618085977, 11.866178729091715, 4.974889367060513, -4.084051055252878, -4.737491214098753, 0.8760587163511175, 8.889493252994221, -9.382359011137027, -9.821366053061155, -14.415823521231964, -11.788019171097147, -25.825403150211045, 10.55541193165179, -7.573383573143218, -9.495661912400564, -6.846686277863995, 13.249632544907683, -12.941685703934567, 20.740451298189342, -8.121787263950736, -19.308778836565608, 9.536487298512917, -12.085137873551503, -10.030434204602201, -13.748142405054537, 17.61749749413154, -15.260380180262345, 6.185029891169151, 36.535149005800896, 2.055071524475345, 7.6742640988173605, 23.17495114610398, -6.970772789908629, 36.66965389421519, 38.166230351553295, 8.794657202472706, 0.6186057571411538, 17.85835093081483, 0.31974393877159457, -17.191211968019545, -9.276456198809086, -3.2730039086099296, -14.563976121083101, 10.534476667764736, 26.585939822860155, 2.0933980433999295, 2.9682986047020705, -20.36121827627126, 10.255933132354599, 10.638549221741588, -4.783458654376176, 11.951207413303116, -8.369667182205902, -2.8703226219464355, 11.803565278356622, 0.6449035959834291, 8.015899780662771, -11.719301707390187, -18.803604929034037, 7.477200666013701, -8.669437923741139, 5.1583982443494705, -1.8105178228545853, 1.966578043083949, 5.55386727284106, 12.475043890791241, -3.0100021748852583, -0.5197656125832921, 3.2985819321343826, -21.887971116078702, -9.84037079316819, -2.792151737933544, 8.888999256556502, 14.168359416948896, -11.91012468004216, 8.620411453782921, -16.069538746177564, 38.58985643141668, 51.09446674869527, 0.6488388821368289, 3.1605027842004034, 7.035873215159228, 1.1378377626567584, -23.43577809722632, -9.86818356320881, 5.3915098380903, -4.986533925802391, 11.337296552876644, 12.263923421142295, 5.421749003455169, -16.736151019853253, -10.924733246713451, 4.874354325809989, 4.707962580222905, 0.4506443619274165, 4.381311798528998, 6.459262675788324, 4.715293409217757, 12.64572414179085, 36.38335074559315, -7.500587032746289, 38.95679598378901, -9.821366053061155, 8.60140387581383, -3.44311257473413, 5.995794201761065, -3.802044274243613, -16.975876468564245, -2.177650072477867, -4.600106535392683, -7.201108364655532, 5.92940751924084, 17.876477390928727, 0.5611945663158338, 13.81251320695845, 9.825127308176732, -13.008022023314275, -22.043835419894762, 9.873766216348557, -11.49771871804117, 23.36397395722257, -39.759411433214446, 2.2869307189878754, 31.814602071044916, -39.04429021690429, 21.837042390633098, 5.662307298500103, 0.3700794933849565, -5.973651418526465, -0.9405379135164367]}, {\"name\": \"y=0\", \"type\": \"scatter\", \"x\": [43, 49, 22, 29, 36, 44, 39, 32, 49, 22, 51, 35, 73, 54, 93, 44, 52, 40, 40, 97, 30, 57, 42, 53, 31, 102, 58, 61, 34, 32, 42, 22, 48, 49, 39, 52, 45, 61, 46, 46, 44, 52, 55, 54, 59, 63, 43, 24, 49, 63, 45, 36, 48, 49, 38, 50, 41, 39, 45, 18, 30, 38, 19, 46, 41, 56, 64, 82, 38, 38, 37, 36, 39, 61, 87, 98, 29, 40, 48, 40, 67, 52, 32, 31, 68, 41, 37, 53, 31, 45, 26, 42, 60, 43, 42, 44, 40, 35, 44, 22, 30, 50, 90, 114, 57, 20, 89, 26, 31, 57, 30, 40, 31, 35, 43, 29, 46, 60, 29, 46, 36, 45, 76, 37, 37, 21, 49, 20, 47, 49, 39, 48, 23, 52, 54, 43, 36, 39, 80, 29, 30, 45, 30, 127, 44, 81, 53, 41, 45, 52, 32, 53, 107, 50, 46, 53, 102, 44, 30, 19, 49, 46, 62, 30, 51, 49, 33, 79, 48, 46, 32, 46, 47, 34, 31, 36, 63, 67, 48, 27, 51, 18, 41, 66, 61, 25, 53, 66, 68, 34, 62, 51, 66, 34, 25, 99, 29, 39, 84, 40, 47, 98, 42, 124, 120, 52, 34, 69, 68, 62, 25, 38, 28, 45, 110, 40, 47, 17, 51, 36, 63, 57, 40, 33, 46, 35, 49, 63, 60, 47, 23, 44, 52, 41, 42, 83, 44, 40, 33, 52, 36, 35, 42, 54, 35, 76, 29, 124, 140, 32, 44, 79, 47, 57, 35, 46, 65, 43, 66, 54, 61, 30, 85, 47, 50, 46, 51, 48, 81, 106, 26, 124, 48, 46, 37, 48, 42, 21, 35, 37, 50, 47, 54, 84, 53, 61, 31, 60, 81, 62, 55, 17, 60, 119, 44, 51, 45, 35, 31, 42], \"y\": [0, 0, 0, 0, 0, 0, 0, 0, 0, 0, 0, 0, 0, 0, 0, 0, 0, 0, 0, 0, 0, 0, 0, 0, 0, 0, 0, 0, 0, 0, 0, 0, 0, 0, 0, 0, 0, 0, 0, 0, 0, 0, 0, 0, 0, 0, 0, 0, 0, 0, 0, 0, 0, 0, 0, 0, 0, 0, 0, 0, 0, 0, 0, 0, 0, 0, 0, 0, 0, 0, 0, 0, 0, 0, 0, 0, 0, 0, 0, 0, 0, 0, 0, 0, 0, 0, 0, 0, 0, 0, 0, 0, 0, 0, 0, 0, 0, 0, 0, 0, 0, 0, 0, 0, 0, 0, 0, 0, 0, 0, 0, 0, 0, 0, 0, 0, 0, 0, 0, 0, 0, 0, 0, 0, 0, 0, 0, 0, 0, 0, 0, 0, 0, 0, 0, 0, 0, 0, 0, 0, 0, 0, 0, 0, 0, 0, 0, 0, 0, 0, 0, 0, 0, 0, 0, 0, 0, 0, 0, 0, 0, 0, 0, 0, 0, 0, 0, 0, 0, 0, 0, 0, 0, 0, 0, 0, 0, 0, 0, 0, 0, 0, 0, 0, 0, 0, 0, 0, 0, 0, 0, 0, 0, 0, 0, 0, 0, 0, 0, 0, 0, 0, 0, 0, 0, 0, 0, 0, 0, 0, 0, 0, 0, 0, 0, 0, 0, 0, 0, 0, 0, 0, 0, 0, 0, 0, 0, 0, 0, 0, 0, 0, 0, 0, 0, 0, 0, 0, 0, 0, 0, 0, 0, 0, 0, 0, 0, 0, 0, 0, 0, 0, 0, 0, 0, 0, 0, 0, 0, 0, 0, 0, 0, 0, 0, 0, 0, 0, 0, 0, 0, 0, 0, 0, 0, 0, 0, 0, 0, 0, 0, 0, 0, 0, 0, 0, 0, 0, 0, 0, 0, 0, 0, 0, 0, 0, 0, 0, 0, 0]}],                        {\"template\": {\"data\": {\"bar\": [{\"error_x\": {\"color\": \"#2a3f5f\"}, \"error_y\": {\"color\": \"#2a3f5f\"}, \"marker\": {\"line\": {\"color\": \"#E5ECF6\", \"width\": 0.5}}, \"type\": \"bar\"}], \"barpolar\": [{\"marker\": {\"line\": {\"color\": \"#E5ECF6\", \"width\": 0.5}}, \"type\": \"barpolar\"}], \"carpet\": [{\"aaxis\": {\"endlinecolor\": \"#2a3f5f\", \"gridcolor\": \"white\", \"linecolor\": \"white\", \"minorgridcolor\": \"white\", \"startlinecolor\": \"#2a3f5f\"}, \"baxis\": {\"endlinecolor\": \"#2a3f5f\", \"gridcolor\": \"white\", \"linecolor\": \"white\", \"minorgridcolor\": \"white\", \"startlinecolor\": \"#2a3f5f\"}, \"type\": \"carpet\"}], \"choropleth\": [{\"colorbar\": {\"outlinewidth\": 0, \"ticks\": \"\"}, \"type\": \"choropleth\"}], \"contour\": [{\"colorbar\": {\"outlinewidth\": 0, \"ticks\": \"\"}, \"colorscale\": [[0.0, \"#0d0887\"], [0.1111111111111111, \"#46039f\"], [0.2222222222222222, \"#7201a8\"], [0.3333333333333333, \"#9c179e\"], [0.4444444444444444, \"#bd3786\"], [0.5555555555555556, \"#d8576b\"], [0.6666666666666666, \"#ed7953\"], [0.7777777777777778, \"#fb9f3a\"], [0.8888888888888888, \"#fdca26\"], [1.0, \"#f0f921\"]], \"type\": \"contour\"}], \"contourcarpet\": [{\"colorbar\": {\"outlinewidth\": 0, \"ticks\": \"\"}, \"type\": \"contourcarpet\"}], \"heatmap\": [{\"colorbar\": {\"outlinewidth\": 0, \"ticks\": \"\"}, \"colorscale\": [[0.0, \"#0d0887\"], [0.1111111111111111, \"#46039f\"], [0.2222222222222222, \"#7201a8\"], [0.3333333333333333, \"#9c179e\"], [0.4444444444444444, \"#bd3786\"], [0.5555555555555556, \"#d8576b\"], [0.6666666666666666, \"#ed7953\"], [0.7777777777777778, \"#fb9f3a\"], [0.8888888888888888, \"#fdca26\"], [1.0, \"#f0f921\"]], \"type\": \"heatmap\"}], \"heatmapgl\": [{\"colorbar\": {\"outlinewidth\": 0, \"ticks\": \"\"}, \"colorscale\": [[0.0, \"#0d0887\"], [0.1111111111111111, \"#46039f\"], [0.2222222222222222, \"#7201a8\"], [0.3333333333333333, \"#9c179e\"], [0.4444444444444444, \"#bd3786\"], [0.5555555555555556, \"#d8576b\"], [0.6666666666666666, \"#ed7953\"], [0.7777777777777778, \"#fb9f3a\"], [0.8888888888888888, \"#fdca26\"], [1.0, \"#f0f921\"]], \"type\": \"heatmapgl\"}], \"histogram\": [{\"marker\": {\"colorbar\": {\"outlinewidth\": 0, \"ticks\": \"\"}}, \"type\": \"histogram\"}], \"histogram2d\": [{\"colorbar\": {\"outlinewidth\": 0, \"ticks\": \"\"}, \"colorscale\": [[0.0, \"#0d0887\"], [0.1111111111111111, \"#46039f\"], [0.2222222222222222, \"#7201a8\"], [0.3333333333333333, \"#9c179e\"], [0.4444444444444444, \"#bd3786\"], [0.5555555555555556, \"#d8576b\"], [0.6666666666666666, \"#ed7953\"], [0.7777777777777778, \"#fb9f3a\"], [0.8888888888888888, \"#fdca26\"], [1.0, \"#f0f921\"]], \"type\": \"histogram2d\"}], \"histogram2dcontour\": [{\"colorbar\": {\"outlinewidth\": 0, \"ticks\": \"\"}, \"colorscale\": [[0.0, \"#0d0887\"], [0.1111111111111111, \"#46039f\"], [0.2222222222222222, \"#7201a8\"], [0.3333333333333333, \"#9c179e\"], [0.4444444444444444, \"#bd3786\"], [0.5555555555555556, \"#d8576b\"], [0.6666666666666666, \"#ed7953\"], [0.7777777777777778, \"#fb9f3a\"], [0.8888888888888888, \"#fdca26\"], [1.0, \"#f0f921\"]], \"type\": \"histogram2dcontour\"}], \"mesh3d\": [{\"colorbar\": {\"outlinewidth\": 0, \"ticks\": \"\"}, \"type\": \"mesh3d\"}], \"parcoords\": [{\"line\": {\"colorbar\": {\"outlinewidth\": 0, \"ticks\": \"\"}}, \"type\": \"parcoords\"}], \"pie\": [{\"automargin\": true, \"type\": \"pie\"}], \"scatter\": [{\"marker\": {\"colorbar\": {\"outlinewidth\": 0, \"ticks\": \"\"}}, \"type\": \"scatter\"}], \"scatter3d\": [{\"line\": {\"colorbar\": {\"outlinewidth\": 0, \"ticks\": \"\"}}, \"marker\": {\"colorbar\": {\"outlinewidth\": 0, \"ticks\": \"\"}}, \"type\": \"scatter3d\"}], \"scattercarpet\": [{\"marker\": {\"colorbar\": {\"outlinewidth\": 0, \"ticks\": \"\"}}, \"type\": \"scattercarpet\"}], \"scattergeo\": [{\"marker\": {\"colorbar\": {\"outlinewidth\": 0, \"ticks\": \"\"}}, \"type\": \"scattergeo\"}], \"scattergl\": [{\"marker\": {\"colorbar\": {\"outlinewidth\": 0, \"ticks\": \"\"}}, \"type\": \"scattergl\"}], \"scattermapbox\": [{\"marker\": {\"colorbar\": {\"outlinewidth\": 0, \"ticks\": \"\"}}, \"type\": \"scattermapbox\"}], \"scatterpolar\": [{\"marker\": {\"colorbar\": {\"outlinewidth\": 0, \"ticks\": \"\"}}, \"type\": \"scatterpolar\"}], \"scatterpolargl\": [{\"marker\": {\"colorbar\": {\"outlinewidth\": 0, \"ticks\": \"\"}}, \"type\": \"scatterpolargl\"}], \"scatterternary\": [{\"marker\": {\"colorbar\": {\"outlinewidth\": 0, \"ticks\": \"\"}}, \"type\": \"scatterternary\"}], \"surface\": [{\"colorbar\": {\"outlinewidth\": 0, \"ticks\": \"\"}, \"colorscale\": [[0.0, \"#0d0887\"], [0.1111111111111111, \"#46039f\"], [0.2222222222222222, \"#7201a8\"], [0.3333333333333333, \"#9c179e\"], [0.4444444444444444, \"#bd3786\"], [0.5555555555555556, \"#d8576b\"], [0.6666666666666666, \"#ed7953\"], [0.7777777777777778, \"#fb9f3a\"], [0.8888888888888888, \"#fdca26\"], [1.0, \"#f0f921\"]], \"type\": \"surface\"}], \"table\": [{\"cells\": {\"fill\": {\"color\": \"#EBF0F8\"}, \"line\": {\"color\": \"white\"}}, \"header\": {\"fill\": {\"color\": \"#C8D4E3\"}, \"line\": {\"color\": \"white\"}}, \"type\": \"table\"}]}, \"layout\": {\"annotationdefaults\": {\"arrowcolor\": \"#2a3f5f\", \"arrowhead\": 0, \"arrowwidth\": 1}, \"autotypenumbers\": \"strict\", \"coloraxis\": {\"colorbar\": {\"outlinewidth\": 0, \"ticks\": \"\"}}, \"colorscale\": {\"diverging\": [[0, \"#8e0152\"], [0.1, \"#c51b7d\"], [0.2, \"#de77ae\"], [0.3, \"#f1b6da\"], [0.4, \"#fde0ef\"], [0.5, \"#f7f7f7\"], [0.6, \"#e6f5d0\"], [0.7, \"#b8e186\"], [0.8, \"#7fbc41\"], [0.9, \"#4d9221\"], [1, \"#276419\"]], \"sequential\": [[0.0, \"#0d0887\"], [0.1111111111111111, \"#46039f\"], [0.2222222222222222, \"#7201a8\"], [0.3333333333333333, \"#9c179e\"], [0.4444444444444444, \"#bd3786\"], [0.5555555555555556, \"#d8576b\"], [0.6666666666666666, \"#ed7953\"], [0.7777777777777778, \"#fb9f3a\"], [0.8888888888888888, \"#fdca26\"], [1.0, \"#f0f921\"]], \"sequentialminus\": [[0.0, \"#0d0887\"], [0.1111111111111111, \"#46039f\"], [0.2222222222222222, \"#7201a8\"], [0.3333333333333333, \"#9c179e\"], [0.4444444444444444, \"#bd3786\"], [0.5555555555555556, \"#d8576b\"], [0.6666666666666666, \"#ed7953\"], [0.7777777777777778, \"#fb9f3a\"], [0.8888888888888888, \"#fdca26\"], [1.0, \"#f0f921\"]]}, \"colorway\": [\"#636efa\", \"#EF553B\", \"#00cc96\", \"#ab63fa\", \"#FFA15A\", \"#19d3f3\", \"#FF6692\", \"#B6E880\", \"#FF97FF\", \"#FECB52\"], \"font\": {\"color\": \"#2a3f5f\"}, \"geo\": {\"bgcolor\": \"white\", \"lakecolor\": \"white\", \"landcolor\": \"#E5ECF6\", \"showlakes\": true, \"showland\": true, \"subunitcolor\": \"white\"}, \"hoverlabel\": {\"align\": \"left\"}, \"hovermode\": \"closest\", \"mapbox\": {\"style\": \"light\"}, \"paper_bgcolor\": \"white\", \"plot_bgcolor\": \"#E5ECF6\", \"polar\": {\"angularaxis\": {\"gridcolor\": \"white\", \"linecolor\": \"white\", \"ticks\": \"\"}, \"bgcolor\": \"#E5ECF6\", \"radialaxis\": {\"gridcolor\": \"white\", \"linecolor\": \"white\", \"ticks\": \"\"}}, \"scene\": {\"xaxis\": {\"backgroundcolor\": \"#E5ECF6\", \"gridcolor\": \"white\", \"gridwidth\": 2, \"linecolor\": \"white\", \"showbackground\": true, \"ticks\": \"\", \"zerolinecolor\": \"white\"}, \"yaxis\": {\"backgroundcolor\": \"#E5ECF6\", \"gridcolor\": \"white\", \"gridwidth\": 2, \"linecolor\": \"white\", \"showbackground\": true, \"ticks\": \"\", \"zerolinecolor\": \"white\"}, \"zaxis\": {\"backgroundcolor\": \"#E5ECF6\", \"gridcolor\": \"white\", \"gridwidth\": 2, \"linecolor\": \"white\", \"showbackground\": true, \"ticks\": \"\", \"zerolinecolor\": \"white\"}}, \"shapedefaults\": {\"line\": {\"color\": \"#2a3f5f\"}}, \"ternary\": {\"aaxis\": {\"gridcolor\": \"white\", \"linecolor\": \"white\", \"ticks\": \"\"}, \"baxis\": {\"gridcolor\": \"white\", \"linecolor\": \"white\", \"ticks\": \"\"}, \"bgcolor\": \"#E5ECF6\", \"caxis\": {\"gridcolor\": \"white\", \"linecolor\": \"white\", \"ticks\": \"\"}}, \"title\": {\"x\": 0.05}, \"xaxis\": {\"automargin\": true, \"gridcolor\": \"white\", \"linecolor\": \"white\", \"ticks\": \"\", \"title\": {\"standoff\": 15}, \"zerolinecolor\": \"white\", \"zerolinewidth\": 2}, \"yaxis\": {\"automargin\": true, \"gridcolor\": \"white\", \"linecolor\": \"white\", \"ticks\": \"\", \"title\": {\"standoff\": 15}, \"zerolinecolor\": \"white\", \"zerolinewidth\": 2}}}, \"title\": {\"text\": \"Model residual plot\"}, \"xaxis\": {\"title\": {\"text\": \"Pass_px\"}}, \"yaxis\": {\"title\": {\"text\": \"Residuals\"}}},                        {\"responsive\": true}                    ).then(function(){\n",
       "                            \n",
       "var gd = document.getElementById('59baa984-2efe-49cb-8bd5-80cb9794ef67');\n",
       "var x = new MutationObserver(function (mutations, observer) {{\n",
       "        var display = window.getComputedStyle(gd).display;\n",
       "        if (!display || display === 'none') {{\n",
       "            console.log([gd, 'removed!']);\n",
       "            Plotly.purge(gd);\n",
       "            observer.disconnect();\n",
       "        }}\n",
       "}});\n",
       "\n",
       "// Listen for the removal of the full notebook cells\n",
       "var notebookContainer = gd.closest('#notebook-container');\n",
       "if (notebookContainer) {{\n",
       "    x.observe(notebookContainer, {childList: true});\n",
       "}}\n",
       "\n",
       "// Listen for the clearing of the current output cell\n",
       "var outputEl = gd.closest('.output');\n",
       "if (outputEl) {{\n",
       "    x.observe(outputEl, {childList: true});\n",
       "}}\n",
       "\n",
       "                        })                };                });            </script>        </div>"
      ]
     },
     "metadata": {},
     "output_type": "display_data"
    }
   ],
   "source": [
    "line_y = [0] * len(train['ski_pass_price'])\n",
    "plot_scatter_and_line(train['ski_pass_price'], model.resid, line_y, 'Model residuals', 'y=0','Model residual plot', 'Pass_px', 'Residuals')\n"
   ]
  },
  {
   "cell_type": "markdown",
   "metadata": {
    "slideshow": {
     "slide_type": "subslide"
    }
   },
   "source": [
    "Seems like the model didn't catch the two distinct distributions and left a lot of predictability by the wayside! The residuals are pretty linear so the model doesn't seem to be capturing the variance of the data very well. Let's see if we can do better by only modelling the european data."
   ]
  },
  {
   "cell_type": "code",
   "execution_count": 21,
   "metadata": {
    "slideshow": {
     "slide_type": "slide"
    }
   },
   "outputs": [
    {
     "output_type": "execute_result",
     "data": {
      "text/plain": [
       "<class 'statsmodels.iolib.summary.Summary'>\n",
       "\"\"\"\n",
       "                            OLS Regression Results                            \n",
       "==============================================================================\n",
       "Dep. Variable:         ski_pass_price   R-squared:                       0.476\n",
       "Model:                            OLS   Adj. R-squared:                  0.469\n",
       "Method:                 Least Squares   F-statistic:                     65.51\n",
       "Date:                Thu, 06 May 2021   Prob (F-statistic):           3.65e-30\n",
       "Time:                        18:27:12   Log-Likelihood:                -766.98\n",
       "No. Observations:                 220   AIC:                             1542.\n",
       "Df Residuals:                     216   BIC:                             1556.\n",
       "Df Model:                           3                                         \n",
       "Covariance Type:            nonrobust                                         \n",
       "=================================================================================\n",
       "                    coef    std err          t      P>|t|      [0.025      0.975]\n",
       "---------------------------------------------------------------------------------\n",
       "Intercept        29.4117      1.638     17.954      0.000      26.183      32.641\n",
       "max_altitude     -0.0005      0.001     -0.341      0.734      -0.003       0.002\n",
       "altitude_diff     0.0120      0.002      5.876      0.000       0.008       0.016\n",
       "total_slopes      0.0191      0.005      3.830      0.000       0.009       0.029\n",
       "==============================================================================\n",
       "Omnibus:                        0.194   Durbin-Watson:                   2.063\n",
       "Prob(Omnibus):                  0.908   Jarque-Bera (JB):                0.155\n",
       "Skew:                          -0.064   Prob(JB):                        0.926\n",
       "Kurtosis:                       2.984   Cond. No.                     7.68e+03\n",
       "==============================================================================\n",
       "\n",
       "Notes:\n",
       "[1] Standard Errors assume that the covariance matrix of the errors is correctly specified.\n",
       "[2] The condition number is large, 7.68e+03. This might indicate that there are\n",
       "strong multicollinearity or other numerical problems.\n",
       "\"\"\""
      ],
      "text/html": "<table class=\"simpletable\">\n<caption>OLS Regression Results</caption>\n<tr>\n  <th>Dep. Variable:</th>     <td>ski_pass_price</td>  <th>  R-squared:         </th> <td>   0.476</td>\n</tr>\n<tr>\n  <th>Model:</th>                   <td>OLS</td>       <th>  Adj. R-squared:    </th> <td>   0.469</td>\n</tr>\n<tr>\n  <th>Method:</th>             <td>Least Squares</td>  <th>  F-statistic:       </th> <td>   65.51</td>\n</tr>\n<tr>\n  <th>Date:</th>             <td>Thu, 06 May 2021</td> <th>  Prob (F-statistic):</th> <td>3.65e-30</td>\n</tr>\n<tr>\n  <th>Time:</th>                 <td>18:27:12</td>     <th>  Log-Likelihood:    </th> <td> -766.98</td>\n</tr>\n<tr>\n  <th>No. Observations:</th>      <td>   220</td>      <th>  AIC:               </th> <td>   1542.</td>\n</tr>\n<tr>\n  <th>Df Residuals:</th>          <td>   216</td>      <th>  BIC:               </th> <td>   1556.</td>\n</tr>\n<tr>\n  <th>Df Model:</th>              <td>     3</td>      <th>                     </th>     <td> </td>   \n</tr>\n<tr>\n  <th>Covariance Type:</th>      <td>nonrobust</td>    <th>                     </th>     <td> </td>   \n</tr>\n</table>\n<table class=\"simpletable\">\n<tr>\n        <td></td>           <th>coef</th>     <th>std err</th>      <th>t</th>      <th>P>|t|</th>  <th>[0.025</th>    <th>0.975]</th>  \n</tr>\n<tr>\n  <th>Intercept</th>     <td>   29.4117</td> <td>    1.638</td> <td>   17.954</td> <td> 0.000</td> <td>   26.183</td> <td>   32.641</td>\n</tr>\n<tr>\n  <th>max_altitude</th>  <td>   -0.0005</td> <td>    0.001</td> <td>   -0.341</td> <td> 0.734</td> <td>   -0.003</td> <td>    0.002</td>\n</tr>\n<tr>\n  <th>altitude_diff</th> <td>    0.0120</td> <td>    0.002</td> <td>    5.876</td> <td> 0.000</td> <td>    0.008</td> <td>    0.016</td>\n</tr>\n<tr>\n  <th>total_slopes</th>  <td>    0.0191</td> <td>    0.005</td> <td>    3.830</td> <td> 0.000</td> <td>    0.009</td> <td>    0.029</td>\n</tr>\n</table>\n<table class=\"simpletable\">\n<tr>\n  <th>Omnibus:</th>       <td> 0.194</td> <th>  Durbin-Watson:     </th> <td>   2.063</td>\n</tr>\n<tr>\n  <th>Prob(Omnibus):</th> <td> 0.908</td> <th>  Jarque-Bera (JB):  </th> <td>   0.155</td>\n</tr>\n<tr>\n  <th>Skew:</th>          <td>-0.064</td> <th>  Prob(JB):          </th> <td>   0.926</td>\n</tr>\n<tr>\n  <th>Kurtosis:</th>      <td> 2.984</td> <th>  Cond. No.          </th> <td>7.68e+03</td>\n</tr>\n</table><br/><br/>Notes:<br/>[1] Standard Errors assume that the covariance matrix of the errors is correctly specified.<br/>[2] The condition number is large, 7.68e+03. This might indicate that there are<br/>strong multicollinearity or other numerical problems."
     },
     "metadata": {},
     "execution_count": 21
    }
   ],
   "source": [
    "trainEU, TestEU = train_test_split(euro, train_size = 0.6)\n",
    "TestEU, ValidateEU = train_test_split(TestEU, train_size = 0.5)\n",
    "\n",
    "euro_mod = smf.ols(formula= f, data = trainEU).fit()\n",
    "euro_mod.summary()"
   ]
  },
  {
   "cell_type": "code",
   "execution_count": 22,
   "metadata": {
    "slideshow": {
     "slide_type": "subslide"
    }
   },
   "outputs": [
    {
     "output_type": "display_data",
     "data": {
      "application/vnd.plotly.v1+json": {
       "config": {
        "plotlyServerURL": "https://plot.ly"
       },
       "data": [
        {
         "mode": "markers",
         "name": "Predictions",
         "type": "scatter",
         "x": [
          37,
          31,
          61,
          55,
          44,
          41,
          53,
          44,
          53,
          34,
          20,
          35,
          37,
          50,
          18,
          21,
          46,
          52,
          45,
          45,
          32,
          66,
          45,
          33,
          38,
          27,
          23,
          25,
          40,
          34,
          43,
          47,
          34,
          27,
          44,
          43,
          38,
          54,
          44,
          49,
          43,
          48,
          54,
          37,
          54,
          69,
          29,
          17,
          54,
          35,
          37,
          50,
          35,
          40,
          61,
          47,
          34,
          37,
          45,
          41,
          60,
          36,
          29,
          54,
          25,
          52,
          31,
          33,
          42,
          34,
          54,
          36,
          30,
          22
         ],
         "y": [
          45.5654762835703,
          41.86155126606201,
          53.44050259791289,
          31.09006625663558,
          48.350161431574676,
          37.06710743408223,
          52.46193554857374,
          43.480395308413286,
          51.27143052829113,
          34.08716616270218,
          37.65462353814018,
          31.562037118949775,
          34.781912723450134,
          46.60247999065284,
          29.81822219784355,
          39.41332953422832,
          39.365997596096996,
          51.37131347538899,
          39.58556437916034,
          44.137367873395824,
          29.55665881217,
          58.07855438981226,
          41.10595392641191,
          32.004032752223054,
          35.16304045194747,
          39.31951663624622,
          32.470983289244,
          32.85587850035502,
          32.63489088186111,
          40.665324112393996,
          37.86931334721853,
          46.217250845141194,
          43.46141675579093,
          35.146778572911295,
          42.51352884487978,
          35.083102886371535,
          38.048680181837796,
          41.12408019814317,
          45.18933058545866,
          49.59079106326182,
          41.682386784110534,
          48.341624663145424,
          36.69240194213596,
          41.682386784110534,
          30.5214427163237,
          46.01247609985784,
          32.770654605083585,
          33.182914891313544,
          42.369189032769825,
          37.253496083083824,
          36.03129191009254,
          34.400699897124746,
          37.92812673451647,
          36.772424605539946,
          53.44050259791289,
          49.72060381644336,
          37.02806988471918,
          34.6205429577956,
          33.43687112775486,
          32.70854031453967,
          61.42923706823375,
          39.654303965458055,
          33.23996851055531,
          46.30374532335149,
          36.818905565390715,
          42.99057754632581,
          40.47813671939327,
          34.22616228308181,
          39.74735168952261,
          38.43662342820969,
          36.2325732520415,
          46.174020324024184,
          36.772424605539946,
          40.04376863163769
         ]
        },
        {
         "name": "y=x",
         "type": "scatter",
         "x": [
          37,
          31,
          61,
          55,
          44,
          41,
          53,
          44,
          53,
          34,
          20,
          35,
          37,
          50,
          18,
          21,
          46,
          52,
          45,
          45,
          32,
          66,
          45,
          33,
          38,
          27,
          23,
          25,
          40,
          34,
          43,
          47,
          34,
          27,
          44,
          43,
          38,
          54,
          44,
          49,
          43,
          48,
          54,
          37,
          54,
          69,
          29,
          17,
          54,
          35,
          37,
          50,
          35,
          40,
          61,
          47,
          34,
          37,
          45,
          41,
          60,
          36,
          29,
          54,
          25,
          52,
          31,
          33,
          42,
          34,
          54,
          36,
          30,
          22
         ],
         "y": [
          37,
          31,
          61,
          55,
          44,
          41,
          53,
          44,
          53,
          34,
          20,
          35,
          37,
          50,
          18,
          21,
          46,
          52,
          45,
          45,
          32,
          66,
          45,
          33,
          38,
          27,
          23,
          25,
          40,
          34,
          43,
          47,
          34,
          27,
          44,
          43,
          38,
          54,
          44,
          49,
          43,
          48,
          54,
          37,
          54,
          69,
          29,
          17,
          54,
          35,
          37,
          50,
          35,
          40,
          61,
          47,
          34,
          37,
          45,
          41,
          60,
          36,
          29,
          54,
          25,
          52,
          31,
          33,
          42,
          34,
          54,
          36,
          30,
          22
         ]
        }
       ],
       "layout": {
        "template": {
         "data": {
          "bar": [
           {
            "error_x": {
             "color": "#2a3f5f"
            },
            "error_y": {
             "color": "#2a3f5f"
            },
            "marker": {
             "line": {
              "color": "#E5ECF6",
              "width": 0.5
             }
            },
            "type": "bar"
           }
          ],
          "barpolar": [
           {
            "marker": {
             "line": {
              "color": "#E5ECF6",
              "width": 0.5
             }
            },
            "type": "barpolar"
           }
          ],
          "carpet": [
           {
            "aaxis": {
             "endlinecolor": "#2a3f5f",
             "gridcolor": "white",
             "linecolor": "white",
             "minorgridcolor": "white",
             "startlinecolor": "#2a3f5f"
            },
            "baxis": {
             "endlinecolor": "#2a3f5f",
             "gridcolor": "white",
             "linecolor": "white",
             "minorgridcolor": "white",
             "startlinecolor": "#2a3f5f"
            },
            "type": "carpet"
           }
          ],
          "choropleth": [
           {
            "colorbar": {
             "outlinewidth": 0,
             "ticks": ""
            },
            "type": "choropleth"
           }
          ],
          "contour": [
           {
            "colorbar": {
             "outlinewidth": 0,
             "ticks": ""
            },
            "colorscale": [
             [
              0,
              "#0d0887"
             ],
             [
              0.1111111111111111,
              "#46039f"
             ],
             [
              0.2222222222222222,
              "#7201a8"
             ],
             [
              0.3333333333333333,
              "#9c179e"
             ],
             [
              0.4444444444444444,
              "#bd3786"
             ],
             [
              0.5555555555555556,
              "#d8576b"
             ],
             [
              0.6666666666666666,
              "#ed7953"
             ],
             [
              0.7777777777777778,
              "#fb9f3a"
             ],
             [
              0.8888888888888888,
              "#fdca26"
             ],
             [
              1,
              "#f0f921"
             ]
            ],
            "type": "contour"
           }
          ],
          "contourcarpet": [
           {
            "colorbar": {
             "outlinewidth": 0,
             "ticks": ""
            },
            "type": "contourcarpet"
           }
          ],
          "heatmap": [
           {
            "colorbar": {
             "outlinewidth": 0,
             "ticks": ""
            },
            "colorscale": [
             [
              0,
              "#0d0887"
             ],
             [
              0.1111111111111111,
              "#46039f"
             ],
             [
              0.2222222222222222,
              "#7201a8"
             ],
             [
              0.3333333333333333,
              "#9c179e"
             ],
             [
              0.4444444444444444,
              "#bd3786"
             ],
             [
              0.5555555555555556,
              "#d8576b"
             ],
             [
              0.6666666666666666,
              "#ed7953"
             ],
             [
              0.7777777777777778,
              "#fb9f3a"
             ],
             [
              0.8888888888888888,
              "#fdca26"
             ],
             [
              1,
              "#f0f921"
             ]
            ],
            "type": "heatmap"
           }
          ],
          "heatmapgl": [
           {
            "colorbar": {
             "outlinewidth": 0,
             "ticks": ""
            },
            "colorscale": [
             [
              0,
              "#0d0887"
             ],
             [
              0.1111111111111111,
              "#46039f"
             ],
             [
              0.2222222222222222,
              "#7201a8"
             ],
             [
              0.3333333333333333,
              "#9c179e"
             ],
             [
              0.4444444444444444,
              "#bd3786"
             ],
             [
              0.5555555555555556,
              "#d8576b"
             ],
             [
              0.6666666666666666,
              "#ed7953"
             ],
             [
              0.7777777777777778,
              "#fb9f3a"
             ],
             [
              0.8888888888888888,
              "#fdca26"
             ],
             [
              1,
              "#f0f921"
             ]
            ],
            "type": "heatmapgl"
           }
          ],
          "histogram": [
           {
            "marker": {
             "colorbar": {
              "outlinewidth": 0,
              "ticks": ""
             }
            },
            "type": "histogram"
           }
          ],
          "histogram2d": [
           {
            "colorbar": {
             "outlinewidth": 0,
             "ticks": ""
            },
            "colorscale": [
             [
              0,
              "#0d0887"
             ],
             [
              0.1111111111111111,
              "#46039f"
             ],
             [
              0.2222222222222222,
              "#7201a8"
             ],
             [
              0.3333333333333333,
              "#9c179e"
             ],
             [
              0.4444444444444444,
              "#bd3786"
             ],
             [
              0.5555555555555556,
              "#d8576b"
             ],
             [
              0.6666666666666666,
              "#ed7953"
             ],
             [
              0.7777777777777778,
              "#fb9f3a"
             ],
             [
              0.8888888888888888,
              "#fdca26"
             ],
             [
              1,
              "#f0f921"
             ]
            ],
            "type": "histogram2d"
           }
          ],
          "histogram2dcontour": [
           {
            "colorbar": {
             "outlinewidth": 0,
             "ticks": ""
            },
            "colorscale": [
             [
              0,
              "#0d0887"
             ],
             [
              0.1111111111111111,
              "#46039f"
             ],
             [
              0.2222222222222222,
              "#7201a8"
             ],
             [
              0.3333333333333333,
              "#9c179e"
             ],
             [
              0.4444444444444444,
              "#bd3786"
             ],
             [
              0.5555555555555556,
              "#d8576b"
             ],
             [
              0.6666666666666666,
              "#ed7953"
             ],
             [
              0.7777777777777778,
              "#fb9f3a"
             ],
             [
              0.8888888888888888,
              "#fdca26"
             ],
             [
              1,
              "#f0f921"
             ]
            ],
            "type": "histogram2dcontour"
           }
          ],
          "mesh3d": [
           {
            "colorbar": {
             "outlinewidth": 0,
             "ticks": ""
            },
            "type": "mesh3d"
           }
          ],
          "parcoords": [
           {
            "line": {
             "colorbar": {
              "outlinewidth": 0,
              "ticks": ""
             }
            },
            "type": "parcoords"
           }
          ],
          "pie": [
           {
            "automargin": true,
            "type": "pie"
           }
          ],
          "scatter": [
           {
            "marker": {
             "colorbar": {
              "outlinewidth": 0,
              "ticks": ""
             }
            },
            "type": "scatter"
           }
          ],
          "scatter3d": [
           {
            "line": {
             "colorbar": {
              "outlinewidth": 0,
              "ticks": ""
             }
            },
            "marker": {
             "colorbar": {
              "outlinewidth": 0,
              "ticks": ""
             }
            },
            "type": "scatter3d"
           }
          ],
          "scattercarpet": [
           {
            "marker": {
             "colorbar": {
              "outlinewidth": 0,
              "ticks": ""
             }
            },
            "type": "scattercarpet"
           }
          ],
          "scattergeo": [
           {
            "marker": {
             "colorbar": {
              "outlinewidth": 0,
              "ticks": ""
             }
            },
            "type": "scattergeo"
           }
          ],
          "scattergl": [
           {
            "marker": {
             "colorbar": {
              "outlinewidth": 0,
              "ticks": ""
             }
            },
            "type": "scattergl"
           }
          ],
          "scattermapbox": [
           {
            "marker": {
             "colorbar": {
              "outlinewidth": 0,
              "ticks": ""
             }
            },
            "type": "scattermapbox"
           }
          ],
          "scatterpolar": [
           {
            "marker": {
             "colorbar": {
              "outlinewidth": 0,
              "ticks": ""
             }
            },
            "type": "scatterpolar"
           }
          ],
          "scatterpolargl": [
           {
            "marker": {
             "colorbar": {
              "outlinewidth": 0,
              "ticks": ""
             }
            },
            "type": "scatterpolargl"
           }
          ],
          "scatterternary": [
           {
            "marker": {
             "colorbar": {
              "outlinewidth": 0,
              "ticks": ""
             }
            },
            "type": "scatterternary"
           }
          ],
          "surface": [
           {
            "colorbar": {
             "outlinewidth": 0,
             "ticks": ""
            },
            "colorscale": [
             [
              0,
              "#0d0887"
             ],
             [
              0.1111111111111111,
              "#46039f"
             ],
             [
              0.2222222222222222,
              "#7201a8"
             ],
             [
              0.3333333333333333,
              "#9c179e"
             ],
             [
              0.4444444444444444,
              "#bd3786"
             ],
             [
              0.5555555555555556,
              "#d8576b"
             ],
             [
              0.6666666666666666,
              "#ed7953"
             ],
             [
              0.7777777777777778,
              "#fb9f3a"
             ],
             [
              0.8888888888888888,
              "#fdca26"
             ],
             [
              1,
              "#f0f921"
             ]
            ],
            "type": "surface"
           }
          ],
          "table": [
           {
            "cells": {
             "fill": {
              "color": "#EBF0F8"
             },
             "line": {
              "color": "white"
             }
            },
            "header": {
             "fill": {
              "color": "#C8D4E3"
             },
             "line": {
              "color": "white"
             }
            },
            "type": "table"
           }
          ]
         },
         "layout": {
          "annotationdefaults": {
           "arrowcolor": "#2a3f5f",
           "arrowhead": 0,
           "arrowwidth": 1
          },
          "autotypenumbers": "strict",
          "coloraxis": {
           "colorbar": {
            "outlinewidth": 0,
            "ticks": ""
           }
          },
          "colorscale": {
           "diverging": [
            [
             0,
             "#8e0152"
            ],
            [
             0.1,
             "#c51b7d"
            ],
            [
             0.2,
             "#de77ae"
            ],
            [
             0.3,
             "#f1b6da"
            ],
            [
             0.4,
             "#fde0ef"
            ],
            [
             0.5,
             "#f7f7f7"
            ],
            [
             0.6,
             "#e6f5d0"
            ],
            [
             0.7,
             "#b8e186"
            ],
            [
             0.8,
             "#7fbc41"
            ],
            [
             0.9,
             "#4d9221"
            ],
            [
             1,
             "#276419"
            ]
           ],
           "sequential": [
            [
             0,
             "#0d0887"
            ],
            [
             0.1111111111111111,
             "#46039f"
            ],
            [
             0.2222222222222222,
             "#7201a8"
            ],
            [
             0.3333333333333333,
             "#9c179e"
            ],
            [
             0.4444444444444444,
             "#bd3786"
            ],
            [
             0.5555555555555556,
             "#d8576b"
            ],
            [
             0.6666666666666666,
             "#ed7953"
            ],
            [
             0.7777777777777778,
             "#fb9f3a"
            ],
            [
             0.8888888888888888,
             "#fdca26"
            ],
            [
             1,
             "#f0f921"
            ]
           ],
           "sequentialminus": [
            [
             0,
             "#0d0887"
            ],
            [
             0.1111111111111111,
             "#46039f"
            ],
            [
             0.2222222222222222,
             "#7201a8"
            ],
            [
             0.3333333333333333,
             "#9c179e"
            ],
            [
             0.4444444444444444,
             "#bd3786"
            ],
            [
             0.5555555555555556,
             "#d8576b"
            ],
            [
             0.6666666666666666,
             "#ed7953"
            ],
            [
             0.7777777777777778,
             "#fb9f3a"
            ],
            [
             0.8888888888888888,
             "#fdca26"
            ],
            [
             1,
             "#f0f921"
            ]
           ]
          },
          "colorway": [
           "#636efa",
           "#EF553B",
           "#00cc96",
           "#ab63fa",
           "#FFA15A",
           "#19d3f3",
           "#FF6692",
           "#B6E880",
           "#FF97FF",
           "#FECB52"
          ],
          "font": {
           "color": "#2a3f5f"
          },
          "geo": {
           "bgcolor": "white",
           "lakecolor": "white",
           "landcolor": "#E5ECF6",
           "showlakes": true,
           "showland": true,
           "subunitcolor": "white"
          },
          "hoverlabel": {
           "align": "left"
          },
          "hovermode": "closest",
          "mapbox": {
           "style": "light"
          },
          "paper_bgcolor": "white",
          "plot_bgcolor": "#E5ECF6",
          "polar": {
           "angularaxis": {
            "gridcolor": "white",
            "linecolor": "white",
            "ticks": ""
           },
           "bgcolor": "#E5ECF6",
           "radialaxis": {
            "gridcolor": "white",
            "linecolor": "white",
            "ticks": ""
           }
          },
          "scene": {
           "xaxis": {
            "backgroundcolor": "#E5ECF6",
            "gridcolor": "white",
            "gridwidth": 2,
            "linecolor": "white",
            "showbackground": true,
            "ticks": "",
            "zerolinecolor": "white"
           },
           "yaxis": {
            "backgroundcolor": "#E5ECF6",
            "gridcolor": "white",
            "gridwidth": 2,
            "linecolor": "white",
            "showbackground": true,
            "ticks": "",
            "zerolinecolor": "white"
           },
           "zaxis": {
            "backgroundcolor": "#E5ECF6",
            "gridcolor": "white",
            "gridwidth": 2,
            "linecolor": "white",
            "showbackground": true,
            "ticks": "",
            "zerolinecolor": "white"
           }
          },
          "shapedefaults": {
           "line": {
            "color": "#2a3f5f"
           }
          },
          "ternary": {
           "aaxis": {
            "gridcolor": "white",
            "linecolor": "white",
            "ticks": ""
           },
           "baxis": {
            "gridcolor": "white",
            "linecolor": "white",
            "ticks": ""
           },
           "bgcolor": "#E5ECF6",
           "caxis": {
            "gridcolor": "white",
            "linecolor": "white",
            "ticks": ""
           }
          },
          "title": {
           "x": 0.05
          },
          "xaxis": {
           "automargin": true,
           "gridcolor": "white",
           "linecolor": "white",
           "ticks": "",
           "title": {
            "standoff": 15
           },
           "zerolinecolor": "white",
           "zerolinewidth": 2
          },
          "yaxis": {
           "automargin": true,
           "gridcolor": "white",
           "linecolor": "white",
           "ticks": "",
           "title": {
            "standoff": 15
           },
           "zerolinecolor": "white",
           "zerolinewidth": 2
          }
         }
        },
        "title": {
         "text": "Predicted vs true price"
        },
        "xaxis": {
         "title": {
          "text": "Pass_px"
         }
        },
        "yaxis": {
         "title": {
          "text": "Predicted price"
         }
        }
       }
      }
     },
     "metadata": {}
    }
   ],
   "source": [
    "TestEU['predictions'] = euro_mod.predict(TestEU)\n",
    "px.scatter(TestEU, x= 'predictions', y = 'ski_pass_price')\n",
    "line_y = TestEU['ski_pass_price']\n",
    "plot_scatter_and_line(TestEU['ski_pass_price'], TestEU['predictions'], line_y, 'Predictions', 'y=x','Predicted vs true price', 'Pass_px', 'Predicted price')"
   ]
  },
  {
   "cell_type": "markdown",
   "metadata": {
    "slideshow": {
     "slide_type": "subslide"
    }
   },
   "source": [
    "Seems a bit flatter than it should be. Let's see what the residuals look like."
   ]
  },
  {
   "cell_type": "code",
   "execution_count": 23,
   "metadata": {
    "slideshow": {
     "slide_type": "fragment"
    }
   },
   "outputs": [
    {
     "output_type": "display_data",
     "data": {
      "application/vnd.plotly.v1+json": {
       "config": {
        "plotlyServerURL": "https://plot.ly"
       },
       "data": [
        {
         "mode": "markers",
         "name": "Model residuals",
         "type": "scatter",
         "x": [
          37,
          31,
          61,
          55,
          44,
          41,
          53,
          44,
          53,
          34,
          20,
          35,
          37,
          50,
          18,
          21,
          46,
          52,
          45,
          45,
          32,
          66,
          45,
          33,
          38,
          27,
          23,
          25,
          40,
          34,
          43,
          47,
          34,
          27,
          44,
          43,
          38,
          54,
          44,
          49,
          43,
          48,
          54,
          37,
          54,
          69,
          29,
          17,
          54,
          35,
          37,
          50,
          35,
          40,
          61,
          47,
          34,
          37,
          45,
          41,
          60,
          36,
          29,
          54,
          25,
          52,
          31,
          33,
          42,
          34,
          54,
          36,
          30,
          22
         ],
         "y": [
          4.839526887359874,
          -5.861163918396684,
          4.207316877840327,
          7.259610521221578,
          8.459406118875513,
          11.990015080918148,
          -4.950274394683888,
          -4.5777378030727895,
          -13.434000626165144,
          -3.8719648638508914,
          -14.395799961484883,
          -9.14483961636384,
          5.172159332255525,
          7.313607987218759,
          6.886306869383411,
          -14.186635642156418,
          -1.302838041783339,
          12.40324523550045,
          -1.656276531622833,
          8.57588597346438,
          -1.9910387236598623,
          -5.79706671486926,
          5.504185242491104,
          -1.1307773072434735,
          6.5851821654345315,
          6.994692603663758,
          0.11827740578341661,
          4.666137451117756,
          -2.3802605450805245,
          4.758369539622066,
          11.367681777330418,
          21.58446665320864,
          0.3670990063572219,
          -14.646360790396798,
          3.6097500592483556,
          10.190831389092047,
          6.919685745845932,
          1.3794282938023343,
          3.36245854705831,
          -4.3471369860498825,
          -3.548654811740164,
          -4.315453359915573,
          -8.830409206379699,
          6.9189559146486985,
          -1.0206808660709044,
          -4.899092836445874,
          -5.984248188472733,
          9.043393100197065,
          -2.5191364704938266,
          -2.3869904910062445,
          -5.878693108377476,
          -10.903592467058772,
          3.965208899304173,
          19.966593331864388,
          1.138569922977183,
          -3.886461026068943,
          0.34767087476151914,
          -10.029235010004982,
          7.898426831172472,
          -0.2807882546748459,
          5.890180791439057,
          -9.073139050973708,
          15.023325329742796,
          -15.3953744723446,
          -3.1752138277925184,
          10.926177801304824,
          3.723095332763073,
          8.380827546660093,
          -0.48133970423323547,
          -0.48249229286434314,
          -17.26714898555246,
          16.93817700366595,
          -3.2234908838667735,
          9.306840725751535,
          -4.682318139429377,
          -1.642379158064827,
          -0.27326365159075294,
          2.282014845491581,
          -0.41791771649864273,
          -4.6020401825412165,
          -2.4985360646990245,
          -3.519703424632837,
          3.2835019660541533,
          7.921445610187739,
          3.024518833511131,
          8.850441385958398,
          9.19531507276816,
          -12.251274483285542,
          3.842468618553468,
          -13.05507671023085,
          -3.886461026068943,
          -1.6943386416718766,
          -14.691882313333306,
          6.381288083716143,
          8.415735952719984,
          0.6352266797895822,
          6.3938947178204835,
          -8.240776028268009,
          9.25167638934252,
          -4.271541788053369,
          1.564813324126277,
          -1.3416179381130888,
          7.237777201288495,
          -9.733163629091209,
          -1.0177994332095892,
          10.208880590638131,
          -8.752209774861647,
          -0.013021897725153053,
          3.138714934519996,
          5.745808772573227,
          -0.7018105502230298,
          -3.794661233582225,
          -10.043825316896644,
          -10.379638453649093,
          -2.6606050549257887,
          6.373730759022614,
          -0.42892145303484597,
          -5.984248188472733,
          2.82410193575366,
          -11.23531509468603,
          -4.501377199318654,
          2.564060582870546,
          5.1290706718042856,
          4.1660175773945625,
          -1.5792022809063226,
          0.11114938512102412,
          19.114568026608566,
          -0.8880669795964806,
          -6.125686251524712,
          -4.124457758694781,
          -7.234310105775528,
          -11.167560858443295,
          2.4960869197724946,
          -5.6158054583796115,
          3.620536107490217,
          -9.531678374879093,
          -10.917578392274201,
          4.100487219671621,
          -1.6105540409119783,
          8.518198443248238,
          10.272673058778011,
          4.675537540849952,
          -5.540558580449947,
          0.9572416771570147,
          -1.5746938001781103,
          1.406462853434732,
          11.963323747769426,
          7.735036550556032,
          1.4814312483155163,
          6.58212828624476,
          -6.384026890666803,
          0.7883518715277873,
          8.456114431328231,
          -12.936590720097016,
          -3.0116565372286033,
          -12.023369286331935,
          16.89354289793235,
          0.061887489520586314,
          6.3820772747344705,
          -14.343098112318728,
          1.9432473676021296,
          -0.7351348328549925,
          8.700882709059528,
          -6.451003158793341,
          6.945564794682532,
          19.114568026608566,
          -6.451597162309177,
          -3.886461026068943,
          7.633523500706737,
          -12.209490639679995,
          8.0880723895988,
          -5.984248188472733,
          -6.099075696723084,
          9.277084137733475,
          -1.8117171802664203,
          -1.236700707020816,
          0.13329882390685555,
          0.5380644514262585,
          -2.257350980327537,
          5.257696463623404,
          2.069806289593565,
          7.615835509102972,
          16.36153913945016,
          -10.744431024825147,
          -2.57850277187147,
          -4.2015181403958195,
          3.133361567990221,
          3.8692566932843064,
          -14.098587977066082,
          3.9891808506789133,
          5.188795498130311,
          -8.758534643294528,
          -6.507912763640455,
          -5.878693108377476,
          4.1660175773945625,
          5.786905391077255,
          8.557363372023921,
          -9.861519540334072,
          -4.834479894022934,
          8.652171260254882,
          4.455118441504872,
          -3.682050235865667,
          -1.256349219872824,
          -18.048041666696648,
          -2.93311780867856,
          6.981763968734761,
          7.530680692216585,
          -3.699709157541605,
          -22.952028853647164,
          1.6228449248575956,
          9.760988272706683,
          1.0993054753225309,
          5.615456650033451,
          -11.123184373897033,
          -20.202894024616043,
          4.319302258627388,
          -4.3471369860498825,
          -8.802275065099636,
          -7.809556871018394,
          1.1859242511250443
         ]
        },
        {
         "name": "y=0",
         "type": "scatter",
         "x": [
          37,
          31,
          61,
          55,
          44,
          41,
          53,
          44,
          53,
          34,
          20,
          35,
          37,
          50,
          18,
          21,
          46,
          52,
          45,
          45,
          32,
          66,
          45,
          33,
          38,
          27,
          23,
          25,
          40,
          34,
          43,
          47,
          34,
          27,
          44,
          43,
          38,
          54,
          44,
          49,
          43,
          48,
          54,
          37,
          54,
          69,
          29,
          17,
          54,
          35,
          37,
          50,
          35,
          40,
          61,
          47,
          34,
          37,
          45,
          41,
          60,
          36,
          29,
          54,
          25,
          52,
          31,
          33,
          42,
          34,
          54,
          36,
          30,
          22
         ],
         "y": [
          0,
          0,
          0,
          0,
          0,
          0,
          0,
          0,
          0,
          0,
          0,
          0,
          0,
          0,
          0,
          0,
          0,
          0,
          0,
          0,
          0,
          0,
          0,
          0,
          0,
          0,
          0,
          0,
          0,
          0,
          0,
          0,
          0,
          0,
          0,
          0,
          0,
          0,
          0,
          0,
          0,
          0,
          0,
          0,
          0,
          0,
          0,
          0,
          0,
          0,
          0,
          0,
          0,
          0,
          0,
          0,
          0,
          0,
          0,
          0,
          0,
          0,
          0,
          0,
          0,
          0,
          0,
          0,
          0,
          0,
          0,
          0,
          0,
          0
         ]
        }
       ],
       "layout": {
        "template": {
         "data": {
          "bar": [
           {
            "error_x": {
             "color": "#2a3f5f"
            },
            "error_y": {
             "color": "#2a3f5f"
            },
            "marker": {
             "line": {
              "color": "#E5ECF6",
              "width": 0.5
             }
            },
            "type": "bar"
           }
          ],
          "barpolar": [
           {
            "marker": {
             "line": {
              "color": "#E5ECF6",
              "width": 0.5
             }
            },
            "type": "barpolar"
           }
          ],
          "carpet": [
           {
            "aaxis": {
             "endlinecolor": "#2a3f5f",
             "gridcolor": "white",
             "linecolor": "white",
             "minorgridcolor": "white",
             "startlinecolor": "#2a3f5f"
            },
            "baxis": {
             "endlinecolor": "#2a3f5f",
             "gridcolor": "white",
             "linecolor": "white",
             "minorgridcolor": "white",
             "startlinecolor": "#2a3f5f"
            },
            "type": "carpet"
           }
          ],
          "choropleth": [
           {
            "colorbar": {
             "outlinewidth": 0,
             "ticks": ""
            },
            "type": "choropleth"
           }
          ],
          "contour": [
           {
            "colorbar": {
             "outlinewidth": 0,
             "ticks": ""
            },
            "colorscale": [
             [
              0,
              "#0d0887"
             ],
             [
              0.1111111111111111,
              "#46039f"
             ],
             [
              0.2222222222222222,
              "#7201a8"
             ],
             [
              0.3333333333333333,
              "#9c179e"
             ],
             [
              0.4444444444444444,
              "#bd3786"
             ],
             [
              0.5555555555555556,
              "#d8576b"
             ],
             [
              0.6666666666666666,
              "#ed7953"
             ],
             [
              0.7777777777777778,
              "#fb9f3a"
             ],
             [
              0.8888888888888888,
              "#fdca26"
             ],
             [
              1,
              "#f0f921"
             ]
            ],
            "type": "contour"
           }
          ],
          "contourcarpet": [
           {
            "colorbar": {
             "outlinewidth": 0,
             "ticks": ""
            },
            "type": "contourcarpet"
           }
          ],
          "heatmap": [
           {
            "colorbar": {
             "outlinewidth": 0,
             "ticks": ""
            },
            "colorscale": [
             [
              0,
              "#0d0887"
             ],
             [
              0.1111111111111111,
              "#46039f"
             ],
             [
              0.2222222222222222,
              "#7201a8"
             ],
             [
              0.3333333333333333,
              "#9c179e"
             ],
             [
              0.4444444444444444,
              "#bd3786"
             ],
             [
              0.5555555555555556,
              "#d8576b"
             ],
             [
              0.6666666666666666,
              "#ed7953"
             ],
             [
              0.7777777777777778,
              "#fb9f3a"
             ],
             [
              0.8888888888888888,
              "#fdca26"
             ],
             [
              1,
              "#f0f921"
             ]
            ],
            "type": "heatmap"
           }
          ],
          "heatmapgl": [
           {
            "colorbar": {
             "outlinewidth": 0,
             "ticks": ""
            },
            "colorscale": [
             [
              0,
              "#0d0887"
             ],
             [
              0.1111111111111111,
              "#46039f"
             ],
             [
              0.2222222222222222,
              "#7201a8"
             ],
             [
              0.3333333333333333,
              "#9c179e"
             ],
             [
              0.4444444444444444,
              "#bd3786"
             ],
             [
              0.5555555555555556,
              "#d8576b"
             ],
             [
              0.6666666666666666,
              "#ed7953"
             ],
             [
              0.7777777777777778,
              "#fb9f3a"
             ],
             [
              0.8888888888888888,
              "#fdca26"
             ],
             [
              1,
              "#f0f921"
             ]
            ],
            "type": "heatmapgl"
           }
          ],
          "histogram": [
           {
            "marker": {
             "colorbar": {
              "outlinewidth": 0,
              "ticks": ""
             }
            },
            "type": "histogram"
           }
          ],
          "histogram2d": [
           {
            "colorbar": {
             "outlinewidth": 0,
             "ticks": ""
            },
            "colorscale": [
             [
              0,
              "#0d0887"
             ],
             [
              0.1111111111111111,
              "#46039f"
             ],
             [
              0.2222222222222222,
              "#7201a8"
             ],
             [
              0.3333333333333333,
              "#9c179e"
             ],
             [
              0.4444444444444444,
              "#bd3786"
             ],
             [
              0.5555555555555556,
              "#d8576b"
             ],
             [
              0.6666666666666666,
              "#ed7953"
             ],
             [
              0.7777777777777778,
              "#fb9f3a"
             ],
             [
              0.8888888888888888,
              "#fdca26"
             ],
             [
              1,
              "#f0f921"
             ]
            ],
            "type": "histogram2d"
           }
          ],
          "histogram2dcontour": [
           {
            "colorbar": {
             "outlinewidth": 0,
             "ticks": ""
            },
            "colorscale": [
             [
              0,
              "#0d0887"
             ],
             [
              0.1111111111111111,
              "#46039f"
             ],
             [
              0.2222222222222222,
              "#7201a8"
             ],
             [
              0.3333333333333333,
              "#9c179e"
             ],
             [
              0.4444444444444444,
              "#bd3786"
             ],
             [
              0.5555555555555556,
              "#d8576b"
             ],
             [
              0.6666666666666666,
              "#ed7953"
             ],
             [
              0.7777777777777778,
              "#fb9f3a"
             ],
             [
              0.8888888888888888,
              "#fdca26"
             ],
             [
              1,
              "#f0f921"
             ]
            ],
            "type": "histogram2dcontour"
           }
          ],
          "mesh3d": [
           {
            "colorbar": {
             "outlinewidth": 0,
             "ticks": ""
            },
            "type": "mesh3d"
           }
          ],
          "parcoords": [
           {
            "line": {
             "colorbar": {
              "outlinewidth": 0,
              "ticks": ""
             }
            },
            "type": "parcoords"
           }
          ],
          "pie": [
           {
            "automargin": true,
            "type": "pie"
           }
          ],
          "scatter": [
           {
            "marker": {
             "colorbar": {
              "outlinewidth": 0,
              "ticks": ""
             }
            },
            "type": "scatter"
           }
          ],
          "scatter3d": [
           {
            "line": {
             "colorbar": {
              "outlinewidth": 0,
              "ticks": ""
             }
            },
            "marker": {
             "colorbar": {
              "outlinewidth": 0,
              "ticks": ""
             }
            },
            "type": "scatter3d"
           }
          ],
          "scattercarpet": [
           {
            "marker": {
             "colorbar": {
              "outlinewidth": 0,
              "ticks": ""
             }
            },
            "type": "scattercarpet"
           }
          ],
          "scattergeo": [
           {
            "marker": {
             "colorbar": {
              "outlinewidth": 0,
              "ticks": ""
             }
            },
            "type": "scattergeo"
           }
          ],
          "scattergl": [
           {
            "marker": {
             "colorbar": {
              "outlinewidth": 0,
              "ticks": ""
             }
            },
            "type": "scattergl"
           }
          ],
          "scattermapbox": [
           {
            "marker": {
             "colorbar": {
              "outlinewidth": 0,
              "ticks": ""
             }
            },
            "type": "scattermapbox"
           }
          ],
          "scatterpolar": [
           {
            "marker": {
             "colorbar": {
              "outlinewidth": 0,
              "ticks": ""
             }
            },
            "type": "scatterpolar"
           }
          ],
          "scatterpolargl": [
           {
            "marker": {
             "colorbar": {
              "outlinewidth": 0,
              "ticks": ""
             }
            },
            "type": "scatterpolargl"
           }
          ],
          "scatterternary": [
           {
            "marker": {
             "colorbar": {
              "outlinewidth": 0,
              "ticks": ""
             }
            },
            "type": "scatterternary"
           }
          ],
          "surface": [
           {
            "colorbar": {
             "outlinewidth": 0,
             "ticks": ""
            },
            "colorscale": [
             [
              0,
              "#0d0887"
             ],
             [
              0.1111111111111111,
              "#46039f"
             ],
             [
              0.2222222222222222,
              "#7201a8"
             ],
             [
              0.3333333333333333,
              "#9c179e"
             ],
             [
              0.4444444444444444,
              "#bd3786"
             ],
             [
              0.5555555555555556,
              "#d8576b"
             ],
             [
              0.6666666666666666,
              "#ed7953"
             ],
             [
              0.7777777777777778,
              "#fb9f3a"
             ],
             [
              0.8888888888888888,
              "#fdca26"
             ],
             [
              1,
              "#f0f921"
             ]
            ],
            "type": "surface"
           }
          ],
          "table": [
           {
            "cells": {
             "fill": {
              "color": "#EBF0F8"
             },
             "line": {
              "color": "white"
             }
            },
            "header": {
             "fill": {
              "color": "#C8D4E3"
             },
             "line": {
              "color": "white"
             }
            },
            "type": "table"
           }
          ]
         },
         "layout": {
          "annotationdefaults": {
           "arrowcolor": "#2a3f5f",
           "arrowhead": 0,
           "arrowwidth": 1
          },
          "autotypenumbers": "strict",
          "coloraxis": {
           "colorbar": {
            "outlinewidth": 0,
            "ticks": ""
           }
          },
          "colorscale": {
           "diverging": [
            [
             0,
             "#8e0152"
            ],
            [
             0.1,
             "#c51b7d"
            ],
            [
             0.2,
             "#de77ae"
            ],
            [
             0.3,
             "#f1b6da"
            ],
            [
             0.4,
             "#fde0ef"
            ],
            [
             0.5,
             "#f7f7f7"
            ],
            [
             0.6,
             "#e6f5d0"
            ],
            [
             0.7,
             "#b8e186"
            ],
            [
             0.8,
             "#7fbc41"
            ],
            [
             0.9,
             "#4d9221"
            ],
            [
             1,
             "#276419"
            ]
           ],
           "sequential": [
            [
             0,
             "#0d0887"
            ],
            [
             0.1111111111111111,
             "#46039f"
            ],
            [
             0.2222222222222222,
             "#7201a8"
            ],
            [
             0.3333333333333333,
             "#9c179e"
            ],
            [
             0.4444444444444444,
             "#bd3786"
            ],
            [
             0.5555555555555556,
             "#d8576b"
            ],
            [
             0.6666666666666666,
             "#ed7953"
            ],
            [
             0.7777777777777778,
             "#fb9f3a"
            ],
            [
             0.8888888888888888,
             "#fdca26"
            ],
            [
             1,
             "#f0f921"
            ]
           ],
           "sequentialminus": [
            [
             0,
             "#0d0887"
            ],
            [
             0.1111111111111111,
             "#46039f"
            ],
            [
             0.2222222222222222,
             "#7201a8"
            ],
            [
             0.3333333333333333,
             "#9c179e"
            ],
            [
             0.4444444444444444,
             "#bd3786"
            ],
            [
             0.5555555555555556,
             "#d8576b"
            ],
            [
             0.6666666666666666,
             "#ed7953"
            ],
            [
             0.7777777777777778,
             "#fb9f3a"
            ],
            [
             0.8888888888888888,
             "#fdca26"
            ],
            [
             1,
             "#f0f921"
            ]
           ]
          },
          "colorway": [
           "#636efa",
           "#EF553B",
           "#00cc96",
           "#ab63fa",
           "#FFA15A",
           "#19d3f3",
           "#FF6692",
           "#B6E880",
           "#FF97FF",
           "#FECB52"
          ],
          "font": {
           "color": "#2a3f5f"
          },
          "geo": {
           "bgcolor": "white",
           "lakecolor": "white",
           "landcolor": "#E5ECF6",
           "showlakes": true,
           "showland": true,
           "subunitcolor": "white"
          },
          "hoverlabel": {
           "align": "left"
          },
          "hovermode": "closest",
          "mapbox": {
           "style": "light"
          },
          "paper_bgcolor": "white",
          "plot_bgcolor": "#E5ECF6",
          "polar": {
           "angularaxis": {
            "gridcolor": "white",
            "linecolor": "white",
            "ticks": ""
           },
           "bgcolor": "#E5ECF6",
           "radialaxis": {
            "gridcolor": "white",
            "linecolor": "white",
            "ticks": ""
           }
          },
          "scene": {
           "xaxis": {
            "backgroundcolor": "#E5ECF6",
            "gridcolor": "white",
            "gridwidth": 2,
            "linecolor": "white",
            "showbackground": true,
            "ticks": "",
            "zerolinecolor": "white"
           },
           "yaxis": {
            "backgroundcolor": "#E5ECF6",
            "gridcolor": "white",
            "gridwidth": 2,
            "linecolor": "white",
            "showbackground": true,
            "ticks": "",
            "zerolinecolor": "white"
           },
           "zaxis": {
            "backgroundcolor": "#E5ECF6",
            "gridcolor": "white",
            "gridwidth": 2,
            "linecolor": "white",
            "showbackground": true,
            "ticks": "",
            "zerolinecolor": "white"
           }
          },
          "shapedefaults": {
           "line": {
            "color": "#2a3f5f"
           }
          },
          "ternary": {
           "aaxis": {
            "gridcolor": "white",
            "linecolor": "white",
            "ticks": ""
           },
           "baxis": {
            "gridcolor": "white",
            "linecolor": "white",
            "ticks": ""
           },
           "bgcolor": "#E5ECF6",
           "caxis": {
            "gridcolor": "white",
            "linecolor": "white",
            "ticks": ""
           }
          },
          "title": {
           "x": 0.05
          },
          "xaxis": {
           "automargin": true,
           "gridcolor": "white",
           "linecolor": "white",
           "ticks": "",
           "title": {
            "standoff": 15
           },
           "zerolinecolor": "white",
           "zerolinewidth": 2
          },
          "yaxis": {
           "automargin": true,
           "gridcolor": "white",
           "linecolor": "white",
           "ticks": "",
           "title": {
            "standoff": 15
           },
           "zerolinecolor": "white",
           "zerolinewidth": 2
          }
         }
        },
        "title": {
         "text": "Euro Model residual plot"
        },
        "xaxis": {
         "title": {
          "text": "Pass_px"
         }
        },
        "yaxis": {
         "title": {
          "text": "Residuals"
         }
        }
       }
      }
     },
     "metadata": {}
    }
   ],
   "source": [
    "line_y = [0] * len(TestEU['ski_pass_price'])\n",
    "plot_scatter_and_line(TestEU['ski_pass_price'], euro_mod.resid, line_y, 'Model residuals', 'y=0','Euro Model residual plot', 'Pass_px', 'Residuals')\n"
   ]
  },
  {
   "cell_type": "markdown",
   "metadata": {
    "slideshow": {
     "slide_type": "subslide"
    }
   },
   "source": [
    "Residuals are a lot better, looking independent although homoescadasicity not the best, probably because of the small training set."
   ]
  },
  {
   "cell_type": "code",
   "execution_count": 36,
   "metadata": {
    "slideshow": {
     "slide_type": "fragment"
    }
   },
   "outputs": [
    {
     "output_type": "stream",
     "name": "stdout",
     "text": [
      "RMSE:  9.19 \n\nMean ski pass price:  40.72 \n\nComparison:  22.56 %\n\n"
     ]
    }
   ],
   "source": [
    "RMSE = np.sqrt(mean_squared_error(TestEU['predictions'],TestEU['ski_pass_price']))\n",
    "mean_pass = TestEU['ski_pass_price'].mean()\n",
    "print_RMSE(RMSE, mean_pass)"
   ]
  },
  {
   "cell_type": "markdown",
   "metadata": {
    "slideshow": {
     "slide_type": "fragment"
    }
   },
   "source": [
    "RMSE is a lot better than the previous model, we've gone down to about 20% of the mean price. Let's compare our two models on the validation data sets."
   ]
  },
  {
   "cell_type": "code",
   "execution_count": 37,
   "metadata": {
    "slideshow": {
     "slide_type": "subslide"
    }
   },
   "outputs": [],
   "source": [
    "Validate['predictions'] = model.predict(Validate)\n",
    "ValidateEU['predictions'] = model.predict(ValidateEU)\n",
    "\n",
    "RMSE_all = np.sqrt(mean_squared_error(Validate['predictions'], Validate['ski_pass_price']))\n",
    "mean_passAll = Validate['ski_pass_price'].mean()\n",
    "RMSE_EU = np.sqrt(mean_squared_error(ValidateEU['predictions'], ValidateEU['ski_pass_price']))\n",
    "mean_passEU = ValidateEU['ski_pass_price'].mean()"
   ]
  },
  {
   "cell_type": "code",
   "execution_count": 38,
   "metadata": {
    "slideshow": {
     "slide_type": "fragment"
    }
   },
   "outputs": [
    {
     "output_type": "stream",
     "name": "stdout",
     "text": [
      "RMSE:  12.75 \n\nMean ski pass price:  49.03 \n\nComparison:  22.56 %\n\n"
     ]
    }
   ],
   "source": [
    "print_RMSE(RMSE_all, mean_passAll)"
   ]
  },
  {
   "cell_type": "code",
   "execution_count": 39,
   "metadata": {
    "slideshow": {
     "slide_type": "fragment"
    }
   },
   "outputs": [
    {
     "output_type": "stream",
     "name": "stdout",
     "text": [
      "RMSE:  8.94 \n\nMean ski pass price:  41.53 \n\nComparison:  22.56 %\n\n"
     ]
    }
   ],
   "source": [
    "print_RMSE(RMSE_EU, mean_passEU)"
   ]
  },
  {
   "cell_type": "markdown",
   "metadata": {
    "slideshow": {
     "slide_type": "subslide"
    }
   },
   "source": [
    "The general model doesn't seem to generalise very well, RMSE increases for the validation set. For the 'eurocentric' model RMSE remains about the same so seems to be the better of the two."
   ]
  },
  {
   "cell_type": "markdown",
   "metadata": {
    "slideshow": {
     "slide_type": "fragment"
    }
   },
   "source": [
    "All in all we don't seem to have enough data to make a model that produces decent predictions. However sometimes good enough is better than not at all. "
   ]
  }
 ],
 "metadata": {
  "celltoolbar": "Slideshow",
  "kernelspec": {
   "name": "pythonjvsc74a57bd06e870ad72a6121ef96de1ce30ed5f62617f1cdf611639ec98fd440c464b589bb",
   "display_name": "Python"
  },
  "language_info": {
   "codemirror_mode": {
    "name": "ipython",
    "version": 3
   },
   "file_extension": ".py",
   "mimetype": "text/x-python",
   "name": "python",
   "nbconvert_exporter": "python",
   "pygments_lexer": "ipython3",
   "version": ""
  },
  "metadata": {
   "interpreter": {
    "hash": "6e870ad72a6121ef96de1ce30ed5f62617f1cdf611639ec98fd440c464b589bb"
   }
  }
 },
 "nbformat": 4,
 "nbformat_minor": 2
}