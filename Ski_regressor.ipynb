{
 "cells": [
  {
   "cell_type": "markdown",
   "metadata": {
    "slideshow": {
     "slide_type": "slide"
    }
   },
   "source": [
    "# Ski regressor\n",
    "## Prices may vary"
   ]
  },
  {
   "cell_type": "code",
   "execution_count": 45,
   "metadata": {
    "slideshow": {
     "slide_type": "skip"
    }
   },
   "outputs": [],
   "source": [
    "import pandas as pd\n",
    "import numpy as np\n",
    "import plotly.express as px\n",
    "from plotly.subplots import make_subplots\n",
    "import plotly.graph_objects as go\n",
    "from sklearn.model_selection import train_test_split\n",
    "import statsmodels.formula.api as smf\n",
    "from sklearn.metrics import mean_squared_error\n",
    "\n",
    "df = pd.read_csv('Shiny_data1.csv', index_col=0)\n",
    "df = df.drop(df[df.ski_pass_price == 0].index)"
   ]
  },
  {
   "cell_type": "markdown",
   "metadata": {
    "slideshow": {
     "slide_type": "slide"
    }
   },
   "source": [
    "## Skiing is expensive.\n",
    "### It only really starts to sink in when you have to pay for it yourself. \n",
    "### I've scraped a bit of ski resort data from ski-resort-stats.com to help me make more informed decisions. Let's see if we can build a model to predict the ski pass price and make better decisions about where to plan our next holiday."
   ]
  },
  {
   "cell_type": "code",
   "execution_count": 2,
   "metadata": {
    "slideshow": {
     "slide_type": "slide"
    }
   },
   "outputs": [
    {
     "name": "stdout",
     "output_type": "stream",
     "text": [
      "<class 'pandas.core.frame.DataFrame'>\n",
      "Int64Index: 501 entries, 0 to 514\n",
      "Data columns (total 23 columns):\n",
      " #   Column               Non-Null Count  Dtype  \n",
      "---  ------               --------------  -----  \n",
      " 0   child_friendly       501 non-null    bool   \n",
      " 1   continent            501 non-null    object \n",
      " 2   country              501 non-null    object \n",
      " 3   max_altitude         501 non-null    float64\n",
      " 4   min_altitude         501 non-null    float64\n",
      " 5   resort_name          501 non-null    object \n",
      " 6   season               501 non-null    object \n",
      " 7   ski_pass_price       501 non-null    int64  \n",
      " 8   url                  501 non-null    object \n",
      " 9   beginner_slopes      138 non-null    float64\n",
      " 10  intermediate_slopes  137 non-null    float64\n",
      " 11  difficult_slopes     136 non-null    float64\n",
      " 12  t-bar_lifts          138 non-null    float64\n",
      " 13  chairlifts           138 non-null    float64\n",
      " 14  gondolas             136 non-null    float64\n",
      " 15  snowpark             142 non-null    object \n",
      " 16  night_skiing         142 non-null    object \n",
      " 17  snow_cannons         77 non-null     float64\n",
      " 18  country_iso          501 non-null    object \n",
      " 19  altitude_diff        501 non-null    float64\n",
      " 20  total_slopes         501 non-null    float64\n",
      " 21  season_start         471 non-null    object \n",
      " 22  season_end           471 non-null    object \n",
      "dtypes: bool(1), float64(11), int64(1), object(10)\n",
      "memory usage: 70.9+ KB\n"
     ]
    },
    {
     "data": {
      "text/plain": [
       "None"
      ]
     },
     "metadata": {},
     "output_type": "display_data"
    }
   ],
   "source": [
    "display(df.info())\n"
   ]
  },
  {
   "cell_type": "markdown",
   "metadata": {
    "slideshow": {
     "slide_type": "subslide"
    }
   },
   "source": [
    "A lot of collumns of different lengths! \n",
    "We'll stick with the full length collumns as our data is pretty sparse as it is."
   ]
  },
  {
   "cell_type": "code",
   "execution_count": 53,
   "metadata": {
    "slideshow": {
     "slide_type": "subslide"
    }
   },
   "outputs": [
    {
     "name": "stdout",
     "output_type": "stream",
     "text": [
      "<class 'pandas.core.frame.DataFrame'>\n",
      "Int64Index: 501 entries, 0 to 514\n",
      "Data columns (total 9 columns):\n",
      " #   Column          Non-Null Count  Dtype  \n",
      "---  ------          --------------  -----  \n",
      " 0   child_friendly  501 non-null    bool   \n",
      " 1   continent       501 non-null    object \n",
      " 2   max_altitude    501 non-null    float64\n",
      " 3   min_altitude    501 non-null    float64\n",
      " 4   season          501 non-null    object \n",
      " 5   ski_pass_price  501 non-null    int64  \n",
      " 6   country_iso     501 non-null    object \n",
      " 7   altitude_diff   501 non-null    float64\n",
      " 8   total_slopes    501 non-null    float64\n",
      "dtypes: bool(1), float64(4), int64(1), object(3)\n",
      "memory usage: 29.8+ KB\n",
      "None\n"
     ]
    }
   ],
   "source": [
    "df.drop(['country'], axis = 1, inplace=True)\n",
    "df.drop(['resort_name'], axis = 1, inplace=True)\n",
    "df.drop(df.iloc[:, 6:16], axis = 1, inplace=True)\n",
    "df.drop(df.iloc[:,9:11], axis = 1, inplace=True)\n",
    "print(df.info())\n"
   ]
  },
  {
   "cell_type": "markdown",
   "metadata": {
    "slideshow": {
     "slide_type": "subslide"
    }
   },
   "source": [
    "Much better, I suspect we'll get some colinearity problems from altitude-diff and min,max altitude but we'll start with these and see how the model performs.\n",
    "Let's do some exploratory data analysis."
   ]
  },
  {
   "cell_type": "code",
   "execution_count": 71,
   "metadata": {
    "slideshow": {
     "slide_type": "slide"
    }
   },
   "outputs": [
    {
     "data": {
      "application/vnd.plotly.v1+json": {
       "config": {
        "plotlyServerURL": "https://plot.ly"
       },
       "data": [
        {
         "coloraxis": "coloraxis",
         "hovertemplate": "x: %{x}<br>y: %{y}<br>color: %{z}<extra></extra>",
         "name": "0",
         "type": "heatmap",
         "x": [
          "child_friendly",
          "max_altitude",
          "min_altitude",
          "ski_pass_price",
          "altitude_diff",
          "total_slopes"
         ],
         "xaxis": "x",
         "y": [
          "child_friendly",
          "max_altitude",
          "min_altitude",
          "ski_pass_price",
          "altitude_diff",
          "total_slopes"
         ],
         "yaxis": "y",
         "z": [
          [
           1,
           0.0457684034546563,
           -0.018145689667892102,
           0.015167451650202604,
           0.09548760082206141,
           0.028084168675069958
          ],
          [
           0.0457684034546563,
           1,
           0.7847102786393056,
           0.4206433220842759,
           0.6675959528948969,
           0.305704913391376
          ],
          [
           -0.018145689667892102,
           0.7847102786393056,
           1,
           0.4027233615181497,
           0.062366885047251,
           0.05444211559533154
          ],
          [
           0.015167451650202604,
           0.4206433220842759,
           0.4027233615181497,
           1,
           0.19357082597780864,
           0.21028940060115844
          ],
          [
           0.09548760082206141,
           0.6675959528948969,
           0.062366885047251,
           0.19357082597780864,
           1,
           0.42683055731897057
          ],
          [
           0.028084168675069958,
           0.305704913391376,
           0.05444211559533154,
           0.21028940060115844,
           0.42683055731897057,
           1
          ]
         ]
        }
       ],
       "layout": {
        "coloraxis": {
         "colorscale": [
          [
           0,
           "rgb(75, 41, 145)"
          ],
          [
           0.16666666666666666,
           "rgb(135, 44, 162)"
          ],
          [
           0.3333333333333333,
           "rgb(192, 54, 157)"
          ],
          [
           0.5,
           "rgb(234, 79, 136)"
          ],
          [
           0.6666666666666666,
           "rgb(250, 120, 118)"
          ],
          [
           0.8333333333333334,
           "rgb(246, 169, 122)"
          ],
          [
           1,
           "rgb(237, 217, 163)"
          ]
         ]
        },
        "template": {
         "data": {
          "bar": [
           {
            "error_x": {
             "color": "#2a3f5f"
            },
            "error_y": {
             "color": "#2a3f5f"
            },
            "marker": {
             "line": {
              "color": "#E5ECF6",
              "width": 0.5
             }
            },
            "type": "bar"
           }
          ],
          "barpolar": [
           {
            "marker": {
             "line": {
              "color": "#E5ECF6",
              "width": 0.5
             }
            },
            "type": "barpolar"
           }
          ],
          "carpet": [
           {
            "aaxis": {
             "endlinecolor": "#2a3f5f",
             "gridcolor": "white",
             "linecolor": "white",
             "minorgridcolor": "white",
             "startlinecolor": "#2a3f5f"
            },
            "baxis": {
             "endlinecolor": "#2a3f5f",
             "gridcolor": "white",
             "linecolor": "white",
             "minorgridcolor": "white",
             "startlinecolor": "#2a3f5f"
            },
            "type": "carpet"
           }
          ],
          "choropleth": [
           {
            "colorbar": {
             "outlinewidth": 0,
             "ticks": ""
            },
            "type": "choropleth"
           }
          ],
          "contour": [
           {
            "colorbar": {
             "outlinewidth": 0,
             "ticks": ""
            },
            "colorscale": [
             [
              0,
              "#0d0887"
             ],
             [
              0.1111111111111111,
              "#46039f"
             ],
             [
              0.2222222222222222,
              "#7201a8"
             ],
             [
              0.3333333333333333,
              "#9c179e"
             ],
             [
              0.4444444444444444,
              "#bd3786"
             ],
             [
              0.5555555555555556,
              "#d8576b"
             ],
             [
              0.6666666666666666,
              "#ed7953"
             ],
             [
              0.7777777777777778,
              "#fb9f3a"
             ],
             [
              0.8888888888888888,
              "#fdca26"
             ],
             [
              1,
              "#f0f921"
             ]
            ],
            "type": "contour"
           }
          ],
          "contourcarpet": [
           {
            "colorbar": {
             "outlinewidth": 0,
             "ticks": ""
            },
            "type": "contourcarpet"
           }
          ],
          "heatmap": [
           {
            "colorbar": {
             "outlinewidth": 0,
             "ticks": ""
            },
            "colorscale": [
             [
              0,
              "#0d0887"
             ],
             [
              0.1111111111111111,
              "#46039f"
             ],
             [
              0.2222222222222222,
              "#7201a8"
             ],
             [
              0.3333333333333333,
              "#9c179e"
             ],
             [
              0.4444444444444444,
              "#bd3786"
             ],
             [
              0.5555555555555556,
              "#d8576b"
             ],
             [
              0.6666666666666666,
              "#ed7953"
             ],
             [
              0.7777777777777778,
              "#fb9f3a"
             ],
             [
              0.8888888888888888,
              "#fdca26"
             ],
             [
              1,
              "#f0f921"
             ]
            ],
            "type": "heatmap"
           }
          ],
          "heatmapgl": [
           {
            "colorbar": {
             "outlinewidth": 0,
             "ticks": ""
            },
            "colorscale": [
             [
              0,
              "#0d0887"
             ],
             [
              0.1111111111111111,
              "#46039f"
             ],
             [
              0.2222222222222222,
              "#7201a8"
             ],
             [
              0.3333333333333333,
              "#9c179e"
             ],
             [
              0.4444444444444444,
              "#bd3786"
             ],
             [
              0.5555555555555556,
              "#d8576b"
             ],
             [
              0.6666666666666666,
              "#ed7953"
             ],
             [
              0.7777777777777778,
              "#fb9f3a"
             ],
             [
              0.8888888888888888,
              "#fdca26"
             ],
             [
              1,
              "#f0f921"
             ]
            ],
            "type": "heatmapgl"
           }
          ],
          "histogram": [
           {
            "marker": {
             "colorbar": {
              "outlinewidth": 0,
              "ticks": ""
             }
            },
            "type": "histogram"
           }
          ],
          "histogram2d": [
           {
            "colorbar": {
             "outlinewidth": 0,
             "ticks": ""
            },
            "colorscale": [
             [
              0,
              "#0d0887"
             ],
             [
              0.1111111111111111,
              "#46039f"
             ],
             [
              0.2222222222222222,
              "#7201a8"
             ],
             [
              0.3333333333333333,
              "#9c179e"
             ],
             [
              0.4444444444444444,
              "#bd3786"
             ],
             [
              0.5555555555555556,
              "#d8576b"
             ],
             [
              0.6666666666666666,
              "#ed7953"
             ],
             [
              0.7777777777777778,
              "#fb9f3a"
             ],
             [
              0.8888888888888888,
              "#fdca26"
             ],
             [
              1,
              "#f0f921"
             ]
            ],
            "type": "histogram2d"
           }
          ],
          "histogram2dcontour": [
           {
            "colorbar": {
             "outlinewidth": 0,
             "ticks": ""
            },
            "colorscale": [
             [
              0,
              "#0d0887"
             ],
             [
              0.1111111111111111,
              "#46039f"
             ],
             [
              0.2222222222222222,
              "#7201a8"
             ],
             [
              0.3333333333333333,
              "#9c179e"
             ],
             [
              0.4444444444444444,
              "#bd3786"
             ],
             [
              0.5555555555555556,
              "#d8576b"
             ],
             [
              0.6666666666666666,
              "#ed7953"
             ],
             [
              0.7777777777777778,
              "#fb9f3a"
             ],
             [
              0.8888888888888888,
              "#fdca26"
             ],
             [
              1,
              "#f0f921"
             ]
            ],
            "type": "histogram2dcontour"
           }
          ],
          "mesh3d": [
           {
            "colorbar": {
             "outlinewidth": 0,
             "ticks": ""
            },
            "type": "mesh3d"
           }
          ],
          "parcoords": [
           {
            "line": {
             "colorbar": {
              "outlinewidth": 0,
              "ticks": ""
             }
            },
            "type": "parcoords"
           }
          ],
          "pie": [
           {
            "automargin": true,
            "type": "pie"
           }
          ],
          "scatter": [
           {
            "marker": {
             "colorbar": {
              "outlinewidth": 0,
              "ticks": ""
             }
            },
            "type": "scatter"
           }
          ],
          "scatter3d": [
           {
            "line": {
             "colorbar": {
              "outlinewidth": 0,
              "ticks": ""
             }
            },
            "marker": {
             "colorbar": {
              "outlinewidth": 0,
              "ticks": ""
             }
            },
            "type": "scatter3d"
           }
          ],
          "scattercarpet": [
           {
            "marker": {
             "colorbar": {
              "outlinewidth": 0,
              "ticks": ""
             }
            },
            "type": "scattercarpet"
           }
          ],
          "scattergeo": [
           {
            "marker": {
             "colorbar": {
              "outlinewidth": 0,
              "ticks": ""
             }
            },
            "type": "scattergeo"
           }
          ],
          "scattergl": [
           {
            "marker": {
             "colorbar": {
              "outlinewidth": 0,
              "ticks": ""
             }
            },
            "type": "scattergl"
           }
          ],
          "scattermapbox": [
           {
            "marker": {
             "colorbar": {
              "outlinewidth": 0,
              "ticks": ""
             }
            },
            "type": "scattermapbox"
           }
          ],
          "scatterpolar": [
           {
            "marker": {
             "colorbar": {
              "outlinewidth": 0,
              "ticks": ""
             }
            },
            "type": "scatterpolar"
           }
          ],
          "scatterpolargl": [
           {
            "marker": {
             "colorbar": {
              "outlinewidth": 0,
              "ticks": ""
             }
            },
            "type": "scatterpolargl"
           }
          ],
          "scatterternary": [
           {
            "marker": {
             "colorbar": {
              "outlinewidth": 0,
              "ticks": ""
             }
            },
            "type": "scatterternary"
           }
          ],
          "surface": [
           {
            "colorbar": {
             "outlinewidth": 0,
             "ticks": ""
            },
            "colorscale": [
             [
              0,
              "#0d0887"
             ],
             [
              0.1111111111111111,
              "#46039f"
             ],
             [
              0.2222222222222222,
              "#7201a8"
             ],
             [
              0.3333333333333333,
              "#9c179e"
             ],
             [
              0.4444444444444444,
              "#bd3786"
             ],
             [
              0.5555555555555556,
              "#d8576b"
             ],
             [
              0.6666666666666666,
              "#ed7953"
             ],
             [
              0.7777777777777778,
              "#fb9f3a"
             ],
             [
              0.8888888888888888,
              "#fdca26"
             ],
             [
              1,
              "#f0f921"
             ]
            ],
            "type": "surface"
           }
          ],
          "table": [
           {
            "cells": {
             "fill": {
              "color": "#EBF0F8"
             },
             "line": {
              "color": "white"
             }
            },
            "header": {
             "fill": {
              "color": "#C8D4E3"
             },
             "line": {
              "color": "white"
             }
            },
            "type": "table"
           }
          ]
         },
         "layout": {
          "annotationdefaults": {
           "arrowcolor": "#2a3f5f",
           "arrowhead": 0,
           "arrowwidth": 1
          },
          "autotypenumbers": "strict",
          "coloraxis": {
           "colorbar": {
            "outlinewidth": 0,
            "ticks": ""
           }
          },
          "colorscale": {
           "diverging": [
            [
             0,
             "#8e0152"
            ],
            [
             0.1,
             "#c51b7d"
            ],
            [
             0.2,
             "#de77ae"
            ],
            [
             0.3,
             "#f1b6da"
            ],
            [
             0.4,
             "#fde0ef"
            ],
            [
             0.5,
             "#f7f7f7"
            ],
            [
             0.6,
             "#e6f5d0"
            ],
            [
             0.7,
             "#b8e186"
            ],
            [
             0.8,
             "#7fbc41"
            ],
            [
             0.9,
             "#4d9221"
            ],
            [
             1,
             "#276419"
            ]
           ],
           "sequential": [
            [
             0,
             "#0d0887"
            ],
            [
             0.1111111111111111,
             "#46039f"
            ],
            [
             0.2222222222222222,
             "#7201a8"
            ],
            [
             0.3333333333333333,
             "#9c179e"
            ],
            [
             0.4444444444444444,
             "#bd3786"
            ],
            [
             0.5555555555555556,
             "#d8576b"
            ],
            [
             0.6666666666666666,
             "#ed7953"
            ],
            [
             0.7777777777777778,
             "#fb9f3a"
            ],
            [
             0.8888888888888888,
             "#fdca26"
            ],
            [
             1,
             "#f0f921"
            ]
           ],
           "sequentialminus": [
            [
             0,
             "#0d0887"
            ],
            [
             0.1111111111111111,
             "#46039f"
            ],
            [
             0.2222222222222222,
             "#7201a8"
            ],
            [
             0.3333333333333333,
             "#9c179e"
            ],
            [
             0.4444444444444444,
             "#bd3786"
            ],
            [
             0.5555555555555556,
             "#d8576b"
            ],
            [
             0.6666666666666666,
             "#ed7953"
            ],
            [
             0.7777777777777778,
             "#fb9f3a"
            ],
            [
             0.8888888888888888,
             "#fdca26"
            ],
            [
             1,
             "#f0f921"
            ]
           ]
          },
          "colorway": [
           "#636efa",
           "#EF553B",
           "#00cc96",
           "#ab63fa",
           "#FFA15A",
           "#19d3f3",
           "#FF6692",
           "#B6E880",
           "#FF97FF",
           "#FECB52"
          ],
          "font": {
           "color": "#2a3f5f"
          },
          "geo": {
           "bgcolor": "white",
           "lakecolor": "white",
           "landcolor": "#E5ECF6",
           "showlakes": true,
           "showland": true,
           "subunitcolor": "white"
          },
          "hoverlabel": {
           "align": "left"
          },
          "hovermode": "closest",
          "mapbox": {
           "style": "light"
          },
          "paper_bgcolor": "white",
          "plot_bgcolor": "#E5ECF6",
          "polar": {
           "angularaxis": {
            "gridcolor": "white",
            "linecolor": "white",
            "ticks": ""
           },
           "bgcolor": "#E5ECF6",
           "radialaxis": {
            "gridcolor": "white",
            "linecolor": "white",
            "ticks": ""
           }
          },
          "scene": {
           "xaxis": {
            "backgroundcolor": "#E5ECF6",
            "gridcolor": "white",
            "gridwidth": 2,
            "linecolor": "white",
            "showbackground": true,
            "ticks": "",
            "zerolinecolor": "white"
           },
           "yaxis": {
            "backgroundcolor": "#E5ECF6",
            "gridcolor": "white",
            "gridwidth": 2,
            "linecolor": "white",
            "showbackground": true,
            "ticks": "",
            "zerolinecolor": "white"
           },
           "zaxis": {
            "backgroundcolor": "#E5ECF6",
            "gridcolor": "white",
            "gridwidth": 2,
            "linecolor": "white",
            "showbackground": true,
            "ticks": "",
            "zerolinecolor": "white"
           }
          },
          "shapedefaults": {
           "line": {
            "color": "#2a3f5f"
           }
          },
          "ternary": {
           "aaxis": {
            "gridcolor": "white",
            "linecolor": "white",
            "ticks": ""
           },
           "baxis": {
            "gridcolor": "white",
            "linecolor": "white",
            "ticks": ""
           },
           "bgcolor": "#E5ECF6",
           "caxis": {
            "gridcolor": "white",
            "linecolor": "white",
            "ticks": ""
           }
          },
          "title": {
           "x": 0.05
          },
          "xaxis": {
           "automargin": true,
           "gridcolor": "white",
           "linecolor": "white",
           "ticks": "",
           "title": {
            "standoff": 15
           },
           "zerolinecolor": "white",
           "zerolinewidth": 2
          },
          "yaxis": {
           "automargin": true,
           "gridcolor": "white",
           "linecolor": "white",
           "ticks": "",
           "title": {
            "standoff": 15
           },
           "zerolinecolor": "white",
           "zerolinewidth": 2
          }
         }
        },
        "title": {
         "text": "Correlation heatmap of Skidata"
        },
        "xaxis": {
         "anchor": "y",
         "constrain": "domain",
         "domain": [
          0,
          1
         ],
         "scaleanchor": "y"
        },
        "yaxis": {
         "anchor": "x",
         "autorange": "reversed",
         "constrain": "domain",
         "domain": [
          0,
          1
         ]
        }
       }
      },
      "text/html": [
       "<div>                            <div id=\"86c5425a-d348-4cea-bc45-8b6da06d5099\" class=\"plotly-graph-div\" style=\"height:525px; width:100%;\"></div>            <script type=\"text/javascript\">                require([\"plotly\"], function(Plotly) {                    window.PLOTLYENV=window.PLOTLYENV || {};                                    if (document.getElementById(\"86c5425a-d348-4cea-bc45-8b6da06d5099\")) {                    Plotly.newPlot(                        \"86c5425a-d348-4cea-bc45-8b6da06d5099\",                        [{\"coloraxis\": \"coloraxis\", \"hovertemplate\": \"x: %{x}<br>y: %{y}<br>color: %{z}<extra></extra>\", \"name\": \"0\", \"type\": \"heatmap\", \"x\": [\"child_friendly\", \"max_altitude\", \"min_altitude\", \"ski_pass_price\", \"altitude_diff\", \"total_slopes\"], \"xaxis\": \"x\", \"y\": [\"child_friendly\", \"max_altitude\", \"min_altitude\", \"ski_pass_price\", \"altitude_diff\", \"total_slopes\"], \"yaxis\": \"y\", \"z\": [[1.0, 0.0457684034546563, -0.018145689667892102, 0.015167451650202604, 0.09548760082206141, 0.028084168675069958], [0.0457684034546563, 1.0, 0.7847102786393056, 0.4206433220842759, 0.6675959528948969, 0.305704913391376], [-0.018145689667892102, 0.7847102786393056, 1.0, 0.4027233615181497, 0.062366885047251, 0.05444211559533154], [0.015167451650202604, 0.4206433220842759, 0.4027233615181497, 1.0, 0.19357082597780864, 0.21028940060115844], [0.09548760082206141, 0.6675959528948969, 0.062366885047251, 0.19357082597780864, 1.0, 0.42683055731897057], [0.028084168675069958, 0.305704913391376, 0.05444211559533154, 0.21028940060115844, 0.42683055731897057, 1.0]]}],                        {\"coloraxis\": {\"colorscale\": [[0.0, \"rgb(75, 41, 145)\"], [0.16666666666666666, \"rgb(135, 44, 162)\"], [0.3333333333333333, \"rgb(192, 54, 157)\"], [0.5, \"rgb(234, 79, 136)\"], [0.6666666666666666, \"rgb(250, 120, 118)\"], [0.8333333333333334, \"rgb(246, 169, 122)\"], [1.0, \"rgb(237, 217, 163)\"]]}, \"template\": {\"data\": {\"bar\": [{\"error_x\": {\"color\": \"#2a3f5f\"}, \"error_y\": {\"color\": \"#2a3f5f\"}, \"marker\": {\"line\": {\"color\": \"#E5ECF6\", \"width\": 0.5}}, \"type\": \"bar\"}], \"barpolar\": [{\"marker\": {\"line\": {\"color\": \"#E5ECF6\", \"width\": 0.5}}, \"type\": \"barpolar\"}], \"carpet\": [{\"aaxis\": {\"endlinecolor\": \"#2a3f5f\", \"gridcolor\": \"white\", \"linecolor\": \"white\", \"minorgridcolor\": \"white\", \"startlinecolor\": \"#2a3f5f\"}, \"baxis\": {\"endlinecolor\": \"#2a3f5f\", \"gridcolor\": \"white\", \"linecolor\": \"white\", \"minorgridcolor\": \"white\", \"startlinecolor\": \"#2a3f5f\"}, \"type\": \"carpet\"}], \"choropleth\": [{\"colorbar\": {\"outlinewidth\": 0, \"ticks\": \"\"}, \"type\": \"choropleth\"}], \"contour\": [{\"colorbar\": {\"outlinewidth\": 0, \"ticks\": \"\"}, \"colorscale\": [[0.0, \"#0d0887\"], [0.1111111111111111, \"#46039f\"], [0.2222222222222222, \"#7201a8\"], [0.3333333333333333, \"#9c179e\"], [0.4444444444444444, \"#bd3786\"], [0.5555555555555556, \"#d8576b\"], [0.6666666666666666, \"#ed7953\"], [0.7777777777777778, \"#fb9f3a\"], [0.8888888888888888, \"#fdca26\"], [1.0, \"#f0f921\"]], \"type\": \"contour\"}], \"contourcarpet\": [{\"colorbar\": {\"outlinewidth\": 0, \"ticks\": \"\"}, \"type\": \"contourcarpet\"}], \"heatmap\": [{\"colorbar\": {\"outlinewidth\": 0, \"ticks\": \"\"}, \"colorscale\": [[0.0, \"#0d0887\"], [0.1111111111111111, \"#46039f\"], [0.2222222222222222, \"#7201a8\"], [0.3333333333333333, \"#9c179e\"], [0.4444444444444444, \"#bd3786\"], [0.5555555555555556, \"#d8576b\"], [0.6666666666666666, \"#ed7953\"], [0.7777777777777778, \"#fb9f3a\"], [0.8888888888888888, \"#fdca26\"], [1.0, \"#f0f921\"]], \"type\": \"heatmap\"}], \"heatmapgl\": [{\"colorbar\": {\"outlinewidth\": 0, \"ticks\": \"\"}, \"colorscale\": [[0.0, \"#0d0887\"], [0.1111111111111111, \"#46039f\"], [0.2222222222222222, \"#7201a8\"], [0.3333333333333333, \"#9c179e\"], [0.4444444444444444, \"#bd3786\"], [0.5555555555555556, \"#d8576b\"], [0.6666666666666666, \"#ed7953\"], [0.7777777777777778, \"#fb9f3a\"], [0.8888888888888888, \"#fdca26\"], [1.0, \"#f0f921\"]], \"type\": \"heatmapgl\"}], \"histogram\": [{\"marker\": {\"colorbar\": {\"outlinewidth\": 0, \"ticks\": \"\"}}, \"type\": \"histogram\"}], \"histogram2d\": [{\"colorbar\": {\"outlinewidth\": 0, \"ticks\": \"\"}, \"colorscale\": [[0.0, \"#0d0887\"], [0.1111111111111111, \"#46039f\"], [0.2222222222222222, \"#7201a8\"], [0.3333333333333333, \"#9c179e\"], [0.4444444444444444, \"#bd3786\"], [0.5555555555555556, \"#d8576b\"], [0.6666666666666666, \"#ed7953\"], [0.7777777777777778, \"#fb9f3a\"], [0.8888888888888888, \"#fdca26\"], [1.0, \"#f0f921\"]], \"type\": \"histogram2d\"}], \"histogram2dcontour\": [{\"colorbar\": {\"outlinewidth\": 0, \"ticks\": \"\"}, \"colorscale\": [[0.0, \"#0d0887\"], [0.1111111111111111, \"#46039f\"], [0.2222222222222222, \"#7201a8\"], [0.3333333333333333, \"#9c179e\"], [0.4444444444444444, \"#bd3786\"], [0.5555555555555556, \"#d8576b\"], [0.6666666666666666, \"#ed7953\"], [0.7777777777777778, \"#fb9f3a\"], [0.8888888888888888, \"#fdca26\"], [1.0, \"#f0f921\"]], \"type\": \"histogram2dcontour\"}], \"mesh3d\": [{\"colorbar\": {\"outlinewidth\": 0, \"ticks\": \"\"}, \"type\": \"mesh3d\"}], \"parcoords\": [{\"line\": {\"colorbar\": {\"outlinewidth\": 0, \"ticks\": \"\"}}, \"type\": \"parcoords\"}], \"pie\": [{\"automargin\": true, \"type\": \"pie\"}], \"scatter\": [{\"marker\": {\"colorbar\": {\"outlinewidth\": 0, \"ticks\": \"\"}}, \"type\": \"scatter\"}], \"scatter3d\": [{\"line\": {\"colorbar\": {\"outlinewidth\": 0, \"ticks\": \"\"}}, \"marker\": {\"colorbar\": {\"outlinewidth\": 0, \"ticks\": \"\"}}, \"type\": \"scatter3d\"}], \"scattercarpet\": [{\"marker\": {\"colorbar\": {\"outlinewidth\": 0, \"ticks\": \"\"}}, \"type\": \"scattercarpet\"}], \"scattergeo\": [{\"marker\": {\"colorbar\": {\"outlinewidth\": 0, \"ticks\": \"\"}}, \"type\": \"scattergeo\"}], \"scattergl\": [{\"marker\": {\"colorbar\": {\"outlinewidth\": 0, \"ticks\": \"\"}}, \"type\": \"scattergl\"}], \"scattermapbox\": [{\"marker\": {\"colorbar\": {\"outlinewidth\": 0, \"ticks\": \"\"}}, \"type\": \"scattermapbox\"}], \"scatterpolar\": [{\"marker\": {\"colorbar\": {\"outlinewidth\": 0, \"ticks\": \"\"}}, \"type\": \"scatterpolar\"}], \"scatterpolargl\": [{\"marker\": {\"colorbar\": {\"outlinewidth\": 0, \"ticks\": \"\"}}, \"type\": \"scatterpolargl\"}], \"scatterternary\": [{\"marker\": {\"colorbar\": {\"outlinewidth\": 0, \"ticks\": \"\"}}, \"type\": \"scatterternary\"}], \"surface\": [{\"colorbar\": {\"outlinewidth\": 0, \"ticks\": \"\"}, \"colorscale\": [[0.0, \"#0d0887\"], [0.1111111111111111, \"#46039f\"], [0.2222222222222222, \"#7201a8\"], [0.3333333333333333, \"#9c179e\"], [0.4444444444444444, \"#bd3786\"], [0.5555555555555556, \"#d8576b\"], [0.6666666666666666, \"#ed7953\"], [0.7777777777777778, \"#fb9f3a\"], [0.8888888888888888, \"#fdca26\"], [1.0, \"#f0f921\"]], \"type\": \"surface\"}], \"table\": [{\"cells\": {\"fill\": {\"color\": \"#EBF0F8\"}, \"line\": {\"color\": \"white\"}}, \"header\": {\"fill\": {\"color\": \"#C8D4E3\"}, \"line\": {\"color\": \"white\"}}, \"type\": \"table\"}]}, \"layout\": {\"annotationdefaults\": {\"arrowcolor\": \"#2a3f5f\", \"arrowhead\": 0, \"arrowwidth\": 1}, \"autotypenumbers\": \"strict\", \"coloraxis\": {\"colorbar\": {\"outlinewidth\": 0, \"ticks\": \"\"}}, \"colorscale\": {\"diverging\": [[0, \"#8e0152\"], [0.1, \"#c51b7d\"], [0.2, \"#de77ae\"], [0.3, \"#f1b6da\"], [0.4, \"#fde0ef\"], [0.5, \"#f7f7f7\"], [0.6, \"#e6f5d0\"], [0.7, \"#b8e186\"], [0.8, \"#7fbc41\"], [0.9, \"#4d9221\"], [1, \"#276419\"]], \"sequential\": [[0.0, \"#0d0887\"], [0.1111111111111111, \"#46039f\"], [0.2222222222222222, \"#7201a8\"], [0.3333333333333333, \"#9c179e\"], [0.4444444444444444, \"#bd3786\"], [0.5555555555555556, \"#d8576b\"], [0.6666666666666666, \"#ed7953\"], [0.7777777777777778, \"#fb9f3a\"], [0.8888888888888888, \"#fdca26\"], [1.0, \"#f0f921\"]], \"sequentialminus\": [[0.0, \"#0d0887\"], [0.1111111111111111, \"#46039f\"], [0.2222222222222222, \"#7201a8\"], [0.3333333333333333, \"#9c179e\"], [0.4444444444444444, \"#bd3786\"], [0.5555555555555556, \"#d8576b\"], [0.6666666666666666, \"#ed7953\"], [0.7777777777777778, \"#fb9f3a\"], [0.8888888888888888, \"#fdca26\"], [1.0, \"#f0f921\"]]}, \"colorway\": [\"#636efa\", \"#EF553B\", \"#00cc96\", \"#ab63fa\", \"#FFA15A\", \"#19d3f3\", \"#FF6692\", \"#B6E880\", \"#FF97FF\", \"#FECB52\"], \"font\": {\"color\": \"#2a3f5f\"}, \"geo\": {\"bgcolor\": \"white\", \"lakecolor\": \"white\", \"landcolor\": \"#E5ECF6\", \"showlakes\": true, \"showland\": true, \"subunitcolor\": \"white\"}, \"hoverlabel\": {\"align\": \"left\"}, \"hovermode\": \"closest\", \"mapbox\": {\"style\": \"light\"}, \"paper_bgcolor\": \"white\", \"plot_bgcolor\": \"#E5ECF6\", \"polar\": {\"angularaxis\": {\"gridcolor\": \"white\", \"linecolor\": \"white\", \"ticks\": \"\"}, \"bgcolor\": \"#E5ECF6\", \"radialaxis\": {\"gridcolor\": \"white\", \"linecolor\": \"white\", \"ticks\": \"\"}}, \"scene\": {\"xaxis\": {\"backgroundcolor\": \"#E5ECF6\", \"gridcolor\": \"white\", \"gridwidth\": 2, \"linecolor\": \"white\", \"showbackground\": true, \"ticks\": \"\", \"zerolinecolor\": \"white\"}, \"yaxis\": {\"backgroundcolor\": \"#E5ECF6\", \"gridcolor\": \"white\", \"gridwidth\": 2, \"linecolor\": \"white\", \"showbackground\": true, \"ticks\": \"\", \"zerolinecolor\": \"white\"}, \"zaxis\": {\"backgroundcolor\": \"#E5ECF6\", \"gridcolor\": \"white\", \"gridwidth\": 2, \"linecolor\": \"white\", \"showbackground\": true, \"ticks\": \"\", \"zerolinecolor\": \"white\"}}, \"shapedefaults\": {\"line\": {\"color\": \"#2a3f5f\"}}, \"ternary\": {\"aaxis\": {\"gridcolor\": \"white\", \"linecolor\": \"white\", \"ticks\": \"\"}, \"baxis\": {\"gridcolor\": \"white\", \"linecolor\": \"white\", \"ticks\": \"\"}, \"bgcolor\": \"#E5ECF6\", \"caxis\": {\"gridcolor\": \"white\", \"linecolor\": \"white\", \"ticks\": \"\"}}, \"title\": {\"x\": 0.05}, \"xaxis\": {\"automargin\": true, \"gridcolor\": \"white\", \"linecolor\": \"white\", \"ticks\": \"\", \"title\": {\"standoff\": 15}, \"zerolinecolor\": \"white\", \"zerolinewidth\": 2}, \"yaxis\": {\"automargin\": true, \"gridcolor\": \"white\", \"linecolor\": \"white\", \"ticks\": \"\", \"title\": {\"standoff\": 15}, \"zerolinecolor\": \"white\", \"zerolinewidth\": 2}}}, \"title\": {\"text\": \"Correlation heatmap of Skidata\"}, \"xaxis\": {\"anchor\": \"y\", \"constrain\": \"domain\", \"domain\": [0.0, 1.0], \"scaleanchor\": \"y\"}, \"yaxis\": {\"anchor\": \"x\", \"autorange\": \"reversed\", \"constrain\": \"domain\", \"domain\": [0.0, 1.0]}},                        {\"responsive\": true}                    ).then(function(){\n",
       "                            \n",
       "var gd = document.getElementById('86c5425a-d348-4cea-bc45-8b6da06d5099');\n",
       "var x = new MutationObserver(function (mutations, observer) {{\n",
       "        var display = window.getComputedStyle(gd).display;\n",
       "        if (!display || display === 'none') {{\n",
       "            console.log([gd, 'removed!']);\n",
       "            Plotly.purge(gd);\n",
       "            observer.disconnect();\n",
       "        }}\n",
       "}});\n",
       "\n",
       "// Listen for the removal of the full notebook cells\n",
       "var notebookContainer = gd.closest('#notebook-container');\n",
       "if (notebookContainer) {{\n",
       "    x.observe(notebookContainer, {childList: true});\n",
       "}}\n",
       "\n",
       "// Listen for the clearing of the current output cell\n",
       "var outputEl = gd.closest('.output');\n",
       "if (outputEl) {{\n",
       "    x.observe(outputEl, {childList: true});\n",
       "}}\n",
       "\n",
       "                        })                };                });            </script>        </div>"
      ]
     },
     "metadata": {},
     "output_type": "display_data"
    }
   ],
   "source": [
    "px.imshow(df.corr(), color_continuous_scale='Agsunset', title=\"Correlation heatmap of Skidata\")"
   ]
  },
  {
   "cell_type": "markdown",
   "metadata": {
    "slideshow": {
     "slide_type": "subslide"
    }
   },
   "source": [
    "There seems to be a pretty high correlation between min and max altitude as well as between max altitude and the altitude difference which makes sense. My main intuition is that there's a significant relationship between the ski pass price and the altitude difference. "
   ]
  },
  {
   "cell_type": "code",
   "execution_count": 60,
   "metadata": {
    "slideshow": {
     "slide_type": "slide"
    }
   },
   "outputs": [
    {
     "data": {
      "application/vnd.plotly.v1+json": {
       "config": {
        "plotlyServerURL": "https://plot.ly"
       },
       "data": [
        {
         "hovertemplate": "altitude_diff=%{x}<br>ski_pass_price=%{y}<extra></extra>",
         "legendgroup": "",
         "marker": {
          "color": "#636efa",
          "symbol": "circle"
         },
         "mode": "markers",
         "name": "",
         "orientation": "v",
         "showlegend": false,
         "type": "scatter",
         "x": [
          830,
          378,
          1460,
          890,
          835,
          676,
          680,
          1100,
          355,
          254,
          1082,
          884,
          1225,
          1012,
          2337,
          700,
          1282,
          2063,
          45,
          1466,
          1465,
          138,
          1118,
          135,
          1273,
          933,
          1261,
          969,
          564,
          504,
          357,
          468,
          1465,
          982,
          1734,
          1240,
          928,
          1266,
          1377,
          610,
          1260,
          930,
          1036,
          1469,
          1050,
          683,
          1673,
          777,
          1289,
          420,
          2280,
          810,
          112,
          730,
          1150,
          1631,
          1515,
          260,
          1906,
          1960,
          1170,
          1069,
          1466,
          1466,
          428,
          240,
          2064,
          2120,
          2120,
          2205,
          2120,
          1070,
          2026,
          1377,
          1150,
          2120,
          1600,
          1376,
          817,
          2023,
          933,
          685,
          201,
          325,
          900,
          415,
          930,
          1570,
          615,
          996,
          1108,
          870,
          976,
          1051,
          900,
          1233,
          710,
          1990,
          582,
          988,
          683,
          1099,
          1620,
          1100,
          1870,
          1541,
          760,
          1240,
          1195,
          1495,
          1440,
          877,
          1541,
          1200,
          700,
          1266,
          1270,
          1337,
          1188,
          1337,
          1730,
          1541,
          1337,
          945,
          1541,
          1550,
          1182,
          1700,
          1201,
          1773,
          2063,
          1302,
          750,
          1039,
          1377,
          2337,
          625,
          895,
          143,
          970,
          990,
          1636,
          2509,
          1337,
          506,
          2509,
          896,
          2509,
          2509,
          330,
          1240,
          2120,
          2120,
          1520,
          1782,
          1503,
          1326,
          1340,
          930,
          1918,
          1100,
          108,
          1300,
          1164,
          1920,
          915,
          991,
          450,
          611,
          816,
          1226,
          930,
          841,
          1437,
          1000,
          1500,
          803,
          1109,
          1050,
          1506,
          860,
          760,
          990,
          1402,
          1070,
          4,
          1086,
          968,
          988,
          1382,
          788,
          875,
          1000,
          1250,
          550,
          400,
          455,
          549,
          914,
          489,
          686,
          1026,
          695,
          2034,
          744,
          1059,
          863,
          230,
          626,
          581,
          280,
          1036,
          894,
          717,
          832,
          850,
          608,
          847,
          457,
          945,
          1156,
          188,
          1063,
          788,
          928,
          712,
          722,
          619,
          1100,
          707,
          1778,
          972,
          1330,
          752,
          1100,
          680,
          615,
          1360,
          645,
          798,
          1380,
          1240,
          1116,
          612,
          1070,
          1270,
          665,
          650,
          2020,
          685,
          1450,
          822,
          402,
          1183,
          672,
          726,
          1154,
          1187,
          1513,
          1535,
          671,
          625,
          565,
          1323,
          579,
          605,
          532,
          1140,
          240,
          1050,
          482,
          1400,
          390,
          610,
          732,
          566,
          320,
          876,
          1330,
          770,
          1750,
          1606,
          1796,
          953,
          455,
          1362,
          669,
          690,
          1370,
          920,
          800,
          955,
          1289,
          510,
          505,
          1895,
          793,
          1159,
          920,
          1260,
          563,
          715,
          1495,
          458,
          416,
          518,
          1108,
          1713,
          1692,
          1688,
          1096,
          817,
          776,
          960,
          1250,
          549,
          1260,
          488,
          1451,
          1240,
          1014,
          488,
          229,
          1230,
          1071,
          582,
          2174,
          840,
          616,
          970,
          1308,
          1108,
          1787,
          800,
          1305,
          687,
          871,
          497,
          722,
          1300,
          881,
          308,
          1061,
          1225,
          300,
          828,
          402,
          594,
          1120,
          876,
          420,
          1564,
          490,
          733,
          1002,
          953,
          726,
          969,
          541,
          804,
          889,
          1085,
          1250,
          1318,
          2807,
          1137,
          20,
          550,
          387,
          1047,
          302,
          1489,
          306,
          652,
          480,
          1095,
          1175,
          1052,
          1250,
          533,
          425,
          976,
          925,
          738,
          1076,
          805,
          921,
          260,
          46,
          957,
          1100,
          969,
          1235,
          815,
          961,
          900,
          719,
          700,
          998,
          700,
          886,
          932,
          250,
          1350,
          380,
          778,
          1400,
          1150,
          565,
          295,
          560,
          945,
          610,
          84,
          590,
          834,
          400,
          348,
          870,
          676,
          1354,
          618,
          857,
          805,
          66,
          1060,
          96,
          1060,
          508,
          901,
          298,
          500,
          520,
          281,
          447,
          940,
          32,
          713,
          800,
          860,
          140,
          1396,
          622,
          601,
          95,
          1070,
          1000,
          309,
          255,
          304,
          396,
          20,
          38,
          25,
          764,
          140,
          230,
          60,
          464,
          817,
          631,
          312,
          415,
          346,
          478,
          252,
          420,
          250,
          1200,
          610,
          634,
          920,
          850,
          300,
          796,
          427,
          1199,
          750,
          400,
          970,
          707,
          915,
          676,
          580,
          348,
          854,
          1050,
          1302,
          354,
          643,
          125,
          700,
          900,
          630,
          429,
          580,
          1245,
          370,
          530,
          997,
          770
         ],
         "xaxis": "x",
         "y": [
          46,
          44,
          48,
          60,
          45,
          43,
          61,
          57,
          22,
          20,
          67,
          62,
          62,
          35,
          81,
          68,
          54,
          43,
          17,
          51,
          43,
          33,
          120,
          21,
          39,
          98,
          119,
          97,
          36,
          83,
          74,
          39,
          43,
          46,
          50,
          52,
          43,
          53,
          48,
          46,
          67,
          47,
          48,
          52,
          58,
          40,
          54,
          61,
          50,
          74,
          49,
          64,
          47,
          57,
          51,
          93,
          46,
          42,
          56,
          50,
          35,
          40,
          51,
          51,
          37,
          35,
          49,
          61,
          61,
          51,
          61,
          31,
          50,
          48,
          28,
          61,
          49,
          55,
          51,
          62,
          119,
          37,
          43,
          43,
          57,
          33,
          47,
          30,
          82,
          124,
          124,
          102,
          127,
          50,
          85,
          141,
          35,
          53,
          37,
          140,
          46,
          29,
          49,
          52,
          52,
          53,
          38,
          52,
          46,
          52,
          52,
          47,
          53,
          55,
          40,
          53,
          52,
          49,
          52,
          49,
          53,
          53,
          49,
          44,
          53,
          46,
          47,
          52,
          44,
          63,
          43,
          54,
          44,
          50,
          48,
          81,
          54,
          54,
          54,
          60,
          38,
          63,
          66,
          69,
          19,
          66,
          54,
          66,
          66,
          25,
          52,
          61,
          61,
          44,
          47,
          46,
          110,
          124,
          47,
          68,
          39,
          39,
          44,
          39,
          52,
          45,
          66,
          34,
          67,
          120,
          52,
          90,
          89,
          37,
          36,
          36,
          34,
          51,
          36,
          69,
          81,
          62,
          84,
          46,
          66,
          33,
          53,
          47,
          99,
          36,
          42,
          34,
          36,
          42,
          93,
          87,
          50,
          102,
          109,
          56,
          54,
          79,
          120,
          61,
          66,
          120,
          50,
          30,
          61,
          90,
          87,
          107,
          45,
          65,
          41,
          34,
          32,
          76,
          98,
          114,
          110,
          55,
          54,
          83,
          36,
          60,
          35,
          76,
          37,
          85,
          52,
          39,
          51,
          49,
          43,
          37,
          51,
          49,
          60,
          65,
          22,
          50,
          42,
          70,
          51,
          34,
          62,
          40,
          57,
          46,
          42,
          49,
          59,
          50,
          84,
          106,
          46,
          29,
          50,
          50,
          86,
          52,
          50,
          47,
          67,
          52,
          67,
          37,
          51,
          30,
          32,
          29,
          45,
          85,
          45,
          71,
          37,
          49,
          44,
          68,
          52,
          49,
          49,
          44,
          50,
          52,
          54,
          31,
          47,
          27,
          40,
          45,
          14,
          81,
          64,
          42,
          71,
          54,
          46,
          28,
          38,
          44,
          51,
          76,
          43,
          42,
          48,
          64,
          48,
          44,
          46,
          27,
          38,
          30,
          29,
          48,
          17,
          68,
          55,
          44,
          34,
          80,
          59,
          44,
          40,
          46,
          55,
          42,
          44,
          42,
          49,
          38,
          40,
          53,
          41,
          24,
          30,
          39,
          41,
          45,
          39,
          41,
          39,
          44,
          41,
          43,
          32,
          45,
          46,
          44,
          26,
          18,
          47,
          20,
          31,
          64,
          29,
          20,
          27,
          39,
          44,
          37,
          44,
          43,
          60,
          41,
          51,
          32,
          41,
          45,
          40,
          47,
          28,
          30,
          45,
          40,
          44,
          30,
          29,
          34,
          31,
          31,
          35,
          57,
          35,
          34,
          60,
          28,
          32,
          42,
          38,
          79,
          43,
          46,
          39,
          44,
          42,
          25,
          35,
          30,
          47,
          35,
          33,
          41,
          67,
          32,
          44,
          28,
          33,
          41,
          35,
          48,
          42,
          41,
          37,
          44,
          42,
          23,
          40,
          42,
          30,
          41,
          59,
          45,
          29,
          31,
          26,
          41,
          37,
          33,
          23,
          36,
          63,
          24,
          26,
          22,
          37,
          33,
          31,
          34,
          30,
          44,
          41,
          36,
          18,
          39,
          31,
          53,
          32,
          26,
          45,
          36,
          18,
          15,
          45,
          20,
          23,
          42,
          35,
          35,
          47,
          29,
          19,
          32,
          29,
          19,
          22,
          29,
          40,
          44,
          24,
          40,
          44,
          25,
          63,
          25,
          46,
          36,
          17,
          47,
          20,
          59,
          26,
          63,
          43,
          45,
          29,
          35,
          51,
          35,
          26,
          34,
          21,
          73,
          38,
          35,
          48,
          29,
          43,
          42,
          51
         ],
         "yaxis": "y"
        }
       ],
       "layout": {
        "legend": {
         "tracegroupgap": 0
        },
        "margin": {
         "t": 60
        },
        "template": {
         "data": {
          "bar": [
           {
            "error_x": {
             "color": "#2a3f5f"
            },
            "error_y": {
             "color": "#2a3f5f"
            },
            "marker": {
             "line": {
              "color": "#E5ECF6",
              "width": 0.5
             }
            },
            "type": "bar"
           }
          ],
          "barpolar": [
           {
            "marker": {
             "line": {
              "color": "#E5ECF6",
              "width": 0.5
             }
            },
            "type": "barpolar"
           }
          ],
          "carpet": [
           {
            "aaxis": {
             "endlinecolor": "#2a3f5f",
             "gridcolor": "white",
             "linecolor": "white",
             "minorgridcolor": "white",
             "startlinecolor": "#2a3f5f"
            },
            "baxis": {
             "endlinecolor": "#2a3f5f",
             "gridcolor": "white",
             "linecolor": "white",
             "minorgridcolor": "white",
             "startlinecolor": "#2a3f5f"
            },
            "type": "carpet"
           }
          ],
          "choropleth": [
           {
            "colorbar": {
             "outlinewidth": 0,
             "ticks": ""
            },
            "type": "choropleth"
           }
          ],
          "contour": [
           {
            "colorbar": {
             "outlinewidth": 0,
             "ticks": ""
            },
            "colorscale": [
             [
              0,
              "#0d0887"
             ],
             [
              0.1111111111111111,
              "#46039f"
             ],
             [
              0.2222222222222222,
              "#7201a8"
             ],
             [
              0.3333333333333333,
              "#9c179e"
             ],
             [
              0.4444444444444444,
              "#bd3786"
             ],
             [
              0.5555555555555556,
              "#d8576b"
             ],
             [
              0.6666666666666666,
              "#ed7953"
             ],
             [
              0.7777777777777778,
              "#fb9f3a"
             ],
             [
              0.8888888888888888,
              "#fdca26"
             ],
             [
              1,
              "#f0f921"
             ]
            ],
            "type": "contour"
           }
          ],
          "contourcarpet": [
           {
            "colorbar": {
             "outlinewidth": 0,
             "ticks": ""
            },
            "type": "contourcarpet"
           }
          ],
          "heatmap": [
           {
            "colorbar": {
             "outlinewidth": 0,
             "ticks": ""
            },
            "colorscale": [
             [
              0,
              "#0d0887"
             ],
             [
              0.1111111111111111,
              "#46039f"
             ],
             [
              0.2222222222222222,
              "#7201a8"
             ],
             [
              0.3333333333333333,
              "#9c179e"
             ],
             [
              0.4444444444444444,
              "#bd3786"
             ],
             [
              0.5555555555555556,
              "#d8576b"
             ],
             [
              0.6666666666666666,
              "#ed7953"
             ],
             [
              0.7777777777777778,
              "#fb9f3a"
             ],
             [
              0.8888888888888888,
              "#fdca26"
             ],
             [
              1,
              "#f0f921"
             ]
            ],
            "type": "heatmap"
           }
          ],
          "heatmapgl": [
           {
            "colorbar": {
             "outlinewidth": 0,
             "ticks": ""
            },
            "colorscale": [
             [
              0,
              "#0d0887"
             ],
             [
              0.1111111111111111,
              "#46039f"
             ],
             [
              0.2222222222222222,
              "#7201a8"
             ],
             [
              0.3333333333333333,
              "#9c179e"
             ],
             [
              0.4444444444444444,
              "#bd3786"
             ],
             [
              0.5555555555555556,
              "#d8576b"
             ],
             [
              0.6666666666666666,
              "#ed7953"
             ],
             [
              0.7777777777777778,
              "#fb9f3a"
             ],
             [
              0.8888888888888888,
              "#fdca26"
             ],
             [
              1,
              "#f0f921"
             ]
            ],
            "type": "heatmapgl"
           }
          ],
          "histogram": [
           {
            "marker": {
             "colorbar": {
              "outlinewidth": 0,
              "ticks": ""
             }
            },
            "type": "histogram"
           }
          ],
          "histogram2d": [
           {
            "colorbar": {
             "outlinewidth": 0,
             "ticks": ""
            },
            "colorscale": [
             [
              0,
              "#0d0887"
             ],
             [
              0.1111111111111111,
              "#46039f"
             ],
             [
              0.2222222222222222,
              "#7201a8"
             ],
             [
              0.3333333333333333,
              "#9c179e"
             ],
             [
              0.4444444444444444,
              "#bd3786"
             ],
             [
              0.5555555555555556,
              "#d8576b"
             ],
             [
              0.6666666666666666,
              "#ed7953"
             ],
             [
              0.7777777777777778,
              "#fb9f3a"
             ],
             [
              0.8888888888888888,
              "#fdca26"
             ],
             [
              1,
              "#f0f921"
             ]
            ],
            "type": "histogram2d"
           }
          ],
          "histogram2dcontour": [
           {
            "colorbar": {
             "outlinewidth": 0,
             "ticks": ""
            },
            "colorscale": [
             [
              0,
              "#0d0887"
             ],
             [
              0.1111111111111111,
              "#46039f"
             ],
             [
              0.2222222222222222,
              "#7201a8"
             ],
             [
              0.3333333333333333,
              "#9c179e"
             ],
             [
              0.4444444444444444,
              "#bd3786"
             ],
             [
              0.5555555555555556,
              "#d8576b"
             ],
             [
              0.6666666666666666,
              "#ed7953"
             ],
             [
              0.7777777777777778,
              "#fb9f3a"
             ],
             [
              0.8888888888888888,
              "#fdca26"
             ],
             [
              1,
              "#f0f921"
             ]
            ],
            "type": "histogram2dcontour"
           }
          ],
          "mesh3d": [
           {
            "colorbar": {
             "outlinewidth": 0,
             "ticks": ""
            },
            "type": "mesh3d"
           }
          ],
          "parcoords": [
           {
            "line": {
             "colorbar": {
              "outlinewidth": 0,
              "ticks": ""
             }
            },
            "type": "parcoords"
           }
          ],
          "pie": [
           {
            "automargin": true,
            "type": "pie"
           }
          ],
          "scatter": [
           {
            "marker": {
             "colorbar": {
              "outlinewidth": 0,
              "ticks": ""
             }
            },
            "type": "scatter"
           }
          ],
          "scatter3d": [
           {
            "line": {
             "colorbar": {
              "outlinewidth": 0,
              "ticks": ""
             }
            },
            "marker": {
             "colorbar": {
              "outlinewidth": 0,
              "ticks": ""
             }
            },
            "type": "scatter3d"
           }
          ],
          "scattercarpet": [
           {
            "marker": {
             "colorbar": {
              "outlinewidth": 0,
              "ticks": ""
             }
            },
            "type": "scattercarpet"
           }
          ],
          "scattergeo": [
           {
            "marker": {
             "colorbar": {
              "outlinewidth": 0,
              "ticks": ""
             }
            },
            "type": "scattergeo"
           }
          ],
          "scattergl": [
           {
            "marker": {
             "colorbar": {
              "outlinewidth": 0,
              "ticks": ""
             }
            },
            "type": "scattergl"
           }
          ],
          "scattermapbox": [
           {
            "marker": {
             "colorbar": {
              "outlinewidth": 0,
              "ticks": ""
             }
            },
            "type": "scattermapbox"
           }
          ],
          "scatterpolar": [
           {
            "marker": {
             "colorbar": {
              "outlinewidth": 0,
              "ticks": ""
             }
            },
            "type": "scatterpolar"
           }
          ],
          "scatterpolargl": [
           {
            "marker": {
             "colorbar": {
              "outlinewidth": 0,
              "ticks": ""
             }
            },
            "type": "scatterpolargl"
           }
          ],
          "scatterternary": [
           {
            "marker": {
             "colorbar": {
              "outlinewidth": 0,
              "ticks": ""
             }
            },
            "type": "scatterternary"
           }
          ],
          "surface": [
           {
            "colorbar": {
             "outlinewidth": 0,
             "ticks": ""
            },
            "colorscale": [
             [
              0,
              "#0d0887"
             ],
             [
              0.1111111111111111,
              "#46039f"
             ],
             [
              0.2222222222222222,
              "#7201a8"
             ],
             [
              0.3333333333333333,
              "#9c179e"
             ],
             [
              0.4444444444444444,
              "#bd3786"
             ],
             [
              0.5555555555555556,
              "#d8576b"
             ],
             [
              0.6666666666666666,
              "#ed7953"
             ],
             [
              0.7777777777777778,
              "#fb9f3a"
             ],
             [
              0.8888888888888888,
              "#fdca26"
             ],
             [
              1,
              "#f0f921"
             ]
            ],
            "type": "surface"
           }
          ],
          "table": [
           {
            "cells": {
             "fill": {
              "color": "#EBF0F8"
             },
             "line": {
              "color": "white"
             }
            },
            "header": {
             "fill": {
              "color": "#C8D4E3"
             },
             "line": {
              "color": "white"
             }
            },
            "type": "table"
           }
          ]
         },
         "layout": {
          "annotationdefaults": {
           "arrowcolor": "#2a3f5f",
           "arrowhead": 0,
           "arrowwidth": 1
          },
          "autotypenumbers": "strict",
          "coloraxis": {
           "colorbar": {
            "outlinewidth": 0,
            "ticks": ""
           }
          },
          "colorscale": {
           "diverging": [
            [
             0,
             "#8e0152"
            ],
            [
             0.1,
             "#c51b7d"
            ],
            [
             0.2,
             "#de77ae"
            ],
            [
             0.3,
             "#f1b6da"
            ],
            [
             0.4,
             "#fde0ef"
            ],
            [
             0.5,
             "#f7f7f7"
            ],
            [
             0.6,
             "#e6f5d0"
            ],
            [
             0.7,
             "#b8e186"
            ],
            [
             0.8,
             "#7fbc41"
            ],
            [
             0.9,
             "#4d9221"
            ],
            [
             1,
             "#276419"
            ]
           ],
           "sequential": [
            [
             0,
             "#0d0887"
            ],
            [
             0.1111111111111111,
             "#46039f"
            ],
            [
             0.2222222222222222,
             "#7201a8"
            ],
            [
             0.3333333333333333,
             "#9c179e"
            ],
            [
             0.4444444444444444,
             "#bd3786"
            ],
            [
             0.5555555555555556,
             "#d8576b"
            ],
            [
             0.6666666666666666,
             "#ed7953"
            ],
            [
             0.7777777777777778,
             "#fb9f3a"
            ],
            [
             0.8888888888888888,
             "#fdca26"
            ],
            [
             1,
             "#f0f921"
            ]
           ],
           "sequentialminus": [
            [
             0,
             "#0d0887"
            ],
            [
             0.1111111111111111,
             "#46039f"
            ],
            [
             0.2222222222222222,
             "#7201a8"
            ],
            [
             0.3333333333333333,
             "#9c179e"
            ],
            [
             0.4444444444444444,
             "#bd3786"
            ],
            [
             0.5555555555555556,
             "#d8576b"
            ],
            [
             0.6666666666666666,
             "#ed7953"
            ],
            [
             0.7777777777777778,
             "#fb9f3a"
            ],
            [
             0.8888888888888888,
             "#fdca26"
            ],
            [
             1,
             "#f0f921"
            ]
           ]
          },
          "colorway": [
           "#636efa",
           "#EF553B",
           "#00cc96",
           "#ab63fa",
           "#FFA15A",
           "#19d3f3",
           "#FF6692",
           "#B6E880",
           "#FF97FF",
           "#FECB52"
          ],
          "font": {
           "color": "#2a3f5f"
          },
          "geo": {
           "bgcolor": "white",
           "lakecolor": "white",
           "landcolor": "#E5ECF6",
           "showlakes": true,
           "showland": true,
           "subunitcolor": "white"
          },
          "hoverlabel": {
           "align": "left"
          },
          "hovermode": "closest",
          "mapbox": {
           "style": "light"
          },
          "paper_bgcolor": "white",
          "plot_bgcolor": "#E5ECF6",
          "polar": {
           "angularaxis": {
            "gridcolor": "white",
            "linecolor": "white",
            "ticks": ""
           },
           "bgcolor": "#E5ECF6",
           "radialaxis": {
            "gridcolor": "white",
            "linecolor": "white",
            "ticks": ""
           }
          },
          "scene": {
           "xaxis": {
            "backgroundcolor": "#E5ECF6",
            "gridcolor": "white",
            "gridwidth": 2,
            "linecolor": "white",
            "showbackground": true,
            "ticks": "",
            "zerolinecolor": "white"
           },
           "yaxis": {
            "backgroundcolor": "#E5ECF6",
            "gridcolor": "white",
            "gridwidth": 2,
            "linecolor": "white",
            "showbackground": true,
            "ticks": "",
            "zerolinecolor": "white"
           },
           "zaxis": {
            "backgroundcolor": "#E5ECF6",
            "gridcolor": "white",
            "gridwidth": 2,
            "linecolor": "white",
            "showbackground": true,
            "ticks": "",
            "zerolinecolor": "white"
           }
          },
          "shapedefaults": {
           "line": {
            "color": "#2a3f5f"
           }
          },
          "ternary": {
           "aaxis": {
            "gridcolor": "white",
            "linecolor": "white",
            "ticks": ""
           },
           "baxis": {
            "gridcolor": "white",
            "linecolor": "white",
            "ticks": ""
           },
           "bgcolor": "#E5ECF6",
           "caxis": {
            "gridcolor": "white",
            "linecolor": "white",
            "ticks": ""
           }
          },
          "title": {
           "x": 0.05
          },
          "xaxis": {
           "automargin": true,
           "gridcolor": "white",
           "linecolor": "white",
           "ticks": "",
           "title": {
            "standoff": 15
           },
           "zerolinecolor": "white",
           "zerolinewidth": 2
          },
          "yaxis": {
           "automargin": true,
           "gridcolor": "white",
           "linecolor": "white",
           "ticks": "",
           "title": {
            "standoff": 15
           },
           "zerolinecolor": "white",
           "zerolinewidth": 2
          }
         }
        },
        "xaxis": {
         "anchor": "y",
         "domain": [
          0,
          1
         ],
         "title": {
          "text": "altitude_diff"
         }
        },
        "yaxis": {
         "anchor": "x",
         "domain": [
          0,
          1
         ],
         "title": {
          "text": "ski_pass_price"
         }
        }
       }
      },
      "text/html": [
       "<div>                            <div id=\"b20903b5-3fa1-47d1-91b0-44646ba41b29\" class=\"plotly-graph-div\" style=\"height:525px; width:100%;\"></div>            <script type=\"text/javascript\">                require([\"plotly\"], function(Plotly) {                    window.PLOTLYENV=window.PLOTLYENV || {};                                    if (document.getElementById(\"b20903b5-3fa1-47d1-91b0-44646ba41b29\")) {                    Plotly.newPlot(                        \"b20903b5-3fa1-47d1-91b0-44646ba41b29\",                        [{\"hovertemplate\": \"altitude_diff=%{x}<br>ski_pass_price=%{y}<extra></extra>\", \"legendgroup\": \"\", \"marker\": {\"color\": \"#636efa\", \"symbol\": \"circle\"}, \"mode\": \"markers\", \"name\": \"\", \"orientation\": \"v\", \"showlegend\": false, \"type\": \"scatter\", \"x\": [830.0, 378.0, 1460.0, 890.0, 835.0, 676.0, 680.0, 1100.0, 355.0, 254.0, 1082.0, 884.0, 1225.0, 1012.0, 2337.0, 700.0, 1282.0, 2063.0, 45.0, 1466.0, 1465.0, 138.0, 1118.0, 135.0, 1273.0, 933.0, 1261.0, 969.0, 564.0, 504.0, 357.0, 468.0, 1465.0, 982.0, 1734.0, 1240.0, 928.0, 1266.0, 1377.0, 610.0, 1260.0, 930.0, 1036.0, 1469.0, 1050.0, 683.0, 1673.0, 777.0, 1289.0, 420.0, 2280.0, 810.0, 112.0, 730.0, 1150.0, 1631.0, 1515.0, 260.0, 1906.0, 1960.0, 1170.0, 1069.0, 1466.0, 1466.0, 428.0, 240.0, 2064.0, 2120.0, 2120.0, 2205.0, 2120.0, 1070.0, 2026.0, 1377.0, 1150.0, 2120.0, 1600.0, 1376.0, 817.0, 2023.0, 933.0, 685.0, 201.0, 325.0, 900.0, 415.0, 930.0, 1570.0, 615.0, 996.0, 1108.0, 870.0, 976.0, 1051.0, 900.0, 1233.0, 710.0, 1990.0, 582.0, 988.0, 683.0, 1099.0, 1620.0, 1100.0, 1870.0, 1541.0, 760.0, 1240.0, 1195.0, 1495.0, 1440.0, 877.0, 1541.0, 1200.0, 700.0, 1266.0, 1270.0, 1337.0, 1188.0, 1337.0, 1730.0, 1541.0, 1337.0, 945.0, 1541.0, 1550.0, 1182.0, 1700.0, 1201.0, 1773.0, 2063.0, 1302.0, 750.0, 1039.0, 1377.0, 2337.0, 625.0, 895.0, 143.0, 970.0, 990.0, 1636.0, 2509.0, 1337.0, 506.0, 2509.0, 896.0, 2509.0, 2509.0, 330.0, 1240.0, 2120.0, 2120.0, 1520.0, 1782.0, 1503.0, 1326.0, 1340.0, 930.0, 1918.0, 1100.0, 108.0, 1300.0, 1164.0, 1920.0, 915.0, 991.0, 450.0, 611.0, 816.0, 1226.0, 930.0, 841.0, 1437.0, 1000.0, 1500.0, 803.0, 1109.0, 1050.0, 1506.0, 860.0, 760.0, 990.0, 1402.0, 1070.0, 4.0, 1086.0, 968.0, 988.0, 1382.0, 788.0, 875.0, 1000.0, 1250.0, 550.0, 400.0, 455.0, 549.0, 914.0, 489.0, 686.0, 1026.0, 695.0, 2034.0, 744.0, 1059.0, 863.0, 230.0, 626.0, 581.0, 280.0, 1036.0, 894.0, 717.0, 832.0, 850.0, 608.0, 847.0, 457.0, 945.0, 1156.0, 188.0, 1063.0, 788.0, 928.0, 712.0, 722.0, 619.0, 1100.0, 707.0, 1778.0, 972.0, 1330.0, 752.0, 1100.0, 680.0, 615.0, 1360.0, 645.0, 798.0, 1380.0, 1240.0, 1116.0, 612.0, 1070.0, 1270.0, 665.0, 650.0, 2020.0, 685.0, 1450.0, 822.0, 402.0, 1183.0, 672.0, 726.0, 1154.0, 1187.0, 1513.0, 1535.0, 671.0, 625.0, 565.0, 1323.0, 579.0, 605.0, 532.0, 1140.0, 240.0, 1050.0, 482.0, 1400.0, 390.0, 610.0, 732.0, 566.0, 320.0, 876.0, 1330.0, 770.0, 1750.0, 1606.0, 1796.0, 953.0, 455.0, 1362.0, 669.0, 690.0, 1370.0, 920.0, 800.0, 955.0, 1289.0, 510.0, 505.0, 1895.0, 793.0, 1159.0, 920.0, 1260.0, 563.0, 715.0, 1495.0, 458.0, 416.0, 518.0, 1108.0, 1713.0, 1692.0, 1688.0, 1096.0, 817.0, 776.0, 960.0, 1250.0, 549.0, 1260.0, 488.0, 1451.0, 1240.0, 1014.0, 488.0, 229.0, 1230.0, 1071.0, 582.0, 2174.0, 840.0, 616.0, 970.0, 1308.0, 1108.0, 1787.0, 800.0, 1305.0, 687.0, 871.0, 497.0, 722.0, 1300.0, 881.0, 308.0, 1061.0, 1225.0, 300.0, 828.0, 402.0, 594.0, 1120.0, 876.0, 420.0, 1564.0, 490.0, 733.0, 1002.0, 953.0, 726.0, 969.0, 541.0, 804.0, 889.0, 1085.0, 1250.0, 1318.0, 2807.0, 1137.0, 20.0, 550.0, 387.0, 1047.0, 302.0, 1489.0, 306.0, 652.0, 480.0, 1095.0, 1175.0, 1052.0, 1250.0, 533.0, 425.0, 976.0, 925.0, 738.0, 1076.0, 805.0, 921.0, 260.0, 46.0, 957.0, 1100.0, 969.0, 1235.0, 815.0, 961.0, 900.0, 719.0, 700.0, 998.0, 700.0, 886.0, 932.0, 250.0, 1350.0, 380.0, 778.0, 1400.0, 1150.0, 565.0, 295.0, 560.0, 945.0, 610.0, 84.0, 590.0, 834.0, 400.0, 348.0, 870.0, 676.0, 1354.0, 618.0, 857.0, 805.0, 66.0, 1060.0, 96.0, 1060.0, 508.0, 901.0, 298.0, 500.0, 520.0, 281.0, 447.0, 940.0, 32.0, 713.0, 800.0, 860.0, 140.0, 1396.0, 622.0, 601.0, 95.0, 1070.0, 1000.0, 309.0, 255.0, 304.0, 396.0, 20.0, 38.0, 25.0, 764.0, 140.0, 230.0, 60.0, 464.0, 817.0, 631.0, 312.0, 415.0, 346.0, 478.0, 252.0, 420.0, 250.0, 1200.0, 610.0, 634.0, 920.0, 850.0, 300.0, 796.0, 427.0, 1199.0, 750.0, 400.0, 970.0, 707.0, 915.0, 676.0, 580.0, 348.0, 854.0, 1050.0, 1302.0, 354.0, 643.0, 125.0, 700.0, 900.0, 630.0, 429.0, 580.0, 1245.0, 370.0, 530.0, 997.0, 770.0], \"xaxis\": \"x\", \"y\": [46, 44, 48, 60, 45, 43, 61, 57, 22, 20, 67, 62, 62, 35, 81, 68, 54, 43, 17, 51, 43, 33, 120, 21, 39, 98, 119, 97, 36, 83, 74, 39, 43, 46, 50, 52, 43, 53, 48, 46, 67, 47, 48, 52, 58, 40, 54, 61, 50, 74, 49, 64, 47, 57, 51, 93, 46, 42, 56, 50, 35, 40, 51, 51, 37, 35, 49, 61, 61, 51, 61, 31, 50, 48, 28, 61, 49, 55, 51, 62, 119, 37, 43, 43, 57, 33, 47, 30, 82, 124, 124, 102, 127, 50, 85, 141, 35, 53, 37, 140, 46, 29, 49, 52, 52, 53, 38, 52, 46, 52, 52, 47, 53, 55, 40, 53, 52, 49, 52, 49, 53, 53, 49, 44, 53, 46, 47, 52, 44, 63, 43, 54, 44, 50, 48, 81, 54, 54, 54, 60, 38, 63, 66, 69, 19, 66, 54, 66, 66, 25, 52, 61, 61, 44, 47, 46, 110, 124, 47, 68, 39, 39, 44, 39, 52, 45, 66, 34, 67, 120, 52, 90, 89, 37, 36, 36, 34, 51, 36, 69, 81, 62, 84, 46, 66, 33, 53, 47, 99, 36, 42, 34, 36, 42, 93, 87, 50, 102, 109, 56, 54, 79, 120, 61, 66, 120, 50, 30, 61, 90, 87, 107, 45, 65, 41, 34, 32, 76, 98, 114, 110, 55, 54, 83, 36, 60, 35, 76, 37, 85, 52, 39, 51, 49, 43, 37, 51, 49, 60, 65, 22, 50, 42, 70, 51, 34, 62, 40, 57, 46, 42, 49, 59, 50, 84, 106, 46, 29, 50, 50, 86, 52, 50, 47, 67, 52, 67, 37, 51, 30, 32, 29, 45, 85, 45, 71, 37, 49, 44, 68, 52, 49, 49, 44, 50, 52, 54, 31, 47, 27, 40, 45, 14, 81, 64, 42, 71, 54, 46, 28, 38, 44, 51, 76, 43, 42, 48, 64, 48, 44, 46, 27, 38, 30, 29, 48, 17, 68, 55, 44, 34, 80, 59, 44, 40, 46, 55, 42, 44, 42, 49, 38, 40, 53, 41, 24, 30, 39, 41, 45, 39, 41, 39, 44, 41, 43, 32, 45, 46, 44, 26, 18, 47, 20, 31, 64, 29, 20, 27, 39, 44, 37, 44, 43, 60, 41, 51, 32, 41, 45, 40, 47, 28, 30, 45, 40, 44, 30, 29, 34, 31, 31, 35, 57, 35, 34, 60, 28, 32, 42, 38, 79, 43, 46, 39, 44, 42, 25, 35, 30, 47, 35, 33, 41, 67, 32, 44, 28, 33, 41, 35, 48, 42, 41, 37, 44, 42, 23, 40, 42, 30, 41, 59, 45, 29, 31, 26, 41, 37, 33, 23, 36, 63, 24, 26, 22, 37, 33, 31, 34, 30, 44, 41, 36, 18, 39, 31, 53, 32, 26, 45, 36, 18, 15, 45, 20, 23, 42, 35, 35, 47, 29, 19, 32, 29, 19, 22, 29, 40, 44, 24, 40, 44, 25, 63, 25, 46, 36, 17, 47, 20, 59, 26, 63, 43, 45, 29, 35, 51, 35, 26, 34, 21, 73, 38, 35, 48, 29, 43, 42, 51], \"yaxis\": \"y\"}],                        {\"legend\": {\"tracegroupgap\": 0}, \"margin\": {\"t\": 60}, \"template\": {\"data\": {\"bar\": [{\"error_x\": {\"color\": \"#2a3f5f\"}, \"error_y\": {\"color\": \"#2a3f5f\"}, \"marker\": {\"line\": {\"color\": \"#E5ECF6\", \"width\": 0.5}}, \"type\": \"bar\"}], \"barpolar\": [{\"marker\": {\"line\": {\"color\": \"#E5ECF6\", \"width\": 0.5}}, \"type\": \"barpolar\"}], \"carpet\": [{\"aaxis\": {\"endlinecolor\": \"#2a3f5f\", \"gridcolor\": \"white\", \"linecolor\": \"white\", \"minorgridcolor\": \"white\", \"startlinecolor\": \"#2a3f5f\"}, \"baxis\": {\"endlinecolor\": \"#2a3f5f\", \"gridcolor\": \"white\", \"linecolor\": \"white\", \"minorgridcolor\": \"white\", \"startlinecolor\": \"#2a3f5f\"}, \"type\": \"carpet\"}], \"choropleth\": [{\"colorbar\": {\"outlinewidth\": 0, \"ticks\": \"\"}, \"type\": \"choropleth\"}], \"contour\": [{\"colorbar\": {\"outlinewidth\": 0, \"ticks\": \"\"}, \"colorscale\": [[0.0, \"#0d0887\"], [0.1111111111111111, \"#46039f\"], [0.2222222222222222, \"#7201a8\"], [0.3333333333333333, \"#9c179e\"], [0.4444444444444444, \"#bd3786\"], [0.5555555555555556, \"#d8576b\"], [0.6666666666666666, \"#ed7953\"], [0.7777777777777778, \"#fb9f3a\"], [0.8888888888888888, \"#fdca26\"], [1.0, \"#f0f921\"]], \"type\": \"contour\"}], \"contourcarpet\": [{\"colorbar\": {\"outlinewidth\": 0, \"ticks\": \"\"}, \"type\": \"contourcarpet\"}], \"heatmap\": [{\"colorbar\": {\"outlinewidth\": 0, \"ticks\": \"\"}, \"colorscale\": [[0.0, \"#0d0887\"], [0.1111111111111111, \"#46039f\"], [0.2222222222222222, \"#7201a8\"], [0.3333333333333333, \"#9c179e\"], [0.4444444444444444, \"#bd3786\"], [0.5555555555555556, \"#d8576b\"], [0.6666666666666666, \"#ed7953\"], [0.7777777777777778, \"#fb9f3a\"], [0.8888888888888888, \"#fdca26\"], [1.0, \"#f0f921\"]], \"type\": \"heatmap\"}], \"heatmapgl\": [{\"colorbar\": {\"outlinewidth\": 0, \"ticks\": \"\"}, \"colorscale\": [[0.0, \"#0d0887\"], [0.1111111111111111, \"#46039f\"], [0.2222222222222222, \"#7201a8\"], [0.3333333333333333, \"#9c179e\"], [0.4444444444444444, \"#bd3786\"], [0.5555555555555556, \"#d8576b\"], [0.6666666666666666, \"#ed7953\"], [0.7777777777777778, \"#fb9f3a\"], [0.8888888888888888, \"#fdca26\"], [1.0, \"#f0f921\"]], \"type\": \"heatmapgl\"}], \"histogram\": [{\"marker\": {\"colorbar\": {\"outlinewidth\": 0, \"ticks\": \"\"}}, \"type\": \"histogram\"}], \"histogram2d\": [{\"colorbar\": {\"outlinewidth\": 0, \"ticks\": \"\"}, \"colorscale\": [[0.0, \"#0d0887\"], [0.1111111111111111, \"#46039f\"], [0.2222222222222222, \"#7201a8\"], [0.3333333333333333, \"#9c179e\"], [0.4444444444444444, \"#bd3786\"], [0.5555555555555556, \"#d8576b\"], [0.6666666666666666, \"#ed7953\"], [0.7777777777777778, \"#fb9f3a\"], [0.8888888888888888, \"#fdca26\"], [1.0, \"#f0f921\"]], \"type\": \"histogram2d\"}], \"histogram2dcontour\": [{\"colorbar\": {\"outlinewidth\": 0, \"ticks\": \"\"}, \"colorscale\": [[0.0, \"#0d0887\"], [0.1111111111111111, \"#46039f\"], [0.2222222222222222, \"#7201a8\"], [0.3333333333333333, \"#9c179e\"], [0.4444444444444444, \"#bd3786\"], [0.5555555555555556, \"#d8576b\"], [0.6666666666666666, \"#ed7953\"], [0.7777777777777778, \"#fb9f3a\"], [0.8888888888888888, \"#fdca26\"], [1.0, \"#f0f921\"]], \"type\": \"histogram2dcontour\"}], \"mesh3d\": [{\"colorbar\": {\"outlinewidth\": 0, \"ticks\": \"\"}, \"type\": \"mesh3d\"}], \"parcoords\": [{\"line\": {\"colorbar\": {\"outlinewidth\": 0, \"ticks\": \"\"}}, \"type\": \"parcoords\"}], \"pie\": [{\"automargin\": true, \"type\": \"pie\"}], \"scatter\": [{\"marker\": {\"colorbar\": {\"outlinewidth\": 0, \"ticks\": \"\"}}, \"type\": \"scatter\"}], \"scatter3d\": [{\"line\": {\"colorbar\": {\"outlinewidth\": 0, \"ticks\": \"\"}}, \"marker\": {\"colorbar\": {\"outlinewidth\": 0, \"ticks\": \"\"}}, \"type\": \"scatter3d\"}], \"scattercarpet\": [{\"marker\": {\"colorbar\": {\"outlinewidth\": 0, \"ticks\": \"\"}}, \"type\": \"scattercarpet\"}], \"scattergeo\": [{\"marker\": {\"colorbar\": {\"outlinewidth\": 0, \"ticks\": \"\"}}, \"type\": \"scattergeo\"}], \"scattergl\": [{\"marker\": {\"colorbar\": {\"outlinewidth\": 0, \"ticks\": \"\"}}, \"type\": \"scattergl\"}], \"scattermapbox\": [{\"marker\": {\"colorbar\": {\"outlinewidth\": 0, \"ticks\": \"\"}}, \"type\": \"scattermapbox\"}], \"scatterpolar\": [{\"marker\": {\"colorbar\": {\"outlinewidth\": 0, \"ticks\": \"\"}}, \"type\": \"scatterpolar\"}], \"scatterpolargl\": [{\"marker\": {\"colorbar\": {\"outlinewidth\": 0, \"ticks\": \"\"}}, \"type\": \"scatterpolargl\"}], \"scatterternary\": [{\"marker\": {\"colorbar\": {\"outlinewidth\": 0, \"ticks\": \"\"}}, \"type\": \"scatterternary\"}], \"surface\": [{\"colorbar\": {\"outlinewidth\": 0, \"ticks\": \"\"}, \"colorscale\": [[0.0, \"#0d0887\"], [0.1111111111111111, \"#46039f\"], [0.2222222222222222, \"#7201a8\"], [0.3333333333333333, \"#9c179e\"], [0.4444444444444444, \"#bd3786\"], [0.5555555555555556, \"#d8576b\"], [0.6666666666666666, \"#ed7953\"], [0.7777777777777778, \"#fb9f3a\"], [0.8888888888888888, \"#fdca26\"], [1.0, \"#f0f921\"]], \"type\": \"surface\"}], \"table\": [{\"cells\": {\"fill\": {\"color\": \"#EBF0F8\"}, \"line\": {\"color\": \"white\"}}, \"header\": {\"fill\": {\"color\": \"#C8D4E3\"}, \"line\": {\"color\": \"white\"}}, \"type\": \"table\"}]}, \"layout\": {\"annotationdefaults\": {\"arrowcolor\": \"#2a3f5f\", \"arrowhead\": 0, \"arrowwidth\": 1}, \"autotypenumbers\": \"strict\", \"coloraxis\": {\"colorbar\": {\"outlinewidth\": 0, \"ticks\": \"\"}}, \"colorscale\": {\"diverging\": [[0, \"#8e0152\"], [0.1, \"#c51b7d\"], [0.2, \"#de77ae\"], [0.3, \"#f1b6da\"], [0.4, \"#fde0ef\"], [0.5, \"#f7f7f7\"], [0.6, \"#e6f5d0\"], [0.7, \"#b8e186\"], [0.8, \"#7fbc41\"], [0.9, \"#4d9221\"], [1, \"#276419\"]], \"sequential\": [[0.0, \"#0d0887\"], [0.1111111111111111, \"#46039f\"], [0.2222222222222222, \"#7201a8\"], [0.3333333333333333, \"#9c179e\"], [0.4444444444444444, \"#bd3786\"], [0.5555555555555556, \"#d8576b\"], [0.6666666666666666, \"#ed7953\"], [0.7777777777777778, \"#fb9f3a\"], [0.8888888888888888, \"#fdca26\"], [1.0, \"#f0f921\"]], \"sequentialminus\": [[0.0, \"#0d0887\"], [0.1111111111111111, \"#46039f\"], [0.2222222222222222, \"#7201a8\"], [0.3333333333333333, \"#9c179e\"], [0.4444444444444444, \"#bd3786\"], [0.5555555555555556, \"#d8576b\"], [0.6666666666666666, \"#ed7953\"], [0.7777777777777778, \"#fb9f3a\"], [0.8888888888888888, \"#fdca26\"], [1.0, \"#f0f921\"]]}, \"colorway\": [\"#636efa\", \"#EF553B\", \"#00cc96\", \"#ab63fa\", \"#FFA15A\", \"#19d3f3\", \"#FF6692\", \"#B6E880\", \"#FF97FF\", \"#FECB52\"], \"font\": {\"color\": \"#2a3f5f\"}, \"geo\": {\"bgcolor\": \"white\", \"lakecolor\": \"white\", \"landcolor\": \"#E5ECF6\", \"showlakes\": true, \"showland\": true, \"subunitcolor\": \"white\"}, \"hoverlabel\": {\"align\": \"left\"}, \"hovermode\": \"closest\", \"mapbox\": {\"style\": \"light\"}, \"paper_bgcolor\": \"white\", \"plot_bgcolor\": \"#E5ECF6\", \"polar\": {\"angularaxis\": {\"gridcolor\": \"white\", \"linecolor\": \"white\", \"ticks\": \"\"}, \"bgcolor\": \"#E5ECF6\", \"radialaxis\": {\"gridcolor\": \"white\", \"linecolor\": \"white\", \"ticks\": \"\"}}, \"scene\": {\"xaxis\": {\"backgroundcolor\": \"#E5ECF6\", \"gridcolor\": \"white\", \"gridwidth\": 2, \"linecolor\": \"white\", \"showbackground\": true, \"ticks\": \"\", \"zerolinecolor\": \"white\"}, \"yaxis\": {\"backgroundcolor\": \"#E5ECF6\", \"gridcolor\": \"white\", \"gridwidth\": 2, \"linecolor\": \"white\", \"showbackground\": true, \"ticks\": \"\", \"zerolinecolor\": \"white\"}, \"zaxis\": {\"backgroundcolor\": \"#E5ECF6\", \"gridcolor\": \"white\", \"gridwidth\": 2, \"linecolor\": \"white\", \"showbackground\": true, \"ticks\": \"\", \"zerolinecolor\": \"white\"}}, \"shapedefaults\": {\"line\": {\"color\": \"#2a3f5f\"}}, \"ternary\": {\"aaxis\": {\"gridcolor\": \"white\", \"linecolor\": \"white\", \"ticks\": \"\"}, \"baxis\": {\"gridcolor\": \"white\", \"linecolor\": \"white\", \"ticks\": \"\"}, \"bgcolor\": \"#E5ECF6\", \"caxis\": {\"gridcolor\": \"white\", \"linecolor\": \"white\", \"ticks\": \"\"}}, \"title\": {\"x\": 0.05}, \"xaxis\": {\"automargin\": true, \"gridcolor\": \"white\", \"linecolor\": \"white\", \"ticks\": \"\", \"title\": {\"standoff\": 15}, \"zerolinecolor\": \"white\", \"zerolinewidth\": 2}, \"yaxis\": {\"automargin\": true, \"gridcolor\": \"white\", \"linecolor\": \"white\", \"ticks\": \"\", \"title\": {\"standoff\": 15}, \"zerolinecolor\": \"white\", \"zerolinewidth\": 2}}}, \"xaxis\": {\"anchor\": \"y\", \"domain\": [0.0, 1.0], \"title\": {\"text\": \"altitude_diff\"}}, \"yaxis\": {\"anchor\": \"x\", \"domain\": [0.0, 1.0], \"title\": {\"text\": \"ski_pass_price\"}}},                        {\"responsive\": true}                    ).then(function(){\n",
       "                            \n",
       "var gd = document.getElementById('b20903b5-3fa1-47d1-91b0-44646ba41b29');\n",
       "var x = new MutationObserver(function (mutations, observer) {{\n",
       "        var display = window.getComputedStyle(gd).display;\n",
       "        if (!display || display === 'none') {{\n",
       "            console.log([gd, 'removed!']);\n",
       "            Plotly.purge(gd);\n",
       "            observer.disconnect();\n",
       "        }}\n",
       "}});\n",
       "\n",
       "// Listen for the removal of the full notebook cells\n",
       "var notebookContainer = gd.closest('#notebook-container');\n",
       "if (notebookContainer) {{\n",
       "    x.observe(notebookContainer, {childList: true});\n",
       "}}\n",
       "\n",
       "// Listen for the clearing of the current output cell\n",
       "var outputEl = gd.closest('.output');\n",
       "if (outputEl) {{\n",
       "    x.observe(outputEl, {childList: true});\n",
       "}}\n",
       "\n",
       "                        })                };                });            </script>        </div>"
      ]
     },
     "metadata": {},
     "output_type": "display_data"
    }
   ],
   "source": [
    "fig = px.scatter(df,x='altitude_diff', y='ski_pass_price')\n",
    "fig.show()"
   ]
  },
  {
   "cell_type": "markdown",
   "metadata": {
    "slideshow": {
     "slide_type": "subslide"
    }
   },
   "source": [
    "The scatter plot shows a correlation between the ski pass price and altitude difference, however there seems to be two distinct distributions. I suspect it's because of disparities in price between Europe and America. Let's plot them seperately and see."
   ]
  },
  {
   "cell_type": "code",
   "execution_count": 85,
   "metadata": {
    "slideshow": {
     "slide_type": "skip"
    }
   },
   "outputs": [],
   "source": [
    "euro = df[df['continent'] == 'Europe'].copy()\n",
    "america = df[df['continent'] == 'America'].copy()\n",
    "rest = df[df['continent'] == 'Rest of the world'].copy()"
   ]
  },
  {
   "cell_type": "code",
   "execution_count": 61,
   "metadata": {
    "slideshow": {
     "slide_type": "subslide"
    }
   },
   "outputs": [
    {
     "data": {
      "application/vnd.plotly.v1+json": {
       "config": {
        "plotlyServerURL": "https://plot.ly"
       },
       "data": [
        {
         "mode": "markers",
         "type": "scatter",
         "x": [
          830,
          378,
          1460,
          890,
          835,
          676,
          680,
          1100,
          355,
          254,
          1082,
          884,
          1225,
          1012,
          2337,
          700,
          1282,
          2063,
          45,
          1466,
          1465,
          138,
          1118,
          135,
          1273,
          933,
          1261,
          969,
          564,
          504,
          357,
          468,
          1465,
          982,
          1734,
          1240,
          928,
          1266,
          1377,
          610,
          1260,
          930,
          1036,
          1469,
          1050,
          683,
          1673,
          777,
          1289,
          420,
          2280,
          810,
          112,
          730,
          1150,
          1631,
          1515,
          260,
          1906,
          1960,
          1170,
          1069,
          1466,
          1466,
          428,
          240,
          2064,
          2120,
          2120,
          2205,
          2120,
          1070,
          2026,
          1377,
          1150,
          2120,
          1600,
          1376,
          817,
          2023,
          933,
          685,
          201,
          325,
          900,
          415,
          930,
          1570,
          615,
          996,
          1108,
          870,
          976,
          1051,
          900,
          1233,
          710,
          1990,
          582,
          988,
          683,
          1099,
          1620,
          1100,
          1870,
          1541,
          760,
          1240,
          1195,
          1495,
          1440,
          877,
          1541,
          1200,
          700,
          1266,
          1270,
          1337,
          1188,
          1337,
          1730,
          1541,
          1337,
          945,
          1541,
          1550,
          1182,
          1700,
          1201,
          1773,
          2063,
          1302,
          750,
          1039,
          1377,
          2337,
          625,
          895,
          143,
          970,
          990,
          1636,
          2509,
          1337,
          506,
          2509,
          896,
          2509,
          2509,
          330,
          1240,
          2120,
          2120,
          1520,
          1782,
          1503,
          1326,
          1340,
          930,
          1918,
          1100,
          108,
          1300,
          1164,
          1920,
          915,
          991,
          450,
          611,
          816,
          1226,
          930,
          841,
          1437,
          1000,
          1500,
          803,
          1109,
          1050,
          1506,
          860,
          760,
          990,
          1402,
          1070,
          4,
          1086,
          968,
          988,
          1382,
          788,
          875,
          1000,
          1250,
          550,
          400,
          455,
          549,
          914,
          489,
          686,
          1026,
          695,
          2034,
          744,
          1059,
          863,
          230,
          626,
          581,
          280,
          1036,
          894,
          717,
          832,
          850,
          608,
          847,
          457,
          945,
          1156,
          188,
          1063,
          788,
          928,
          712,
          722,
          619,
          1100,
          707,
          1778,
          972,
          1330,
          752,
          1100,
          680,
          615,
          1360,
          645,
          798,
          1380,
          1240,
          1116,
          612,
          1070,
          1270,
          665,
          650,
          2020,
          685,
          1450,
          822,
          402,
          1183,
          672,
          726,
          1154,
          1187,
          1513,
          1535,
          671,
          625,
          565,
          1323,
          579,
          605,
          532,
          1140,
          240,
          1050,
          482,
          1400,
          390,
          610,
          732,
          566,
          320,
          876,
          1330,
          770,
          1750,
          1606,
          1796,
          953,
          455,
          1362,
          669,
          690,
          1370,
          920,
          800,
          955,
          1289,
          510,
          505,
          1895,
          793,
          1159,
          920,
          1260,
          563,
          715,
          1495,
          458,
          416,
          518,
          1108,
          1713,
          1692,
          1688,
          1096,
          817,
          776,
          960,
          1250,
          549,
          1260,
          488,
          1451,
          1240,
          1014,
          488,
          229,
          1230,
          1071,
          582,
          2174,
          840,
          616,
          970,
          1308,
          1108,
          1787,
          800,
          1305,
          687,
          871,
          497,
          722,
          1300,
          881,
          308,
          1061,
          1225,
          300,
          828,
          402,
          594,
          1120,
          876,
          420,
          1564,
          490,
          733,
          1002,
          953,
          726,
          969,
          541,
          804,
          889,
          1085,
          1250,
          1318,
          2807,
          1137,
          20,
          550,
          387,
          1047,
          302,
          1489,
          306,
          652,
          480,
          1095,
          1175,
          1052,
          1250,
          533,
          425,
          976,
          925,
          738,
          1076,
          805,
          921,
          260,
          46,
          957,
          1100,
          969,
          1235,
          815,
          961,
          900,
          719,
          700,
          998,
          700,
          886,
          932,
          250,
          1350,
          380,
          778,
          1400,
          1150,
          565,
          295,
          560,
          945,
          610,
          84,
          590,
          834,
          400,
          348,
          870,
          676,
          1354,
          618,
          857,
          805,
          66,
          1060,
          96,
          1060,
          508,
          901,
          298,
          500,
          520,
          281,
          447,
          940,
          32,
          713,
          800,
          860,
          140,
          1396,
          622,
          601,
          95,
          1070,
          1000,
          309,
          255,
          304,
          396,
          20,
          38,
          25,
          764,
          140,
          230,
          60,
          464,
          817,
          631,
          312,
          415,
          346,
          478,
          252,
          420,
          250,
          1200,
          610,
          634,
          920,
          850,
          300,
          796,
          427,
          1199,
          750,
          400,
          970,
          707,
          915,
          676,
          580,
          348,
          854,
          1050,
          1302,
          354,
          643,
          125,
          700,
          900,
          630,
          429,
          580,
          1245,
          370,
          530,
          997,
          770
         ],
         "xaxis": "x",
         "y": [
          46,
          44,
          48,
          60,
          45,
          43,
          61,
          57,
          22,
          20,
          67,
          62,
          62,
          35,
          81,
          68,
          54,
          43,
          17,
          51,
          43,
          33,
          120,
          21,
          39,
          98,
          119,
          97,
          36,
          83,
          74,
          39,
          43,
          46,
          50,
          52,
          43,
          53,
          48,
          46,
          67,
          47,
          48,
          52,
          58,
          40,
          54,
          61,
          50,
          74,
          49,
          64,
          47,
          57,
          51,
          93,
          46,
          42,
          56,
          50,
          35,
          40,
          51,
          51,
          37,
          35,
          49,
          61,
          61,
          51,
          61,
          31,
          50,
          48,
          28,
          61,
          49,
          55,
          51,
          62,
          119,
          37,
          43,
          43,
          57,
          33,
          47,
          30,
          82,
          124,
          124,
          102,
          127,
          50,
          85,
          141,
          35,
          53,
          37,
          140,
          46,
          29,
          49,
          52,
          52,
          53,
          38,
          52,
          46,
          52,
          52,
          47,
          53,
          55,
          40,
          53,
          52,
          49,
          52,
          49,
          53,
          53,
          49,
          44,
          53,
          46,
          47,
          52,
          44,
          63,
          43,
          54,
          44,
          50,
          48,
          81,
          54,
          54,
          54,
          60,
          38,
          63,
          66,
          69,
          19,
          66,
          54,
          66,
          66,
          25,
          52,
          61,
          61,
          44,
          47,
          46,
          110,
          124,
          47,
          68,
          39,
          39,
          44,
          39,
          52,
          45,
          66,
          34,
          67,
          120,
          52,
          90,
          89,
          37,
          36,
          36,
          34,
          51,
          36,
          69,
          81,
          62,
          84,
          46,
          66,
          33,
          53,
          47,
          99,
          36,
          42,
          34,
          36,
          42,
          93,
          87,
          50,
          102,
          109,
          56,
          54,
          79,
          120,
          61,
          66,
          120,
          50,
          30,
          61,
          90,
          87,
          107,
          45,
          65,
          41,
          34,
          32,
          76,
          98,
          114,
          110,
          55,
          54,
          83,
          36,
          60,
          35,
          76,
          37,
          85,
          52,
          39,
          51,
          49,
          43,
          37,
          51,
          49,
          60,
          65,
          22,
          50,
          42,
          70,
          51,
          34,
          62,
          40,
          57,
          46,
          42,
          49,
          59,
          50,
          84,
          106,
          46,
          29,
          50,
          50,
          86,
          52,
          50,
          47,
          67,
          52,
          67,
          37,
          51,
          30,
          32,
          29,
          45,
          85,
          45,
          71,
          37,
          49,
          44,
          68,
          52,
          49,
          49,
          44,
          50,
          52,
          54,
          31,
          47,
          27,
          40,
          45,
          14,
          81,
          64,
          42,
          71,
          54,
          46,
          28,
          38,
          44,
          51,
          76,
          43,
          42,
          48,
          64,
          48,
          44,
          46,
          27,
          38,
          30,
          29,
          48,
          17,
          68,
          55,
          44,
          34,
          80,
          59,
          44,
          40,
          46,
          55,
          42,
          44,
          42,
          49,
          38,
          40,
          53,
          41,
          24,
          30,
          39,
          41,
          45,
          39,
          41,
          39,
          44,
          41,
          43,
          32,
          45,
          46,
          44,
          26,
          18,
          47,
          20,
          31,
          64,
          29,
          20,
          27,
          39,
          44,
          37,
          44,
          43,
          60,
          41,
          51,
          32,
          41,
          45,
          40,
          47,
          28,
          30,
          45,
          40,
          44,
          30,
          29,
          34,
          31,
          31,
          35,
          57,
          35,
          34,
          60,
          28,
          32,
          42,
          38,
          79,
          43,
          46,
          39,
          44,
          42,
          25,
          35,
          30,
          47,
          35,
          33,
          41,
          67,
          32,
          44,
          28,
          33,
          41,
          35,
          48,
          42,
          41,
          37,
          44,
          42,
          23,
          40,
          42,
          30,
          41,
          59,
          45,
          29,
          31,
          26,
          41,
          37,
          33,
          23,
          36,
          63,
          24,
          26,
          22,
          37,
          33,
          31,
          34,
          30,
          44,
          41,
          36,
          18,
          39,
          31,
          53,
          32,
          26,
          45,
          36,
          18,
          15,
          45,
          20,
          23,
          42,
          35,
          35,
          47,
          29,
          19,
          32,
          29,
          19,
          22,
          29,
          40,
          44,
          24,
          40,
          44,
          25,
          63,
          25,
          46,
          36,
          17,
          47,
          20,
          59,
          26,
          63,
          43,
          45,
          29,
          35,
          51,
          35,
          26,
          34,
          21,
          73,
          38,
          35,
          48,
          29,
          43,
          42,
          51
         ],
         "yaxis": "y"
        },
        {
         "mode": "markers",
         "type": "scatter",
         "x": [
          830,
          378,
          1460,
          835,
          676,
          355,
          254,
          1012,
          2337,
          1282,
          2063,
          45,
          1466,
          1465,
          138,
          1273,
          564,
          468,
          1465,
          982,
          1734,
          1240,
          928,
          1266,
          1377,
          610,
          930,
          1036,
          1469,
          1050,
          683,
          1673,
          1289,
          2280,
          1515,
          260,
          1906,
          1960,
          1170,
          1069,
          1466,
          1466,
          428,
          240,
          2064,
          2120,
          2120,
          2205,
          2120,
          1070,
          2026,
          1377,
          1150,
          2120,
          1600,
          1376,
          817,
          2023,
          685,
          201,
          325,
          415,
          930,
          1570,
          1051,
          710,
          1990,
          582,
          683,
          1099,
          1620,
          1100,
          1870,
          1541,
          760,
          1240,
          1195,
          1495,
          1440,
          877,
          1541,
          1200,
          700,
          1266,
          1270,
          1337,
          1188,
          1337,
          1730,
          1541,
          1337,
          945,
          1541,
          1550,
          1182,
          1700,
          1201,
          1773,
          2063,
          1302,
          750,
          1039,
          1377,
          2337,
          625,
          895,
          143,
          970,
          990,
          1636,
          2509,
          1337,
          506,
          2509,
          896,
          2509,
          2509,
          330,
          1240,
          2120,
          2120,
          1520,
          1782,
          1503,
          930,
          1918,
          1100,
          108,
          1300,
          1164,
          1920,
          915,
          450,
          1226,
          1437,
          1000,
          1500,
          803,
          1109,
          1050,
          1506,
          1402,
          4,
          1086,
          968,
          1382,
          788,
          875,
          1000,
          1250,
          2034,
          230,
          894,
          832,
          850,
          608,
          188,
          1063,
          928,
          722,
          1100,
          1778,
          1330,
          1100,
          680,
          1360,
          1380,
          1240,
          1116,
          1070,
          1270,
          650,
          2020,
          685,
          1450,
          1183,
          1154,
          1187,
          1513,
          1535,
          1323,
          1140,
          240,
          1050,
          482,
          1400,
          320,
          876,
          1330,
          1750,
          1606,
          1796,
          953,
          455,
          1362,
          669,
          690,
          1370,
          920,
          800,
          955,
          1895,
          1159,
          920,
          1260,
          563,
          715,
          1495,
          416,
          518,
          1108,
          1692,
          1688,
          1096,
          817,
          776,
          960,
          1250,
          1451,
          1240,
          1014,
          582,
          2174,
          840,
          970,
          1308,
          1108,
          1787,
          800,
          1305,
          687,
          871,
          497,
          722,
          1300,
          308,
          1061,
          300,
          402,
          1120,
          876,
          420,
          1564,
          490,
          733,
          1002,
          726,
          969,
          541,
          1250,
          1318,
          2807,
          1137,
          20,
          550,
          387,
          1047,
          302,
          1489,
          306,
          652,
          480,
          1095,
          1175,
          1052,
          1250,
          533,
          425,
          1076,
          805,
          260,
          46,
          1100,
          1235,
          815,
          961,
          900,
          700,
          998,
          700,
          886,
          932,
          250,
          1350,
          778,
          1400,
          1150,
          565,
          295,
          560,
          945,
          84,
          590,
          834,
          400,
          348,
          870,
          676,
          1354,
          618,
          805,
          66,
          1060,
          1060,
          508,
          901,
          298,
          500,
          281,
          447,
          940,
          32,
          713,
          800,
          860,
          140,
          1396,
          622,
          601,
          95,
          1070,
          1000,
          255,
          304,
          396,
          20,
          38,
          25,
          764,
          140,
          230,
          60,
          464,
          817,
          312,
          415,
          346,
          478,
          252,
          420,
          250,
          1200,
          610,
          920,
          850,
          300,
          427,
          1199,
          750,
          400,
          970,
          707,
          915,
          676,
          348,
          854,
          1050,
          1302,
          643,
          125,
          700,
          900,
          429,
          580,
          1245,
          370,
          530,
          997
         ],
         "xaxis": "x2",
         "y": [
          46,
          44,
          48,
          45,
          43,
          22,
          20,
          35,
          81,
          54,
          43,
          17,
          51,
          43,
          33,
          39,
          36,
          39,
          43,
          46,
          50,
          52,
          43,
          53,
          48,
          46,
          47,
          48,
          52,
          58,
          40,
          54,
          50,
          49,
          46,
          42,
          56,
          50,
          35,
          40,
          51,
          51,
          37,
          35,
          49,
          61,
          61,
          51,
          61,
          31,
          50,
          48,
          28,
          61,
          49,
          55,
          51,
          62,
          37,
          43,
          43,
          33,
          47,
          30,
          50,
          35,
          53,
          37,
          46,
          29,
          49,
          52,
          52,
          53,
          38,
          52,
          46,
          52,
          52,
          47,
          53,
          55,
          40,
          53,
          52,
          49,
          52,
          49,
          53,
          53,
          49,
          44,
          53,
          46,
          47,
          52,
          44,
          63,
          43,
          54,
          44,
          50,
          48,
          81,
          54,
          54,
          54,
          60,
          38,
          63,
          66,
          69,
          19,
          66,
          54,
          66,
          66,
          25,
          52,
          61,
          61,
          44,
          47,
          46,
          47,
          68,
          39,
          39,
          44,
          39,
          52,
          45,
          34,
          52,
          37,
          36,
          36,
          34,
          51,
          36,
          69,
          46,
          33,
          53,
          47,
          36,
          42,
          34,
          36,
          42,
          61,
          30,
          45,
          41,
          34,
          32,
          55,
          54,
          36,
          35,
          37,
          52,
          51,
          43,
          37,
          49,
          22,
          50,
          42,
          51,
          34,
          40,
          57,
          46,
          42,
          50,
          46,
          29,
          50,
          50,
          47,
          37,
          51,
          30,
          32,
          29,
          37,
          49,
          44,
          52,
          49,
          49,
          44,
          50,
          52,
          54,
          31,
          47,
          27,
          40,
          45,
          42,
          54,
          46,
          28,
          38,
          44,
          51,
          43,
          42,
          48,
          48,
          44,
          46,
          27,
          38,
          30,
          29,
          55,
          44,
          34,
          46,
          55,
          42,
          42,
          49,
          38,
          40,
          53,
          41,
          24,
          30,
          39,
          41,
          45,
          41,
          39,
          41,
          32,
          46,
          44,
          26,
          18,
          47,
          20,
          31,
          29,
          20,
          27,
          44,
          43,
          60,
          41,
          51,
          32,
          41,
          45,
          40,
          47,
          28,
          30,
          45,
          40,
          44,
          30,
          29,
          34,
          31,
          35,
          34,
          28,
          32,
          38,
          43,
          46,
          39,
          44,
          25,
          35,
          30,
          47,
          35,
          33,
          41,
          32,
          44,
          28,
          33,
          41,
          35,
          48,
          41,
          37,
          44,
          42,
          23,
          40,
          42,
          30,
          41,
          45,
          29,
          31,
          41,
          37,
          33,
          23,
          36,
          24,
          26,
          22,
          37,
          33,
          31,
          34,
          30,
          44,
          41,
          36,
          18,
          39,
          31,
          32,
          26,
          45,
          36,
          18,
          15,
          45,
          20,
          23,
          42,
          35,
          35,
          29,
          19,
          32,
          29,
          19,
          22,
          29,
          40,
          44,
          40,
          44,
          25,
          25,
          46,
          36,
          17,
          47,
          20,
          59,
          26,
          43,
          45,
          29,
          35,
          35,
          26,
          34,
          21,
          38,
          35,
          48,
          29,
          43,
          42
         ],
         "yaxis": "y2"
        },
        {
         "mode": "markers",
         "type": "scatter",
         "x": [
          890,
          1100,
          1082,
          884,
          1225,
          1118,
          135,
          933,
          1261,
          969,
          504,
          1260,
          777,
          810,
          730,
          1150,
          1631,
          933,
          615,
          996,
          1108,
          870,
          976,
          900,
          1233,
          988,
          1326,
          1340,
          991,
          611,
          816,
          930,
          841,
          860,
          760,
          990,
          1070,
          988,
          550,
          455,
          549,
          914,
          489,
          686,
          1026,
          695,
          744,
          1059,
          863,
          626,
          581,
          1036,
          717,
          847,
          457,
          945,
          1156,
          788,
          712,
          619,
          707,
          752,
          645,
          798,
          612,
          665,
          822,
          402,
          726,
          671,
          625,
          565,
          579,
          605,
          532,
          390,
          610,
          732,
          566,
          770,
          510,
          505,
          793,
          458,
          1713,
          549,
          488,
          488,
          229,
          1230,
          616,
          953,
          921,
          969,
          380,
          857,
          96,
          520,
          309,
          631,
          796,
          580,
          630,
          770
         ],
         "xaxis": "x3",
         "y": [
          60,
          57,
          67,
          62,
          62,
          120,
          21,
          98,
          119,
          97,
          83,
          67,
          61,
          64,
          57,
          51,
          93,
          119,
          82,
          124,
          124,
          102,
          127,
          85,
          141,
          140,
          110,
          124,
          66,
          67,
          120,
          90,
          89,
          81,
          62,
          84,
          66,
          99,
          93,
          50,
          102,
          109,
          56,
          54,
          79,
          120,
          66,
          120,
          50,
          61,
          90,
          107,
          65,
          76,
          98,
          114,
          110,
          83,
          60,
          76,
          85,
          49,
          60,
          65,
          70,
          62,
          49,
          59,
          106,
          86,
          52,
          50,
          67,
          52,
          67,
          45,
          85,
          45,
          71,
          68,
          81,
          64,
          71,
          76,
          64,
          48,
          68,
          80,
          59,
          44,
          44,
          64,
          60,
          79,
          67,
          59,
          26,
          63,
          53,
          47,
          63,
          63,
          73,
          51
         ],
         "yaxis": "y3"
        },
        {
         "mode": "markers",
         "type": "scatter",
         "x": [
          680,
          700,
          357,
          420,
          112,
          900,
          400,
          280,
          972,
          615,
          672,
          1289,
          1260,
          1071,
          881,
          1225,
          828,
          594,
          804,
          889,
          1085,
          976,
          925,
          738,
          957,
          719,
          610,
          634,
          354
         ],
         "xaxis": "x4",
         "y": [
          61,
          68,
          74,
          74,
          47,
          57,
          87,
          87,
          39,
          51,
          84,
          14,
          17,
          40,
          39,
          44,
          43,
          45,
          39,
          44,
          37,
          31,
          35,
          57,
          42,
          42,
          42,
          24,
          51
         ],
         "yaxis": "y4"
        }
       ],
       "layout": {
        "annotations": [
         {
          "font": {
           "size": 16
          },
          "showarrow": false,
          "text": "All",
          "x": 0.225,
          "xanchor": "center",
          "xref": "paper",
          "y": 1,
          "yanchor": "bottom",
          "yref": "paper"
         },
         {
          "font": {
           "size": 16
          },
          "showarrow": false,
          "text": "Europe",
          "x": 0.775,
          "xanchor": "center",
          "xref": "paper",
          "y": 1,
          "yanchor": "bottom",
          "yref": "paper"
         },
         {
          "font": {
           "size": 16
          },
          "showarrow": false,
          "text": "America",
          "x": 0.225,
          "xanchor": "center",
          "xref": "paper",
          "y": 0.375,
          "yanchor": "bottom",
          "yref": "paper"
         },
         {
          "font": {
           "size": 16
          },
          "showarrow": false,
          "text": "Rest of the World",
          "x": 0.775,
          "xanchor": "center",
          "xref": "paper",
          "y": 0.375,
          "yanchor": "bottom",
          "yref": "paper"
         }
        ],
        "template": {
         "data": {
          "bar": [
           {
            "error_x": {
             "color": "#2a3f5f"
            },
            "error_y": {
             "color": "#2a3f5f"
            },
            "marker": {
             "line": {
              "color": "#E5ECF6",
              "width": 0.5
             }
            },
            "type": "bar"
           }
          ],
          "barpolar": [
           {
            "marker": {
             "line": {
              "color": "#E5ECF6",
              "width": 0.5
             }
            },
            "type": "barpolar"
           }
          ],
          "carpet": [
           {
            "aaxis": {
             "endlinecolor": "#2a3f5f",
             "gridcolor": "white",
             "linecolor": "white",
             "minorgridcolor": "white",
             "startlinecolor": "#2a3f5f"
            },
            "baxis": {
             "endlinecolor": "#2a3f5f",
             "gridcolor": "white",
             "linecolor": "white",
             "minorgridcolor": "white",
             "startlinecolor": "#2a3f5f"
            },
            "type": "carpet"
           }
          ],
          "choropleth": [
           {
            "colorbar": {
             "outlinewidth": 0,
             "ticks": ""
            },
            "type": "choropleth"
           }
          ],
          "contour": [
           {
            "colorbar": {
             "outlinewidth": 0,
             "ticks": ""
            },
            "colorscale": [
             [
              0,
              "#0d0887"
             ],
             [
              0.1111111111111111,
              "#46039f"
             ],
             [
              0.2222222222222222,
              "#7201a8"
             ],
             [
              0.3333333333333333,
              "#9c179e"
             ],
             [
              0.4444444444444444,
              "#bd3786"
             ],
             [
              0.5555555555555556,
              "#d8576b"
             ],
             [
              0.6666666666666666,
              "#ed7953"
             ],
             [
              0.7777777777777778,
              "#fb9f3a"
             ],
             [
              0.8888888888888888,
              "#fdca26"
             ],
             [
              1,
              "#f0f921"
             ]
            ],
            "type": "contour"
           }
          ],
          "contourcarpet": [
           {
            "colorbar": {
             "outlinewidth": 0,
             "ticks": ""
            },
            "type": "contourcarpet"
           }
          ],
          "heatmap": [
           {
            "colorbar": {
             "outlinewidth": 0,
             "ticks": ""
            },
            "colorscale": [
             [
              0,
              "#0d0887"
             ],
             [
              0.1111111111111111,
              "#46039f"
             ],
             [
              0.2222222222222222,
              "#7201a8"
             ],
             [
              0.3333333333333333,
              "#9c179e"
             ],
             [
              0.4444444444444444,
              "#bd3786"
             ],
             [
              0.5555555555555556,
              "#d8576b"
             ],
             [
              0.6666666666666666,
              "#ed7953"
             ],
             [
              0.7777777777777778,
              "#fb9f3a"
             ],
             [
              0.8888888888888888,
              "#fdca26"
             ],
             [
              1,
              "#f0f921"
             ]
            ],
            "type": "heatmap"
           }
          ],
          "heatmapgl": [
           {
            "colorbar": {
             "outlinewidth": 0,
             "ticks": ""
            },
            "colorscale": [
             [
              0,
              "#0d0887"
             ],
             [
              0.1111111111111111,
              "#46039f"
             ],
             [
              0.2222222222222222,
              "#7201a8"
             ],
             [
              0.3333333333333333,
              "#9c179e"
             ],
             [
              0.4444444444444444,
              "#bd3786"
             ],
             [
              0.5555555555555556,
              "#d8576b"
             ],
             [
              0.6666666666666666,
              "#ed7953"
             ],
             [
              0.7777777777777778,
              "#fb9f3a"
             ],
             [
              0.8888888888888888,
              "#fdca26"
             ],
             [
              1,
              "#f0f921"
             ]
            ],
            "type": "heatmapgl"
           }
          ],
          "histogram": [
           {
            "marker": {
             "colorbar": {
              "outlinewidth": 0,
              "ticks": ""
             }
            },
            "type": "histogram"
           }
          ],
          "histogram2d": [
           {
            "colorbar": {
             "outlinewidth": 0,
             "ticks": ""
            },
            "colorscale": [
             [
              0,
              "#0d0887"
             ],
             [
              0.1111111111111111,
              "#46039f"
             ],
             [
              0.2222222222222222,
              "#7201a8"
             ],
             [
              0.3333333333333333,
              "#9c179e"
             ],
             [
              0.4444444444444444,
              "#bd3786"
             ],
             [
              0.5555555555555556,
              "#d8576b"
             ],
             [
              0.6666666666666666,
              "#ed7953"
             ],
             [
              0.7777777777777778,
              "#fb9f3a"
             ],
             [
              0.8888888888888888,
              "#fdca26"
             ],
             [
              1,
              "#f0f921"
             ]
            ],
            "type": "histogram2d"
           }
          ],
          "histogram2dcontour": [
           {
            "colorbar": {
             "outlinewidth": 0,
             "ticks": ""
            },
            "colorscale": [
             [
              0,
              "#0d0887"
             ],
             [
              0.1111111111111111,
              "#46039f"
             ],
             [
              0.2222222222222222,
              "#7201a8"
             ],
             [
              0.3333333333333333,
              "#9c179e"
             ],
             [
              0.4444444444444444,
              "#bd3786"
             ],
             [
              0.5555555555555556,
              "#d8576b"
             ],
             [
              0.6666666666666666,
              "#ed7953"
             ],
             [
              0.7777777777777778,
              "#fb9f3a"
             ],
             [
              0.8888888888888888,
              "#fdca26"
             ],
             [
              1,
              "#f0f921"
             ]
            ],
            "type": "histogram2dcontour"
           }
          ],
          "mesh3d": [
           {
            "colorbar": {
             "outlinewidth": 0,
             "ticks": ""
            },
            "type": "mesh3d"
           }
          ],
          "parcoords": [
           {
            "line": {
             "colorbar": {
              "outlinewidth": 0,
              "ticks": ""
             }
            },
            "type": "parcoords"
           }
          ],
          "pie": [
           {
            "automargin": true,
            "type": "pie"
           }
          ],
          "scatter": [
           {
            "marker": {
             "colorbar": {
              "outlinewidth": 0,
              "ticks": ""
             }
            },
            "type": "scatter"
           }
          ],
          "scatter3d": [
           {
            "line": {
             "colorbar": {
              "outlinewidth": 0,
              "ticks": ""
             }
            },
            "marker": {
             "colorbar": {
              "outlinewidth": 0,
              "ticks": ""
             }
            },
            "type": "scatter3d"
           }
          ],
          "scattercarpet": [
           {
            "marker": {
             "colorbar": {
              "outlinewidth": 0,
              "ticks": ""
             }
            },
            "type": "scattercarpet"
           }
          ],
          "scattergeo": [
           {
            "marker": {
             "colorbar": {
              "outlinewidth": 0,
              "ticks": ""
             }
            },
            "type": "scattergeo"
           }
          ],
          "scattergl": [
           {
            "marker": {
             "colorbar": {
              "outlinewidth": 0,
              "ticks": ""
             }
            },
            "type": "scattergl"
           }
          ],
          "scattermapbox": [
           {
            "marker": {
             "colorbar": {
              "outlinewidth": 0,
              "ticks": ""
             }
            },
            "type": "scattermapbox"
           }
          ],
          "scatterpolar": [
           {
            "marker": {
             "colorbar": {
              "outlinewidth": 0,
              "ticks": ""
             }
            },
            "type": "scatterpolar"
           }
          ],
          "scatterpolargl": [
           {
            "marker": {
             "colorbar": {
              "outlinewidth": 0,
              "ticks": ""
             }
            },
            "type": "scatterpolargl"
           }
          ],
          "scatterternary": [
           {
            "marker": {
             "colorbar": {
              "outlinewidth": 0,
              "ticks": ""
             }
            },
            "type": "scatterternary"
           }
          ],
          "surface": [
           {
            "colorbar": {
             "outlinewidth": 0,
             "ticks": ""
            },
            "colorscale": [
             [
              0,
              "#0d0887"
             ],
             [
              0.1111111111111111,
              "#46039f"
             ],
             [
              0.2222222222222222,
              "#7201a8"
             ],
             [
              0.3333333333333333,
              "#9c179e"
             ],
             [
              0.4444444444444444,
              "#bd3786"
             ],
             [
              0.5555555555555556,
              "#d8576b"
             ],
             [
              0.6666666666666666,
              "#ed7953"
             ],
             [
              0.7777777777777778,
              "#fb9f3a"
             ],
             [
              0.8888888888888888,
              "#fdca26"
             ],
             [
              1,
              "#f0f921"
             ]
            ],
            "type": "surface"
           }
          ],
          "table": [
           {
            "cells": {
             "fill": {
              "color": "#EBF0F8"
             },
             "line": {
              "color": "white"
             }
            },
            "header": {
             "fill": {
              "color": "#C8D4E3"
             },
             "line": {
              "color": "white"
             }
            },
            "type": "table"
           }
          ]
         },
         "layout": {
          "annotationdefaults": {
           "arrowcolor": "#2a3f5f",
           "arrowhead": 0,
           "arrowwidth": 1
          },
          "autotypenumbers": "strict",
          "coloraxis": {
           "colorbar": {
            "outlinewidth": 0,
            "ticks": ""
           }
          },
          "colorscale": {
           "diverging": [
            [
             0,
             "#8e0152"
            ],
            [
             0.1,
             "#c51b7d"
            ],
            [
             0.2,
             "#de77ae"
            ],
            [
             0.3,
             "#f1b6da"
            ],
            [
             0.4,
             "#fde0ef"
            ],
            [
             0.5,
             "#f7f7f7"
            ],
            [
             0.6,
             "#e6f5d0"
            ],
            [
             0.7,
             "#b8e186"
            ],
            [
             0.8,
             "#7fbc41"
            ],
            [
             0.9,
             "#4d9221"
            ],
            [
             1,
             "#276419"
            ]
           ],
           "sequential": [
            [
             0,
             "#0d0887"
            ],
            [
             0.1111111111111111,
             "#46039f"
            ],
            [
             0.2222222222222222,
             "#7201a8"
            ],
            [
             0.3333333333333333,
             "#9c179e"
            ],
            [
             0.4444444444444444,
             "#bd3786"
            ],
            [
             0.5555555555555556,
             "#d8576b"
            ],
            [
             0.6666666666666666,
             "#ed7953"
            ],
            [
             0.7777777777777778,
             "#fb9f3a"
            ],
            [
             0.8888888888888888,
             "#fdca26"
            ],
            [
             1,
             "#f0f921"
            ]
           ],
           "sequentialminus": [
            [
             0,
             "#0d0887"
            ],
            [
             0.1111111111111111,
             "#46039f"
            ],
            [
             0.2222222222222222,
             "#7201a8"
            ],
            [
             0.3333333333333333,
             "#9c179e"
            ],
            [
             0.4444444444444444,
             "#bd3786"
            ],
            [
             0.5555555555555556,
             "#d8576b"
            ],
            [
             0.6666666666666666,
             "#ed7953"
            ],
            [
             0.7777777777777778,
             "#fb9f3a"
            ],
            [
             0.8888888888888888,
             "#fdca26"
            ],
            [
             1,
             "#f0f921"
            ]
           ]
          },
          "colorway": [
           "#636efa",
           "#EF553B",
           "#00cc96",
           "#ab63fa",
           "#FFA15A",
           "#19d3f3",
           "#FF6692",
           "#B6E880",
           "#FF97FF",
           "#FECB52"
          ],
          "font": {
           "color": "#2a3f5f"
          },
          "geo": {
           "bgcolor": "white",
           "lakecolor": "white",
           "landcolor": "#E5ECF6",
           "showlakes": true,
           "showland": true,
           "subunitcolor": "white"
          },
          "hoverlabel": {
           "align": "left"
          },
          "hovermode": "closest",
          "mapbox": {
           "style": "light"
          },
          "paper_bgcolor": "white",
          "plot_bgcolor": "#E5ECF6",
          "polar": {
           "angularaxis": {
            "gridcolor": "white",
            "linecolor": "white",
            "ticks": ""
           },
           "bgcolor": "#E5ECF6",
           "radialaxis": {
            "gridcolor": "white",
            "linecolor": "white",
            "ticks": ""
           }
          },
          "scene": {
           "xaxis": {
            "backgroundcolor": "#E5ECF6",
            "gridcolor": "white",
            "gridwidth": 2,
            "linecolor": "white",
            "showbackground": true,
            "ticks": "",
            "zerolinecolor": "white"
           },
           "yaxis": {
            "backgroundcolor": "#E5ECF6",
            "gridcolor": "white",
            "gridwidth": 2,
            "linecolor": "white",
            "showbackground": true,
            "ticks": "",
            "zerolinecolor": "white"
           },
           "zaxis": {
            "backgroundcolor": "#E5ECF6",
            "gridcolor": "white",
            "gridwidth": 2,
            "linecolor": "white",
            "showbackground": true,
            "ticks": "",
            "zerolinecolor": "white"
           }
          },
          "shapedefaults": {
           "line": {
            "color": "#2a3f5f"
           }
          },
          "ternary": {
           "aaxis": {
            "gridcolor": "white",
            "linecolor": "white",
            "ticks": ""
           },
           "baxis": {
            "gridcolor": "white",
            "linecolor": "white",
            "ticks": ""
           },
           "bgcolor": "#E5ECF6",
           "caxis": {
            "gridcolor": "white",
            "linecolor": "white",
            "ticks": ""
           }
          },
          "title": {
           "x": 0.05
          },
          "xaxis": {
           "automargin": true,
           "gridcolor": "white",
           "linecolor": "white",
           "ticks": "",
           "title": {
            "standoff": 15
           },
           "zerolinecolor": "white",
           "zerolinewidth": 2
          },
          "yaxis": {
           "automargin": true,
           "gridcolor": "white",
           "linecolor": "white",
           "ticks": "",
           "title": {
            "standoff": 15
           },
           "zerolinecolor": "white",
           "zerolinewidth": 2
          }
         }
        },
        "xaxis": {
         "anchor": "y",
         "domain": [
          0,
          0.45
         ]
        },
        "xaxis2": {
         "anchor": "y2",
         "domain": [
          0.55,
          1
         ]
        },
        "xaxis3": {
         "anchor": "y3",
         "domain": [
          0,
          0.45
         ]
        },
        "xaxis4": {
         "anchor": "y4",
         "domain": [
          0.55,
          1
         ]
        },
        "yaxis": {
         "anchor": "x",
         "domain": [
          0.625,
          1
         ]
        },
        "yaxis2": {
         "anchor": "x2",
         "domain": [
          0.625,
          1
         ]
        },
        "yaxis3": {
         "anchor": "x3",
         "domain": [
          0,
          0.375
         ]
        },
        "yaxis4": {
         "anchor": "x4",
         "domain": [
          0,
          0.375
         ]
        }
       }
      },
      "text/html": [
       "<div>                            <div id=\"0ada26ea-bd84-40fc-a5e6-e60106a20185\" class=\"plotly-graph-div\" style=\"height:525px; width:100%;\"></div>            <script type=\"text/javascript\">                require([\"plotly\"], function(Plotly) {                    window.PLOTLYENV=window.PLOTLYENV || {};                                    if (document.getElementById(\"0ada26ea-bd84-40fc-a5e6-e60106a20185\")) {                    Plotly.newPlot(                        \"0ada26ea-bd84-40fc-a5e6-e60106a20185\",                        [{\"mode\": \"markers\", \"type\": \"scatter\", \"x\": [830.0, 378.0, 1460.0, 890.0, 835.0, 676.0, 680.0, 1100.0, 355.0, 254.0, 1082.0, 884.0, 1225.0, 1012.0, 2337.0, 700.0, 1282.0, 2063.0, 45.0, 1466.0, 1465.0, 138.0, 1118.0, 135.0, 1273.0, 933.0, 1261.0, 969.0, 564.0, 504.0, 357.0, 468.0, 1465.0, 982.0, 1734.0, 1240.0, 928.0, 1266.0, 1377.0, 610.0, 1260.0, 930.0, 1036.0, 1469.0, 1050.0, 683.0, 1673.0, 777.0, 1289.0, 420.0, 2280.0, 810.0, 112.0, 730.0, 1150.0, 1631.0, 1515.0, 260.0, 1906.0, 1960.0, 1170.0, 1069.0, 1466.0, 1466.0, 428.0, 240.0, 2064.0, 2120.0, 2120.0, 2205.0, 2120.0, 1070.0, 2026.0, 1377.0, 1150.0, 2120.0, 1600.0, 1376.0, 817.0, 2023.0, 933.0, 685.0, 201.0, 325.0, 900.0, 415.0, 930.0, 1570.0, 615.0, 996.0, 1108.0, 870.0, 976.0, 1051.0, 900.0, 1233.0, 710.0, 1990.0, 582.0, 988.0, 683.0, 1099.0, 1620.0, 1100.0, 1870.0, 1541.0, 760.0, 1240.0, 1195.0, 1495.0, 1440.0, 877.0, 1541.0, 1200.0, 700.0, 1266.0, 1270.0, 1337.0, 1188.0, 1337.0, 1730.0, 1541.0, 1337.0, 945.0, 1541.0, 1550.0, 1182.0, 1700.0, 1201.0, 1773.0, 2063.0, 1302.0, 750.0, 1039.0, 1377.0, 2337.0, 625.0, 895.0, 143.0, 970.0, 990.0, 1636.0, 2509.0, 1337.0, 506.0, 2509.0, 896.0, 2509.0, 2509.0, 330.0, 1240.0, 2120.0, 2120.0, 1520.0, 1782.0, 1503.0, 1326.0, 1340.0, 930.0, 1918.0, 1100.0, 108.0, 1300.0, 1164.0, 1920.0, 915.0, 991.0, 450.0, 611.0, 816.0, 1226.0, 930.0, 841.0, 1437.0, 1000.0, 1500.0, 803.0, 1109.0, 1050.0, 1506.0, 860.0, 760.0, 990.0, 1402.0, 1070.0, 4.0, 1086.0, 968.0, 988.0, 1382.0, 788.0, 875.0, 1000.0, 1250.0, 550.0, 400.0, 455.0, 549.0, 914.0, 489.0, 686.0, 1026.0, 695.0, 2034.0, 744.0, 1059.0, 863.0, 230.0, 626.0, 581.0, 280.0, 1036.0, 894.0, 717.0, 832.0, 850.0, 608.0, 847.0, 457.0, 945.0, 1156.0, 188.0, 1063.0, 788.0, 928.0, 712.0, 722.0, 619.0, 1100.0, 707.0, 1778.0, 972.0, 1330.0, 752.0, 1100.0, 680.0, 615.0, 1360.0, 645.0, 798.0, 1380.0, 1240.0, 1116.0, 612.0, 1070.0, 1270.0, 665.0, 650.0, 2020.0, 685.0, 1450.0, 822.0, 402.0, 1183.0, 672.0, 726.0, 1154.0, 1187.0, 1513.0, 1535.0, 671.0, 625.0, 565.0, 1323.0, 579.0, 605.0, 532.0, 1140.0, 240.0, 1050.0, 482.0, 1400.0, 390.0, 610.0, 732.0, 566.0, 320.0, 876.0, 1330.0, 770.0, 1750.0, 1606.0, 1796.0, 953.0, 455.0, 1362.0, 669.0, 690.0, 1370.0, 920.0, 800.0, 955.0, 1289.0, 510.0, 505.0, 1895.0, 793.0, 1159.0, 920.0, 1260.0, 563.0, 715.0, 1495.0, 458.0, 416.0, 518.0, 1108.0, 1713.0, 1692.0, 1688.0, 1096.0, 817.0, 776.0, 960.0, 1250.0, 549.0, 1260.0, 488.0, 1451.0, 1240.0, 1014.0, 488.0, 229.0, 1230.0, 1071.0, 582.0, 2174.0, 840.0, 616.0, 970.0, 1308.0, 1108.0, 1787.0, 800.0, 1305.0, 687.0, 871.0, 497.0, 722.0, 1300.0, 881.0, 308.0, 1061.0, 1225.0, 300.0, 828.0, 402.0, 594.0, 1120.0, 876.0, 420.0, 1564.0, 490.0, 733.0, 1002.0, 953.0, 726.0, 969.0, 541.0, 804.0, 889.0, 1085.0, 1250.0, 1318.0, 2807.0, 1137.0, 20.0, 550.0, 387.0, 1047.0, 302.0, 1489.0, 306.0, 652.0, 480.0, 1095.0, 1175.0, 1052.0, 1250.0, 533.0, 425.0, 976.0, 925.0, 738.0, 1076.0, 805.0, 921.0, 260.0, 46.0, 957.0, 1100.0, 969.0, 1235.0, 815.0, 961.0, 900.0, 719.0, 700.0, 998.0, 700.0, 886.0, 932.0, 250.0, 1350.0, 380.0, 778.0, 1400.0, 1150.0, 565.0, 295.0, 560.0, 945.0, 610.0, 84.0, 590.0, 834.0, 400.0, 348.0, 870.0, 676.0, 1354.0, 618.0, 857.0, 805.0, 66.0, 1060.0, 96.0, 1060.0, 508.0, 901.0, 298.0, 500.0, 520.0, 281.0, 447.0, 940.0, 32.0, 713.0, 800.0, 860.0, 140.0, 1396.0, 622.0, 601.0, 95.0, 1070.0, 1000.0, 309.0, 255.0, 304.0, 396.0, 20.0, 38.0, 25.0, 764.0, 140.0, 230.0, 60.0, 464.0, 817.0, 631.0, 312.0, 415.0, 346.0, 478.0, 252.0, 420.0, 250.0, 1200.0, 610.0, 634.0, 920.0, 850.0, 300.0, 796.0, 427.0, 1199.0, 750.0, 400.0, 970.0, 707.0, 915.0, 676.0, 580.0, 348.0, 854.0, 1050.0, 1302.0, 354.0, 643.0, 125.0, 700.0, 900.0, 630.0, 429.0, 580.0, 1245.0, 370.0, 530.0, 997.0, 770.0], \"xaxis\": \"x\", \"y\": [46, 44, 48, 60, 45, 43, 61, 57, 22, 20, 67, 62, 62, 35, 81, 68, 54, 43, 17, 51, 43, 33, 120, 21, 39, 98, 119, 97, 36, 83, 74, 39, 43, 46, 50, 52, 43, 53, 48, 46, 67, 47, 48, 52, 58, 40, 54, 61, 50, 74, 49, 64, 47, 57, 51, 93, 46, 42, 56, 50, 35, 40, 51, 51, 37, 35, 49, 61, 61, 51, 61, 31, 50, 48, 28, 61, 49, 55, 51, 62, 119, 37, 43, 43, 57, 33, 47, 30, 82, 124, 124, 102, 127, 50, 85, 141, 35, 53, 37, 140, 46, 29, 49, 52, 52, 53, 38, 52, 46, 52, 52, 47, 53, 55, 40, 53, 52, 49, 52, 49, 53, 53, 49, 44, 53, 46, 47, 52, 44, 63, 43, 54, 44, 50, 48, 81, 54, 54, 54, 60, 38, 63, 66, 69, 19, 66, 54, 66, 66, 25, 52, 61, 61, 44, 47, 46, 110, 124, 47, 68, 39, 39, 44, 39, 52, 45, 66, 34, 67, 120, 52, 90, 89, 37, 36, 36, 34, 51, 36, 69, 81, 62, 84, 46, 66, 33, 53, 47, 99, 36, 42, 34, 36, 42, 93, 87, 50, 102, 109, 56, 54, 79, 120, 61, 66, 120, 50, 30, 61, 90, 87, 107, 45, 65, 41, 34, 32, 76, 98, 114, 110, 55, 54, 83, 36, 60, 35, 76, 37, 85, 52, 39, 51, 49, 43, 37, 51, 49, 60, 65, 22, 50, 42, 70, 51, 34, 62, 40, 57, 46, 42, 49, 59, 50, 84, 106, 46, 29, 50, 50, 86, 52, 50, 47, 67, 52, 67, 37, 51, 30, 32, 29, 45, 85, 45, 71, 37, 49, 44, 68, 52, 49, 49, 44, 50, 52, 54, 31, 47, 27, 40, 45, 14, 81, 64, 42, 71, 54, 46, 28, 38, 44, 51, 76, 43, 42, 48, 64, 48, 44, 46, 27, 38, 30, 29, 48, 17, 68, 55, 44, 34, 80, 59, 44, 40, 46, 55, 42, 44, 42, 49, 38, 40, 53, 41, 24, 30, 39, 41, 45, 39, 41, 39, 44, 41, 43, 32, 45, 46, 44, 26, 18, 47, 20, 31, 64, 29, 20, 27, 39, 44, 37, 44, 43, 60, 41, 51, 32, 41, 45, 40, 47, 28, 30, 45, 40, 44, 30, 29, 34, 31, 31, 35, 57, 35, 34, 60, 28, 32, 42, 38, 79, 43, 46, 39, 44, 42, 25, 35, 30, 47, 35, 33, 41, 67, 32, 44, 28, 33, 41, 35, 48, 42, 41, 37, 44, 42, 23, 40, 42, 30, 41, 59, 45, 29, 31, 26, 41, 37, 33, 23, 36, 63, 24, 26, 22, 37, 33, 31, 34, 30, 44, 41, 36, 18, 39, 31, 53, 32, 26, 45, 36, 18, 15, 45, 20, 23, 42, 35, 35, 47, 29, 19, 32, 29, 19, 22, 29, 40, 44, 24, 40, 44, 25, 63, 25, 46, 36, 17, 47, 20, 59, 26, 63, 43, 45, 29, 35, 51, 35, 26, 34, 21, 73, 38, 35, 48, 29, 43, 42, 51], \"yaxis\": \"y\"}, {\"mode\": \"markers\", \"type\": \"scatter\", \"x\": [830.0, 378.0, 1460.0, 835.0, 676.0, 355.0, 254.0, 1012.0, 2337.0, 1282.0, 2063.0, 45.0, 1466.0, 1465.0, 138.0, 1273.0, 564.0, 468.0, 1465.0, 982.0, 1734.0, 1240.0, 928.0, 1266.0, 1377.0, 610.0, 930.0, 1036.0, 1469.0, 1050.0, 683.0, 1673.0, 1289.0, 2280.0, 1515.0, 260.0, 1906.0, 1960.0, 1170.0, 1069.0, 1466.0, 1466.0, 428.0, 240.0, 2064.0, 2120.0, 2120.0, 2205.0, 2120.0, 1070.0, 2026.0, 1377.0, 1150.0, 2120.0, 1600.0, 1376.0, 817.0, 2023.0, 685.0, 201.0, 325.0, 415.0, 930.0, 1570.0, 1051.0, 710.0, 1990.0, 582.0, 683.0, 1099.0, 1620.0, 1100.0, 1870.0, 1541.0, 760.0, 1240.0, 1195.0, 1495.0, 1440.0, 877.0, 1541.0, 1200.0, 700.0, 1266.0, 1270.0, 1337.0, 1188.0, 1337.0, 1730.0, 1541.0, 1337.0, 945.0, 1541.0, 1550.0, 1182.0, 1700.0, 1201.0, 1773.0, 2063.0, 1302.0, 750.0, 1039.0, 1377.0, 2337.0, 625.0, 895.0, 143.0, 970.0, 990.0, 1636.0, 2509.0, 1337.0, 506.0, 2509.0, 896.0, 2509.0, 2509.0, 330.0, 1240.0, 2120.0, 2120.0, 1520.0, 1782.0, 1503.0, 930.0, 1918.0, 1100.0, 108.0, 1300.0, 1164.0, 1920.0, 915.0, 450.0, 1226.0, 1437.0, 1000.0, 1500.0, 803.0, 1109.0, 1050.0, 1506.0, 1402.0, 4.0, 1086.0, 968.0, 1382.0, 788.0, 875.0, 1000.0, 1250.0, 2034.0, 230.0, 894.0, 832.0, 850.0, 608.0, 188.0, 1063.0, 928.0, 722.0, 1100.0, 1778.0, 1330.0, 1100.0, 680.0, 1360.0, 1380.0, 1240.0, 1116.0, 1070.0, 1270.0, 650.0, 2020.0, 685.0, 1450.0, 1183.0, 1154.0, 1187.0, 1513.0, 1535.0, 1323.0, 1140.0, 240.0, 1050.0, 482.0, 1400.0, 320.0, 876.0, 1330.0, 1750.0, 1606.0, 1796.0, 953.0, 455.0, 1362.0, 669.0, 690.0, 1370.0, 920.0, 800.0, 955.0, 1895.0, 1159.0, 920.0, 1260.0, 563.0, 715.0, 1495.0, 416.0, 518.0, 1108.0, 1692.0, 1688.0, 1096.0, 817.0, 776.0, 960.0, 1250.0, 1451.0, 1240.0, 1014.0, 582.0, 2174.0, 840.0, 970.0, 1308.0, 1108.0, 1787.0, 800.0, 1305.0, 687.0, 871.0, 497.0, 722.0, 1300.0, 308.0, 1061.0, 300.0, 402.0, 1120.0, 876.0, 420.0, 1564.0, 490.0, 733.0, 1002.0, 726.0, 969.0, 541.0, 1250.0, 1318.0, 2807.0, 1137.0, 20.0, 550.0, 387.0, 1047.0, 302.0, 1489.0, 306.0, 652.0, 480.0, 1095.0, 1175.0, 1052.0, 1250.0, 533.0, 425.0, 1076.0, 805.0, 260.0, 46.0, 1100.0, 1235.0, 815.0, 961.0, 900.0, 700.0, 998.0, 700.0, 886.0, 932.0, 250.0, 1350.0, 778.0, 1400.0, 1150.0, 565.0, 295.0, 560.0, 945.0, 84.0, 590.0, 834.0, 400.0, 348.0, 870.0, 676.0, 1354.0, 618.0, 805.0, 66.0, 1060.0, 1060.0, 508.0, 901.0, 298.0, 500.0, 281.0, 447.0, 940.0, 32.0, 713.0, 800.0, 860.0, 140.0, 1396.0, 622.0, 601.0, 95.0, 1070.0, 1000.0, 255.0, 304.0, 396.0, 20.0, 38.0, 25.0, 764.0, 140.0, 230.0, 60.0, 464.0, 817.0, 312.0, 415.0, 346.0, 478.0, 252.0, 420.0, 250.0, 1200.0, 610.0, 920.0, 850.0, 300.0, 427.0, 1199.0, 750.0, 400.0, 970.0, 707.0, 915.0, 676.0, 348.0, 854.0, 1050.0, 1302.0, 643.0, 125.0, 700.0, 900.0, 429.0, 580.0, 1245.0, 370.0, 530.0, 997.0], \"xaxis\": \"x2\", \"y\": [46, 44, 48, 45, 43, 22, 20, 35, 81, 54, 43, 17, 51, 43, 33, 39, 36, 39, 43, 46, 50, 52, 43, 53, 48, 46, 47, 48, 52, 58, 40, 54, 50, 49, 46, 42, 56, 50, 35, 40, 51, 51, 37, 35, 49, 61, 61, 51, 61, 31, 50, 48, 28, 61, 49, 55, 51, 62, 37, 43, 43, 33, 47, 30, 50, 35, 53, 37, 46, 29, 49, 52, 52, 53, 38, 52, 46, 52, 52, 47, 53, 55, 40, 53, 52, 49, 52, 49, 53, 53, 49, 44, 53, 46, 47, 52, 44, 63, 43, 54, 44, 50, 48, 81, 54, 54, 54, 60, 38, 63, 66, 69, 19, 66, 54, 66, 66, 25, 52, 61, 61, 44, 47, 46, 47, 68, 39, 39, 44, 39, 52, 45, 34, 52, 37, 36, 36, 34, 51, 36, 69, 46, 33, 53, 47, 36, 42, 34, 36, 42, 61, 30, 45, 41, 34, 32, 55, 54, 36, 35, 37, 52, 51, 43, 37, 49, 22, 50, 42, 51, 34, 40, 57, 46, 42, 50, 46, 29, 50, 50, 47, 37, 51, 30, 32, 29, 37, 49, 44, 52, 49, 49, 44, 50, 52, 54, 31, 47, 27, 40, 45, 42, 54, 46, 28, 38, 44, 51, 43, 42, 48, 48, 44, 46, 27, 38, 30, 29, 55, 44, 34, 46, 55, 42, 42, 49, 38, 40, 53, 41, 24, 30, 39, 41, 45, 41, 39, 41, 32, 46, 44, 26, 18, 47, 20, 31, 29, 20, 27, 44, 43, 60, 41, 51, 32, 41, 45, 40, 47, 28, 30, 45, 40, 44, 30, 29, 34, 31, 35, 34, 28, 32, 38, 43, 46, 39, 44, 25, 35, 30, 47, 35, 33, 41, 32, 44, 28, 33, 41, 35, 48, 41, 37, 44, 42, 23, 40, 42, 30, 41, 45, 29, 31, 41, 37, 33, 23, 36, 24, 26, 22, 37, 33, 31, 34, 30, 44, 41, 36, 18, 39, 31, 32, 26, 45, 36, 18, 15, 45, 20, 23, 42, 35, 35, 29, 19, 32, 29, 19, 22, 29, 40, 44, 40, 44, 25, 25, 46, 36, 17, 47, 20, 59, 26, 43, 45, 29, 35, 35, 26, 34, 21, 38, 35, 48, 29, 43, 42], \"yaxis\": \"y2\"}, {\"mode\": \"markers\", \"type\": \"scatter\", \"x\": [890.0, 1100.0, 1082.0, 884.0, 1225.0, 1118.0, 135.0, 933.0, 1261.0, 969.0, 504.0, 1260.0, 777.0, 810.0, 730.0, 1150.0, 1631.0, 933.0, 615.0, 996.0, 1108.0, 870.0, 976.0, 900.0, 1233.0, 988.0, 1326.0, 1340.0, 991.0, 611.0, 816.0, 930.0, 841.0, 860.0, 760.0, 990.0, 1070.0, 988.0, 550.0, 455.0, 549.0, 914.0, 489.0, 686.0, 1026.0, 695.0, 744.0, 1059.0, 863.0, 626.0, 581.0, 1036.0, 717.0, 847.0, 457.0, 945.0, 1156.0, 788.0, 712.0, 619.0, 707.0, 752.0, 645.0, 798.0, 612.0, 665.0, 822.0, 402.0, 726.0, 671.0, 625.0, 565.0, 579.0, 605.0, 532.0, 390.0, 610.0, 732.0, 566.0, 770.0, 510.0, 505.0, 793.0, 458.0, 1713.0, 549.0, 488.0, 488.0, 229.0, 1230.0, 616.0, 953.0, 921.0, 969.0, 380.0, 857.0, 96.0, 520.0, 309.0, 631.0, 796.0, 580.0, 630.0, 770.0], \"xaxis\": \"x3\", \"y\": [60, 57, 67, 62, 62, 120, 21, 98, 119, 97, 83, 67, 61, 64, 57, 51, 93, 119, 82, 124, 124, 102, 127, 85, 141, 140, 110, 124, 66, 67, 120, 90, 89, 81, 62, 84, 66, 99, 93, 50, 102, 109, 56, 54, 79, 120, 66, 120, 50, 61, 90, 107, 65, 76, 98, 114, 110, 83, 60, 76, 85, 49, 60, 65, 70, 62, 49, 59, 106, 86, 52, 50, 67, 52, 67, 45, 85, 45, 71, 68, 81, 64, 71, 76, 64, 48, 68, 80, 59, 44, 44, 64, 60, 79, 67, 59, 26, 63, 53, 47, 63, 63, 73, 51], \"yaxis\": \"y3\"}, {\"mode\": \"markers\", \"type\": \"scatter\", \"x\": [680.0, 700.0, 357.0, 420.0, 112.0, 900.0, 400.0, 280.0, 972.0, 615.0, 672.0, 1289.0, 1260.0, 1071.0, 881.0, 1225.0, 828.0, 594.0, 804.0, 889.0, 1085.0, 976.0, 925.0, 738.0, 957.0, 719.0, 610.0, 634.0, 354.0], \"xaxis\": \"x4\", \"y\": [61, 68, 74, 74, 47, 57, 87, 87, 39, 51, 84, 14, 17, 40, 39, 44, 43, 45, 39, 44, 37, 31, 35, 57, 42, 42, 42, 24, 51], \"yaxis\": \"y4\"}],                        {\"annotations\": [{\"font\": {\"size\": 16}, \"showarrow\": false, \"text\": \"All\", \"x\": 0.225, \"xanchor\": \"center\", \"xref\": \"paper\", \"y\": 1.0, \"yanchor\": \"bottom\", \"yref\": \"paper\"}, {\"font\": {\"size\": 16}, \"showarrow\": false, \"text\": \"Europe\", \"x\": 0.775, \"xanchor\": \"center\", \"xref\": \"paper\", \"y\": 1.0, \"yanchor\": \"bottom\", \"yref\": \"paper\"}, {\"font\": {\"size\": 16}, \"showarrow\": false, \"text\": \"America\", \"x\": 0.225, \"xanchor\": \"center\", \"xref\": \"paper\", \"y\": 0.375, \"yanchor\": \"bottom\", \"yref\": \"paper\"}, {\"font\": {\"size\": 16}, \"showarrow\": false, \"text\": \"Rest of the World\", \"x\": 0.775, \"xanchor\": \"center\", \"xref\": \"paper\", \"y\": 0.375, \"yanchor\": \"bottom\", \"yref\": \"paper\"}], \"template\": {\"data\": {\"bar\": [{\"error_x\": {\"color\": \"#2a3f5f\"}, \"error_y\": {\"color\": \"#2a3f5f\"}, \"marker\": {\"line\": {\"color\": \"#E5ECF6\", \"width\": 0.5}}, \"type\": \"bar\"}], \"barpolar\": [{\"marker\": {\"line\": {\"color\": \"#E5ECF6\", \"width\": 0.5}}, \"type\": \"barpolar\"}], \"carpet\": [{\"aaxis\": {\"endlinecolor\": \"#2a3f5f\", \"gridcolor\": \"white\", \"linecolor\": \"white\", \"minorgridcolor\": \"white\", \"startlinecolor\": \"#2a3f5f\"}, \"baxis\": {\"endlinecolor\": \"#2a3f5f\", \"gridcolor\": \"white\", \"linecolor\": \"white\", \"minorgridcolor\": \"white\", \"startlinecolor\": \"#2a3f5f\"}, \"type\": \"carpet\"}], \"choropleth\": [{\"colorbar\": {\"outlinewidth\": 0, \"ticks\": \"\"}, \"type\": \"choropleth\"}], \"contour\": [{\"colorbar\": {\"outlinewidth\": 0, \"ticks\": \"\"}, \"colorscale\": [[0.0, \"#0d0887\"], [0.1111111111111111, \"#46039f\"], [0.2222222222222222, \"#7201a8\"], [0.3333333333333333, \"#9c179e\"], [0.4444444444444444, \"#bd3786\"], [0.5555555555555556, \"#d8576b\"], [0.6666666666666666, \"#ed7953\"], [0.7777777777777778, \"#fb9f3a\"], [0.8888888888888888, \"#fdca26\"], [1.0, \"#f0f921\"]], \"type\": \"contour\"}], \"contourcarpet\": [{\"colorbar\": {\"outlinewidth\": 0, \"ticks\": \"\"}, \"type\": \"contourcarpet\"}], \"heatmap\": [{\"colorbar\": {\"outlinewidth\": 0, \"ticks\": \"\"}, \"colorscale\": [[0.0, \"#0d0887\"], [0.1111111111111111, \"#46039f\"], [0.2222222222222222, \"#7201a8\"], [0.3333333333333333, \"#9c179e\"], [0.4444444444444444, \"#bd3786\"], [0.5555555555555556, \"#d8576b\"], [0.6666666666666666, \"#ed7953\"], [0.7777777777777778, \"#fb9f3a\"], [0.8888888888888888, \"#fdca26\"], [1.0, \"#f0f921\"]], \"type\": \"heatmap\"}], \"heatmapgl\": [{\"colorbar\": {\"outlinewidth\": 0, \"ticks\": \"\"}, \"colorscale\": [[0.0, \"#0d0887\"], [0.1111111111111111, \"#46039f\"], [0.2222222222222222, \"#7201a8\"], [0.3333333333333333, \"#9c179e\"], [0.4444444444444444, \"#bd3786\"], [0.5555555555555556, \"#d8576b\"], [0.6666666666666666, \"#ed7953\"], [0.7777777777777778, \"#fb9f3a\"], [0.8888888888888888, \"#fdca26\"], [1.0, \"#f0f921\"]], \"type\": \"heatmapgl\"}], \"histogram\": [{\"marker\": {\"colorbar\": {\"outlinewidth\": 0, \"ticks\": \"\"}}, \"type\": \"histogram\"}], \"histogram2d\": [{\"colorbar\": {\"outlinewidth\": 0, \"ticks\": \"\"}, \"colorscale\": [[0.0, \"#0d0887\"], [0.1111111111111111, \"#46039f\"], [0.2222222222222222, \"#7201a8\"], [0.3333333333333333, \"#9c179e\"], [0.4444444444444444, \"#bd3786\"], [0.5555555555555556, \"#d8576b\"], [0.6666666666666666, \"#ed7953\"], [0.7777777777777778, \"#fb9f3a\"], [0.8888888888888888, \"#fdca26\"], [1.0, \"#f0f921\"]], \"type\": \"histogram2d\"}], \"histogram2dcontour\": [{\"colorbar\": {\"outlinewidth\": 0, \"ticks\": \"\"}, \"colorscale\": [[0.0, \"#0d0887\"], [0.1111111111111111, \"#46039f\"], [0.2222222222222222, \"#7201a8\"], [0.3333333333333333, \"#9c179e\"], [0.4444444444444444, \"#bd3786\"], [0.5555555555555556, \"#d8576b\"], [0.6666666666666666, \"#ed7953\"], [0.7777777777777778, \"#fb9f3a\"], [0.8888888888888888, \"#fdca26\"], [1.0, \"#f0f921\"]], \"type\": \"histogram2dcontour\"}], \"mesh3d\": [{\"colorbar\": {\"outlinewidth\": 0, \"ticks\": \"\"}, \"type\": \"mesh3d\"}], \"parcoords\": [{\"line\": {\"colorbar\": {\"outlinewidth\": 0, \"ticks\": \"\"}}, \"type\": \"parcoords\"}], \"pie\": [{\"automargin\": true, \"type\": \"pie\"}], \"scatter\": [{\"marker\": {\"colorbar\": {\"outlinewidth\": 0, \"ticks\": \"\"}}, \"type\": \"scatter\"}], \"scatter3d\": [{\"line\": {\"colorbar\": {\"outlinewidth\": 0, \"ticks\": \"\"}}, \"marker\": {\"colorbar\": {\"outlinewidth\": 0, \"ticks\": \"\"}}, \"type\": \"scatter3d\"}], \"scattercarpet\": [{\"marker\": {\"colorbar\": {\"outlinewidth\": 0, \"ticks\": \"\"}}, \"type\": \"scattercarpet\"}], \"scattergeo\": [{\"marker\": {\"colorbar\": {\"outlinewidth\": 0, \"ticks\": \"\"}}, \"type\": \"scattergeo\"}], \"scattergl\": [{\"marker\": {\"colorbar\": {\"outlinewidth\": 0, \"ticks\": \"\"}}, \"type\": \"scattergl\"}], \"scattermapbox\": [{\"marker\": {\"colorbar\": {\"outlinewidth\": 0, \"ticks\": \"\"}}, \"type\": \"scattermapbox\"}], \"scatterpolar\": [{\"marker\": {\"colorbar\": {\"outlinewidth\": 0, \"ticks\": \"\"}}, \"type\": \"scatterpolar\"}], \"scatterpolargl\": [{\"marker\": {\"colorbar\": {\"outlinewidth\": 0, \"ticks\": \"\"}}, \"type\": \"scatterpolargl\"}], \"scatterternary\": [{\"marker\": {\"colorbar\": {\"outlinewidth\": 0, \"ticks\": \"\"}}, \"type\": \"scatterternary\"}], \"surface\": [{\"colorbar\": {\"outlinewidth\": 0, \"ticks\": \"\"}, \"colorscale\": [[0.0, \"#0d0887\"], [0.1111111111111111, \"#46039f\"], [0.2222222222222222, \"#7201a8\"], [0.3333333333333333, \"#9c179e\"], [0.4444444444444444, \"#bd3786\"], [0.5555555555555556, \"#d8576b\"], [0.6666666666666666, \"#ed7953\"], [0.7777777777777778, \"#fb9f3a\"], [0.8888888888888888, \"#fdca26\"], [1.0, \"#f0f921\"]], \"type\": \"surface\"}], \"table\": [{\"cells\": {\"fill\": {\"color\": \"#EBF0F8\"}, \"line\": {\"color\": \"white\"}}, \"header\": {\"fill\": {\"color\": \"#C8D4E3\"}, \"line\": {\"color\": \"white\"}}, \"type\": \"table\"}]}, \"layout\": {\"annotationdefaults\": {\"arrowcolor\": \"#2a3f5f\", \"arrowhead\": 0, \"arrowwidth\": 1}, \"autotypenumbers\": \"strict\", \"coloraxis\": {\"colorbar\": {\"outlinewidth\": 0, \"ticks\": \"\"}}, \"colorscale\": {\"diverging\": [[0, \"#8e0152\"], [0.1, \"#c51b7d\"], [0.2, \"#de77ae\"], [0.3, \"#f1b6da\"], [0.4, \"#fde0ef\"], [0.5, \"#f7f7f7\"], [0.6, \"#e6f5d0\"], [0.7, \"#b8e186\"], [0.8, \"#7fbc41\"], [0.9, \"#4d9221\"], [1, \"#276419\"]], \"sequential\": [[0.0, \"#0d0887\"], [0.1111111111111111, \"#46039f\"], [0.2222222222222222, \"#7201a8\"], [0.3333333333333333, \"#9c179e\"], [0.4444444444444444, \"#bd3786\"], [0.5555555555555556, \"#d8576b\"], [0.6666666666666666, \"#ed7953\"], [0.7777777777777778, \"#fb9f3a\"], [0.8888888888888888, \"#fdca26\"], [1.0, \"#f0f921\"]], \"sequentialminus\": [[0.0, \"#0d0887\"], [0.1111111111111111, \"#46039f\"], [0.2222222222222222, \"#7201a8\"], [0.3333333333333333, \"#9c179e\"], [0.4444444444444444, \"#bd3786\"], [0.5555555555555556, \"#d8576b\"], [0.6666666666666666, \"#ed7953\"], [0.7777777777777778, \"#fb9f3a\"], [0.8888888888888888, \"#fdca26\"], [1.0, \"#f0f921\"]]}, \"colorway\": [\"#636efa\", \"#EF553B\", \"#00cc96\", \"#ab63fa\", \"#FFA15A\", \"#19d3f3\", \"#FF6692\", \"#B6E880\", \"#FF97FF\", \"#FECB52\"], \"font\": {\"color\": \"#2a3f5f\"}, \"geo\": {\"bgcolor\": \"white\", \"lakecolor\": \"white\", \"landcolor\": \"#E5ECF6\", \"showlakes\": true, \"showland\": true, \"subunitcolor\": \"white\"}, \"hoverlabel\": {\"align\": \"left\"}, \"hovermode\": \"closest\", \"mapbox\": {\"style\": \"light\"}, \"paper_bgcolor\": \"white\", \"plot_bgcolor\": \"#E5ECF6\", \"polar\": {\"angularaxis\": {\"gridcolor\": \"white\", \"linecolor\": \"white\", \"ticks\": \"\"}, \"bgcolor\": \"#E5ECF6\", \"radialaxis\": {\"gridcolor\": \"white\", \"linecolor\": \"white\", \"ticks\": \"\"}}, \"scene\": {\"xaxis\": {\"backgroundcolor\": \"#E5ECF6\", \"gridcolor\": \"white\", \"gridwidth\": 2, \"linecolor\": \"white\", \"showbackground\": true, \"ticks\": \"\", \"zerolinecolor\": \"white\"}, \"yaxis\": {\"backgroundcolor\": \"#E5ECF6\", \"gridcolor\": \"white\", \"gridwidth\": 2, \"linecolor\": \"white\", \"showbackground\": true, \"ticks\": \"\", \"zerolinecolor\": \"white\"}, \"zaxis\": {\"backgroundcolor\": \"#E5ECF6\", \"gridcolor\": \"white\", \"gridwidth\": 2, \"linecolor\": \"white\", \"showbackground\": true, \"ticks\": \"\", \"zerolinecolor\": \"white\"}}, \"shapedefaults\": {\"line\": {\"color\": \"#2a3f5f\"}}, \"ternary\": {\"aaxis\": {\"gridcolor\": \"white\", \"linecolor\": \"white\", \"ticks\": \"\"}, \"baxis\": {\"gridcolor\": \"white\", \"linecolor\": \"white\", \"ticks\": \"\"}, \"bgcolor\": \"#E5ECF6\", \"caxis\": {\"gridcolor\": \"white\", \"linecolor\": \"white\", \"ticks\": \"\"}}, \"title\": {\"x\": 0.05}, \"xaxis\": {\"automargin\": true, \"gridcolor\": \"white\", \"linecolor\": \"white\", \"ticks\": \"\", \"title\": {\"standoff\": 15}, \"zerolinecolor\": \"white\", \"zerolinewidth\": 2}, \"yaxis\": {\"automargin\": true, \"gridcolor\": \"white\", \"linecolor\": \"white\", \"ticks\": \"\", \"title\": {\"standoff\": 15}, \"zerolinecolor\": \"white\", \"zerolinewidth\": 2}}}, \"xaxis\": {\"anchor\": \"y\", \"domain\": [0.0, 0.45]}, \"xaxis2\": {\"anchor\": \"y2\", \"domain\": [0.55, 1.0]}, \"xaxis3\": {\"anchor\": \"y3\", \"domain\": [0.0, 0.45]}, \"xaxis4\": {\"anchor\": \"y4\", \"domain\": [0.55, 1.0]}, \"yaxis\": {\"anchor\": \"x\", \"domain\": [0.625, 1.0]}, \"yaxis2\": {\"anchor\": \"x2\", \"domain\": [0.625, 1.0]}, \"yaxis3\": {\"anchor\": \"x3\", \"domain\": [0.0, 0.375]}, \"yaxis4\": {\"anchor\": \"x4\", \"domain\": [0.0, 0.375]}},                        {\"responsive\": true}                    ).then(function(){\n",
       "                            \n",
       "var gd = document.getElementById('0ada26ea-bd84-40fc-a5e6-e60106a20185');\n",
       "var x = new MutationObserver(function (mutations, observer) {{\n",
       "        var display = window.getComputedStyle(gd).display;\n",
       "        if (!display || display === 'none') {{\n",
       "            console.log([gd, 'removed!']);\n",
       "            Plotly.purge(gd);\n",
       "            observer.disconnect();\n",
       "        }}\n",
       "}});\n",
       "\n",
       "// Listen for the removal of the full notebook cells\n",
       "var notebookContainer = gd.closest('#notebook-container');\n",
       "if (notebookContainer) {{\n",
       "    x.observe(notebookContainer, {childList: true});\n",
       "}}\n",
       "\n",
       "// Listen for the clearing of the current output cell\n",
       "var outputEl = gd.closest('.output');\n",
       "if (outputEl) {{\n",
       "    x.observe(outputEl, {childList: true});\n",
       "}}\n",
       "\n",
       "                        })                };                });            </script>        </div>"
      ]
     },
     "metadata": {},
     "output_type": "display_data"
    }
   ],
   "source": [
    "fig = make_subplots(\n",
    "    rows=2,cols=2,\n",
    "    subplot_titles=('All', 'Europe', 'America', 'Rest of the World'))\n",
    "\n",
    "fig.add_trace(go.Scatter(x=df['altitude_diff'], y=df['ski_pass_price'], mode='markers'),row=1,col=1)\n",
    "fig.add_trace(go.Scatter(x=euro['altitude_diff'], y=euro['ski_pass_price'], mode='markers'),row=1,col=2)\n",
    "fig.add_trace(go.Scatter(x=america['altitude_diff'], y=america['ski_pass_price'], mode='markers'),row=2,col=1)\n",
    "fig.add_trace(go.Scatter(x=rest['altitude_diff'], y=rest['ski_pass_price'], mode='markers'),row=2,col=2)"
   ]
  },
  {
   "cell_type": "markdown",
   "metadata": {
    "slideshow": {
     "slide_type": "subslide"
    }
   },
   "source": [
    "As suspected there seems to be distinct distributions for each 'continent'. This should hopefully be captured by that variable in the regression model. Let's split the data and start modelling!"
   ]
  },
  {
   "cell_type": "code",
   "execution_count": 94,
   "metadata": {
    "slideshow": {
     "slide_type": "slide"
    }
   },
   "outputs": [],
   "source": [
    "train, Test = train_test_split(df, train_size = 0.6)\n",
    "Test, Validate = train_test_split(Test, train_size = 0.5)"
   ]
  },
  {
   "cell_type": "code",
   "execution_count": 95,
   "metadata": {
    "slideshow": {
     "slide_type": "fragment"
    }
   },
   "outputs": [
    {
     "data": {
      "text/html": [
       "<table class=\"simpletable\">\n",
       "<caption>OLS Regression Results</caption>\n",
       "<tr>\n",
       "  <th>Dep. Variable:</th>     <td>ski_pass_price</td>  <th>  R-squared:         </th> <td>   0.792</td>\n",
       "</tr>\n",
       "<tr>\n",
       "  <th>Model:</th>                   <td>OLS</td>       <th>  Adj. R-squared:    </th> <td>   0.737</td>\n",
       "</tr>\n",
       "<tr>\n",
       "  <th>Method:</th>             <td>Least Squares</td>  <th>  F-statistic:       </th> <td>   14.27</td>\n",
       "</tr>\n",
       "<tr>\n",
       "  <th>Date:</th>             <td>Sat, 10 Apr 2021</td> <th>  Prob (F-statistic):</th> <td>1.28e-52</td>\n",
       "</tr>\n",
       "<tr>\n",
       "  <th>Time:</th>                 <td>19:58:27</td>     <th>  Log-Likelihood:    </th> <td> -1109.1</td>\n",
       "</tr>\n",
       "<tr>\n",
       "  <th>No. Observations:</th>      <td>   300</td>      <th>  AIC:               </th> <td>   2346.</td>\n",
       "</tr>\n",
       "<tr>\n",
       "  <th>Df Residuals:</th>          <td>   236</td>      <th>  BIC:               </th> <td>   2583.</td>\n",
       "</tr>\n",
       "<tr>\n",
       "  <th>Df Model:</th>              <td>    63</td>      <th>                     </th>     <td> </td>   \n",
       "</tr>\n",
       "<tr>\n",
       "  <th>Covariance Type:</th>      <td>nonrobust</td>    <th>                     </th>     <td> </td>   \n",
       "</tr>\n",
       "</table>\n",
       "<table class=\"simpletable\">\n",
       "<tr>\n",
       "                                    <td></td>                                       <th>coef</th>     <th>std err</th>      <th>t</th>      <th>P>|t|</th>  <th>[0.025</th>    <th>0.975]</th>  \n",
       "</tr>\n",
       "<tr>\n",
       "  <th>Intercept</th>                                                             <td>   -7.6482</td> <td>    8.554</td> <td>   -0.894</td> <td> 0.372</td> <td>  -24.500</td> <td>    9.204</td>\n",
       "</tr>\n",
       "<tr>\n",
       "  <th>child_friendly[T.True]</th>                                                <td>   37.0585</td> <td>    9.137</td> <td>    4.056</td> <td> 0.000</td> <td>   19.059</td> <td>   55.058</td>\n",
       "</tr>\n",
       "<tr>\n",
       "  <th>continent[T.Europe]</th>                                                   <td>  -11.3753</td> <td>    5.990</td> <td>   -1.899</td> <td> 0.059</td> <td>  -23.177</td> <td>    0.426</td>\n",
       "</tr>\n",
       "<tr>\n",
       "  <th>continent[T.Rest of the world]</th>                                        <td>    2.1647</td> <td>    3.611</td> <td>    0.599</td> <td> 0.549</td> <td>   -4.950</td> <td>    9.279</td>\n",
       "</tr>\n",
       "<tr>\n",
       "  <th>season[T.December - April June - August October - November]</th>           <td>   -5.8234</td> <td>   11.309</td> <td>   -0.515</td> <td> 0.607</td> <td>  -28.103</td> <td>   16.456</td>\n",
       "</tr>\n",
       "<tr>\n",
       "  <th>season[T.December - March]</th>                                            <td>   -3.3196</td> <td>    2.703</td> <td>   -1.228</td> <td> 0.221</td> <td>   -8.644</td> <td>    2.005</td>\n",
       "</tr>\n",
       "<tr>\n",
       "  <th>season[T.December - May]</th>                                              <td>   -7.3801</td> <td>    7.583</td> <td>   -0.973</td> <td> 0.331</td> <td>  -22.319</td> <td>    7.559</td>\n",
       "</tr>\n",
       "<tr>\n",
       "  <th>season[T.December - depending on snow conditions]</th>                     <td>    2.9913</td> <td>   11.203</td> <td>    0.267</td> <td> 0.790</td> <td>  -19.079</td> <td>   25.062</td>\n",
       "</tr>\n",
       "<tr>\n",
       "  <th>season[T.July - April]</th>                                                <td>   -0.1138</td> <td>   11.307</td> <td>   -0.010</td> <td> 0.992</td> <td>  -22.389</td> <td>   22.161</td>\n",
       "</tr>\n",
       "<tr>\n",
       "  <th>season[T.July - September]</th>                                            <td>  -18.9057</td> <td>   12.199</td> <td>   -1.550</td> <td> 0.123</td> <td>  -42.939</td> <td>    5.128</td>\n",
       "</tr>\n",
       "<tr>\n",
       "  <th>season[T.June - May]</th>                                                  <td>    5.8551</td> <td>   11.154</td> <td>    0.525</td> <td> 0.600</td> <td>  -16.119</td> <td>   27.829</td>\n",
       "</tr>\n",
       "<tr>\n",
       "  <th>season[T.June - October]</th>                                              <td>   22.5528</td> <td>   10.813</td> <td>    2.086</td> <td> 0.038</td> <td>    1.250</td> <td>   43.856</td>\n",
       "</tr>\n",
       "<tr>\n",
       "  <th>season[T.June - September]</th>                                            <td>   15.3426</td> <td>    6.686</td> <td>    2.295</td> <td> 0.023</td> <td>    2.172</td> <td>   28.513</td>\n",
       "</tr>\n",
       "<tr>\n",
       "  <th>season[T.May - September]</th>                                             <td>    0.0799</td> <td>   12.166</td> <td>    0.007</td> <td> 0.995</td> <td>  -23.889</td> <td>   24.049</td>\n",
       "</tr>\n",
       "<tr>\n",
       "  <th>season[T.November - April]</th>                                            <td>    4.5782</td> <td>    2.221</td> <td>    2.061</td> <td> 0.040</td> <td>    0.202</td> <td>    8.955</td>\n",
       "</tr>\n",
       "<tr>\n",
       "  <th>season[T.November - June]</th>                                             <td>   28.5943</td> <td>   11.326</td> <td>    2.525</td> <td> 0.012</td> <td>    6.281</td> <td>   50.908</td>\n",
       "</tr>\n",
       "<tr>\n",
       "  <th>season[T.November - March]</th>                                            <td>   -0.7917</td> <td>   11.242</td> <td>   -0.070</td> <td> 0.944</td> <td>  -22.940</td> <td>   21.356</td>\n",
       "</tr>\n",
       "<tr>\n",
       "  <th>season[T.November - May]</th>                                              <td>    2.0391</td> <td>    2.963</td> <td>    0.688</td> <td> 0.492</td> <td>   -3.799</td> <td>    7.877</td>\n",
       "</tr>\n",
       "<tr>\n",
       "  <th>season[T.November - May June - August]</th>                                <td>   12.7283</td> <td>    8.229</td> <td>    1.547</td> <td> 0.123</td> <td>   -3.482</td> <td>   28.939</td>\n",
       "</tr>\n",
       "<tr>\n",
       "  <th>season[T.October - April]</th>                                             <td>    5.1141</td> <td>    5.949</td> <td>    0.860</td> <td> 0.391</td> <td>   -6.606</td> <td>   16.834</td>\n",
       "</tr>\n",
       "<tr>\n",
       "  <th>season[T.October - June]</th>                                              <td>   10.3147</td> <td>    6.546</td> <td>    1.576</td> <td> 0.116</td> <td>   -2.582</td> <td>   23.212</td>\n",
       "</tr>\n",
       "<tr>\n",
       "  <th>season[T.October - May]</th>                                               <td>   -2.2466</td> <td>    5.129</td> <td>   -0.438</td> <td> 0.662</td> <td>  -12.352</td> <td>    7.859</td>\n",
       "</tr>\n",
       "<tr>\n",
       "  <th>season[T.September - April]</th>                                           <td>   -4.3284</td> <td>   11.146</td> <td>   -0.388</td> <td> 0.698</td> <td>  -26.286</td> <td>   17.629</td>\n",
       "</tr>\n",
       "<tr>\n",
       "  <th>season[T.September - June]</th>                                            <td>   -4.9757</td> <td>    8.101</td> <td>   -0.614</td> <td> 0.540</td> <td>  -20.935</td> <td>   10.983</td>\n",
       "</tr>\n",
       "<tr>\n",
       "  <th>season[T.September - May]</th>                                             <td>    3.5944</td> <td>   11.200</td> <td>    0.321</td> <td> 0.749</td> <td>  -18.471</td> <td>   25.660</td>\n",
       "</tr>\n",
       "<tr>\n",
       "  <th>season[T.Year-round]</th>                                                  <td>   11.8807</td> <td>    8.135</td> <td>    1.460</td> <td> 0.146</td> <td>   -4.146</td> <td>   27.908</td>\n",
       "</tr>\n",
       "<tr>\n",
       "  <th>season[T.depending on snow conditions - April]</th>                        <td>   -9.7183</td> <td>   11.269</td> <td>   -0.862</td> <td> 0.389</td> <td>  -31.919</td> <td>   12.483</td>\n",
       "</tr>\n",
       "<tr>\n",
       "  <th>season[T.depending on snow conditions - July]</th>                         <td>    2.1024</td> <td>   11.231</td> <td>    0.187</td> <td> 0.852</td> <td>  -20.024</td> <td>   24.229</td>\n",
       "</tr>\n",
       "<tr>\n",
       "  <th>season[T.depending on snow conditions - March]</th>                        <td>   -1.8573</td> <td>    8.009</td> <td>   -0.232</td> <td> 0.817</td> <td>  -17.635</td> <td>   13.921</td>\n",
       "</tr>\n",
       "<tr>\n",
       "  <th>season[T.depending on snow conditions - depending on snow conditions]</th> <td>   -3.4785</td> <td>    9.623</td> <td>   -0.361</td> <td> 0.718</td> <td>  -22.436</td> <td>   15.479</td>\n",
       "</tr>\n",
       "<tr>\n",
       "  <th>season[T.no report]</th>                                                   <td>   -9.6128</td> <td>    6.280</td> <td>   -1.531</td> <td> 0.127</td> <td>  -21.986</td> <td>    2.760</td>\n",
       "</tr>\n",
       "<tr>\n",
       "  <th>country_iso[T.ARG]</th>                                                    <td>  -26.4055</td> <td>   11.089</td> <td>   -2.381</td> <td> 0.018</td> <td>  -48.251</td> <td>   -4.560</td>\n",
       "</tr>\n",
       "<tr>\n",
       "  <th>country_iso[T.AUS]</th>                                                    <td>   25.7948</td> <td>    8.319</td> <td>    3.101</td> <td> 0.002</td> <td>    9.405</td> <td>   42.185</td>\n",
       "</tr>\n",
       "<tr>\n",
       "  <th>country_iso[T.AUT]</th>                                                    <td>    6.4169</td> <td>    6.906</td> <td>    0.929</td> <td> 0.354</td> <td>   -7.188</td> <td>   20.022</td>\n",
       "</tr>\n",
       "<tr>\n",
       "  <th>country_iso[T.BGR]</th>                                                    <td>  -17.7573</td> <td>   10.456</td> <td>   -1.698</td> <td> 0.091</td> <td>  -38.356</td> <td>    2.841</td>\n",
       "</tr>\n",
       "<tr>\n",
       "  <th>country_iso[T.CAN]</th>                                                    <td>   11.9846</td> <td>    3.705</td> <td>    3.235</td> <td> 0.001</td> <td>    4.686</td> <td>   19.283</td>\n",
       "</tr>\n",
       "<tr>\n",
       "  <th>country_iso[T.CHE]</th>                                                    <td>   12.3064</td> <td>    7.002</td> <td>    1.758</td> <td> 0.080</td> <td>   -1.487</td> <td>   26.100</td>\n",
       "</tr>\n",
       "<tr>\n",
       "  <th>country_iso[T.CHL]</th>                                                    <td>  -16.6920</td> <td>   11.449</td> <td>   -1.458</td> <td> 0.146</td> <td>  -39.247</td> <td>    5.863</td>\n",
       "</tr>\n",
       "<tr>\n",
       "  <th>country_iso[T.CZE]</th>                                                    <td>    6.0858</td> <td>   12.975</td> <td>    0.469</td> <td> 0.639</td> <td>  -19.475</td> <td>   31.647</td>\n",
       "</tr>\n",
       "<tr>\n",
       "  <th>country_iso[T.DEU]</th>                                                    <td>    0.9872</td> <td>    7.427</td> <td>    0.133</td> <td> 0.894</td> <td>  -13.645</td> <td>   15.620</td>\n",
       "</tr>\n",
       "<tr>\n",
       "  <th>country_iso[T.DNK]</th>                                                    <td>    5.4495</td> <td>   15.402</td> <td>    0.354</td> <td> 0.724</td> <td>  -24.894</td> <td>   35.793</td>\n",
       "</tr>\n",
       "<tr>\n",
       "  <th>country_iso[T.ESP]</th>                                                    <td>    4.4412</td> <td>    9.117</td> <td>    0.487</td> <td> 0.627</td> <td>  -13.520</td> <td>   22.402</td>\n",
       "</tr>\n",
       "<tr>\n",
       "  <th>country_iso[T.FIN]</th>                                                    <td>   10.3147</td> <td>    6.546</td> <td>    1.576</td> <td> 0.116</td> <td>   -2.582</td> <td>   23.212</td>\n",
       "</tr>\n",
       "<tr>\n",
       "  <th>country_iso[T.FRA]</th>                                                    <td>   -2.0793</td> <td>    6.927</td> <td>   -0.300</td> <td> 0.764</td> <td>  -15.725</td> <td>   11.567</td>\n",
       "</tr>\n",
       "<tr>\n",
       "  <th>country_iso[T.GBR]</th>                                                    <td>   26.3923</td> <td>   11.427</td> <td>    2.310</td> <td> 0.022</td> <td>    3.881</td> <td>   48.904</td>\n",
       "</tr>\n",
       "<tr>\n",
       "  <th>country_iso[T.GRC]</th>                                                    <td>    5.2660</td> <td>   14.131</td> <td>    0.373</td> <td> 0.710</td> <td>  -22.572</td> <td>   33.104</td>\n",
       "</tr>\n",
       "<tr>\n",
       "  <th>country_iso[T.IRN]</th>                                                    <td>  -26.8296</td> <td>   10.591</td> <td>   -2.533</td> <td> 0.012</td> <td>  -47.695</td> <td>   -5.964</td>\n",
       "</tr>\n",
       "<tr>\n",
       "  <th>country_iso[T.ITA]</th>                                                    <td>    3.8099</td> <td>    6.933</td> <td>    0.549</td> <td> 0.583</td> <td>   -9.849</td> <td>   17.469</td>\n",
       "</tr>\n",
       "<tr>\n",
       "  <th>country_iso[T.JPN]</th>                                                    <td>   -0.4162</td> <td>    5.265</td> <td>   -0.079</td> <td> 0.937</td> <td>  -10.788</td> <td>    9.955</td>\n",
       "</tr>\n",
       "<tr>\n",
       "  <th>country_iso[T.KAZ]</th>                                                    <td>  -13.6065</td> <td>   11.011</td> <td>   -1.236</td> <td> 0.218</td> <td>  -35.298</td> <td>    8.085</td>\n",
       "</tr>\n",
       "<tr>\n",
       "  <th>country_iso[T.KOR]</th>                                                    <td>    8.5068</td> <td>   10.434</td> <td>    0.815</td> <td> 0.416</td> <td>  -12.048</td> <td>   29.062</td>\n",
       "</tr>\n",
       "<tr>\n",
       "  <th>country_iso[T.LBN]</th>                                                    <td>   12.5200</td> <td>   11.024</td> <td>    1.136</td> <td> 0.257</td> <td>   -9.198</td> <td>   34.238</td>\n",
       "</tr>\n",
       "<tr>\n",
       "  <th>country_iso[T.LIE]</th>                                                    <td>   11.2690</td> <td>   12.908</td> <td>    0.873</td> <td> 0.384</td> <td>  -14.161</td> <td>   36.699</td>\n",
       "</tr>\n",
       "<tr>\n",
       "  <th>country_iso[T.LTU]</th>                                                    <td>   -2.1886</td> <td>   15.390</td> <td>   -0.142</td> <td> 0.887</td> <td>  -32.508</td> <td>   28.131</td>\n",
       "</tr>\n",
       "<tr>\n",
       "  <th>country_iso[T.NOR]</th>                                                    <td>   14.7179</td> <td>    8.307</td> <td>    1.772</td> <td> 0.078</td> <td>   -1.647</td> <td>   31.083</td>\n",
       "</tr>\n",
       "<tr>\n",
       "  <th>country_iso[T.NZL]</th>                                                    <td>   36.2924</td> <td>   10.802</td> <td>    3.360</td> <td> 0.001</td> <td>   15.012</td> <td>   57.573</td>\n",
       "</tr>\n",
       "<tr>\n",
       "  <th>country_iso[T.POL]</th>                                                    <td>   -5.3013</td> <td>   10.408</td> <td>   -0.509</td> <td> 0.611</td> <td>  -25.806</td> <td>   15.203</td>\n",
       "</tr>\n",
       "<tr>\n",
       "  <th>country_iso[T.ROU]</th>                                                    <td>   18.9185</td> <td>   14.225</td> <td>    1.330</td> <td> 0.185</td> <td>   -9.107</td> <td>   46.944</td>\n",
       "</tr>\n",
       "<tr>\n",
       "  <th>country_iso[T.RUS]</th>                                                    <td>   -4.8738</td> <td>    9.357</td> <td>   -0.521</td> <td> 0.603</td> <td>  -23.308</td> <td>   13.561</td>\n",
       "</tr>\n",
       "<tr>\n",
       "  <th>country_iso[T.SRB]</th>                                                    <td>   -4.8078</td> <td>   12.930</td> <td>   -0.372</td> <td> 0.710</td> <td>  -30.281</td> <td>   20.666</td>\n",
       "</tr>\n",
       "<tr>\n",
       "  <th>country_iso[T.SVK]</th>                                                    <td>    6.2368</td> <td>   12.311</td> <td>    0.507</td> <td> 0.613</td> <td>  -18.016</td> <td>   30.490</td>\n",
       "</tr>\n",
       "<tr>\n",
       "  <th>country_iso[T.SVN]</th>                                                    <td>   -2.0471</td> <td>   10.675</td> <td>   -0.192</td> <td> 0.848</td> <td>  -23.078</td> <td>   18.984</td>\n",
       "</tr>\n",
       "<tr>\n",
       "  <th>country_iso[T.SWE]</th>                                                    <td>   12.8641</td> <td>    9.178</td> <td>    1.402</td> <td> 0.162</td> <td>   -5.217</td> <td>   30.945</td>\n",
       "</tr>\n",
       "<tr>\n",
       "  <th>country_iso[T.TUR]</th>                                                    <td>  -40.0970</td> <td>   10.441</td> <td>   -3.840</td> <td> 0.000</td> <td>  -60.666</td> <td>  -19.528</td>\n",
       "</tr>\n",
       "<tr>\n",
       "  <th>country_iso[T.USA]</th>                                                    <td>   32.6753</td> <td>    2.945</td> <td>   11.094</td> <td> 0.000</td> <td>   26.873</td> <td>   38.478</td>\n",
       "</tr>\n",
       "<tr>\n",
       "  <th>max_altitude</th>                                                          <td>    0.0057</td> <td>    0.001</td> <td>    6.923</td> <td> 0.000</td> <td>    0.004</td> <td>    0.007</td>\n",
       "</tr>\n",
       "<tr>\n",
       "  <th>min_altitude</th>                                                          <td>   -0.0007</td> <td>    0.001</td> <td>   -0.659</td> <td> 0.511</td> <td>   -0.003</td> <td>    0.001</td>\n",
       "</tr>\n",
       "<tr>\n",
       "  <th>altitude_diff</th>                                                         <td>    0.0064</td> <td>    0.001</td> <td>    4.780</td> <td> 0.000</td> <td>    0.004</td> <td>    0.009</td>\n",
       "</tr>\n",
       "<tr>\n",
       "  <th>total_slopes</th>                                                          <td>    0.0254</td> <td>    0.008</td> <td>    3.308</td> <td> 0.001</td> <td>    0.010</td> <td>    0.041</td>\n",
       "</tr>\n",
       "</table>\n",
       "<table class=\"simpletable\">\n",
       "<tr>\n",
       "  <th>Omnibus:</th>       <td>38.743</td> <th>  Durbin-Watson:     </th> <td>   1.940</td>\n",
       "</tr>\n",
       "<tr>\n",
       "  <th>Prob(Omnibus):</th> <td> 0.000</td> <th>  Jarque-Bera (JB):  </th> <td> 266.792</td>\n",
       "</tr>\n",
       "<tr>\n",
       "  <th>Skew:</th>          <td> 0.092</td> <th>  Prob(JB):          </th> <td>1.17e-58</td>\n",
       "</tr>\n",
       "<tr>\n",
       "  <th>Kurtosis:</th>      <td> 7.616</td> <th>  Cond. No.          </th> <td>1.41e+21</td>\n",
       "</tr>\n",
       "</table><br/><br/>Notes:<br/>[1] Standard Errors assume that the covariance matrix of the errors is correctly specified.<br/>[2] The smallest eigenvalue is 1.21e-33. This might indicate that there are<br/>strong multicollinearity problems or that the design matrix is singular."
      ],
      "text/plain": [
       "<class 'statsmodels.iolib.summary.Summary'>\n",
       "\"\"\"\n",
       "                            OLS Regression Results                            \n",
       "==============================================================================\n",
       "Dep. Variable:         ski_pass_price   R-squared:                       0.792\n",
       "Model:                            OLS   Adj. R-squared:                  0.737\n",
       "Method:                 Least Squares   F-statistic:                     14.27\n",
       "Date:                Sat, 10 Apr 2021   Prob (F-statistic):           1.28e-52\n",
       "Time:                        19:58:27   Log-Likelihood:                -1109.1\n",
       "No. Observations:                 300   AIC:                             2346.\n",
       "Df Residuals:                     236   BIC:                             2583.\n",
       "Df Model:                          63                                         \n",
       "Covariance Type:            nonrobust                                         \n",
       "=========================================================================================================================================\n",
       "                                                                            coef    std err          t      P>|t|      [0.025      0.975]\n",
       "-----------------------------------------------------------------------------------------------------------------------------------------\n",
       "Intercept                                                                -7.6482      8.554     -0.894      0.372     -24.500       9.204\n",
       "child_friendly[T.True]                                                   37.0585      9.137      4.056      0.000      19.059      55.058\n",
       "continent[T.Europe]                                                     -11.3753      5.990     -1.899      0.059     -23.177       0.426\n",
       "continent[T.Rest of the world]                                            2.1647      3.611      0.599      0.549      -4.950       9.279\n",
       "season[T.December - April June - August October - November]              -5.8234     11.309     -0.515      0.607     -28.103      16.456\n",
       "season[T.December - March]                                               -3.3196      2.703     -1.228      0.221      -8.644       2.005\n",
       "season[T.December - May]                                                 -7.3801      7.583     -0.973      0.331     -22.319       7.559\n",
       "season[T.December - depending on snow conditions]                         2.9913     11.203      0.267      0.790     -19.079      25.062\n",
       "season[T.July - April]                                                   -0.1138     11.307     -0.010      0.992     -22.389      22.161\n",
       "season[T.July - September]                                              -18.9057     12.199     -1.550      0.123     -42.939       5.128\n",
       "season[T.June - May]                                                      5.8551     11.154      0.525      0.600     -16.119      27.829\n",
       "season[T.June - October]                                                 22.5528     10.813      2.086      0.038       1.250      43.856\n",
       "season[T.June - September]                                               15.3426      6.686      2.295      0.023       2.172      28.513\n",
       "season[T.May - September]                                                 0.0799     12.166      0.007      0.995     -23.889      24.049\n",
       "season[T.November - April]                                                4.5782      2.221      2.061      0.040       0.202       8.955\n",
       "season[T.November - June]                                                28.5943     11.326      2.525      0.012       6.281      50.908\n",
       "season[T.November - March]                                               -0.7917     11.242     -0.070      0.944     -22.940      21.356\n",
       "season[T.November - May]                                                  2.0391      2.963      0.688      0.492      -3.799       7.877\n",
       "season[T.November - May June - August]                                   12.7283      8.229      1.547      0.123      -3.482      28.939\n",
       "season[T.October - April]                                                 5.1141      5.949      0.860      0.391      -6.606      16.834\n",
       "season[T.October - June]                                                 10.3147      6.546      1.576      0.116      -2.582      23.212\n",
       "season[T.October - May]                                                  -2.2466      5.129     -0.438      0.662     -12.352       7.859\n",
       "season[T.September - April]                                              -4.3284     11.146     -0.388      0.698     -26.286      17.629\n",
       "season[T.September - June]                                               -4.9757      8.101     -0.614      0.540     -20.935      10.983\n",
       "season[T.September - May]                                                 3.5944     11.200      0.321      0.749     -18.471      25.660\n",
       "season[T.Year-round]                                                     11.8807      8.135      1.460      0.146      -4.146      27.908\n",
       "season[T.depending on snow conditions - April]                           -9.7183     11.269     -0.862      0.389     -31.919      12.483\n",
       "season[T.depending on snow conditions - July]                             2.1024     11.231      0.187      0.852     -20.024      24.229\n",
       "season[T.depending on snow conditions - March]                           -1.8573      8.009     -0.232      0.817     -17.635      13.921\n",
       "season[T.depending on snow conditions - depending on snow conditions]    -3.4785      9.623     -0.361      0.718     -22.436      15.479\n",
       "season[T.no report]                                                      -9.6128      6.280     -1.531      0.127     -21.986       2.760\n",
       "country_iso[T.ARG]                                                      -26.4055     11.089     -2.381      0.018     -48.251      -4.560\n",
       "country_iso[T.AUS]                                                       25.7948      8.319      3.101      0.002       9.405      42.185\n",
       "country_iso[T.AUT]                                                        6.4169      6.906      0.929      0.354      -7.188      20.022\n",
       "country_iso[T.BGR]                                                      -17.7573     10.456     -1.698      0.091     -38.356       2.841\n",
       "country_iso[T.CAN]                                                       11.9846      3.705      3.235      0.001       4.686      19.283\n",
       "country_iso[T.CHE]                                                       12.3064      7.002      1.758      0.080      -1.487      26.100\n",
       "country_iso[T.CHL]                                                      -16.6920     11.449     -1.458      0.146     -39.247       5.863\n",
       "country_iso[T.CZE]                                                        6.0858     12.975      0.469      0.639     -19.475      31.647\n",
       "country_iso[T.DEU]                                                        0.9872      7.427      0.133      0.894     -13.645      15.620\n",
       "country_iso[T.DNK]                                                        5.4495     15.402      0.354      0.724     -24.894      35.793\n",
       "country_iso[T.ESP]                                                        4.4412      9.117      0.487      0.627     -13.520      22.402\n",
       "country_iso[T.FIN]                                                       10.3147      6.546      1.576      0.116      -2.582      23.212\n",
       "country_iso[T.FRA]                                                       -2.0793      6.927     -0.300      0.764     -15.725      11.567\n",
       "country_iso[T.GBR]                                                       26.3923     11.427      2.310      0.022       3.881      48.904\n",
       "country_iso[T.GRC]                                                        5.2660     14.131      0.373      0.710     -22.572      33.104\n",
       "country_iso[T.IRN]                                                      -26.8296     10.591     -2.533      0.012     -47.695      -5.964\n",
       "country_iso[T.ITA]                                                        3.8099      6.933      0.549      0.583      -9.849      17.469\n",
       "country_iso[T.JPN]                                                       -0.4162      5.265     -0.079      0.937     -10.788       9.955\n",
       "country_iso[T.KAZ]                                                      -13.6065     11.011     -1.236      0.218     -35.298       8.085\n",
       "country_iso[T.KOR]                                                        8.5068     10.434      0.815      0.416     -12.048      29.062\n",
       "country_iso[T.LBN]                                                       12.5200     11.024      1.136      0.257      -9.198      34.238\n",
       "country_iso[T.LIE]                                                       11.2690     12.908      0.873      0.384     -14.161      36.699\n",
       "country_iso[T.LTU]                                                       -2.1886     15.390     -0.142      0.887     -32.508      28.131\n",
       "country_iso[T.NOR]                                                       14.7179      8.307      1.772      0.078      -1.647      31.083\n",
       "country_iso[T.NZL]                                                       36.2924     10.802      3.360      0.001      15.012      57.573\n",
       "country_iso[T.POL]                                                       -5.3013     10.408     -0.509      0.611     -25.806      15.203\n",
       "country_iso[T.ROU]                                                       18.9185     14.225      1.330      0.185      -9.107      46.944\n",
       "country_iso[T.RUS]                                                       -4.8738      9.357     -0.521      0.603     -23.308      13.561\n",
       "country_iso[T.SRB]                                                       -4.8078     12.930     -0.372      0.710     -30.281      20.666\n",
       "country_iso[T.SVK]                                                        6.2368     12.311      0.507      0.613     -18.016      30.490\n",
       "country_iso[T.SVN]                                                       -2.0471     10.675     -0.192      0.848     -23.078      18.984\n",
       "country_iso[T.SWE]                                                       12.8641      9.178      1.402      0.162      -5.217      30.945\n",
       "country_iso[T.TUR]                                                      -40.0970     10.441     -3.840      0.000     -60.666     -19.528\n",
       "country_iso[T.USA]                                                       32.6753      2.945     11.094      0.000      26.873      38.478\n",
       "max_altitude                                                              0.0057      0.001      6.923      0.000       0.004       0.007\n",
       "min_altitude                                                             -0.0007      0.001     -0.659      0.511      -0.003       0.001\n",
       "altitude_diff                                                             0.0064      0.001      4.780      0.000       0.004       0.009\n",
       "total_slopes                                                              0.0254      0.008      3.308      0.001       0.010       0.041\n",
       "==============================================================================\n",
       "Omnibus:                       38.743   Durbin-Watson:                   1.940\n",
       "Prob(Omnibus):                  0.000   Jarque-Bera (JB):              266.792\n",
       "Skew:                           0.092   Prob(JB):                     1.17e-58\n",
       "Kurtosis:                       7.616   Cond. No.                     1.41e+21\n",
       "==============================================================================\n",
       "\n",
       "Notes:\n",
       "[1] Standard Errors assume that the covariance matrix of the errors is correctly specified.\n",
       "[2] The smallest eigenvalue is 1.21e-33. This might indicate that there are\n",
       "strong multicollinearity problems or that the design matrix is singular.\n",
       "\"\"\""
      ]
     },
     "execution_count": 95,
     "metadata": {},
     "output_type": "execute_result"
    }
   ],
   "source": [
    "f = 'ski_pass_price ~ ' + ' + '.join(df.columns.drop('ski_pass_price'))\n",
    "model = smf.ols(formula = f, data = train).fit()\n",
    "model.summary()"
   ]
  },
  {
   "cell_type": "markdown",
   "metadata": {
    "slideshow": {
     "slide_type": "subslide"
    }
   },
   "source": [
    "There are a lot of predictors in this model especially for the country and season variables. We get a high R-squared but I suspect it won't generalise very well."
   ]
  },
  {
   "cell_type": "code",
   "execution_count": 96,
   "metadata": {
    "slideshow": {
     "slide_type": "subslide"
    }
   },
   "outputs": [
    {
     "ename": "PatsyError",
     "evalue": "predict requires that you use a DataFrame when predicting from a model\nthat was created using the formula api.\n\nThe original error message returned by patsy is:\nError converting data to categorical: observation with value 'October - November December - May June - October' does not match any of the expected levels (expected: ['December - April', 'December - April June - August October - November', ..., 'depending on snow conditions - depending on snow conditions', 'no report'])\n    ski_pass_price ~ child_friendly + continent + max_altitude + min_altitude + season + country_iso + altitude_diff + total_slopes\n                                                                                ^^^^^^",
     "output_type": "error",
     "traceback": [
      "\u001b[1;31m---------------------------------------------------------------------------\u001b[0m",
      "\u001b[1;31mKeyError\u001b[0m                                  Traceback (most recent call last)",
      "\u001b[1;32mc:\\users\\marcm\\appdata\\local\\programs\\python\\python38-32\\lib\\site-packages\\patsy\\categorical.py\u001b[0m in \u001b[0;36mcategorical_to_int\u001b[1;34m(data, levels, NA_action, origin)\u001b[0m\n\u001b[0;32m    345\u001b[0m             \u001b[1;32mtry\u001b[0m\u001b[1;33m:\u001b[0m\u001b[1;33m\u001b[0m\u001b[1;33m\u001b[0m\u001b[0m\n\u001b[1;32m--> 346\u001b[1;33m                 \u001b[0mout\u001b[0m\u001b[1;33m[\u001b[0m\u001b[0mi\u001b[0m\u001b[1;33m]\u001b[0m \u001b[1;33m=\u001b[0m \u001b[0mlevel_to_int\u001b[0m\u001b[1;33m[\u001b[0m\u001b[0mvalue\u001b[0m\u001b[1;33m]\u001b[0m\u001b[1;33m\u001b[0m\u001b[1;33m\u001b[0m\u001b[0m\n\u001b[0m\u001b[0;32m    347\u001b[0m             \u001b[1;32mexcept\u001b[0m \u001b[0mKeyError\u001b[0m\u001b[1;33m:\u001b[0m\u001b[1;33m\u001b[0m\u001b[1;33m\u001b[0m\u001b[0m\n",
      "\u001b[1;31mKeyError\u001b[0m: 'October - November December - May June - October'",
      "\nDuring handling of the above exception, another exception occurred:\n",
      "\u001b[1;31mPatsyError\u001b[0m                                Traceback (most recent call last)",
      "\u001b[1;32mc:\\users\\marcm\\appdata\\local\\programs\\python\\python38-32\\lib\\site-packages\\statsmodels\\base\\model.py\u001b[0m in \u001b[0;36mpredict\u001b[1;34m(self, exog, transform, *args, **kwargs)\u001b[0m\n\u001b[0;32m   1076\u001b[0m             \u001b[1;32mtry\u001b[0m\u001b[1;33m:\u001b[0m\u001b[1;33m\u001b[0m\u001b[1;33m\u001b[0m\u001b[0m\n\u001b[1;32m-> 1077\u001b[1;33m                 \u001b[0mexog\u001b[0m \u001b[1;33m=\u001b[0m \u001b[0mdmatrix\u001b[0m\u001b[1;33m(\u001b[0m\u001b[0mdesign_info\u001b[0m\u001b[1;33m,\u001b[0m \u001b[0mexog\u001b[0m\u001b[1;33m,\u001b[0m \u001b[0mreturn_type\u001b[0m\u001b[1;33m=\u001b[0m\u001b[1;34m\"dataframe\"\u001b[0m\u001b[1;33m)\u001b[0m\u001b[1;33m\u001b[0m\u001b[1;33m\u001b[0m\u001b[0m\n\u001b[0m\u001b[0;32m   1078\u001b[0m             \u001b[1;32mexcept\u001b[0m \u001b[0mException\u001b[0m \u001b[1;32mas\u001b[0m \u001b[0mexc\u001b[0m\u001b[1;33m:\u001b[0m\u001b[1;33m\u001b[0m\u001b[1;33m\u001b[0m\u001b[0m\n",
      "\u001b[1;32mc:\\users\\marcm\\appdata\\local\\programs\\python\\python38-32\\lib\\site-packages\\patsy\\highlevel.py\u001b[0m in \u001b[0;36mdmatrix\u001b[1;34m(formula_like, data, eval_env, NA_action, return_type)\u001b[0m\n\u001b[0;32m    289\u001b[0m     \u001b[0meval_env\u001b[0m \u001b[1;33m=\u001b[0m \u001b[0mEvalEnvironment\u001b[0m\u001b[1;33m.\u001b[0m\u001b[0mcapture\u001b[0m\u001b[1;33m(\u001b[0m\u001b[0meval_env\u001b[0m\u001b[1;33m,\u001b[0m \u001b[0mreference\u001b[0m\u001b[1;33m=\u001b[0m\u001b[1;36m1\u001b[0m\u001b[1;33m)\u001b[0m\u001b[1;33m\u001b[0m\u001b[1;33m\u001b[0m\u001b[0m\n\u001b[1;32m--> 290\u001b[1;33m     (lhs, rhs) = _do_highlevel_design(formula_like, data, eval_env,\n\u001b[0m\u001b[0;32m    291\u001b[0m                                       NA_action, return_type)\n",
      "\u001b[1;32mc:\\users\\marcm\\appdata\\local\\programs\\python\\python38-32\\lib\\site-packages\\patsy\\highlevel.py\u001b[0m in \u001b[0;36m_do_highlevel_design\u001b[1;34m(formula_like, data, eval_env, NA_action, return_type)\u001b[0m\n\u001b[0;32m    166\u001b[0m     \u001b[1;32mif\u001b[0m \u001b[0mdesign_infos\u001b[0m \u001b[1;32mis\u001b[0m \u001b[1;32mnot\u001b[0m \u001b[1;32mNone\u001b[0m\u001b[1;33m:\u001b[0m\u001b[1;33m\u001b[0m\u001b[1;33m\u001b[0m\u001b[0m\n\u001b[1;32m--> 167\u001b[1;33m         return build_design_matrices(design_infos, data,\n\u001b[0m\u001b[0;32m    168\u001b[0m                                      \u001b[0mNA_action\u001b[0m\u001b[1;33m=\u001b[0m\u001b[0mNA_action\u001b[0m\u001b[1;33m,\u001b[0m\u001b[1;33m\u001b[0m\u001b[1;33m\u001b[0m\u001b[0m\n",
      "\u001b[1;32mc:\\users\\marcm\\appdata\\local\\programs\\python\\python38-32\\lib\\site-packages\\patsy\\build.py\u001b[0m in \u001b[0;36mbuild_design_matrices\u001b[1;34m(design_infos, data, NA_action, return_type, dtype)\u001b[0m\n\u001b[0;32m    887\u001b[0m             \u001b[1;32mif\u001b[0m \u001b[0mfactor_info\u001b[0m \u001b[1;32mnot\u001b[0m \u001b[1;32min\u001b[0m \u001b[0mfactor_info_to_values\u001b[0m\u001b[1;33m:\u001b[0m\u001b[1;33m\u001b[0m\u001b[1;33m\u001b[0m\u001b[0m\n\u001b[1;32m--> 888\u001b[1;33m                 \u001b[0mvalue\u001b[0m\u001b[1;33m,\u001b[0m \u001b[0mis_NA\u001b[0m \u001b[1;33m=\u001b[0m \u001b[0m_eval_factor\u001b[0m\u001b[1;33m(\u001b[0m\u001b[0mfactor_info\u001b[0m\u001b[1;33m,\u001b[0m \u001b[0mdata\u001b[0m\u001b[1;33m,\u001b[0m \u001b[0mNA_action\u001b[0m\u001b[1;33m)\u001b[0m\u001b[1;33m\u001b[0m\u001b[1;33m\u001b[0m\u001b[0m\n\u001b[0m\u001b[0;32m    889\u001b[0m                 \u001b[0mfactor_info_to_isNAs\u001b[0m\u001b[1;33m[\u001b[0m\u001b[0mfactor_info\u001b[0m\u001b[1;33m]\u001b[0m \u001b[1;33m=\u001b[0m \u001b[0mis_NA\u001b[0m\u001b[1;33m\u001b[0m\u001b[1;33m\u001b[0m\u001b[0m\n",
      "\u001b[1;32mc:\\users\\marcm\\appdata\\local\\programs\\python\\python38-32\\lib\\site-packages\\patsy\\build.py\u001b[0m in \u001b[0;36m_eval_factor\u001b[1;34m(factor_info, data, NA_action)\u001b[0m\n\u001b[0;32m     83\u001b[0m         \u001b[1;32massert\u001b[0m \u001b[0mfactor_info\u001b[0m\u001b[1;33m.\u001b[0m\u001b[0mtype\u001b[0m \u001b[1;33m==\u001b[0m \u001b[1;34m\"categorical\"\u001b[0m\u001b[1;33m\u001b[0m\u001b[1;33m\u001b[0m\u001b[0m\n\u001b[1;32m---> 84\u001b[1;33m         result = categorical_to_int(result, factor_info.categories, NA_action,\n\u001b[0m\u001b[0;32m     85\u001b[0m                                     origin=factor_info.factor)\n",
      "\u001b[1;32mc:\\users\\marcm\\appdata\\local\\programs\\python\\python38-32\\lib\\site-packages\\patsy\\categorical.py\u001b[0m in \u001b[0;36mcategorical_to_int\u001b[1;34m(data, levels, NA_action, origin)\u001b[0m\n\u001b[0;32m    358\u001b[0m                 \u001b[0mlevel_str\u001b[0m \u001b[1;33m=\u001b[0m \u001b[1;34m\"[%s]\"\u001b[0m \u001b[1;33m%\u001b[0m \u001b[1;33m(\u001b[0m\u001b[1;34m\", \"\u001b[0m\u001b[1;33m.\u001b[0m\u001b[0mjoin\u001b[0m\u001b[1;33m(\u001b[0m\u001b[0mlevel_strs\u001b[0m\u001b[1;33m)\u001b[0m\u001b[1;33m)\u001b[0m\u001b[1;33m\u001b[0m\u001b[1;33m\u001b[0m\u001b[0m\n\u001b[1;32m--> 359\u001b[1;33m                 raise PatsyError(\"Error converting data to categorical: \"\n\u001b[0m\u001b[0;32m    360\u001b[0m                                  \u001b[1;34m\"observation with value %r does not match \"\u001b[0m\u001b[1;33m\u001b[0m\u001b[1;33m\u001b[0m\u001b[0m\n",
      "\u001b[1;31mPatsyError\u001b[0m: Error converting data to categorical: observation with value 'October - November December - May June - October' does not match any of the expected levels (expected: ['December - April', 'December - April June - August October - November', ..., 'depending on snow conditions - depending on snow conditions', 'no report'])\n    ski_pass_price ~ child_friendly + continent + max_altitude + min_altitude + season + country_iso + altitude_diff + total_slopes\n                                                                                ^^^^^^",
      "\nDuring handling of the above exception, another exception occurred:\n",
      "\u001b[1;31mPatsyError\u001b[0m                                Traceback (most recent call last)",
      "\u001b[1;32m<ipython-input-96-d55dc1f122ef>\u001b[0m in \u001b[0;36m<module>\u001b[1;34m\u001b[0m\n\u001b[1;32m----> 1\u001b[1;33m \u001b[0mpredictions\u001b[0m \u001b[1;33m=\u001b[0m \u001b[0mmodel\u001b[0m\u001b[1;33m.\u001b[0m\u001b[0mpredict\u001b[0m\u001b[1;33m(\u001b[0m\u001b[0mTest\u001b[0m\u001b[1;33m)\u001b[0m\u001b[1;33m\u001b[0m\u001b[1;33m\u001b[0m\u001b[0m\n\u001b[0m",
      "\u001b[1;32mc:\\users\\marcm\\appdata\\local\\programs\\python\\python38-32\\lib\\site-packages\\statsmodels\\base\\model.py\u001b[0m in \u001b[0;36mpredict\u001b[1;34m(self, exog, transform, *args, **kwargs)\u001b[0m\n\u001b[0;32m   1082\u001b[0m                        \u001b[1;34m'\\n\\nThe original error message returned by patsy is:\\n'\u001b[0m\u001b[1;33m\u001b[0m\u001b[1;33m\u001b[0m\u001b[0m\n\u001b[0;32m   1083\u001b[0m                        '{0}'.format(str(str(exc))))\n\u001b[1;32m-> 1084\u001b[1;33m                 \u001b[1;32mraise\u001b[0m \u001b[0mexc\u001b[0m\u001b[1;33m.\u001b[0m\u001b[0m__class__\u001b[0m\u001b[1;33m(\u001b[0m\u001b[0mmsg\u001b[0m\u001b[1;33m)\u001b[0m\u001b[1;33m\u001b[0m\u001b[1;33m\u001b[0m\u001b[0m\n\u001b[0m\u001b[0;32m   1085\u001b[0m             \u001b[1;32mif\u001b[0m \u001b[0morig_exog_len\u001b[0m \u001b[1;33m>\u001b[0m \u001b[0mlen\u001b[0m\u001b[1;33m(\u001b[0m\u001b[0mexog\u001b[0m\u001b[1;33m)\u001b[0m \u001b[1;32mand\u001b[0m \u001b[1;32mnot\u001b[0m \u001b[0mis_dict\u001b[0m\u001b[1;33m:\u001b[0m\u001b[1;33m\u001b[0m\u001b[1;33m\u001b[0m\u001b[0m\n\u001b[0;32m   1086\u001b[0m                 \u001b[1;32mif\u001b[0m \u001b[0mexog_index\u001b[0m \u001b[1;32mis\u001b[0m \u001b[1;32mNone\u001b[0m\u001b[1;33m:\u001b[0m\u001b[1;33m\u001b[0m\u001b[1;33m\u001b[0m\u001b[0m\n",
      "\u001b[1;31mPatsyError\u001b[0m: predict requires that you use a DataFrame when predicting from a model\nthat was created using the formula api.\n\nThe original error message returned by patsy is:\nError converting data to categorical: observation with value 'October - November December - May June - October' does not match any of the expected levels (expected: ['December - April', 'December - April June - August October - November', ..., 'depending on snow conditions - depending on snow conditions', 'no report'])\n    ski_pass_price ~ child_friendly + continent + max_altitude + min_altitude + season + country_iso + altitude_diff + total_slopes\n                                                                                ^^^^^^"
     ]
    }
   ],
   "source": [
    "predictions = model.predict(Test)"
   ]
  },
  {
   "cell_type": "markdown",
   "metadata": {
    "slideshow": {
     "slide_type": "subslide"
    }
   },
   "source": [
    "There's too many categories and not enough data! Looks like we need to drop Season and Country as predictors."
   ]
  },
  {
   "cell_type": "code",
   "execution_count": 97,
   "metadata": {
    "slideshow": {
     "slide_type": "slide"
    }
   },
   "outputs": [
    {
     "data": {
      "text/html": [
       "<table class=\"simpletable\">\n",
       "<caption>OLS Regression Results</caption>\n",
       "<tr>\n",
       "  <th>Dep. Variable:</th>     <td>ski_pass_price</td>  <th>  R-squared:         </th> <td>   0.589</td>\n",
       "</tr>\n",
       "<tr>\n",
       "  <th>Model:</th>                   <td>OLS</td>       <th>  Adj. R-squared:    </th> <td>   0.580</td>\n",
       "</tr>\n",
       "<tr>\n",
       "  <th>Method:</th>             <td>Least Squares</td>  <th>  F-statistic:       </th> <td>   69.86</td>\n",
       "</tr>\n",
       "<tr>\n",
       "  <th>Date:</th>             <td>Sat, 10 Apr 2021</td> <th>  Prob (F-statistic):</th> <td>1.19e-53</td>\n",
       "</tr>\n",
       "<tr>\n",
       "  <th>Time:</th>                 <td>19:58:38</td>     <th>  Log-Likelihood:    </th> <td> -1211.5</td>\n",
       "</tr>\n",
       "<tr>\n",
       "  <th>No. Observations:</th>      <td>   300</td>      <th>  AIC:               </th> <td>   2437.</td>\n",
       "</tr>\n",
       "<tr>\n",
       "  <th>Df Residuals:</th>          <td>   293</td>      <th>  BIC:               </th> <td>   2463.</td>\n",
       "</tr>\n",
       "<tr>\n",
       "  <th>Df Model:</th>              <td>     6</td>      <th>                     </th>     <td> </td>   \n",
       "</tr>\n",
       "<tr>\n",
       "  <th>Covariance Type:</th>      <td>nonrobust</td>    <th>                     </th>     <td> </td>   \n",
       "</tr>\n",
       "</table>\n",
       "<table class=\"simpletable\">\n",
       "<tr>\n",
       "                 <td></td>                   <th>coef</th>     <th>std err</th>      <th>t</th>      <th>P>|t|</th>  <th>[0.025</th>    <th>0.975]</th>  \n",
       "</tr>\n",
       "<tr>\n",
       "  <th>Intercept</th>                      <td>   57.1462</td> <td>    7.663</td> <td>    7.457</td> <td> 0.000</td> <td>   42.065</td> <td>   72.228</td>\n",
       "</tr>\n",
       "<tr>\n",
       "  <th>child_friendly[T.True]</th>         <td>    3.4937</td> <td>    7.206</td> <td>    0.485</td> <td> 0.628</td> <td>  -10.687</td> <td>   17.675</td>\n",
       "</tr>\n",
       "<tr>\n",
       "  <th>continent[T.Europe]</th>            <td>  -35.7531</td> <td>    2.157</td> <td>  -16.578</td> <td> 0.000</td> <td>  -39.998</td> <td>  -31.509</td>\n",
       "</tr>\n",
       "<tr>\n",
       "  <th>continent[T.Rest of the world]</th> <td>  -25.7956</td> <td>    3.765</td> <td>   -6.852</td> <td> 0.000</td> <td>  -33.205</td> <td>  -18.386</td>\n",
       "</tr>\n",
       "<tr>\n",
       "  <th>max_altitude</th>                   <td>    0.0049</td> <td>    0.001</td> <td>    6.463</td> <td> 0.000</td> <td>    0.003</td> <td>    0.006</td>\n",
       "</tr>\n",
       "<tr>\n",
       "  <th>min_altitude</th>                   <td>   -0.0002</td> <td>    0.001</td> <td>   -0.173</td> <td> 0.863</td> <td>   -0.003</td> <td>    0.002</td>\n",
       "</tr>\n",
       "<tr>\n",
       "  <th>altitude_diff</th>                  <td>    0.0051</td> <td>    0.001</td> <td>    3.661</td> <td> 0.000</td> <td>    0.002</td> <td>    0.008</td>\n",
       "</tr>\n",
       "<tr>\n",
       "  <th>total_slopes</th>                   <td>    0.0323</td> <td>    0.009</td> <td>    3.568</td> <td> 0.000</td> <td>    0.015</td> <td>    0.050</td>\n",
       "</tr>\n",
       "</table>\n",
       "<table class=\"simpletable\">\n",
       "<tr>\n",
       "  <th>Omnibus:</th>       <td>18.935</td> <th>  Durbin-Watson:     </th> <td>   2.062</td>\n",
       "</tr>\n",
       "<tr>\n",
       "  <th>Prob(Omnibus):</th> <td> 0.000</td> <th>  Jarque-Bera (JB):  </th> <td>  42.449</td>\n",
       "</tr>\n",
       "<tr>\n",
       "  <th>Skew:</th>          <td> 0.278</td> <th>  Prob(JB):          </th> <td>6.06e-10</td>\n",
       "</tr>\n",
       "<tr>\n",
       "  <th>Kurtosis:</th>      <td> 4.757</td> <th>  Cond. No.          </th> <td>6.47e+15</td>\n",
       "</tr>\n",
       "</table><br/><br/>Notes:<br/>[1] Standard Errors assume that the covariance matrix of the errors is correctly specified.<br/>[2] The smallest eigenvalue is 5.75e-23. This might indicate that there are<br/>strong multicollinearity problems or that the design matrix is singular."
      ],
      "text/plain": [
       "<class 'statsmodels.iolib.summary.Summary'>\n",
       "\"\"\"\n",
       "                            OLS Regression Results                            \n",
       "==============================================================================\n",
       "Dep. Variable:         ski_pass_price   R-squared:                       0.589\n",
       "Model:                            OLS   Adj. R-squared:                  0.580\n",
       "Method:                 Least Squares   F-statistic:                     69.86\n",
       "Date:                Sat, 10 Apr 2021   Prob (F-statistic):           1.19e-53\n",
       "Time:                        19:58:38   Log-Likelihood:                -1211.5\n",
       "No. Observations:                 300   AIC:                             2437.\n",
       "Df Residuals:                     293   BIC:                             2463.\n",
       "Df Model:                           6                                         \n",
       "Covariance Type:            nonrobust                                         \n",
       "==================================================================================================\n",
       "                                     coef    std err          t      P>|t|      [0.025      0.975]\n",
       "--------------------------------------------------------------------------------------------------\n",
       "Intercept                         57.1462      7.663      7.457      0.000      42.065      72.228\n",
       "child_friendly[T.True]             3.4937      7.206      0.485      0.628     -10.687      17.675\n",
       "continent[T.Europe]              -35.7531      2.157    -16.578      0.000     -39.998     -31.509\n",
       "continent[T.Rest of the world]   -25.7956      3.765     -6.852      0.000     -33.205     -18.386\n",
       "max_altitude                       0.0049      0.001      6.463      0.000       0.003       0.006\n",
       "min_altitude                      -0.0002      0.001     -0.173      0.863      -0.003       0.002\n",
       "altitude_diff                      0.0051      0.001      3.661      0.000       0.002       0.008\n",
       "total_slopes                       0.0323      0.009      3.568      0.000       0.015       0.050\n",
       "==============================================================================\n",
       "Omnibus:                       18.935   Durbin-Watson:                   2.062\n",
       "Prob(Omnibus):                  0.000   Jarque-Bera (JB):               42.449\n",
       "Skew:                           0.278   Prob(JB):                     6.06e-10\n",
       "Kurtosis:                       4.757   Cond. No.                     6.47e+15\n",
       "==============================================================================\n",
       "\n",
       "Notes:\n",
       "[1] Standard Errors assume that the covariance matrix of the errors is correctly specified.\n",
       "[2] The smallest eigenvalue is 5.75e-23. This might indicate that there are\n",
       "strong multicollinearity problems or that the design matrix is singular.\n",
       "\"\"\""
      ]
     },
     "execution_count": 97,
     "metadata": {},
     "output_type": "execute_result"
    }
   ],
   "source": [
    "f = 'ski_pass_price ~ ' + ' + '.join(df.columns.drop(['ski_pass_price','season','country_iso']))\n",
    "model = smf.ols(formula = f, data = train).fit()\n",
    "model.summary()"
   ]
  },
  {
   "cell_type": "markdown",
   "metadata": {
    "slideshow": {
     "slide_type": "subslide"
    }
   },
   "source": [
    "Rsquared has gone down as expected and min_altitude is not significant at a=0.05 so we'll drop it."
   ]
  },
  {
   "cell_type": "code",
   "execution_count": 98,
   "metadata": {
    "slideshow": {
     "slide_type": "slide"
    }
   },
   "outputs": [
    {
     "data": {
      "text/html": [
       "<table class=\"simpletable\">\n",
       "<caption>OLS Regression Results</caption>\n",
       "<tr>\n",
       "  <th>Dep. Variable:</th>     <td>ski_pass_price</td>  <th>  R-squared:         </th> <td>   0.577</td>\n",
       "</tr>\n",
       "<tr>\n",
       "  <th>Model:</th>                   <td>OLS</td>       <th>  Adj. R-squared:    </th> <td>   0.572</td>\n",
       "</tr>\n",
       "<tr>\n",
       "  <th>Method:</th>             <td>Least Squares</td>  <th>  F-statistic:       </th> <td>   112.2</td>\n",
       "</tr>\n",
       "<tr>\n",
       "  <th>Date:</th>             <td>Sat, 10 Apr 2021</td> <th>  Prob (F-statistic):</th> <td>6.02e-89</td>\n",
       "</tr>\n",
       "<tr>\n",
       "  <th>Time:</th>                 <td>19:58:43</td>     <th>  Log-Likelihood:    </th> <td> -2017.6</td>\n",
       "</tr>\n",
       "<tr>\n",
       "  <th>No. Observations:</th>      <td>   501</td>      <th>  AIC:               </th> <td>   4049.</td>\n",
       "</tr>\n",
       "<tr>\n",
       "  <th>Df Residuals:</th>          <td>   494</td>      <th>  BIC:               </th> <td>   4079.</td>\n",
       "</tr>\n",
       "<tr>\n",
       "  <th>Df Model:</th>              <td>     6</td>      <th>                     </th>     <td> </td>   \n",
       "</tr>\n",
       "<tr>\n",
       "  <th>Covariance Type:</th>      <td>nonrobust</td>    <th>                     </th>     <td> </td>   \n",
       "</tr>\n",
       "</table>\n",
       "<table class=\"simpletable\">\n",
       "<tr>\n",
       "                 <td></td>                   <th>coef</th>     <th>std err</th>      <th>t</th>      <th>P>|t|</th>  <th>[0.025</th>    <th>0.975]</th>  \n",
       "</tr>\n",
       "<tr>\n",
       "  <th>Intercept</th>                      <td>   56.4400</td> <td>    7.285</td> <td>    7.748</td> <td> 0.000</td> <td>   42.127</td> <td>   70.753</td>\n",
       "</tr>\n",
       "<tr>\n",
       "  <th>child_friendly[T.True]</th>         <td>    4.0362</td> <td>    6.991</td> <td>    0.577</td> <td> 0.564</td> <td>   -9.700</td> <td>   17.772</td>\n",
       "</tr>\n",
       "<tr>\n",
       "  <th>continent[T.Europe]</th>            <td>  -34.9398</td> <td>    1.685</td> <td>  -20.733</td> <td> 0.000</td> <td>  -38.251</td> <td>  -31.629</td>\n",
       "</tr>\n",
       "<tr>\n",
       "  <th>continent[T.Rest of the world]</th> <td>  -23.9408</td> <td>    2.966</td> <td>   -8.070</td> <td> 0.000</td> <td>  -29.769</td> <td>  -18.112</td>\n",
       "</tr>\n",
       "<tr>\n",
       "  <th>max_altitude</th>                   <td>    0.0042</td> <td>    0.001</td> <td>    3.793</td> <td> 0.000</td> <td>    0.002</td> <td>    0.006</td>\n",
       "</tr>\n",
       "<tr>\n",
       "  <th>altitude_diff</th>                  <td>    0.0060</td> <td>    0.002</td> <td>    3.212</td> <td> 0.001</td> <td>    0.002</td> <td>    0.010</td>\n",
       "</tr>\n",
       "<tr>\n",
       "  <th>total_slopes</th>                   <td>    0.0309</td> <td>    0.007</td> <td>    4.336</td> <td> 0.000</td> <td>    0.017</td> <td>    0.045</td>\n",
       "</tr>\n",
       "</table>\n",
       "<table class=\"simpletable\">\n",
       "<tr>\n",
       "  <th>Omnibus:</th>       <td>42.871</td> <th>  Durbin-Watson:     </th> <td>   1.630</td>\n",
       "</tr>\n",
       "<tr>\n",
       "  <th>Prob(Omnibus):</th> <td> 0.000</td> <th>  Jarque-Bera (JB):  </th> <td>  99.936</td>\n",
       "</tr>\n",
       "<tr>\n",
       "  <th>Skew:</th>          <td> 0.457</td> <th>  Prob(JB):          </th> <td>1.99e-22</td>\n",
       "</tr>\n",
       "<tr>\n",
       "  <th>Kurtosis:</th>      <td> 4.988</td> <th>  Cond. No.          </th> <td>4.08e+04</td>\n",
       "</tr>\n",
       "</table><br/><br/>Notes:<br/>[1] Standard Errors assume that the covariance matrix of the errors is correctly specified.<br/>[2] The condition number is large, 4.08e+04. This might indicate that there are<br/>strong multicollinearity or other numerical problems."
      ],
      "text/plain": [
       "<class 'statsmodels.iolib.summary.Summary'>\n",
       "\"\"\"\n",
       "                            OLS Regression Results                            \n",
       "==============================================================================\n",
       "Dep. Variable:         ski_pass_price   R-squared:                       0.577\n",
       "Model:                            OLS   Adj. R-squared:                  0.572\n",
       "Method:                 Least Squares   F-statistic:                     112.2\n",
       "Date:                Sat, 10 Apr 2021   Prob (F-statistic):           6.02e-89\n",
       "Time:                        19:58:43   Log-Likelihood:                -2017.6\n",
       "No. Observations:                 501   AIC:                             4049.\n",
       "Df Residuals:                     494   BIC:                             4079.\n",
       "Df Model:                           6                                         \n",
       "Covariance Type:            nonrobust                                         \n",
       "==================================================================================================\n",
       "                                     coef    std err          t      P>|t|      [0.025      0.975]\n",
       "--------------------------------------------------------------------------------------------------\n",
       "Intercept                         56.4400      7.285      7.748      0.000      42.127      70.753\n",
       "child_friendly[T.True]             4.0362      6.991      0.577      0.564      -9.700      17.772\n",
       "continent[T.Europe]              -34.9398      1.685    -20.733      0.000     -38.251     -31.629\n",
       "continent[T.Rest of the world]   -23.9408      2.966     -8.070      0.000     -29.769     -18.112\n",
       "max_altitude                       0.0042      0.001      3.793      0.000       0.002       0.006\n",
       "altitude_diff                      0.0060      0.002      3.212      0.001       0.002       0.010\n",
       "total_slopes                       0.0309      0.007      4.336      0.000       0.017       0.045\n",
       "==============================================================================\n",
       "Omnibus:                       42.871   Durbin-Watson:                   1.630\n",
       "Prob(Omnibus):                  0.000   Jarque-Bera (JB):               99.936\n",
       "Skew:                           0.457   Prob(JB):                     1.99e-22\n",
       "Kurtosis:                       4.988   Cond. No.                     4.08e+04\n",
       "==============================================================================\n",
       "\n",
       "Notes:\n",
       "[1] Standard Errors assume that the covariance matrix of the errors is correctly specified.\n",
       "[2] The condition number is large, 4.08e+04. This might indicate that there are\n",
       "strong multicollinearity or other numerical problems.\n",
       "\"\"\""
      ]
     },
     "execution_count": 98,
     "metadata": {},
     "output_type": "execute_result"
    }
   ],
   "source": [
    "f = 'ski_pass_price ~ ' + ' + '.join(df.columns.drop(['ski_pass_price','season','country_iso', 'min_altitude']))\n",
    "model = smf.ols(formula = f, data = df).fit()\n",
    "model.summary()"
   ]
  },
  {
   "cell_type": "markdown",
   "metadata": {
    "slideshow": {
     "slide_type": "subslide"
    }
   },
   "source": [
    "Rsquared has gone up! But child_friendly is no longer significant so let's drop it and continue."
   ]
  },
  {
   "cell_type": "code",
   "execution_count": 103,
   "metadata": {
    "slideshow": {
     "slide_type": "slide"
    }
   },
   "outputs": [
    {
     "data": {
      "text/html": [
       "<table class=\"simpletable\">\n",
       "<caption>OLS Regression Results</caption>\n",
       "<tr>\n",
       "  <th>Dep. Variable:</th>     <td>ski_pass_price</td>  <th>  R-squared:         </th> <td>   0.588</td>\n",
       "</tr>\n",
       "<tr>\n",
       "  <th>Model:</th>                   <td>OLS</td>       <th>  Adj. R-squared:    </th> <td>   0.581</td>\n",
       "</tr>\n",
       "<tr>\n",
       "  <th>Method:</th>             <td>Least Squares</td>  <th>  F-statistic:       </th> <td>   84.00</td>\n",
       "</tr>\n",
       "<tr>\n",
       "  <th>Date:</th>             <td>Sat, 10 Apr 2021</td> <th>  Prob (F-statistic):</th> <td>1.39e-54</td>\n",
       "</tr>\n",
       "<tr>\n",
       "  <th>Time:</th>                 <td>20:01:26</td>     <th>  Log-Likelihood:    </th> <td> -1211.6</td>\n",
       "</tr>\n",
       "<tr>\n",
       "  <th>No. Observations:</th>      <td>   300</td>      <th>  AIC:               </th> <td>   2435.</td>\n",
       "</tr>\n",
       "<tr>\n",
       "  <th>Df Residuals:</th>          <td>   294</td>      <th>  BIC:               </th> <td>   2458.</td>\n",
       "</tr>\n",
       "<tr>\n",
       "  <th>Df Model:</th>              <td>     5</td>      <th>                     </th>     <td> </td>   \n",
       "</tr>\n",
       "<tr>\n",
       "  <th>Covariance Type:</th>      <td>nonrobust</td>    <th>                     </th>     <td> </td>   \n",
       "</tr>\n",
       "</table>\n",
       "<table class=\"simpletable\">\n",
       "<tr>\n",
       "                 <td></td>                   <th>coef</th>     <th>std err</th>      <th>t</th>      <th>P>|t|</th>  <th>[0.025</th>    <th>0.975]</th>  \n",
       "</tr>\n",
       "<tr>\n",
       "  <th>Intercept</th>                      <td>   60.5356</td> <td>    3.135</td> <td>   19.309</td> <td> 0.000</td> <td>   54.366</td> <td>   66.706</td>\n",
       "</tr>\n",
       "<tr>\n",
       "  <th>continent[T.Europe]</th>            <td>  -35.7449</td> <td>    2.154</td> <td>  -16.596</td> <td> 0.000</td> <td>  -39.984</td> <td>  -31.506</td>\n",
       "</tr>\n",
       "<tr>\n",
       "  <th>continent[T.Rest of the world]</th> <td>  -26.1228</td> <td>    3.699</td> <td>   -7.062</td> <td> 0.000</td> <td>  -33.403</td> <td>  -18.843</td>\n",
       "</tr>\n",
       "<tr>\n",
       "  <th>max_altitude</th>                   <td>    0.0046</td> <td>    0.001</td> <td>    3.181</td> <td> 0.002</td> <td>    0.002</td> <td>    0.007</td>\n",
       "</tr>\n",
       "<tr>\n",
       "  <th>altitude_diff</th>                  <td>    0.0054</td> <td>    0.002</td> <td>    2.187</td> <td> 0.030</td> <td>    0.001</td> <td>    0.010</td>\n",
       "</tr>\n",
       "<tr>\n",
       "  <th>total_slopes</th>                   <td>    0.0322</td> <td>    0.009</td> <td>    3.560</td> <td> 0.000</td> <td>    0.014</td> <td>    0.050</td>\n",
       "</tr>\n",
       "</table>\n",
       "<table class=\"simpletable\">\n",
       "<tr>\n",
       "  <th>Omnibus:</th>       <td>19.637</td> <th>  Durbin-Watson:     </th> <td>   2.060</td>\n",
       "</tr>\n",
       "<tr>\n",
       "  <th>Prob(Omnibus):</th> <td> 0.000</td> <th>  Jarque-Bera (JB):  </th> <td>  47.954</td>\n",
       "</tr>\n",
       "<tr>\n",
       "  <th>Skew:</th>          <td> 0.255</td> <th>  Prob(JB):          </th> <td>3.86e-11</td>\n",
       "</tr>\n",
       "<tr>\n",
       "  <th>Kurtosis:</th>      <td> 4.891</td> <th>  Cond. No.          </th> <td>1.36e+04</td>\n",
       "</tr>\n",
       "</table><br/><br/>Notes:<br/>[1] Standard Errors assume that the covariance matrix of the errors is correctly specified.<br/>[2] The condition number is large, 1.36e+04. This might indicate that there are<br/>strong multicollinearity or other numerical problems."
      ],
      "text/plain": [
       "<class 'statsmodels.iolib.summary.Summary'>\n",
       "\"\"\"\n",
       "                            OLS Regression Results                            \n",
       "==============================================================================\n",
       "Dep. Variable:         ski_pass_price   R-squared:                       0.588\n",
       "Model:                            OLS   Adj. R-squared:                  0.581\n",
       "Method:                 Least Squares   F-statistic:                     84.00\n",
       "Date:                Sat, 10 Apr 2021   Prob (F-statistic):           1.39e-54\n",
       "Time:                        20:01:26   Log-Likelihood:                -1211.6\n",
       "No. Observations:                 300   AIC:                             2435.\n",
       "Df Residuals:                     294   BIC:                             2458.\n",
       "Df Model:                           5                                         \n",
       "Covariance Type:            nonrobust                                         \n",
       "==================================================================================================\n",
       "                                     coef    std err          t      P>|t|      [0.025      0.975]\n",
       "--------------------------------------------------------------------------------------------------\n",
       "Intercept                         60.5356      3.135     19.309      0.000      54.366      66.706\n",
       "continent[T.Europe]              -35.7449      2.154    -16.596      0.000     -39.984     -31.506\n",
       "continent[T.Rest of the world]   -26.1228      3.699     -7.062      0.000     -33.403     -18.843\n",
       "max_altitude                       0.0046      0.001      3.181      0.002       0.002       0.007\n",
       "altitude_diff                      0.0054      0.002      2.187      0.030       0.001       0.010\n",
       "total_slopes                       0.0322      0.009      3.560      0.000       0.014       0.050\n",
       "==============================================================================\n",
       "Omnibus:                       19.637   Durbin-Watson:                   2.060\n",
       "Prob(Omnibus):                  0.000   Jarque-Bera (JB):               47.954\n",
       "Skew:                           0.255   Prob(JB):                     3.86e-11\n",
       "Kurtosis:                       4.891   Cond. No.                     1.36e+04\n",
       "==============================================================================\n",
       "\n",
       "Notes:\n",
       "[1] Standard Errors assume that the covariance matrix of the errors is correctly specified.\n",
       "[2] The condition number is large, 1.36e+04. This might indicate that there are\n",
       "strong multicollinearity or other numerical problems.\n",
       "\"\"\""
      ]
     },
     "execution_count": 103,
     "metadata": {},
     "output_type": "execute_result"
    }
   ],
   "source": [
    "f = 'ski_pass_price ~ ' + ' + '.join(df.columns.drop(['ski_pass_price','season','country_iso', 'child_friendly', 'min_altitude']))\n",
    "model = smf.ols(formula = f, data = train).fit()\n",
    "model.summary()"
   ]
  },
  {
   "cell_type": "markdown",
   "metadata": {
    "slideshow": {
     "slide_type": "subslide"
    }
   },
   "source": [
    "All the variables are significant so let's see how she performs."
   ]
  },
  {
   "cell_type": "code",
   "execution_count": 104,
   "metadata": {
    "slideshow": {
     "slide_type": "skip"
    }
   },
   "outputs": [],
   "source": [
    "def plot_scatter_and_line(x, scatter_y, line_y, scatter_name, line_name, title, x_title, y_title):\n",
    "\n",
    "    fig = go.Figure()\n",
    "    \n",
    "    fig.add_trace(go.Scatter(\n",
    "        x=x, y=scatter_y, name=scatter_name, mode=\"markers\"))\n",
    "    fig.add_trace(go.Scatter(\n",
    "        x=x, y=line_y, name=line_name))\n",
    "    fig.update_layout(title=title, xaxis_title=x_title,\n",
    "        yaxis_title=y_title)\n",
    "    \n",
    "    return fig"
   ]
  },
  {
   "cell_type": "code",
   "execution_count": 105,
   "metadata": {
    "slideshow": {
     "slide_type": "slide"
    }
   },
   "outputs": [
    {
     "data": {
      "application/vnd.plotly.v1+json": {
       "config": {
        "plotlyServerURL": "https://plot.ly"
       },
       "data": [
        {
         "mode": "markers",
         "name": "Predictions",
         "type": "scatter",
         "x": [
          52,
          51,
          20,
          34,
          74,
          85,
          36,
          71,
          33,
          35,
          120,
          44,
          44,
          44,
          41,
          62,
          66,
          28,
          28,
          54,
          66,
          42,
          49,
          24,
          39,
          55,
          41,
          68,
          55,
          70,
          50,
          44,
          61,
          51,
          93,
          41,
          43,
          61,
          47,
          44,
          43,
          55,
          45,
          45,
          36,
          49,
          35,
          52,
          54,
          28,
          119,
          65,
          29,
          59,
          44,
          53,
          41,
          85,
          23,
          110,
          33,
          53,
          50,
          41,
          52,
          47,
          71,
          33,
          44,
          51,
          54,
          47,
          35,
          34,
          29,
          81,
          50,
          50,
          25,
          19,
          74,
          52,
          61,
          43,
          38,
          33,
          52,
          34,
          39,
          59,
          44,
          43,
          45,
          43,
          87,
          67,
          42,
          44,
          67,
          35
         ],
         "y": [
          45.97209045794664,
          80.69207174968611,
          33.61025719263842,
          39.7886939740169,
          45.65261231372479,
          77.64962613745695,
          44.71327955485493,
          77.47243513891408,
          38.528964302434574,
          34.34075819732632,
          76.42823612268657,
          40.49343234171729,
          38.696220027202,
          35.60189896846042,
          37.91243428384072,
          51.79370866760177,
          53.736076578857705,
          45.68293903574537,
          30.35839253247722,
          73.85287501545673,
          67.00301851032079,
          43.16432271472592,
          77.38173959202948,
          31.471292504869062,
          36.0470784472859,
          50.26292615970755,
          31.185840886267584,
          68.57671305692169,
          42.9500935494256,
          69.27473248790695,
          75.71011483512058,
          37.70615694659251,
          51.17487269182327,
          39.70323629073442,
          77.18712690926257,
          29.390468374892933,
          50.067947836918634,
          70.49566191240056,
          48.78738686014154,
          34.663984206797274,
          34.16818317364382,
          44.19231550341391,
          42.21723049635955,
          32.007944435247175,
          39.084886433483646,
          41.614261085940015,
          33.36389966315218,
          45.38705438961308,
          42.65534566307118,
          43.43503067307751,
          85.81304318824066,
          74.0201011190792,
          40.570570190649235,
          43.637991558653134,
          45.11524379098714,
          55.90164713361456,
          41.73950785543673,
          68.77832608636766,
          32.23071262955229,
          84.42683144784921,
          28.547037594314215,
          55.626096217412574,
          57.0895516237984,
          30.71952991401942,
          49.27150543045127,
          49.79436165091159,
          69.89014407269107,
          33.29632527713926,
          43.604527690045465,
          45.79108557500733,
          40.99740247376887,
          46.180368549753865,
          35.80903663940842,
          39.79408059450501,
          31.831642448194092,
          65.81031734632802,
          45.507874043578795,
          32.12761697761318,
          33.14279478066666,
          35.29017920452424,
          45.59790751452077,
          45.63571333758583,
          51.17487269182327,
          41.51844478862856,
          39.79746723031312,
          30.304448628082874,
          42.60615619973882,
          35.797379754878435,
          46.85220321312636,
          76.02021013699375,
          41.335572621746316,
          41.38769668748375,
          40.146851267415116,
          30.131613717956256,
          44.854495359619904,
          78.2145978761619,
          37.15024018347948,
          42.355292251490766,
          80.82080057508898,
          38.28238944870358
         ]
        },
        {
         "name": "y=x",
         "type": "scatter",
         "x": [
          52,
          51,
          20,
          34,
          74,
          85,
          36,
          71,
          33,
          35,
          120,
          44,
          44,
          44,
          41,
          62,
          66,
          28,
          28,
          54,
          66,
          42,
          49,
          24,
          39,
          55,
          41,
          68,
          55,
          70,
          50,
          44,
          61,
          51,
          93,
          41,
          43,
          61,
          47,
          44,
          43,
          55,
          45,
          45,
          36,
          49,
          35,
          52,
          54,
          28,
          119,
          65,
          29,
          59,
          44,
          53,
          41,
          85,
          23,
          110,
          33,
          53,
          50,
          41,
          52,
          47,
          71,
          33,
          44,
          51,
          54,
          47,
          35,
          34,
          29,
          81,
          50,
          50,
          25,
          19,
          74,
          52,
          61,
          43,
          38,
          33,
          52,
          34,
          39,
          59,
          44,
          43,
          45,
          43,
          87,
          67,
          42,
          44,
          67,
          35
         ],
         "y": [
          52,
          51,
          20,
          34,
          74,
          85,
          36,
          71,
          33,
          35,
          120,
          44,
          44,
          44,
          41,
          62,
          66,
          28,
          28,
          54,
          66,
          42,
          49,
          24,
          39,
          55,
          41,
          68,
          55,
          70,
          50,
          44,
          61,
          51,
          93,
          41,
          43,
          61,
          47,
          44,
          43,
          55,
          45,
          45,
          36,
          49,
          35,
          52,
          54,
          28,
          119,
          65,
          29,
          59,
          44,
          53,
          41,
          85,
          23,
          110,
          33,
          53,
          50,
          41,
          52,
          47,
          71,
          33,
          44,
          51,
          54,
          47,
          35,
          34,
          29,
          81,
          50,
          50,
          25,
          19,
          74,
          52,
          61,
          43,
          38,
          33,
          52,
          34,
          39,
          59,
          44,
          43,
          45,
          43,
          87,
          67,
          42,
          44,
          67,
          35
         ]
        }
       ],
       "layout": {
        "template": {
         "data": {
          "bar": [
           {
            "error_x": {
             "color": "#2a3f5f"
            },
            "error_y": {
             "color": "#2a3f5f"
            },
            "marker": {
             "line": {
              "color": "#E5ECF6",
              "width": 0.5
             }
            },
            "type": "bar"
           }
          ],
          "barpolar": [
           {
            "marker": {
             "line": {
              "color": "#E5ECF6",
              "width": 0.5
             }
            },
            "type": "barpolar"
           }
          ],
          "carpet": [
           {
            "aaxis": {
             "endlinecolor": "#2a3f5f",
             "gridcolor": "white",
             "linecolor": "white",
             "minorgridcolor": "white",
             "startlinecolor": "#2a3f5f"
            },
            "baxis": {
             "endlinecolor": "#2a3f5f",
             "gridcolor": "white",
             "linecolor": "white",
             "minorgridcolor": "white",
             "startlinecolor": "#2a3f5f"
            },
            "type": "carpet"
           }
          ],
          "choropleth": [
           {
            "colorbar": {
             "outlinewidth": 0,
             "ticks": ""
            },
            "type": "choropleth"
           }
          ],
          "contour": [
           {
            "colorbar": {
             "outlinewidth": 0,
             "ticks": ""
            },
            "colorscale": [
             [
              0,
              "#0d0887"
             ],
             [
              0.1111111111111111,
              "#46039f"
             ],
             [
              0.2222222222222222,
              "#7201a8"
             ],
             [
              0.3333333333333333,
              "#9c179e"
             ],
             [
              0.4444444444444444,
              "#bd3786"
             ],
             [
              0.5555555555555556,
              "#d8576b"
             ],
             [
              0.6666666666666666,
              "#ed7953"
             ],
             [
              0.7777777777777778,
              "#fb9f3a"
             ],
             [
              0.8888888888888888,
              "#fdca26"
             ],
             [
              1,
              "#f0f921"
             ]
            ],
            "type": "contour"
           }
          ],
          "contourcarpet": [
           {
            "colorbar": {
             "outlinewidth": 0,
             "ticks": ""
            },
            "type": "contourcarpet"
           }
          ],
          "heatmap": [
           {
            "colorbar": {
             "outlinewidth": 0,
             "ticks": ""
            },
            "colorscale": [
             [
              0,
              "#0d0887"
             ],
             [
              0.1111111111111111,
              "#46039f"
             ],
             [
              0.2222222222222222,
              "#7201a8"
             ],
             [
              0.3333333333333333,
              "#9c179e"
             ],
             [
              0.4444444444444444,
              "#bd3786"
             ],
             [
              0.5555555555555556,
              "#d8576b"
             ],
             [
              0.6666666666666666,
              "#ed7953"
             ],
             [
              0.7777777777777778,
              "#fb9f3a"
             ],
             [
              0.8888888888888888,
              "#fdca26"
             ],
             [
              1,
              "#f0f921"
             ]
            ],
            "type": "heatmap"
           }
          ],
          "heatmapgl": [
           {
            "colorbar": {
             "outlinewidth": 0,
             "ticks": ""
            },
            "colorscale": [
             [
              0,
              "#0d0887"
             ],
             [
              0.1111111111111111,
              "#46039f"
             ],
             [
              0.2222222222222222,
              "#7201a8"
             ],
             [
              0.3333333333333333,
              "#9c179e"
             ],
             [
              0.4444444444444444,
              "#bd3786"
             ],
             [
              0.5555555555555556,
              "#d8576b"
             ],
             [
              0.6666666666666666,
              "#ed7953"
             ],
             [
              0.7777777777777778,
              "#fb9f3a"
             ],
             [
              0.8888888888888888,
              "#fdca26"
             ],
             [
              1,
              "#f0f921"
             ]
            ],
            "type": "heatmapgl"
           }
          ],
          "histogram": [
           {
            "marker": {
             "colorbar": {
              "outlinewidth": 0,
              "ticks": ""
             }
            },
            "type": "histogram"
           }
          ],
          "histogram2d": [
           {
            "colorbar": {
             "outlinewidth": 0,
             "ticks": ""
            },
            "colorscale": [
             [
              0,
              "#0d0887"
             ],
             [
              0.1111111111111111,
              "#46039f"
             ],
             [
              0.2222222222222222,
              "#7201a8"
             ],
             [
              0.3333333333333333,
              "#9c179e"
             ],
             [
              0.4444444444444444,
              "#bd3786"
             ],
             [
              0.5555555555555556,
              "#d8576b"
             ],
             [
              0.6666666666666666,
              "#ed7953"
             ],
             [
              0.7777777777777778,
              "#fb9f3a"
             ],
             [
              0.8888888888888888,
              "#fdca26"
             ],
             [
              1,
              "#f0f921"
             ]
            ],
            "type": "histogram2d"
           }
          ],
          "histogram2dcontour": [
           {
            "colorbar": {
             "outlinewidth": 0,
             "ticks": ""
            },
            "colorscale": [
             [
              0,
              "#0d0887"
             ],
             [
              0.1111111111111111,
              "#46039f"
             ],
             [
              0.2222222222222222,
              "#7201a8"
             ],
             [
              0.3333333333333333,
              "#9c179e"
             ],
             [
              0.4444444444444444,
              "#bd3786"
             ],
             [
              0.5555555555555556,
              "#d8576b"
             ],
             [
              0.6666666666666666,
              "#ed7953"
             ],
             [
              0.7777777777777778,
              "#fb9f3a"
             ],
             [
              0.8888888888888888,
              "#fdca26"
             ],
             [
              1,
              "#f0f921"
             ]
            ],
            "type": "histogram2dcontour"
           }
          ],
          "mesh3d": [
           {
            "colorbar": {
             "outlinewidth": 0,
             "ticks": ""
            },
            "type": "mesh3d"
           }
          ],
          "parcoords": [
           {
            "line": {
             "colorbar": {
              "outlinewidth": 0,
              "ticks": ""
             }
            },
            "type": "parcoords"
           }
          ],
          "pie": [
           {
            "automargin": true,
            "type": "pie"
           }
          ],
          "scatter": [
           {
            "marker": {
             "colorbar": {
              "outlinewidth": 0,
              "ticks": ""
             }
            },
            "type": "scatter"
           }
          ],
          "scatter3d": [
           {
            "line": {
             "colorbar": {
              "outlinewidth": 0,
              "ticks": ""
             }
            },
            "marker": {
             "colorbar": {
              "outlinewidth": 0,
              "ticks": ""
             }
            },
            "type": "scatter3d"
           }
          ],
          "scattercarpet": [
           {
            "marker": {
             "colorbar": {
              "outlinewidth": 0,
              "ticks": ""
             }
            },
            "type": "scattercarpet"
           }
          ],
          "scattergeo": [
           {
            "marker": {
             "colorbar": {
              "outlinewidth": 0,
              "ticks": ""
             }
            },
            "type": "scattergeo"
           }
          ],
          "scattergl": [
           {
            "marker": {
             "colorbar": {
              "outlinewidth": 0,
              "ticks": ""
             }
            },
            "type": "scattergl"
           }
          ],
          "scattermapbox": [
           {
            "marker": {
             "colorbar": {
              "outlinewidth": 0,
              "ticks": ""
             }
            },
            "type": "scattermapbox"
           }
          ],
          "scatterpolar": [
           {
            "marker": {
             "colorbar": {
              "outlinewidth": 0,
              "ticks": ""
             }
            },
            "type": "scatterpolar"
           }
          ],
          "scatterpolargl": [
           {
            "marker": {
             "colorbar": {
              "outlinewidth": 0,
              "ticks": ""
             }
            },
            "type": "scatterpolargl"
           }
          ],
          "scatterternary": [
           {
            "marker": {
             "colorbar": {
              "outlinewidth": 0,
              "ticks": ""
             }
            },
            "type": "scatterternary"
           }
          ],
          "surface": [
           {
            "colorbar": {
             "outlinewidth": 0,
             "ticks": ""
            },
            "colorscale": [
             [
              0,
              "#0d0887"
             ],
             [
              0.1111111111111111,
              "#46039f"
             ],
             [
              0.2222222222222222,
              "#7201a8"
             ],
             [
              0.3333333333333333,
              "#9c179e"
             ],
             [
              0.4444444444444444,
              "#bd3786"
             ],
             [
              0.5555555555555556,
              "#d8576b"
             ],
             [
              0.6666666666666666,
              "#ed7953"
             ],
             [
              0.7777777777777778,
              "#fb9f3a"
             ],
             [
              0.8888888888888888,
              "#fdca26"
             ],
             [
              1,
              "#f0f921"
             ]
            ],
            "type": "surface"
           }
          ],
          "table": [
           {
            "cells": {
             "fill": {
              "color": "#EBF0F8"
             },
             "line": {
              "color": "white"
             }
            },
            "header": {
             "fill": {
              "color": "#C8D4E3"
             },
             "line": {
              "color": "white"
             }
            },
            "type": "table"
           }
          ]
         },
         "layout": {
          "annotationdefaults": {
           "arrowcolor": "#2a3f5f",
           "arrowhead": 0,
           "arrowwidth": 1
          },
          "autotypenumbers": "strict",
          "coloraxis": {
           "colorbar": {
            "outlinewidth": 0,
            "ticks": ""
           }
          },
          "colorscale": {
           "diverging": [
            [
             0,
             "#8e0152"
            ],
            [
             0.1,
             "#c51b7d"
            ],
            [
             0.2,
             "#de77ae"
            ],
            [
             0.3,
             "#f1b6da"
            ],
            [
             0.4,
             "#fde0ef"
            ],
            [
             0.5,
             "#f7f7f7"
            ],
            [
             0.6,
             "#e6f5d0"
            ],
            [
             0.7,
             "#b8e186"
            ],
            [
             0.8,
             "#7fbc41"
            ],
            [
             0.9,
             "#4d9221"
            ],
            [
             1,
             "#276419"
            ]
           ],
           "sequential": [
            [
             0,
             "#0d0887"
            ],
            [
             0.1111111111111111,
             "#46039f"
            ],
            [
             0.2222222222222222,
             "#7201a8"
            ],
            [
             0.3333333333333333,
             "#9c179e"
            ],
            [
             0.4444444444444444,
             "#bd3786"
            ],
            [
             0.5555555555555556,
             "#d8576b"
            ],
            [
             0.6666666666666666,
             "#ed7953"
            ],
            [
             0.7777777777777778,
             "#fb9f3a"
            ],
            [
             0.8888888888888888,
             "#fdca26"
            ],
            [
             1,
             "#f0f921"
            ]
           ],
           "sequentialminus": [
            [
             0,
             "#0d0887"
            ],
            [
             0.1111111111111111,
             "#46039f"
            ],
            [
             0.2222222222222222,
             "#7201a8"
            ],
            [
             0.3333333333333333,
             "#9c179e"
            ],
            [
             0.4444444444444444,
             "#bd3786"
            ],
            [
             0.5555555555555556,
             "#d8576b"
            ],
            [
             0.6666666666666666,
             "#ed7953"
            ],
            [
             0.7777777777777778,
             "#fb9f3a"
            ],
            [
             0.8888888888888888,
             "#fdca26"
            ],
            [
             1,
             "#f0f921"
            ]
           ]
          },
          "colorway": [
           "#636efa",
           "#EF553B",
           "#00cc96",
           "#ab63fa",
           "#FFA15A",
           "#19d3f3",
           "#FF6692",
           "#B6E880",
           "#FF97FF",
           "#FECB52"
          ],
          "font": {
           "color": "#2a3f5f"
          },
          "geo": {
           "bgcolor": "white",
           "lakecolor": "white",
           "landcolor": "#E5ECF6",
           "showlakes": true,
           "showland": true,
           "subunitcolor": "white"
          },
          "hoverlabel": {
           "align": "left"
          },
          "hovermode": "closest",
          "mapbox": {
           "style": "light"
          },
          "paper_bgcolor": "white",
          "plot_bgcolor": "#E5ECF6",
          "polar": {
           "angularaxis": {
            "gridcolor": "white",
            "linecolor": "white",
            "ticks": ""
           },
           "bgcolor": "#E5ECF6",
           "radialaxis": {
            "gridcolor": "white",
            "linecolor": "white",
            "ticks": ""
           }
          },
          "scene": {
           "xaxis": {
            "backgroundcolor": "#E5ECF6",
            "gridcolor": "white",
            "gridwidth": 2,
            "linecolor": "white",
            "showbackground": true,
            "ticks": "",
            "zerolinecolor": "white"
           },
           "yaxis": {
            "backgroundcolor": "#E5ECF6",
            "gridcolor": "white",
            "gridwidth": 2,
            "linecolor": "white",
            "showbackground": true,
            "ticks": "",
            "zerolinecolor": "white"
           },
           "zaxis": {
            "backgroundcolor": "#E5ECF6",
            "gridcolor": "white",
            "gridwidth": 2,
            "linecolor": "white",
            "showbackground": true,
            "ticks": "",
            "zerolinecolor": "white"
           }
          },
          "shapedefaults": {
           "line": {
            "color": "#2a3f5f"
           }
          },
          "ternary": {
           "aaxis": {
            "gridcolor": "white",
            "linecolor": "white",
            "ticks": ""
           },
           "baxis": {
            "gridcolor": "white",
            "linecolor": "white",
            "ticks": ""
           },
           "bgcolor": "#E5ECF6",
           "caxis": {
            "gridcolor": "white",
            "linecolor": "white",
            "ticks": ""
           }
          },
          "title": {
           "x": 0.05
          },
          "xaxis": {
           "automargin": true,
           "gridcolor": "white",
           "linecolor": "white",
           "ticks": "",
           "title": {
            "standoff": 15
           },
           "zerolinecolor": "white",
           "zerolinewidth": 2
          },
          "yaxis": {
           "automargin": true,
           "gridcolor": "white",
           "linecolor": "white",
           "ticks": "",
           "title": {
            "standoff": 15
           },
           "zerolinecolor": "white",
           "zerolinewidth": 2
          }
         }
        },
        "title": {
         "text": "Predicted vs true price"
        },
        "xaxis": {
         "title": {
          "text": "Pass_px"
         }
        },
        "yaxis": {
         "title": {
          "text": "Predicted price"
         }
        }
       }
      },
      "text/html": [
       "<div>                            <div id=\"2c53c5a2-22b6-49c3-bc5f-9e504e9be4aa\" class=\"plotly-graph-div\" style=\"height:525px; width:100%;\"></div>            <script type=\"text/javascript\">                require([\"plotly\"], function(Plotly) {                    window.PLOTLYENV=window.PLOTLYENV || {};                                    if (document.getElementById(\"2c53c5a2-22b6-49c3-bc5f-9e504e9be4aa\")) {                    Plotly.newPlot(                        \"2c53c5a2-22b6-49c3-bc5f-9e504e9be4aa\",                        [{\"mode\": \"markers\", \"name\": \"Predictions\", \"type\": \"scatter\", \"x\": [52, 51, 20, 34, 74, 85, 36, 71, 33, 35, 120, 44, 44, 44, 41, 62, 66, 28, 28, 54, 66, 42, 49, 24, 39, 55, 41, 68, 55, 70, 50, 44, 61, 51, 93, 41, 43, 61, 47, 44, 43, 55, 45, 45, 36, 49, 35, 52, 54, 28, 119, 65, 29, 59, 44, 53, 41, 85, 23, 110, 33, 53, 50, 41, 52, 47, 71, 33, 44, 51, 54, 47, 35, 34, 29, 81, 50, 50, 25, 19, 74, 52, 61, 43, 38, 33, 52, 34, 39, 59, 44, 43, 45, 43, 87, 67, 42, 44, 67, 35], \"y\": [45.97209045794664, 80.69207174968611, 33.61025719263842, 39.7886939740169, 45.65261231372479, 77.64962613745695, 44.71327955485493, 77.47243513891408, 38.528964302434574, 34.34075819732632, 76.42823612268657, 40.49343234171729, 38.696220027202, 35.60189896846042, 37.91243428384072, 51.79370866760177, 53.736076578857705, 45.68293903574537, 30.35839253247722, 73.85287501545673, 67.00301851032079, 43.16432271472592, 77.38173959202948, 31.471292504869062, 36.0470784472859, 50.26292615970755, 31.185840886267584, 68.57671305692169, 42.9500935494256, 69.27473248790695, 75.71011483512058, 37.70615694659251, 51.17487269182327, 39.70323629073442, 77.18712690926257, 29.390468374892933, 50.067947836918634, 70.49566191240056, 48.78738686014154, 34.663984206797274, 34.16818317364382, 44.19231550341391, 42.21723049635955, 32.007944435247175, 39.084886433483646, 41.614261085940015, 33.36389966315218, 45.38705438961308, 42.65534566307118, 43.43503067307751, 85.81304318824066, 74.0201011190792, 40.570570190649235, 43.637991558653134, 45.11524379098714, 55.90164713361456, 41.73950785543673, 68.77832608636766, 32.23071262955229, 84.42683144784921, 28.547037594314215, 55.626096217412574, 57.0895516237984, 30.71952991401942, 49.27150543045127, 49.79436165091159, 69.89014407269107, 33.29632527713926, 43.604527690045465, 45.79108557500733, 40.99740247376887, 46.180368549753865, 35.80903663940842, 39.79408059450501, 31.831642448194092, 65.81031734632802, 45.507874043578795, 32.12761697761318, 33.14279478066666, 35.29017920452424, 45.59790751452077, 45.63571333758583, 51.17487269182327, 41.51844478862856, 39.79746723031312, 30.304448628082874, 42.60615619973882, 35.797379754878435, 46.85220321312636, 76.02021013699375, 41.335572621746316, 41.38769668748375, 40.146851267415116, 30.131613717956256, 44.854495359619904, 78.2145978761619, 37.15024018347948, 42.355292251490766, 80.82080057508898, 38.28238944870358]}, {\"name\": \"y=x\", \"type\": \"scatter\", \"x\": [52, 51, 20, 34, 74, 85, 36, 71, 33, 35, 120, 44, 44, 44, 41, 62, 66, 28, 28, 54, 66, 42, 49, 24, 39, 55, 41, 68, 55, 70, 50, 44, 61, 51, 93, 41, 43, 61, 47, 44, 43, 55, 45, 45, 36, 49, 35, 52, 54, 28, 119, 65, 29, 59, 44, 53, 41, 85, 23, 110, 33, 53, 50, 41, 52, 47, 71, 33, 44, 51, 54, 47, 35, 34, 29, 81, 50, 50, 25, 19, 74, 52, 61, 43, 38, 33, 52, 34, 39, 59, 44, 43, 45, 43, 87, 67, 42, 44, 67, 35], \"y\": [52, 51, 20, 34, 74, 85, 36, 71, 33, 35, 120, 44, 44, 44, 41, 62, 66, 28, 28, 54, 66, 42, 49, 24, 39, 55, 41, 68, 55, 70, 50, 44, 61, 51, 93, 41, 43, 61, 47, 44, 43, 55, 45, 45, 36, 49, 35, 52, 54, 28, 119, 65, 29, 59, 44, 53, 41, 85, 23, 110, 33, 53, 50, 41, 52, 47, 71, 33, 44, 51, 54, 47, 35, 34, 29, 81, 50, 50, 25, 19, 74, 52, 61, 43, 38, 33, 52, 34, 39, 59, 44, 43, 45, 43, 87, 67, 42, 44, 67, 35]}],                        {\"template\": {\"data\": {\"bar\": [{\"error_x\": {\"color\": \"#2a3f5f\"}, \"error_y\": {\"color\": \"#2a3f5f\"}, \"marker\": {\"line\": {\"color\": \"#E5ECF6\", \"width\": 0.5}}, \"type\": \"bar\"}], \"barpolar\": [{\"marker\": {\"line\": {\"color\": \"#E5ECF6\", \"width\": 0.5}}, \"type\": \"barpolar\"}], \"carpet\": [{\"aaxis\": {\"endlinecolor\": \"#2a3f5f\", \"gridcolor\": \"white\", \"linecolor\": \"white\", \"minorgridcolor\": \"white\", \"startlinecolor\": \"#2a3f5f\"}, \"baxis\": {\"endlinecolor\": \"#2a3f5f\", \"gridcolor\": \"white\", \"linecolor\": \"white\", \"minorgridcolor\": \"white\", \"startlinecolor\": \"#2a3f5f\"}, \"type\": \"carpet\"}], \"choropleth\": [{\"colorbar\": {\"outlinewidth\": 0, \"ticks\": \"\"}, \"type\": \"choropleth\"}], \"contour\": [{\"colorbar\": {\"outlinewidth\": 0, \"ticks\": \"\"}, \"colorscale\": [[0.0, \"#0d0887\"], [0.1111111111111111, \"#46039f\"], [0.2222222222222222, \"#7201a8\"], [0.3333333333333333, \"#9c179e\"], [0.4444444444444444, \"#bd3786\"], [0.5555555555555556, \"#d8576b\"], [0.6666666666666666, \"#ed7953\"], [0.7777777777777778, \"#fb9f3a\"], [0.8888888888888888, \"#fdca26\"], [1.0, \"#f0f921\"]], \"type\": \"contour\"}], \"contourcarpet\": [{\"colorbar\": {\"outlinewidth\": 0, \"ticks\": \"\"}, \"type\": \"contourcarpet\"}], \"heatmap\": [{\"colorbar\": {\"outlinewidth\": 0, \"ticks\": \"\"}, \"colorscale\": [[0.0, \"#0d0887\"], [0.1111111111111111, \"#46039f\"], [0.2222222222222222, \"#7201a8\"], [0.3333333333333333, \"#9c179e\"], [0.4444444444444444, \"#bd3786\"], [0.5555555555555556, \"#d8576b\"], [0.6666666666666666, \"#ed7953\"], [0.7777777777777778, \"#fb9f3a\"], [0.8888888888888888, \"#fdca26\"], [1.0, \"#f0f921\"]], \"type\": \"heatmap\"}], \"heatmapgl\": [{\"colorbar\": {\"outlinewidth\": 0, \"ticks\": \"\"}, \"colorscale\": [[0.0, \"#0d0887\"], [0.1111111111111111, \"#46039f\"], [0.2222222222222222, \"#7201a8\"], [0.3333333333333333, \"#9c179e\"], [0.4444444444444444, \"#bd3786\"], [0.5555555555555556, \"#d8576b\"], [0.6666666666666666, \"#ed7953\"], [0.7777777777777778, \"#fb9f3a\"], [0.8888888888888888, \"#fdca26\"], [1.0, \"#f0f921\"]], \"type\": \"heatmapgl\"}], \"histogram\": [{\"marker\": {\"colorbar\": {\"outlinewidth\": 0, \"ticks\": \"\"}}, \"type\": \"histogram\"}], \"histogram2d\": [{\"colorbar\": {\"outlinewidth\": 0, \"ticks\": \"\"}, \"colorscale\": [[0.0, \"#0d0887\"], [0.1111111111111111, \"#46039f\"], [0.2222222222222222, \"#7201a8\"], [0.3333333333333333, \"#9c179e\"], [0.4444444444444444, \"#bd3786\"], [0.5555555555555556, \"#d8576b\"], [0.6666666666666666, \"#ed7953\"], [0.7777777777777778, \"#fb9f3a\"], [0.8888888888888888, \"#fdca26\"], [1.0, \"#f0f921\"]], \"type\": \"histogram2d\"}], \"histogram2dcontour\": [{\"colorbar\": {\"outlinewidth\": 0, \"ticks\": \"\"}, \"colorscale\": [[0.0, \"#0d0887\"], [0.1111111111111111, \"#46039f\"], [0.2222222222222222, \"#7201a8\"], [0.3333333333333333, \"#9c179e\"], [0.4444444444444444, \"#bd3786\"], [0.5555555555555556, \"#d8576b\"], [0.6666666666666666, \"#ed7953\"], [0.7777777777777778, \"#fb9f3a\"], [0.8888888888888888, \"#fdca26\"], [1.0, \"#f0f921\"]], \"type\": \"histogram2dcontour\"}], \"mesh3d\": [{\"colorbar\": {\"outlinewidth\": 0, \"ticks\": \"\"}, \"type\": \"mesh3d\"}], \"parcoords\": [{\"line\": {\"colorbar\": {\"outlinewidth\": 0, \"ticks\": \"\"}}, \"type\": \"parcoords\"}], \"pie\": [{\"automargin\": true, \"type\": \"pie\"}], \"scatter\": [{\"marker\": {\"colorbar\": {\"outlinewidth\": 0, \"ticks\": \"\"}}, \"type\": \"scatter\"}], \"scatter3d\": [{\"line\": {\"colorbar\": {\"outlinewidth\": 0, \"ticks\": \"\"}}, \"marker\": {\"colorbar\": {\"outlinewidth\": 0, \"ticks\": \"\"}}, \"type\": \"scatter3d\"}], \"scattercarpet\": [{\"marker\": {\"colorbar\": {\"outlinewidth\": 0, \"ticks\": \"\"}}, \"type\": \"scattercarpet\"}], \"scattergeo\": [{\"marker\": {\"colorbar\": {\"outlinewidth\": 0, \"ticks\": \"\"}}, \"type\": \"scattergeo\"}], \"scattergl\": [{\"marker\": {\"colorbar\": {\"outlinewidth\": 0, \"ticks\": \"\"}}, \"type\": \"scattergl\"}], \"scattermapbox\": [{\"marker\": {\"colorbar\": {\"outlinewidth\": 0, \"ticks\": \"\"}}, \"type\": \"scattermapbox\"}], \"scatterpolar\": [{\"marker\": {\"colorbar\": {\"outlinewidth\": 0, \"ticks\": \"\"}}, \"type\": \"scatterpolar\"}], \"scatterpolargl\": [{\"marker\": {\"colorbar\": {\"outlinewidth\": 0, \"ticks\": \"\"}}, \"type\": \"scatterpolargl\"}], \"scatterternary\": [{\"marker\": {\"colorbar\": {\"outlinewidth\": 0, \"ticks\": \"\"}}, \"type\": \"scatterternary\"}], \"surface\": [{\"colorbar\": {\"outlinewidth\": 0, \"ticks\": \"\"}, \"colorscale\": [[0.0, \"#0d0887\"], [0.1111111111111111, \"#46039f\"], [0.2222222222222222, \"#7201a8\"], [0.3333333333333333, \"#9c179e\"], [0.4444444444444444, \"#bd3786\"], [0.5555555555555556, \"#d8576b\"], [0.6666666666666666, \"#ed7953\"], [0.7777777777777778, \"#fb9f3a\"], [0.8888888888888888, \"#fdca26\"], [1.0, \"#f0f921\"]], \"type\": \"surface\"}], \"table\": [{\"cells\": {\"fill\": {\"color\": \"#EBF0F8\"}, \"line\": {\"color\": \"white\"}}, \"header\": {\"fill\": {\"color\": \"#C8D4E3\"}, \"line\": {\"color\": \"white\"}}, \"type\": \"table\"}]}, \"layout\": {\"annotationdefaults\": {\"arrowcolor\": \"#2a3f5f\", \"arrowhead\": 0, \"arrowwidth\": 1}, \"autotypenumbers\": \"strict\", \"coloraxis\": {\"colorbar\": {\"outlinewidth\": 0, \"ticks\": \"\"}}, \"colorscale\": {\"diverging\": [[0, \"#8e0152\"], [0.1, \"#c51b7d\"], [0.2, \"#de77ae\"], [0.3, \"#f1b6da\"], [0.4, \"#fde0ef\"], [0.5, \"#f7f7f7\"], [0.6, \"#e6f5d0\"], [0.7, \"#b8e186\"], [0.8, \"#7fbc41\"], [0.9, \"#4d9221\"], [1, \"#276419\"]], \"sequential\": [[0.0, \"#0d0887\"], [0.1111111111111111, \"#46039f\"], [0.2222222222222222, \"#7201a8\"], [0.3333333333333333, \"#9c179e\"], [0.4444444444444444, \"#bd3786\"], [0.5555555555555556, \"#d8576b\"], [0.6666666666666666, \"#ed7953\"], [0.7777777777777778, \"#fb9f3a\"], [0.8888888888888888, \"#fdca26\"], [1.0, \"#f0f921\"]], \"sequentialminus\": [[0.0, \"#0d0887\"], [0.1111111111111111, \"#46039f\"], [0.2222222222222222, \"#7201a8\"], [0.3333333333333333, \"#9c179e\"], [0.4444444444444444, \"#bd3786\"], [0.5555555555555556, \"#d8576b\"], [0.6666666666666666, \"#ed7953\"], [0.7777777777777778, \"#fb9f3a\"], [0.8888888888888888, \"#fdca26\"], [1.0, \"#f0f921\"]]}, \"colorway\": [\"#636efa\", \"#EF553B\", \"#00cc96\", \"#ab63fa\", \"#FFA15A\", \"#19d3f3\", \"#FF6692\", \"#B6E880\", \"#FF97FF\", \"#FECB52\"], \"font\": {\"color\": \"#2a3f5f\"}, \"geo\": {\"bgcolor\": \"white\", \"lakecolor\": \"white\", \"landcolor\": \"#E5ECF6\", \"showlakes\": true, \"showland\": true, \"subunitcolor\": \"white\"}, \"hoverlabel\": {\"align\": \"left\"}, \"hovermode\": \"closest\", \"mapbox\": {\"style\": \"light\"}, \"paper_bgcolor\": \"white\", \"plot_bgcolor\": \"#E5ECF6\", \"polar\": {\"angularaxis\": {\"gridcolor\": \"white\", \"linecolor\": \"white\", \"ticks\": \"\"}, \"bgcolor\": \"#E5ECF6\", \"radialaxis\": {\"gridcolor\": \"white\", \"linecolor\": \"white\", \"ticks\": \"\"}}, \"scene\": {\"xaxis\": {\"backgroundcolor\": \"#E5ECF6\", \"gridcolor\": \"white\", \"gridwidth\": 2, \"linecolor\": \"white\", \"showbackground\": true, \"ticks\": \"\", \"zerolinecolor\": \"white\"}, \"yaxis\": {\"backgroundcolor\": \"#E5ECF6\", \"gridcolor\": \"white\", \"gridwidth\": 2, \"linecolor\": \"white\", \"showbackground\": true, \"ticks\": \"\", \"zerolinecolor\": \"white\"}, \"zaxis\": {\"backgroundcolor\": \"#E5ECF6\", \"gridcolor\": \"white\", \"gridwidth\": 2, \"linecolor\": \"white\", \"showbackground\": true, \"ticks\": \"\", \"zerolinecolor\": \"white\"}}, \"shapedefaults\": {\"line\": {\"color\": \"#2a3f5f\"}}, \"ternary\": {\"aaxis\": {\"gridcolor\": \"white\", \"linecolor\": \"white\", \"ticks\": \"\"}, \"baxis\": {\"gridcolor\": \"white\", \"linecolor\": \"white\", \"ticks\": \"\"}, \"bgcolor\": \"#E5ECF6\", \"caxis\": {\"gridcolor\": \"white\", \"linecolor\": \"white\", \"ticks\": \"\"}}, \"title\": {\"x\": 0.05}, \"xaxis\": {\"automargin\": true, \"gridcolor\": \"white\", \"linecolor\": \"white\", \"ticks\": \"\", \"title\": {\"standoff\": 15}, \"zerolinecolor\": \"white\", \"zerolinewidth\": 2}, \"yaxis\": {\"automargin\": true, \"gridcolor\": \"white\", \"linecolor\": \"white\", \"ticks\": \"\", \"title\": {\"standoff\": 15}, \"zerolinecolor\": \"white\", \"zerolinewidth\": 2}}}, \"title\": {\"text\": \"Predicted vs true price\"}, \"xaxis\": {\"title\": {\"text\": \"Pass_px\"}}, \"yaxis\": {\"title\": {\"text\": \"Predicted price\"}}},                        {\"responsive\": true}                    ).then(function(){\n",
       "                            \n",
       "var gd = document.getElementById('2c53c5a2-22b6-49c3-bc5f-9e504e9be4aa');\n",
       "var x = new MutationObserver(function (mutations, observer) {{\n",
       "        var display = window.getComputedStyle(gd).display;\n",
       "        if (!display || display === 'none') {{\n",
       "            console.log([gd, 'removed!']);\n",
       "            Plotly.purge(gd);\n",
       "            observer.disconnect();\n",
       "        }}\n",
       "}});\n",
       "\n",
       "// Listen for the removal of the full notebook cells\n",
       "var notebookContainer = gd.closest('#notebook-container');\n",
       "if (notebookContainer) {{\n",
       "    x.observe(notebookContainer, {childList: true});\n",
       "}}\n",
       "\n",
       "// Listen for the clearing of the current output cell\n",
       "var outputEl = gd.closest('.output');\n",
       "if (outputEl) {{\n",
       "    x.observe(outputEl, {childList: true});\n",
       "}}\n",
       "\n",
       "                        })                };                });            </script>        </div>"
      ]
     },
     "metadata": {},
     "output_type": "display_data"
    }
   ],
   "source": [
    "Test['predictions'] = model.predict(Test)\n",
    "px.scatter(Test, x= 'predictions', y = 'ski_pass_price')\n",
    "line_y = Test['ski_pass_price']\n",
    "plot_scatter_and_line(Test['ski_pass_price'], Test['predictions'], line_y, 'Predictions', 'y=x','Predicted vs true price', 'Pass_px', 'Predicted price')\n"
   ]
  },
  {
   "cell_type": "markdown",
   "metadata": {
    "slideshow": {
     "slide_type": "subslide"
    }
   },
   "source": [
    "Seems to be some outliers and quite a bit of variance. Let's calculate the RMSE."
   ]
  },
  {
   "cell_type": "code",
   "execution_count": 106,
   "metadata": {
    "slideshow": {
     "slide_type": "subslide"
    }
   },
   "outputs": [
    {
     "name": "stdout",
     "output_type": "stream",
     "text": [
      "RMSE:  12.762805604898878\n",
      "\n",
      "Mean ski pass price:  50.37\n",
      "\n",
      "Comparison:  25.338109201705137 %\n"
     ]
    }
   ],
   "source": [
    "RMSE = np.sqrt(mean_squared_error(Test['predictions'],Test['ski_pass_price']))\n",
    "mean_pass = Test['ski_pass_price'].mean()\n",
    "print('RMSE: ', RMSE)\n",
    "print()\n",
    "print('Mean ski pass price: ', mean_pass)\n",
    "print()\n",
    "print('Comparison: ', RMSE/mean_pass *100, '%')\n"
   ]
  },
  {
   "cell_type": "markdown",
   "metadata": {
    "slideshow": {
     "slide_type": "fragment"
    }
   },
   "source": [
    "RMSE is about 25% of the mean price... Not a brilliant model. Let's investigate by plotting the residuals of the model."
   ]
  },
  {
   "cell_type": "code",
   "execution_count": 108,
   "metadata": {
    "slideshow": {
     "slide_type": "slide"
    }
   },
   "outputs": [
    {
     "data": {
      "application/vnd.plotly.v1+json": {
       "config": {
        "plotlyServerURL": "https://plot.ly"
       },
       "data": [
        {
         "mode": "markers",
         "name": "Model residuals",
         "type": "scatter",
         "x": [
          43,
          49,
          22,
          29,
          36,
          44,
          39,
          32,
          49,
          22,
          51,
          35,
          73,
          54,
          93,
          44,
          52,
          40,
          40,
          97,
          30,
          57,
          42,
          53,
          31,
          102,
          58,
          61,
          34,
          32,
          42,
          22,
          48,
          49,
          39,
          52,
          45,
          61,
          46,
          46,
          44,
          52,
          55,
          54,
          59,
          63,
          43,
          24,
          49,
          63,
          45,
          36,
          48,
          49,
          38,
          50,
          41,
          39,
          45,
          18,
          30,
          38,
          19,
          46,
          41,
          56,
          64,
          82,
          38,
          38,
          37,
          36,
          39,
          61,
          87,
          98,
          29,
          40,
          48,
          40,
          67,
          52,
          32,
          31,
          68,
          41,
          37,
          53,
          31,
          45,
          26,
          42,
          60,
          43,
          42,
          44,
          40,
          35,
          44,
          22,
          30,
          50,
          90,
          114,
          57,
          20,
          89,
          26,
          31,
          57,
          30,
          40,
          31,
          35,
          43,
          29,
          46,
          60,
          29,
          46,
          36,
          45,
          76,
          37,
          37,
          21,
          49,
          20,
          47,
          49,
          39,
          48,
          23,
          52,
          54,
          43,
          36,
          39,
          80,
          29,
          30,
          45,
          30,
          127,
          44,
          81,
          53,
          41,
          45,
          52,
          32,
          53,
          107,
          50,
          46,
          53,
          102,
          44,
          30,
          19,
          49,
          46,
          62,
          30,
          51,
          49,
          33,
          79,
          48,
          46,
          32,
          46,
          47,
          34,
          31,
          36,
          63,
          67,
          48,
          27,
          51,
          18,
          41,
          66,
          61,
          25,
          53,
          66,
          68,
          34,
          62,
          51,
          66,
          34,
          25,
          99,
          29,
          39,
          84,
          40,
          47,
          98,
          42,
          124,
          120,
          52,
          34,
          69,
          68,
          62,
          25,
          38,
          28,
          45,
          110,
          40,
          47,
          17,
          51,
          36,
          63,
          57,
          40,
          33,
          46,
          35,
          49,
          63,
          60,
          47,
          23,
          44,
          52,
          41,
          42,
          83,
          44,
          40,
          33,
          52,
          36,
          35,
          42,
          54,
          35,
          76,
          29,
          124,
          140,
          32,
          44,
          79,
          47,
          57,
          35,
          46,
          65,
          43,
          66,
          54,
          61,
          30,
          85,
          47,
          50,
          46,
          51,
          48,
          81,
          106,
          26,
          124,
          48,
          46,
          37,
          48,
          42,
          21,
          35,
          37,
          50,
          47,
          54,
          84,
          53,
          61,
          31,
          60,
          81,
          62,
          55,
          17,
          60,
          119,
          44,
          51,
          45,
          35,
          31,
          42
         ],
         "y": [
          -2.025223119542275,
          -3.376260231844512,
          -11.25061727832496,
          -14.412895095422549,
          -0.2966802111917346,
          2.401356299529752,
          -4.07451643296384,
          2.8885642227806763,
          2.4351044382406,
          -9.49916660644337,
          -11.788019171097147,
          -4.267641234917335,
          4.761994199114298,
          15.111975508268053,
          6.655823773197383,
          11.013113203969716,
          5.28234324055213,
          -8.663873606979294,
          9.461321669675947,
          9.076531529100293,
          -9.210928411148842,
          10.749008454296423,
          5.496255013342896,
          -11.951445489350277,
          -7.4456108336936495,
          26.322322000983362,
          14.232261324229185,
          12.07539886949214,
          -0.6228287586299857,
          -3.3853801303584987,
          3.538534685022519,
          -14.710736866639849,
          5.6857198077265565,
          -3.9561152899097394,
          -3.3638178889754755,
          1.172683872526349,
          10.79406699802744,
          13.43376875208289,
          2.662634140680858,
          6.559686031103517,
          -5.559399775505447,
          8.875912116280055,
          8.71619893661115,
          7.825388517087184,
          -19.105693206836108,
          -8.7631315288873,
          14.239438547866023,
          -24.291876951090885,
          5.963194714483535,
          8.879885245390888,
          -24.627510930768352,
          -3.672280527743503,
          -0.315358236492969,
          -11.005432055769816,
          -1.9726194491775573,
          4.201676630109269,
          1.8128418005357219,
          -0.7884567817456372,
          9.490744266128424,
          -10.750999800524308,
          -9.303785528154982,
          -2.6857457009815064,
          -17.26774779979332,
          2.2120994827550646,
          10.442838907222168,
          -4.726764121846017,
          -16.07320942571485,
          -0.46678075304041045,
          -0.06927309564422757,
          3.680195703096807,
          -7.005725395799182,
          -5.561751071045315,
          1.5789869862703583,
          -9.495661912400564,
          42.8391100937217,
          11.379567347243523,
          -14.860371401785706,
          -1.292816357977344,
          4.78022919108588,
          -6.315075359807153,
          -8.645139589640053,
          0.6427386272724576,
          -4.31923281780923,
          -6.074447479330097,
          18.89590050986248,
          2.5708071278806273,
          2.0272737153952463,
          -2.90164713361456,
          -5.337126484560514,
          10.66846832509949,
          -41.12524384950781,
          5.795746738964517,
          -15.529578707115135,
          11.01919181373863,
          -2.0253550162199545,
          2.4349898328620867,
          -0.21315346118662148,
          0.48722302229553804,
          10.617239313154393,
          -20.97167111118334,
          -16.659395110021997,
          -21.72849427290521,
          18.500786745649066,
          32.775410522052155,
          7.33641696491825,
          -14.562085252086547,
          6.494538823498019,
          -2.8434136127932064,
          -8.903673530790655,
          -23.091727653156312,
          0.8442775275681171,
          3.141328138247289,
          -24.90307211731266,
          -1.4498506678914254,
          8.269570210481241,
          3.098852077688175,
          8.251253715740553,
          -8.064389354125368,
          -4.616906675698388,
          3.6004825087664045,
          0.3960153228214054,
          -32.766282143937644,
          0.5983326948356478,
          -10.901752402100684,
          11.472003615127623,
          -50.45827357071016,
          0.09123013737921326,
          -15.162288710412142,
          -1.7873868601415381,
          -1.2049726845718922,
          -11.332690342484163,
          3.2390157249873113,
          -7.242839419903614,
          -15.609412040765932,
          5.005432670479486,
          -1.882149035596285,
          -5.523424552120737,
          -4.4512216143471335,
          1.596992177566463,
          -13.177843152837958,
          -1.2609686333110908,
          3.5602419702948325,
          -12.757371198782948,
          37.77689357850417,
          2.084784621148721,
          15.18968265367198,
          3.9924789917686923,
          -1.93732063310118,
          5.458295506661344,
          11.357015971058175,
          -5.418843673656781,
          -2.90164713361456,
          27.973307687471518,
          4.040243442365735,
          -3.0516149788381597,
          2.985574903303686,
          20.77822504536121,
          -3.487724424442561,
          -11.793144074092474,
          -11.046821525427049,
          -5.446239336702689,
          12.423419518574384,
          -17.28665333733848,
          -7.063830765191192,
          1.86190515476504,
          -1.2049726845718922,
          -8.230028621785728,
          0.14294809338943537,
          -31.57896403039166,
          -0.7399720926964122,
          -0.29826110618085977,
          11.866178729091715,
          4.974889367060513,
          -4.084051055252878,
          -4.737491214098753,
          0.8760587163511175,
          8.889493252994221,
          -9.382359011137027,
          -9.821366053061155,
          -14.415823521231964,
          -11.788019171097147,
          -25.825403150211045,
          10.55541193165179,
          -7.573383573143218,
          -9.495661912400564,
          -6.846686277863995,
          13.249632544907683,
          -12.941685703934567,
          20.740451298189342,
          -8.121787263950736,
          -19.308778836565608,
          9.536487298512917,
          -12.085137873551503,
          -10.030434204602201,
          -13.748142405054537,
          17.61749749413154,
          -15.260380180262345,
          6.185029891169151,
          36.535149005800896,
          2.055071524475345,
          7.6742640988173605,
          23.17495114610398,
          -6.970772789908629,
          36.66965389421519,
          38.166230351553295,
          8.794657202472706,
          0.6186057571411538,
          17.85835093081483,
          0.31974393877159457,
          -17.191211968019545,
          -9.276456198809086,
          -3.2730039086099296,
          -14.563976121083101,
          10.534476667764736,
          26.585939822860155,
          2.0933980433999295,
          2.9682986047020705,
          -20.36121827627126,
          10.255933132354599,
          10.638549221741588,
          -4.783458654376176,
          11.951207413303116,
          -8.369667182205902,
          -2.8703226219464355,
          11.803565278356622,
          0.6449035959834291,
          8.015899780662771,
          -11.719301707390187,
          -18.803604929034037,
          7.477200666013701,
          -8.669437923741139,
          5.1583982443494705,
          -1.8105178228545853,
          1.966578043083949,
          5.55386727284106,
          12.475043890791241,
          -3.0100021748852583,
          -0.5197656125832921,
          3.2985819321343826,
          -21.887971116078702,
          -9.84037079316819,
          -2.792151737933544,
          8.888999256556502,
          14.168359416948896,
          -11.91012468004216,
          8.620411453782921,
          -16.069538746177564,
          38.58985643141668,
          51.09446674869527,
          0.6488388821368289,
          3.1605027842004034,
          7.035873215159228,
          1.1378377626567584,
          -23.43577809722632,
          -9.86818356320881,
          5.3915098380903,
          -4.986533925802391,
          11.337296552876644,
          12.263923421142295,
          5.421749003455169,
          -16.736151019853253,
          -10.924733246713451,
          4.874354325809989,
          4.707962580222905,
          0.4506443619274165,
          4.381311798528998,
          6.459262675788324,
          4.715293409217757,
          12.64572414179085,
          36.38335074559315,
          -7.500587032746289,
          38.95679598378901,
          -9.821366053061155,
          8.60140387581383,
          -3.44311257473413,
          5.995794201761065,
          -3.802044274243613,
          -16.975876468564245,
          -2.177650072477867,
          -4.600106535392683,
          -7.201108364655532,
          5.92940751924084,
          17.876477390928727,
          0.5611945663158338,
          13.81251320695845,
          9.825127308176732,
          -13.008022023314275,
          -22.043835419894762,
          9.873766216348557,
          -11.49771871804117,
          23.36397395722257,
          -39.759411433214446,
          2.2869307189878754,
          31.814602071044916,
          -39.04429021690429,
          21.837042390633098,
          5.662307298500103,
          0.3700794933849565,
          -5.973651418526465,
          -0.9405379135164367
         ]
        },
        {
         "name": "y=0",
         "type": "scatter",
         "x": [
          43,
          49,
          22,
          29,
          36,
          44,
          39,
          32,
          49,
          22,
          51,
          35,
          73,
          54,
          93,
          44,
          52,
          40,
          40,
          97,
          30,
          57,
          42,
          53,
          31,
          102,
          58,
          61,
          34,
          32,
          42,
          22,
          48,
          49,
          39,
          52,
          45,
          61,
          46,
          46,
          44,
          52,
          55,
          54,
          59,
          63,
          43,
          24,
          49,
          63,
          45,
          36,
          48,
          49,
          38,
          50,
          41,
          39,
          45,
          18,
          30,
          38,
          19,
          46,
          41,
          56,
          64,
          82,
          38,
          38,
          37,
          36,
          39,
          61,
          87,
          98,
          29,
          40,
          48,
          40,
          67,
          52,
          32,
          31,
          68,
          41,
          37,
          53,
          31,
          45,
          26,
          42,
          60,
          43,
          42,
          44,
          40,
          35,
          44,
          22,
          30,
          50,
          90,
          114,
          57,
          20,
          89,
          26,
          31,
          57,
          30,
          40,
          31,
          35,
          43,
          29,
          46,
          60,
          29,
          46,
          36,
          45,
          76,
          37,
          37,
          21,
          49,
          20,
          47,
          49,
          39,
          48,
          23,
          52,
          54,
          43,
          36,
          39,
          80,
          29,
          30,
          45,
          30,
          127,
          44,
          81,
          53,
          41,
          45,
          52,
          32,
          53,
          107,
          50,
          46,
          53,
          102,
          44,
          30,
          19,
          49,
          46,
          62,
          30,
          51,
          49,
          33,
          79,
          48,
          46,
          32,
          46,
          47,
          34,
          31,
          36,
          63,
          67,
          48,
          27,
          51,
          18,
          41,
          66,
          61,
          25,
          53,
          66,
          68,
          34,
          62,
          51,
          66,
          34,
          25,
          99,
          29,
          39,
          84,
          40,
          47,
          98,
          42,
          124,
          120,
          52,
          34,
          69,
          68,
          62,
          25,
          38,
          28,
          45,
          110,
          40,
          47,
          17,
          51,
          36,
          63,
          57,
          40,
          33,
          46,
          35,
          49,
          63,
          60,
          47,
          23,
          44,
          52,
          41,
          42,
          83,
          44,
          40,
          33,
          52,
          36,
          35,
          42,
          54,
          35,
          76,
          29,
          124,
          140,
          32,
          44,
          79,
          47,
          57,
          35,
          46,
          65,
          43,
          66,
          54,
          61,
          30,
          85,
          47,
          50,
          46,
          51,
          48,
          81,
          106,
          26,
          124,
          48,
          46,
          37,
          48,
          42,
          21,
          35,
          37,
          50,
          47,
          54,
          84,
          53,
          61,
          31,
          60,
          81,
          62,
          55,
          17,
          60,
          119,
          44,
          51,
          45,
          35,
          31,
          42
         ],
         "y": [
          0,
          0,
          0,
          0,
          0,
          0,
          0,
          0,
          0,
          0,
          0,
          0,
          0,
          0,
          0,
          0,
          0,
          0,
          0,
          0,
          0,
          0,
          0,
          0,
          0,
          0,
          0,
          0,
          0,
          0,
          0,
          0,
          0,
          0,
          0,
          0,
          0,
          0,
          0,
          0,
          0,
          0,
          0,
          0,
          0,
          0,
          0,
          0,
          0,
          0,
          0,
          0,
          0,
          0,
          0,
          0,
          0,
          0,
          0,
          0,
          0,
          0,
          0,
          0,
          0,
          0,
          0,
          0,
          0,
          0,
          0,
          0,
          0,
          0,
          0,
          0,
          0,
          0,
          0,
          0,
          0,
          0,
          0,
          0,
          0,
          0,
          0,
          0,
          0,
          0,
          0,
          0,
          0,
          0,
          0,
          0,
          0,
          0,
          0,
          0,
          0,
          0,
          0,
          0,
          0,
          0,
          0,
          0,
          0,
          0,
          0,
          0,
          0,
          0,
          0,
          0,
          0,
          0,
          0,
          0,
          0,
          0,
          0,
          0,
          0,
          0,
          0,
          0,
          0,
          0,
          0,
          0,
          0,
          0,
          0,
          0,
          0,
          0,
          0,
          0,
          0,
          0,
          0,
          0,
          0,
          0,
          0,
          0,
          0,
          0,
          0,
          0,
          0,
          0,
          0,
          0,
          0,
          0,
          0,
          0,
          0,
          0,
          0,
          0,
          0,
          0,
          0,
          0,
          0,
          0,
          0,
          0,
          0,
          0,
          0,
          0,
          0,
          0,
          0,
          0,
          0,
          0,
          0,
          0,
          0,
          0,
          0,
          0,
          0,
          0,
          0,
          0,
          0,
          0,
          0,
          0,
          0,
          0,
          0,
          0,
          0,
          0,
          0,
          0,
          0,
          0,
          0,
          0,
          0,
          0,
          0,
          0,
          0,
          0,
          0,
          0,
          0,
          0,
          0,
          0,
          0,
          0,
          0,
          0,
          0,
          0,
          0,
          0,
          0,
          0,
          0,
          0,
          0,
          0,
          0,
          0,
          0,
          0,
          0,
          0,
          0,
          0,
          0,
          0,
          0,
          0,
          0,
          0,
          0,
          0,
          0,
          0,
          0,
          0,
          0,
          0,
          0,
          0,
          0,
          0,
          0,
          0,
          0,
          0,
          0,
          0,
          0,
          0,
          0,
          0,
          0,
          0,
          0,
          0,
          0,
          0,
          0,
          0,
          0,
          0,
          0,
          0,
          0,
          0,
          0,
          0,
          0,
          0,
          0,
          0,
          0,
          0,
          0,
          0,
          0,
          0,
          0,
          0,
          0,
          0
         ]
        }
       ],
       "layout": {
        "template": {
         "data": {
          "bar": [
           {
            "error_x": {
             "color": "#2a3f5f"
            },
            "error_y": {
             "color": "#2a3f5f"
            },
            "marker": {
             "line": {
              "color": "#E5ECF6",
              "width": 0.5
             }
            },
            "type": "bar"
           }
          ],
          "barpolar": [
           {
            "marker": {
             "line": {
              "color": "#E5ECF6",
              "width": 0.5
             }
            },
            "type": "barpolar"
           }
          ],
          "carpet": [
           {
            "aaxis": {
             "endlinecolor": "#2a3f5f",
             "gridcolor": "white",
             "linecolor": "white",
             "minorgridcolor": "white",
             "startlinecolor": "#2a3f5f"
            },
            "baxis": {
             "endlinecolor": "#2a3f5f",
             "gridcolor": "white",
             "linecolor": "white",
             "minorgridcolor": "white",
             "startlinecolor": "#2a3f5f"
            },
            "type": "carpet"
           }
          ],
          "choropleth": [
           {
            "colorbar": {
             "outlinewidth": 0,
             "ticks": ""
            },
            "type": "choropleth"
           }
          ],
          "contour": [
           {
            "colorbar": {
             "outlinewidth": 0,
             "ticks": ""
            },
            "colorscale": [
             [
              0,
              "#0d0887"
             ],
             [
              0.1111111111111111,
              "#46039f"
             ],
             [
              0.2222222222222222,
              "#7201a8"
             ],
             [
              0.3333333333333333,
              "#9c179e"
             ],
             [
              0.4444444444444444,
              "#bd3786"
             ],
             [
              0.5555555555555556,
              "#d8576b"
             ],
             [
              0.6666666666666666,
              "#ed7953"
             ],
             [
              0.7777777777777778,
              "#fb9f3a"
             ],
             [
              0.8888888888888888,
              "#fdca26"
             ],
             [
              1,
              "#f0f921"
             ]
            ],
            "type": "contour"
           }
          ],
          "contourcarpet": [
           {
            "colorbar": {
             "outlinewidth": 0,
             "ticks": ""
            },
            "type": "contourcarpet"
           }
          ],
          "heatmap": [
           {
            "colorbar": {
             "outlinewidth": 0,
             "ticks": ""
            },
            "colorscale": [
             [
              0,
              "#0d0887"
             ],
             [
              0.1111111111111111,
              "#46039f"
             ],
             [
              0.2222222222222222,
              "#7201a8"
             ],
             [
              0.3333333333333333,
              "#9c179e"
             ],
             [
              0.4444444444444444,
              "#bd3786"
             ],
             [
              0.5555555555555556,
              "#d8576b"
             ],
             [
              0.6666666666666666,
              "#ed7953"
             ],
             [
              0.7777777777777778,
              "#fb9f3a"
             ],
             [
              0.8888888888888888,
              "#fdca26"
             ],
             [
              1,
              "#f0f921"
             ]
            ],
            "type": "heatmap"
           }
          ],
          "heatmapgl": [
           {
            "colorbar": {
             "outlinewidth": 0,
             "ticks": ""
            },
            "colorscale": [
             [
              0,
              "#0d0887"
             ],
             [
              0.1111111111111111,
              "#46039f"
             ],
             [
              0.2222222222222222,
              "#7201a8"
             ],
             [
              0.3333333333333333,
              "#9c179e"
             ],
             [
              0.4444444444444444,
              "#bd3786"
             ],
             [
              0.5555555555555556,
              "#d8576b"
             ],
             [
              0.6666666666666666,
              "#ed7953"
             ],
             [
              0.7777777777777778,
              "#fb9f3a"
             ],
             [
              0.8888888888888888,
              "#fdca26"
             ],
             [
              1,
              "#f0f921"
             ]
            ],
            "type": "heatmapgl"
           }
          ],
          "histogram": [
           {
            "marker": {
             "colorbar": {
              "outlinewidth": 0,
              "ticks": ""
             }
            },
            "type": "histogram"
           }
          ],
          "histogram2d": [
           {
            "colorbar": {
             "outlinewidth": 0,
             "ticks": ""
            },
            "colorscale": [
             [
              0,
              "#0d0887"
             ],
             [
              0.1111111111111111,
              "#46039f"
             ],
             [
              0.2222222222222222,
              "#7201a8"
             ],
             [
              0.3333333333333333,
              "#9c179e"
             ],
             [
              0.4444444444444444,
              "#bd3786"
             ],
             [
              0.5555555555555556,
              "#d8576b"
             ],
             [
              0.6666666666666666,
              "#ed7953"
             ],
             [
              0.7777777777777778,
              "#fb9f3a"
             ],
             [
              0.8888888888888888,
              "#fdca26"
             ],
             [
              1,
              "#f0f921"
             ]
            ],
            "type": "histogram2d"
           }
          ],
          "histogram2dcontour": [
           {
            "colorbar": {
             "outlinewidth": 0,
             "ticks": ""
            },
            "colorscale": [
             [
              0,
              "#0d0887"
             ],
             [
              0.1111111111111111,
              "#46039f"
             ],
             [
              0.2222222222222222,
              "#7201a8"
             ],
             [
              0.3333333333333333,
              "#9c179e"
             ],
             [
              0.4444444444444444,
              "#bd3786"
             ],
             [
              0.5555555555555556,
              "#d8576b"
             ],
             [
              0.6666666666666666,
              "#ed7953"
             ],
             [
              0.7777777777777778,
              "#fb9f3a"
             ],
             [
              0.8888888888888888,
              "#fdca26"
             ],
             [
              1,
              "#f0f921"
             ]
            ],
            "type": "histogram2dcontour"
           }
          ],
          "mesh3d": [
           {
            "colorbar": {
             "outlinewidth": 0,
             "ticks": ""
            },
            "type": "mesh3d"
           }
          ],
          "parcoords": [
           {
            "line": {
             "colorbar": {
              "outlinewidth": 0,
              "ticks": ""
             }
            },
            "type": "parcoords"
           }
          ],
          "pie": [
           {
            "automargin": true,
            "type": "pie"
           }
          ],
          "scatter": [
           {
            "marker": {
             "colorbar": {
              "outlinewidth": 0,
              "ticks": ""
             }
            },
            "type": "scatter"
           }
          ],
          "scatter3d": [
           {
            "line": {
             "colorbar": {
              "outlinewidth": 0,
              "ticks": ""
             }
            },
            "marker": {
             "colorbar": {
              "outlinewidth": 0,
              "ticks": ""
             }
            },
            "type": "scatter3d"
           }
          ],
          "scattercarpet": [
           {
            "marker": {
             "colorbar": {
              "outlinewidth": 0,
              "ticks": ""
             }
            },
            "type": "scattercarpet"
           }
          ],
          "scattergeo": [
           {
            "marker": {
             "colorbar": {
              "outlinewidth": 0,
              "ticks": ""
             }
            },
            "type": "scattergeo"
           }
          ],
          "scattergl": [
           {
            "marker": {
             "colorbar": {
              "outlinewidth": 0,
              "ticks": ""
             }
            },
            "type": "scattergl"
           }
          ],
          "scattermapbox": [
           {
            "marker": {
             "colorbar": {
              "outlinewidth": 0,
              "ticks": ""
             }
            },
            "type": "scattermapbox"
           }
          ],
          "scatterpolar": [
           {
            "marker": {
             "colorbar": {
              "outlinewidth": 0,
              "ticks": ""
             }
            },
            "type": "scatterpolar"
           }
          ],
          "scatterpolargl": [
           {
            "marker": {
             "colorbar": {
              "outlinewidth": 0,
              "ticks": ""
             }
            },
            "type": "scatterpolargl"
           }
          ],
          "scatterternary": [
           {
            "marker": {
             "colorbar": {
              "outlinewidth": 0,
              "ticks": ""
             }
            },
            "type": "scatterternary"
           }
          ],
          "surface": [
           {
            "colorbar": {
             "outlinewidth": 0,
             "ticks": ""
            },
            "colorscale": [
             [
              0,
              "#0d0887"
             ],
             [
              0.1111111111111111,
              "#46039f"
             ],
             [
              0.2222222222222222,
              "#7201a8"
             ],
             [
              0.3333333333333333,
              "#9c179e"
             ],
             [
              0.4444444444444444,
              "#bd3786"
             ],
             [
              0.5555555555555556,
              "#d8576b"
             ],
             [
              0.6666666666666666,
              "#ed7953"
             ],
             [
              0.7777777777777778,
              "#fb9f3a"
             ],
             [
              0.8888888888888888,
              "#fdca26"
             ],
             [
              1,
              "#f0f921"
             ]
            ],
            "type": "surface"
           }
          ],
          "table": [
           {
            "cells": {
             "fill": {
              "color": "#EBF0F8"
             },
             "line": {
              "color": "white"
             }
            },
            "header": {
             "fill": {
              "color": "#C8D4E3"
             },
             "line": {
              "color": "white"
             }
            },
            "type": "table"
           }
          ]
         },
         "layout": {
          "annotationdefaults": {
           "arrowcolor": "#2a3f5f",
           "arrowhead": 0,
           "arrowwidth": 1
          },
          "autotypenumbers": "strict",
          "coloraxis": {
           "colorbar": {
            "outlinewidth": 0,
            "ticks": ""
           }
          },
          "colorscale": {
           "diverging": [
            [
             0,
             "#8e0152"
            ],
            [
             0.1,
             "#c51b7d"
            ],
            [
             0.2,
             "#de77ae"
            ],
            [
             0.3,
             "#f1b6da"
            ],
            [
             0.4,
             "#fde0ef"
            ],
            [
             0.5,
             "#f7f7f7"
            ],
            [
             0.6,
             "#e6f5d0"
            ],
            [
             0.7,
             "#b8e186"
            ],
            [
             0.8,
             "#7fbc41"
            ],
            [
             0.9,
             "#4d9221"
            ],
            [
             1,
             "#276419"
            ]
           ],
           "sequential": [
            [
             0,
             "#0d0887"
            ],
            [
             0.1111111111111111,
             "#46039f"
            ],
            [
             0.2222222222222222,
             "#7201a8"
            ],
            [
             0.3333333333333333,
             "#9c179e"
            ],
            [
             0.4444444444444444,
             "#bd3786"
            ],
            [
             0.5555555555555556,
             "#d8576b"
            ],
            [
             0.6666666666666666,
             "#ed7953"
            ],
            [
             0.7777777777777778,
             "#fb9f3a"
            ],
            [
             0.8888888888888888,
             "#fdca26"
            ],
            [
             1,
             "#f0f921"
            ]
           ],
           "sequentialminus": [
            [
             0,
             "#0d0887"
            ],
            [
             0.1111111111111111,
             "#46039f"
            ],
            [
             0.2222222222222222,
             "#7201a8"
            ],
            [
             0.3333333333333333,
             "#9c179e"
            ],
            [
             0.4444444444444444,
             "#bd3786"
            ],
            [
             0.5555555555555556,
             "#d8576b"
            ],
            [
             0.6666666666666666,
             "#ed7953"
            ],
            [
             0.7777777777777778,
             "#fb9f3a"
            ],
            [
             0.8888888888888888,
             "#fdca26"
            ],
            [
             1,
             "#f0f921"
            ]
           ]
          },
          "colorway": [
           "#636efa",
           "#EF553B",
           "#00cc96",
           "#ab63fa",
           "#FFA15A",
           "#19d3f3",
           "#FF6692",
           "#B6E880",
           "#FF97FF",
           "#FECB52"
          ],
          "font": {
           "color": "#2a3f5f"
          },
          "geo": {
           "bgcolor": "white",
           "lakecolor": "white",
           "landcolor": "#E5ECF6",
           "showlakes": true,
           "showland": true,
           "subunitcolor": "white"
          },
          "hoverlabel": {
           "align": "left"
          },
          "hovermode": "closest",
          "mapbox": {
           "style": "light"
          },
          "paper_bgcolor": "white",
          "plot_bgcolor": "#E5ECF6",
          "polar": {
           "angularaxis": {
            "gridcolor": "white",
            "linecolor": "white",
            "ticks": ""
           },
           "bgcolor": "#E5ECF6",
           "radialaxis": {
            "gridcolor": "white",
            "linecolor": "white",
            "ticks": ""
           }
          },
          "scene": {
           "xaxis": {
            "backgroundcolor": "#E5ECF6",
            "gridcolor": "white",
            "gridwidth": 2,
            "linecolor": "white",
            "showbackground": true,
            "ticks": "",
            "zerolinecolor": "white"
           },
           "yaxis": {
            "backgroundcolor": "#E5ECF6",
            "gridcolor": "white",
            "gridwidth": 2,
            "linecolor": "white",
            "showbackground": true,
            "ticks": "",
            "zerolinecolor": "white"
           },
           "zaxis": {
            "backgroundcolor": "#E5ECF6",
            "gridcolor": "white",
            "gridwidth": 2,
            "linecolor": "white",
            "showbackground": true,
            "ticks": "",
            "zerolinecolor": "white"
           }
          },
          "shapedefaults": {
           "line": {
            "color": "#2a3f5f"
           }
          },
          "ternary": {
           "aaxis": {
            "gridcolor": "white",
            "linecolor": "white",
            "ticks": ""
           },
           "baxis": {
            "gridcolor": "white",
            "linecolor": "white",
            "ticks": ""
           },
           "bgcolor": "#E5ECF6",
           "caxis": {
            "gridcolor": "white",
            "linecolor": "white",
            "ticks": ""
           }
          },
          "title": {
           "x": 0.05
          },
          "xaxis": {
           "automargin": true,
           "gridcolor": "white",
           "linecolor": "white",
           "ticks": "",
           "title": {
            "standoff": 15
           },
           "zerolinecolor": "white",
           "zerolinewidth": 2
          },
          "yaxis": {
           "automargin": true,
           "gridcolor": "white",
           "linecolor": "white",
           "ticks": "",
           "title": {
            "standoff": 15
           },
           "zerolinecolor": "white",
           "zerolinewidth": 2
          }
         }
        },
        "title": {
         "text": "Model residual plot"
        },
        "xaxis": {
         "title": {
          "text": "Pass_px"
         }
        },
        "yaxis": {
         "title": {
          "text": "Residuals"
         }
        }
       }
      },
      "text/html": [
       "<div>                            <div id=\"59baa984-2efe-49cb-8bd5-80cb9794ef67\" class=\"plotly-graph-div\" style=\"height:525px; width:100%;\"></div>            <script type=\"text/javascript\">                require([\"plotly\"], function(Plotly) {                    window.PLOTLYENV=window.PLOTLYENV || {};                                    if (document.getElementById(\"59baa984-2efe-49cb-8bd5-80cb9794ef67\")) {                    Plotly.newPlot(                        \"59baa984-2efe-49cb-8bd5-80cb9794ef67\",                        [{\"mode\": \"markers\", \"name\": \"Model residuals\", \"type\": \"scatter\", \"x\": [43, 49, 22, 29, 36, 44, 39, 32, 49, 22, 51, 35, 73, 54, 93, 44, 52, 40, 40, 97, 30, 57, 42, 53, 31, 102, 58, 61, 34, 32, 42, 22, 48, 49, 39, 52, 45, 61, 46, 46, 44, 52, 55, 54, 59, 63, 43, 24, 49, 63, 45, 36, 48, 49, 38, 50, 41, 39, 45, 18, 30, 38, 19, 46, 41, 56, 64, 82, 38, 38, 37, 36, 39, 61, 87, 98, 29, 40, 48, 40, 67, 52, 32, 31, 68, 41, 37, 53, 31, 45, 26, 42, 60, 43, 42, 44, 40, 35, 44, 22, 30, 50, 90, 114, 57, 20, 89, 26, 31, 57, 30, 40, 31, 35, 43, 29, 46, 60, 29, 46, 36, 45, 76, 37, 37, 21, 49, 20, 47, 49, 39, 48, 23, 52, 54, 43, 36, 39, 80, 29, 30, 45, 30, 127, 44, 81, 53, 41, 45, 52, 32, 53, 107, 50, 46, 53, 102, 44, 30, 19, 49, 46, 62, 30, 51, 49, 33, 79, 48, 46, 32, 46, 47, 34, 31, 36, 63, 67, 48, 27, 51, 18, 41, 66, 61, 25, 53, 66, 68, 34, 62, 51, 66, 34, 25, 99, 29, 39, 84, 40, 47, 98, 42, 124, 120, 52, 34, 69, 68, 62, 25, 38, 28, 45, 110, 40, 47, 17, 51, 36, 63, 57, 40, 33, 46, 35, 49, 63, 60, 47, 23, 44, 52, 41, 42, 83, 44, 40, 33, 52, 36, 35, 42, 54, 35, 76, 29, 124, 140, 32, 44, 79, 47, 57, 35, 46, 65, 43, 66, 54, 61, 30, 85, 47, 50, 46, 51, 48, 81, 106, 26, 124, 48, 46, 37, 48, 42, 21, 35, 37, 50, 47, 54, 84, 53, 61, 31, 60, 81, 62, 55, 17, 60, 119, 44, 51, 45, 35, 31, 42], \"y\": [-2.025223119542275, -3.376260231844512, -11.25061727832496, -14.412895095422549, -0.2966802111917346, 2.401356299529752, -4.07451643296384, 2.8885642227806763, 2.4351044382406, -9.49916660644337, -11.788019171097147, -4.267641234917335, 4.761994199114298, 15.111975508268053, 6.655823773197383, 11.013113203969716, 5.28234324055213, -8.663873606979294, 9.461321669675947, 9.076531529100293, -9.210928411148842, 10.749008454296423, 5.496255013342896, -11.951445489350277, -7.4456108336936495, 26.322322000983362, 14.232261324229185, 12.07539886949214, -0.6228287586299857, -3.3853801303584987, 3.538534685022519, -14.710736866639849, 5.6857198077265565, -3.9561152899097394, -3.3638178889754755, 1.172683872526349, 10.79406699802744, 13.43376875208289, 2.662634140680858, 6.559686031103517, -5.559399775505447, 8.875912116280055, 8.71619893661115, 7.825388517087184, -19.105693206836108, -8.7631315288873, 14.239438547866023, -24.291876951090885, 5.963194714483535, 8.879885245390888, -24.627510930768352, -3.672280527743503, -0.315358236492969, -11.005432055769816, -1.9726194491775573, 4.201676630109269, 1.8128418005357219, -0.7884567817456372, 9.490744266128424, -10.750999800524308, -9.303785528154982, -2.6857457009815064, -17.26774779979332, 2.2120994827550646, 10.442838907222168, -4.726764121846017, -16.07320942571485, -0.46678075304041045, -0.06927309564422757, 3.680195703096807, -7.005725395799182, -5.561751071045315, 1.5789869862703583, -9.495661912400564, 42.8391100937217, 11.379567347243523, -14.860371401785706, -1.292816357977344, 4.78022919108588, -6.315075359807153, -8.645139589640053, 0.6427386272724576, -4.31923281780923, -6.074447479330097, 18.89590050986248, 2.5708071278806273, 2.0272737153952463, -2.90164713361456, -5.337126484560514, 10.66846832509949, -41.12524384950781, 5.795746738964517, -15.529578707115135, 11.01919181373863, -2.0253550162199545, 2.4349898328620867, -0.21315346118662148, 0.48722302229553804, 10.617239313154393, -20.97167111118334, -16.659395110021997, -21.72849427290521, 18.500786745649066, 32.775410522052155, 7.33641696491825, -14.562085252086547, 6.494538823498019, -2.8434136127932064, -8.903673530790655, -23.091727653156312, 0.8442775275681171, 3.141328138247289, -24.90307211731266, -1.4498506678914254, 8.269570210481241, 3.098852077688175, 8.251253715740553, -8.064389354125368, -4.616906675698388, 3.6004825087664045, 0.3960153228214054, -32.766282143937644, 0.5983326948356478, -10.901752402100684, 11.472003615127623, -50.45827357071016, 0.09123013737921326, -15.162288710412142, -1.7873868601415381, -1.2049726845718922, -11.332690342484163, 3.2390157249873113, -7.242839419903614, -15.609412040765932, 5.005432670479486, -1.882149035596285, -5.523424552120737, -4.4512216143471335, 1.596992177566463, -13.177843152837958, -1.2609686333110908, 3.5602419702948325, -12.757371198782948, 37.77689357850417, 2.084784621148721, 15.18968265367198, 3.9924789917686923, -1.93732063310118, 5.458295506661344, 11.357015971058175, -5.418843673656781, -2.90164713361456, 27.973307687471518, 4.040243442365735, -3.0516149788381597, 2.985574903303686, 20.77822504536121, -3.487724424442561, -11.793144074092474, -11.046821525427049, -5.446239336702689, 12.423419518574384, -17.28665333733848, -7.063830765191192, 1.86190515476504, -1.2049726845718922, -8.230028621785728, 0.14294809338943537, -31.57896403039166, -0.7399720926964122, -0.29826110618085977, 11.866178729091715, 4.974889367060513, -4.084051055252878, -4.737491214098753, 0.8760587163511175, 8.889493252994221, -9.382359011137027, -9.821366053061155, -14.415823521231964, -11.788019171097147, -25.825403150211045, 10.55541193165179, -7.573383573143218, -9.495661912400564, -6.846686277863995, 13.249632544907683, -12.941685703934567, 20.740451298189342, -8.121787263950736, -19.308778836565608, 9.536487298512917, -12.085137873551503, -10.030434204602201, -13.748142405054537, 17.61749749413154, -15.260380180262345, 6.185029891169151, 36.535149005800896, 2.055071524475345, 7.6742640988173605, 23.17495114610398, -6.970772789908629, 36.66965389421519, 38.166230351553295, 8.794657202472706, 0.6186057571411538, 17.85835093081483, 0.31974393877159457, -17.191211968019545, -9.276456198809086, -3.2730039086099296, -14.563976121083101, 10.534476667764736, 26.585939822860155, 2.0933980433999295, 2.9682986047020705, -20.36121827627126, 10.255933132354599, 10.638549221741588, -4.783458654376176, 11.951207413303116, -8.369667182205902, -2.8703226219464355, 11.803565278356622, 0.6449035959834291, 8.015899780662771, -11.719301707390187, -18.803604929034037, 7.477200666013701, -8.669437923741139, 5.1583982443494705, -1.8105178228545853, 1.966578043083949, 5.55386727284106, 12.475043890791241, -3.0100021748852583, -0.5197656125832921, 3.2985819321343826, -21.887971116078702, -9.84037079316819, -2.792151737933544, 8.888999256556502, 14.168359416948896, -11.91012468004216, 8.620411453782921, -16.069538746177564, 38.58985643141668, 51.09446674869527, 0.6488388821368289, 3.1605027842004034, 7.035873215159228, 1.1378377626567584, -23.43577809722632, -9.86818356320881, 5.3915098380903, -4.986533925802391, 11.337296552876644, 12.263923421142295, 5.421749003455169, -16.736151019853253, -10.924733246713451, 4.874354325809989, 4.707962580222905, 0.4506443619274165, 4.381311798528998, 6.459262675788324, 4.715293409217757, 12.64572414179085, 36.38335074559315, -7.500587032746289, 38.95679598378901, -9.821366053061155, 8.60140387581383, -3.44311257473413, 5.995794201761065, -3.802044274243613, -16.975876468564245, -2.177650072477867, -4.600106535392683, -7.201108364655532, 5.92940751924084, 17.876477390928727, 0.5611945663158338, 13.81251320695845, 9.825127308176732, -13.008022023314275, -22.043835419894762, 9.873766216348557, -11.49771871804117, 23.36397395722257, -39.759411433214446, 2.2869307189878754, 31.814602071044916, -39.04429021690429, 21.837042390633098, 5.662307298500103, 0.3700794933849565, -5.973651418526465, -0.9405379135164367]}, {\"name\": \"y=0\", \"type\": \"scatter\", \"x\": [43, 49, 22, 29, 36, 44, 39, 32, 49, 22, 51, 35, 73, 54, 93, 44, 52, 40, 40, 97, 30, 57, 42, 53, 31, 102, 58, 61, 34, 32, 42, 22, 48, 49, 39, 52, 45, 61, 46, 46, 44, 52, 55, 54, 59, 63, 43, 24, 49, 63, 45, 36, 48, 49, 38, 50, 41, 39, 45, 18, 30, 38, 19, 46, 41, 56, 64, 82, 38, 38, 37, 36, 39, 61, 87, 98, 29, 40, 48, 40, 67, 52, 32, 31, 68, 41, 37, 53, 31, 45, 26, 42, 60, 43, 42, 44, 40, 35, 44, 22, 30, 50, 90, 114, 57, 20, 89, 26, 31, 57, 30, 40, 31, 35, 43, 29, 46, 60, 29, 46, 36, 45, 76, 37, 37, 21, 49, 20, 47, 49, 39, 48, 23, 52, 54, 43, 36, 39, 80, 29, 30, 45, 30, 127, 44, 81, 53, 41, 45, 52, 32, 53, 107, 50, 46, 53, 102, 44, 30, 19, 49, 46, 62, 30, 51, 49, 33, 79, 48, 46, 32, 46, 47, 34, 31, 36, 63, 67, 48, 27, 51, 18, 41, 66, 61, 25, 53, 66, 68, 34, 62, 51, 66, 34, 25, 99, 29, 39, 84, 40, 47, 98, 42, 124, 120, 52, 34, 69, 68, 62, 25, 38, 28, 45, 110, 40, 47, 17, 51, 36, 63, 57, 40, 33, 46, 35, 49, 63, 60, 47, 23, 44, 52, 41, 42, 83, 44, 40, 33, 52, 36, 35, 42, 54, 35, 76, 29, 124, 140, 32, 44, 79, 47, 57, 35, 46, 65, 43, 66, 54, 61, 30, 85, 47, 50, 46, 51, 48, 81, 106, 26, 124, 48, 46, 37, 48, 42, 21, 35, 37, 50, 47, 54, 84, 53, 61, 31, 60, 81, 62, 55, 17, 60, 119, 44, 51, 45, 35, 31, 42], \"y\": [0, 0, 0, 0, 0, 0, 0, 0, 0, 0, 0, 0, 0, 0, 0, 0, 0, 0, 0, 0, 0, 0, 0, 0, 0, 0, 0, 0, 0, 0, 0, 0, 0, 0, 0, 0, 0, 0, 0, 0, 0, 0, 0, 0, 0, 0, 0, 0, 0, 0, 0, 0, 0, 0, 0, 0, 0, 0, 0, 0, 0, 0, 0, 0, 0, 0, 0, 0, 0, 0, 0, 0, 0, 0, 0, 0, 0, 0, 0, 0, 0, 0, 0, 0, 0, 0, 0, 0, 0, 0, 0, 0, 0, 0, 0, 0, 0, 0, 0, 0, 0, 0, 0, 0, 0, 0, 0, 0, 0, 0, 0, 0, 0, 0, 0, 0, 0, 0, 0, 0, 0, 0, 0, 0, 0, 0, 0, 0, 0, 0, 0, 0, 0, 0, 0, 0, 0, 0, 0, 0, 0, 0, 0, 0, 0, 0, 0, 0, 0, 0, 0, 0, 0, 0, 0, 0, 0, 0, 0, 0, 0, 0, 0, 0, 0, 0, 0, 0, 0, 0, 0, 0, 0, 0, 0, 0, 0, 0, 0, 0, 0, 0, 0, 0, 0, 0, 0, 0, 0, 0, 0, 0, 0, 0, 0, 0, 0, 0, 0, 0, 0, 0, 0, 0, 0, 0, 0, 0, 0, 0, 0, 0, 0, 0, 0, 0, 0, 0, 0, 0, 0, 0, 0, 0, 0, 0, 0, 0, 0, 0, 0, 0, 0, 0, 0, 0, 0, 0, 0, 0, 0, 0, 0, 0, 0, 0, 0, 0, 0, 0, 0, 0, 0, 0, 0, 0, 0, 0, 0, 0, 0, 0, 0, 0, 0, 0, 0, 0, 0, 0, 0, 0, 0, 0, 0, 0, 0, 0, 0, 0, 0, 0, 0, 0, 0, 0, 0, 0, 0, 0, 0, 0, 0, 0, 0, 0, 0, 0, 0, 0]}],                        {\"template\": {\"data\": {\"bar\": [{\"error_x\": {\"color\": \"#2a3f5f\"}, \"error_y\": {\"color\": \"#2a3f5f\"}, \"marker\": {\"line\": {\"color\": \"#E5ECF6\", \"width\": 0.5}}, \"type\": \"bar\"}], \"barpolar\": [{\"marker\": {\"line\": {\"color\": \"#E5ECF6\", \"width\": 0.5}}, \"type\": \"barpolar\"}], \"carpet\": [{\"aaxis\": {\"endlinecolor\": \"#2a3f5f\", \"gridcolor\": \"white\", \"linecolor\": \"white\", \"minorgridcolor\": \"white\", \"startlinecolor\": \"#2a3f5f\"}, \"baxis\": {\"endlinecolor\": \"#2a3f5f\", \"gridcolor\": \"white\", \"linecolor\": \"white\", \"minorgridcolor\": \"white\", \"startlinecolor\": \"#2a3f5f\"}, \"type\": \"carpet\"}], \"choropleth\": [{\"colorbar\": {\"outlinewidth\": 0, \"ticks\": \"\"}, \"type\": \"choropleth\"}], \"contour\": [{\"colorbar\": {\"outlinewidth\": 0, \"ticks\": \"\"}, \"colorscale\": [[0.0, \"#0d0887\"], [0.1111111111111111, \"#46039f\"], [0.2222222222222222, \"#7201a8\"], [0.3333333333333333, \"#9c179e\"], [0.4444444444444444, \"#bd3786\"], [0.5555555555555556, \"#d8576b\"], [0.6666666666666666, \"#ed7953\"], [0.7777777777777778, \"#fb9f3a\"], [0.8888888888888888, \"#fdca26\"], [1.0, \"#f0f921\"]], \"type\": \"contour\"}], \"contourcarpet\": [{\"colorbar\": {\"outlinewidth\": 0, \"ticks\": \"\"}, \"type\": \"contourcarpet\"}], \"heatmap\": [{\"colorbar\": {\"outlinewidth\": 0, \"ticks\": \"\"}, \"colorscale\": [[0.0, \"#0d0887\"], [0.1111111111111111, \"#46039f\"], [0.2222222222222222, \"#7201a8\"], [0.3333333333333333, \"#9c179e\"], [0.4444444444444444, \"#bd3786\"], [0.5555555555555556, \"#d8576b\"], [0.6666666666666666, \"#ed7953\"], [0.7777777777777778, \"#fb9f3a\"], [0.8888888888888888, \"#fdca26\"], [1.0, \"#f0f921\"]], \"type\": \"heatmap\"}], \"heatmapgl\": [{\"colorbar\": {\"outlinewidth\": 0, \"ticks\": \"\"}, \"colorscale\": [[0.0, \"#0d0887\"], [0.1111111111111111, \"#46039f\"], [0.2222222222222222, \"#7201a8\"], [0.3333333333333333, \"#9c179e\"], [0.4444444444444444, \"#bd3786\"], [0.5555555555555556, \"#d8576b\"], [0.6666666666666666, \"#ed7953\"], [0.7777777777777778, \"#fb9f3a\"], [0.8888888888888888, \"#fdca26\"], [1.0, \"#f0f921\"]], \"type\": \"heatmapgl\"}], \"histogram\": [{\"marker\": {\"colorbar\": {\"outlinewidth\": 0, \"ticks\": \"\"}}, \"type\": \"histogram\"}], \"histogram2d\": [{\"colorbar\": {\"outlinewidth\": 0, \"ticks\": \"\"}, \"colorscale\": [[0.0, \"#0d0887\"], [0.1111111111111111, \"#46039f\"], [0.2222222222222222, \"#7201a8\"], [0.3333333333333333, \"#9c179e\"], [0.4444444444444444, \"#bd3786\"], [0.5555555555555556, \"#d8576b\"], [0.6666666666666666, \"#ed7953\"], [0.7777777777777778, \"#fb9f3a\"], [0.8888888888888888, \"#fdca26\"], [1.0, \"#f0f921\"]], \"type\": \"histogram2d\"}], \"histogram2dcontour\": [{\"colorbar\": {\"outlinewidth\": 0, \"ticks\": \"\"}, \"colorscale\": [[0.0, \"#0d0887\"], [0.1111111111111111, \"#46039f\"], [0.2222222222222222, \"#7201a8\"], [0.3333333333333333, \"#9c179e\"], [0.4444444444444444, \"#bd3786\"], [0.5555555555555556, \"#d8576b\"], [0.6666666666666666, \"#ed7953\"], [0.7777777777777778, \"#fb9f3a\"], [0.8888888888888888, \"#fdca26\"], [1.0, \"#f0f921\"]], \"type\": \"histogram2dcontour\"}], \"mesh3d\": [{\"colorbar\": {\"outlinewidth\": 0, \"ticks\": \"\"}, \"type\": \"mesh3d\"}], \"parcoords\": [{\"line\": {\"colorbar\": {\"outlinewidth\": 0, \"ticks\": \"\"}}, \"type\": \"parcoords\"}], \"pie\": [{\"automargin\": true, \"type\": \"pie\"}], \"scatter\": [{\"marker\": {\"colorbar\": {\"outlinewidth\": 0, \"ticks\": \"\"}}, \"type\": \"scatter\"}], \"scatter3d\": [{\"line\": {\"colorbar\": {\"outlinewidth\": 0, \"ticks\": \"\"}}, \"marker\": {\"colorbar\": {\"outlinewidth\": 0, \"ticks\": \"\"}}, \"type\": \"scatter3d\"}], \"scattercarpet\": [{\"marker\": {\"colorbar\": {\"outlinewidth\": 0, \"ticks\": \"\"}}, \"type\": \"scattercarpet\"}], \"scattergeo\": [{\"marker\": {\"colorbar\": {\"outlinewidth\": 0, \"ticks\": \"\"}}, \"type\": \"scattergeo\"}], \"scattergl\": [{\"marker\": {\"colorbar\": {\"outlinewidth\": 0, \"ticks\": \"\"}}, \"type\": \"scattergl\"}], \"scattermapbox\": [{\"marker\": {\"colorbar\": {\"outlinewidth\": 0, \"ticks\": \"\"}}, \"type\": \"scattermapbox\"}], \"scatterpolar\": [{\"marker\": {\"colorbar\": {\"outlinewidth\": 0, \"ticks\": \"\"}}, \"type\": \"scatterpolar\"}], \"scatterpolargl\": [{\"marker\": {\"colorbar\": {\"outlinewidth\": 0, \"ticks\": \"\"}}, \"type\": \"scatterpolargl\"}], \"scatterternary\": [{\"marker\": {\"colorbar\": {\"outlinewidth\": 0, \"ticks\": \"\"}}, \"type\": \"scatterternary\"}], \"surface\": [{\"colorbar\": {\"outlinewidth\": 0, \"ticks\": \"\"}, \"colorscale\": [[0.0, \"#0d0887\"], [0.1111111111111111, \"#46039f\"], [0.2222222222222222, \"#7201a8\"], [0.3333333333333333, \"#9c179e\"], [0.4444444444444444, \"#bd3786\"], [0.5555555555555556, \"#d8576b\"], [0.6666666666666666, \"#ed7953\"], [0.7777777777777778, \"#fb9f3a\"], [0.8888888888888888, \"#fdca26\"], [1.0, \"#f0f921\"]], \"type\": \"surface\"}], \"table\": [{\"cells\": {\"fill\": {\"color\": \"#EBF0F8\"}, \"line\": {\"color\": \"white\"}}, \"header\": {\"fill\": {\"color\": \"#C8D4E3\"}, \"line\": {\"color\": \"white\"}}, \"type\": \"table\"}]}, \"layout\": {\"annotationdefaults\": {\"arrowcolor\": \"#2a3f5f\", \"arrowhead\": 0, \"arrowwidth\": 1}, \"autotypenumbers\": \"strict\", \"coloraxis\": {\"colorbar\": {\"outlinewidth\": 0, \"ticks\": \"\"}}, \"colorscale\": {\"diverging\": [[0, \"#8e0152\"], [0.1, \"#c51b7d\"], [0.2, \"#de77ae\"], [0.3, \"#f1b6da\"], [0.4, \"#fde0ef\"], [0.5, \"#f7f7f7\"], [0.6, \"#e6f5d0\"], [0.7, \"#b8e186\"], [0.8, \"#7fbc41\"], [0.9, \"#4d9221\"], [1, \"#276419\"]], \"sequential\": [[0.0, \"#0d0887\"], [0.1111111111111111, \"#46039f\"], [0.2222222222222222, \"#7201a8\"], [0.3333333333333333, \"#9c179e\"], [0.4444444444444444, \"#bd3786\"], [0.5555555555555556, \"#d8576b\"], [0.6666666666666666, \"#ed7953\"], [0.7777777777777778, \"#fb9f3a\"], [0.8888888888888888, \"#fdca26\"], [1.0, \"#f0f921\"]], \"sequentialminus\": [[0.0, \"#0d0887\"], [0.1111111111111111, \"#46039f\"], [0.2222222222222222, \"#7201a8\"], [0.3333333333333333, \"#9c179e\"], [0.4444444444444444, \"#bd3786\"], [0.5555555555555556, \"#d8576b\"], [0.6666666666666666, \"#ed7953\"], [0.7777777777777778, \"#fb9f3a\"], [0.8888888888888888, \"#fdca26\"], [1.0, \"#f0f921\"]]}, \"colorway\": [\"#636efa\", \"#EF553B\", \"#00cc96\", \"#ab63fa\", \"#FFA15A\", \"#19d3f3\", \"#FF6692\", \"#B6E880\", \"#FF97FF\", \"#FECB52\"], \"font\": {\"color\": \"#2a3f5f\"}, \"geo\": {\"bgcolor\": \"white\", \"lakecolor\": \"white\", \"landcolor\": \"#E5ECF6\", \"showlakes\": true, \"showland\": true, \"subunitcolor\": \"white\"}, \"hoverlabel\": {\"align\": \"left\"}, \"hovermode\": \"closest\", \"mapbox\": {\"style\": \"light\"}, \"paper_bgcolor\": \"white\", \"plot_bgcolor\": \"#E5ECF6\", \"polar\": {\"angularaxis\": {\"gridcolor\": \"white\", \"linecolor\": \"white\", \"ticks\": \"\"}, \"bgcolor\": \"#E5ECF6\", \"radialaxis\": {\"gridcolor\": \"white\", \"linecolor\": \"white\", \"ticks\": \"\"}}, \"scene\": {\"xaxis\": {\"backgroundcolor\": \"#E5ECF6\", \"gridcolor\": \"white\", \"gridwidth\": 2, \"linecolor\": \"white\", \"showbackground\": true, \"ticks\": \"\", \"zerolinecolor\": \"white\"}, \"yaxis\": {\"backgroundcolor\": \"#E5ECF6\", \"gridcolor\": \"white\", \"gridwidth\": 2, \"linecolor\": \"white\", \"showbackground\": true, \"ticks\": \"\", \"zerolinecolor\": \"white\"}, \"zaxis\": {\"backgroundcolor\": \"#E5ECF6\", \"gridcolor\": \"white\", \"gridwidth\": 2, \"linecolor\": \"white\", \"showbackground\": true, \"ticks\": \"\", \"zerolinecolor\": \"white\"}}, \"shapedefaults\": {\"line\": {\"color\": \"#2a3f5f\"}}, \"ternary\": {\"aaxis\": {\"gridcolor\": \"white\", \"linecolor\": \"white\", \"ticks\": \"\"}, \"baxis\": {\"gridcolor\": \"white\", \"linecolor\": \"white\", \"ticks\": \"\"}, \"bgcolor\": \"#E5ECF6\", \"caxis\": {\"gridcolor\": \"white\", \"linecolor\": \"white\", \"ticks\": \"\"}}, \"title\": {\"x\": 0.05}, \"xaxis\": {\"automargin\": true, \"gridcolor\": \"white\", \"linecolor\": \"white\", \"ticks\": \"\", \"title\": {\"standoff\": 15}, \"zerolinecolor\": \"white\", \"zerolinewidth\": 2}, \"yaxis\": {\"automargin\": true, \"gridcolor\": \"white\", \"linecolor\": \"white\", \"ticks\": \"\", \"title\": {\"standoff\": 15}, \"zerolinecolor\": \"white\", \"zerolinewidth\": 2}}}, \"title\": {\"text\": \"Model residual plot\"}, \"xaxis\": {\"title\": {\"text\": \"Pass_px\"}}, \"yaxis\": {\"title\": {\"text\": \"Residuals\"}}},                        {\"responsive\": true}                    ).then(function(){\n",
       "                            \n",
       "var gd = document.getElementById('59baa984-2efe-49cb-8bd5-80cb9794ef67');\n",
       "var x = new MutationObserver(function (mutations, observer) {{\n",
       "        var display = window.getComputedStyle(gd).display;\n",
       "        if (!display || display === 'none') {{\n",
       "            console.log([gd, 'removed!']);\n",
       "            Plotly.purge(gd);\n",
       "            observer.disconnect();\n",
       "        }}\n",
       "}});\n",
       "\n",
       "// Listen for the removal of the full notebook cells\n",
       "var notebookContainer = gd.closest('#notebook-container');\n",
       "if (notebookContainer) {{\n",
       "    x.observe(notebookContainer, {childList: true});\n",
       "}}\n",
       "\n",
       "// Listen for the clearing of the current output cell\n",
       "var outputEl = gd.closest('.output');\n",
       "if (outputEl) {{\n",
       "    x.observe(outputEl, {childList: true});\n",
       "}}\n",
       "\n",
       "                        })                };                });            </script>        </div>"
      ]
     },
     "metadata": {},
     "output_type": "display_data"
    }
   ],
   "source": [
    "line_y = [0] * len(train['ski_pass_price'])\n",
    "plot_scatter_and_line(train['ski_pass_price'], model.resid, line_y, 'Model residuals', 'y=0','Model residual plot', 'Pass_px', 'Residuals')\n"
   ]
  },
  {
   "cell_type": "markdown",
   "metadata": {
    "slideshow": {
     "slide_type": "subslide"
    }
   },
   "source": [
    "Seems like the model didn't catch the two distinct distributions and left a lot of predictability by the wayside! The residuals are pretty linear so the model doesn't seem to be capturing the variance of the data very well. Let's see if we can do better by only modelling the european data."
   ]
  },
  {
   "cell_type": "code",
   "execution_count": 86,
   "metadata": {
    "slideshow": {
     "slide_type": "slide"
    }
   },
   "outputs": [
    {
     "data": {
      "text/html": [
       "<table class=\"simpletable\">\n",
       "<caption>OLS Regression Results</caption>\n",
       "<tr>\n",
       "  <th>Dep. Variable:</th>     <td>ski_pass_price</td>  <th>  R-squared:         </th> <td>   0.394</td>\n",
       "</tr>\n",
       "<tr>\n",
       "  <th>Model:</th>                   <td>OLS</td>       <th>  Adj. R-squared:    </th> <td>   0.385</td>\n",
       "</tr>\n",
       "<tr>\n",
       "  <th>Method:</th>             <td>Least Squares</td>  <th>  F-statistic:       </th> <td>   46.77</td>\n",
       "</tr>\n",
       "<tr>\n",
       "  <th>Date:</th>             <td>Sat, 10 Apr 2021</td> <th>  Prob (F-statistic):</th> <td>2.49e-23</td>\n",
       "</tr>\n",
       "<tr>\n",
       "  <th>Time:</th>                 <td>18:41:12</td>     <th>  Log-Likelihood:    </th> <td> -777.96</td>\n",
       "</tr>\n",
       "<tr>\n",
       "  <th>No. Observations:</th>      <td>   220</td>      <th>  AIC:               </th> <td>   1564.</td>\n",
       "</tr>\n",
       "<tr>\n",
       "  <th>Df Residuals:</th>          <td>   216</td>      <th>  BIC:               </th> <td>   1577.</td>\n",
       "</tr>\n",
       "<tr>\n",
       "  <th>Df Model:</th>              <td>     3</td>      <th>                     </th>     <td> </td>   \n",
       "</tr>\n",
       "<tr>\n",
       "  <th>Covariance Type:</th>      <td>nonrobust</td>    <th>                     </th>     <td> </td>   \n",
       "</tr>\n",
       "</table>\n",
       "<table class=\"simpletable\">\n",
       "<tr>\n",
       "        <td></td>           <th>coef</th>     <th>std err</th>      <th>t</th>      <th>P>|t|</th>  <th>[0.025</th>    <th>0.975]</th>  \n",
       "</tr>\n",
       "<tr>\n",
       "  <th>Intercept</th>     <td>   30.6100</td> <td>    1.777</td> <td>   17.227</td> <td> 0.000</td> <td>   27.108</td> <td>   34.112</td>\n",
       "</tr>\n",
       "<tr>\n",
       "  <th>max_altitude</th>  <td>   -0.0010</td> <td>    0.001</td> <td>   -0.677</td> <td> 0.499</td> <td>   -0.004</td> <td>    0.002</td>\n",
       "</tr>\n",
       "<tr>\n",
       "  <th>altitude_diff</th> <td>    0.0121</td> <td>    0.002</td> <td>    5.896</td> <td> 0.000</td> <td>    0.008</td> <td>    0.016</td>\n",
       "</tr>\n",
       "<tr>\n",
       "  <th>total_slopes</th>  <td>    0.0206</td> <td>    0.006</td> <td>    3.210</td> <td> 0.002</td> <td>    0.008</td> <td>    0.033</td>\n",
       "</tr>\n",
       "</table>\n",
       "<table class=\"simpletable\">\n",
       "<tr>\n",
       "  <th>Omnibus:</th>       <td> 3.383</td> <th>  Durbin-Watson:     </th> <td>   1.791</td>\n",
       "</tr>\n",
       "<tr>\n",
       "  <th>Prob(Omnibus):</th> <td> 0.184</td> <th>  Jarque-Bera (JB):  </th> <td>   3.099</td>\n",
       "</tr>\n",
       "<tr>\n",
       "  <th>Skew:</th>          <td>-0.286</td> <th>  Prob(JB):          </th> <td>   0.212</td>\n",
       "</tr>\n",
       "<tr>\n",
       "  <th>Kurtosis:</th>      <td> 3.109</td> <th>  Cond. No.          </th> <td>7.72e+03</td>\n",
       "</tr>\n",
       "</table><br/><br/>Notes:<br/>[1] Standard Errors assume that the covariance matrix of the errors is correctly specified.<br/>[2] The condition number is large, 7.72e+03. This might indicate that there are<br/>strong multicollinearity or other numerical problems."
      ],
      "text/plain": [
       "<class 'statsmodels.iolib.summary.Summary'>\n",
       "\"\"\"\n",
       "                            OLS Regression Results                            \n",
       "==============================================================================\n",
       "Dep. Variable:         ski_pass_price   R-squared:                       0.394\n",
       "Model:                            OLS   Adj. R-squared:                  0.385\n",
       "Method:                 Least Squares   F-statistic:                     46.77\n",
       "Date:                Sat, 10 Apr 2021   Prob (F-statistic):           2.49e-23\n",
       "Time:                        18:41:12   Log-Likelihood:                -777.96\n",
       "No. Observations:                 220   AIC:                             1564.\n",
       "Df Residuals:                     216   BIC:                             1577.\n",
       "Df Model:                           3                                         \n",
       "Covariance Type:            nonrobust                                         \n",
       "=================================================================================\n",
       "                    coef    std err          t      P>|t|      [0.025      0.975]\n",
       "---------------------------------------------------------------------------------\n",
       "Intercept        30.6100      1.777     17.227      0.000      27.108      34.112\n",
       "max_altitude     -0.0010      0.001     -0.677      0.499      -0.004       0.002\n",
       "altitude_diff     0.0121      0.002      5.896      0.000       0.008       0.016\n",
       "total_slopes      0.0206      0.006      3.210      0.002       0.008       0.033\n",
       "==============================================================================\n",
       "Omnibus:                        3.383   Durbin-Watson:                   1.791\n",
       "Prob(Omnibus):                  0.184   Jarque-Bera (JB):                3.099\n",
       "Skew:                          -0.286   Prob(JB):                        0.212\n",
       "Kurtosis:                       3.109   Cond. No.                     7.72e+03\n",
       "==============================================================================\n",
       "\n",
       "Notes:\n",
       "[1] Standard Errors assume that the covariance matrix of the errors is correctly specified.\n",
       "[2] The condition number is large, 7.72e+03. This might indicate that there are\n",
       "strong multicollinearity or other numerical problems.\n",
       "\"\"\""
      ]
     },
     "execution_count": 86,
     "metadata": {},
     "output_type": "execute_result"
    }
   ],
   "source": [
    "trainEU, TestEU = train_test_split(euro, train_size = 0.6)\n",
    "TestEU, ValidateEU = train_test_split(TestEU, train_size = 0.5)\n",
    "\n",
    "euro_mod = smf.ols(formula= f, data = trainEU).fit()\n",
    "euro_mod.summary()"
   ]
  },
  {
   "cell_type": "code",
   "execution_count": 89,
   "metadata": {
    "slideshow": {
     "slide_type": "subslide"
    }
   },
   "outputs": [
    {
     "data": {
      "application/vnd.plotly.v1+json": {
       "config": {
        "plotlyServerURL": "https://plot.ly"
       },
       "data": [
        {
         "mode": "markers",
         "name": "Predictions",
         "type": "scatter",
         "x": [
          53,
          37,
          38,
          19,
          32,
          19,
          43,
          29,
          47,
          25,
          47,
          31,
          46,
          60,
          48,
          49,
          43,
          30,
          50,
          45,
          34,
          47,
          69,
          37,
          30,
          18,
          30,
          45,
          42,
          35,
          35,
          36,
          36,
          44,
          53,
          52,
          49,
          49,
          52,
          37,
          35,
          28,
          35,
          51,
          48,
          54,
          44,
          28,
          30,
          46,
          44,
          66,
          42,
          36,
          49,
          42,
          34,
          51,
          43,
          59,
          34,
          34,
          61,
          26,
          45,
          20,
          17,
          25,
          45,
          53,
          28,
          47,
          29,
          29
         ],
         "y": [
          52.79765401291584,
          35.215268859742906,
          37.701517846303304,
          35.451506622901114,
          32.41498093751966,
          32.844916413349324,
          35.54297758573877,
          35.08783083628405,
          39.57539199337481,
          33.500609422469466,
          44.258955209107604,
          37.16915008347937,
          45.63342092552453,
          60.84954465738349,
          41.66656129404027,
          51.56022572959762,
          38.68312556667084,
          41.437170366324,
          43.84373050463088,
          33.854802229919045,
          38.71810225247158,
          46.28019971026967,
          47.02280129984111,
          30.879200379575373,
          32.300853330604156,
          30.963347946865163,
          38.758756907225504,
          40.19233006170389,
          43.314423256968304,
          40.98872357570946,
          36.2249022309666,
          44.723583355259144,
          35.06432450272852,
          45.3465699952702,
          49.46135290615989,
          48.63752583974642,
          47.29848837188666,
          49.32126735334235,
          50.822488259192404,
          36.06109045445781,
          38.66464156006448,
          32.451661620606366,
          38.978265960284574,
          57.91070429383488,
          52.852189292394876,
          41.52483837280979,
          44.61978910160962,
          42.137522903381864,
          36.85572659756554,
          40.15712254262776,
          34.74915104711448,
          66.22914734029793,
          36.18163488657991,
          37.21088213387026,
          52.41943328669772,
          37.10311506456611,
          39.205839677322345,
          46.253343054983645,
          43.446719547564825,
          38.77448575722252,
          37.80894549437863,
          38.95572419621759,
          52.4641395257477,
          34.318806041513064,
          38.69152764294964,
          38.261591482499156,
          31.08713684801644,
          32.597244531343044,
          35.44985794721745,
          51.51556419273118,
          43.37744887370289,
          35.049561591461675,
          32.44620964626043,
          43.507474078839294
         ]
        },
        {
         "name": "y=x",
         "type": "scatter",
         "x": [
          53,
          37,
          38,
          19,
          32,
          19,
          43,
          29,
          47,
          25,
          47,
          31,
          46,
          60,
          48,
          49,
          43,
          30,
          50,
          45,
          34,
          47,
          69,
          37,
          30,
          18,
          30,
          45,
          42,
          35,
          35,
          36,
          36,
          44,
          53,
          52,
          49,
          49,
          52,
          37,
          35,
          28,
          35,
          51,
          48,
          54,
          44,
          28,
          30,
          46,
          44,
          66,
          42,
          36,
          49,
          42,
          34,
          51,
          43,
          59,
          34,
          34,
          61,
          26,
          45,
          20,
          17,
          25,
          45,
          53,
          28,
          47,
          29,
          29
         ],
         "y": [
          53,
          37,
          38,
          19,
          32,
          19,
          43,
          29,
          47,
          25,
          47,
          31,
          46,
          60,
          48,
          49,
          43,
          30,
          50,
          45,
          34,
          47,
          69,
          37,
          30,
          18,
          30,
          45,
          42,
          35,
          35,
          36,
          36,
          44,
          53,
          52,
          49,
          49,
          52,
          37,
          35,
          28,
          35,
          51,
          48,
          54,
          44,
          28,
          30,
          46,
          44,
          66,
          42,
          36,
          49,
          42,
          34,
          51,
          43,
          59,
          34,
          34,
          61,
          26,
          45,
          20,
          17,
          25,
          45,
          53,
          28,
          47,
          29,
          29
         ]
        }
       ],
       "layout": {
        "template": {
         "data": {
          "bar": [
           {
            "error_x": {
             "color": "#2a3f5f"
            },
            "error_y": {
             "color": "#2a3f5f"
            },
            "marker": {
             "line": {
              "color": "#E5ECF6",
              "width": 0.5
             }
            },
            "type": "bar"
           }
          ],
          "barpolar": [
           {
            "marker": {
             "line": {
              "color": "#E5ECF6",
              "width": 0.5
             }
            },
            "type": "barpolar"
           }
          ],
          "carpet": [
           {
            "aaxis": {
             "endlinecolor": "#2a3f5f",
             "gridcolor": "white",
             "linecolor": "white",
             "minorgridcolor": "white",
             "startlinecolor": "#2a3f5f"
            },
            "baxis": {
             "endlinecolor": "#2a3f5f",
             "gridcolor": "white",
             "linecolor": "white",
             "minorgridcolor": "white",
             "startlinecolor": "#2a3f5f"
            },
            "type": "carpet"
           }
          ],
          "choropleth": [
           {
            "colorbar": {
             "outlinewidth": 0,
             "ticks": ""
            },
            "type": "choropleth"
           }
          ],
          "contour": [
           {
            "colorbar": {
             "outlinewidth": 0,
             "ticks": ""
            },
            "colorscale": [
             [
              0,
              "#0d0887"
             ],
             [
              0.1111111111111111,
              "#46039f"
             ],
             [
              0.2222222222222222,
              "#7201a8"
             ],
             [
              0.3333333333333333,
              "#9c179e"
             ],
             [
              0.4444444444444444,
              "#bd3786"
             ],
             [
              0.5555555555555556,
              "#d8576b"
             ],
             [
              0.6666666666666666,
              "#ed7953"
             ],
             [
              0.7777777777777778,
              "#fb9f3a"
             ],
             [
              0.8888888888888888,
              "#fdca26"
             ],
             [
              1,
              "#f0f921"
             ]
            ],
            "type": "contour"
           }
          ],
          "contourcarpet": [
           {
            "colorbar": {
             "outlinewidth": 0,
             "ticks": ""
            },
            "type": "contourcarpet"
           }
          ],
          "heatmap": [
           {
            "colorbar": {
             "outlinewidth": 0,
             "ticks": ""
            },
            "colorscale": [
             [
              0,
              "#0d0887"
             ],
             [
              0.1111111111111111,
              "#46039f"
             ],
             [
              0.2222222222222222,
              "#7201a8"
             ],
             [
              0.3333333333333333,
              "#9c179e"
             ],
             [
              0.4444444444444444,
              "#bd3786"
             ],
             [
              0.5555555555555556,
              "#d8576b"
             ],
             [
              0.6666666666666666,
              "#ed7953"
             ],
             [
              0.7777777777777778,
              "#fb9f3a"
             ],
             [
              0.8888888888888888,
              "#fdca26"
             ],
             [
              1,
              "#f0f921"
             ]
            ],
            "type": "heatmap"
           }
          ],
          "heatmapgl": [
           {
            "colorbar": {
             "outlinewidth": 0,
             "ticks": ""
            },
            "colorscale": [
             [
              0,
              "#0d0887"
             ],
             [
              0.1111111111111111,
              "#46039f"
             ],
             [
              0.2222222222222222,
              "#7201a8"
             ],
             [
              0.3333333333333333,
              "#9c179e"
             ],
             [
              0.4444444444444444,
              "#bd3786"
             ],
             [
              0.5555555555555556,
              "#d8576b"
             ],
             [
              0.6666666666666666,
              "#ed7953"
             ],
             [
              0.7777777777777778,
              "#fb9f3a"
             ],
             [
              0.8888888888888888,
              "#fdca26"
             ],
             [
              1,
              "#f0f921"
             ]
            ],
            "type": "heatmapgl"
           }
          ],
          "histogram": [
           {
            "marker": {
             "colorbar": {
              "outlinewidth": 0,
              "ticks": ""
             }
            },
            "type": "histogram"
           }
          ],
          "histogram2d": [
           {
            "colorbar": {
             "outlinewidth": 0,
             "ticks": ""
            },
            "colorscale": [
             [
              0,
              "#0d0887"
             ],
             [
              0.1111111111111111,
              "#46039f"
             ],
             [
              0.2222222222222222,
              "#7201a8"
             ],
             [
              0.3333333333333333,
              "#9c179e"
             ],
             [
              0.4444444444444444,
              "#bd3786"
             ],
             [
              0.5555555555555556,
              "#d8576b"
             ],
             [
              0.6666666666666666,
              "#ed7953"
             ],
             [
              0.7777777777777778,
              "#fb9f3a"
             ],
             [
              0.8888888888888888,
              "#fdca26"
             ],
             [
              1,
              "#f0f921"
             ]
            ],
            "type": "histogram2d"
           }
          ],
          "histogram2dcontour": [
           {
            "colorbar": {
             "outlinewidth": 0,
             "ticks": ""
            },
            "colorscale": [
             [
              0,
              "#0d0887"
             ],
             [
              0.1111111111111111,
              "#46039f"
             ],
             [
              0.2222222222222222,
              "#7201a8"
             ],
             [
              0.3333333333333333,
              "#9c179e"
             ],
             [
              0.4444444444444444,
              "#bd3786"
             ],
             [
              0.5555555555555556,
              "#d8576b"
             ],
             [
              0.6666666666666666,
              "#ed7953"
             ],
             [
              0.7777777777777778,
              "#fb9f3a"
             ],
             [
              0.8888888888888888,
              "#fdca26"
             ],
             [
              1,
              "#f0f921"
             ]
            ],
            "type": "histogram2dcontour"
           }
          ],
          "mesh3d": [
           {
            "colorbar": {
             "outlinewidth": 0,
             "ticks": ""
            },
            "type": "mesh3d"
           }
          ],
          "parcoords": [
           {
            "line": {
             "colorbar": {
              "outlinewidth": 0,
              "ticks": ""
             }
            },
            "type": "parcoords"
           }
          ],
          "pie": [
           {
            "automargin": true,
            "type": "pie"
           }
          ],
          "scatter": [
           {
            "marker": {
             "colorbar": {
              "outlinewidth": 0,
              "ticks": ""
             }
            },
            "type": "scatter"
           }
          ],
          "scatter3d": [
           {
            "line": {
             "colorbar": {
              "outlinewidth": 0,
              "ticks": ""
             }
            },
            "marker": {
             "colorbar": {
              "outlinewidth": 0,
              "ticks": ""
             }
            },
            "type": "scatter3d"
           }
          ],
          "scattercarpet": [
           {
            "marker": {
             "colorbar": {
              "outlinewidth": 0,
              "ticks": ""
             }
            },
            "type": "scattercarpet"
           }
          ],
          "scattergeo": [
           {
            "marker": {
             "colorbar": {
              "outlinewidth": 0,
              "ticks": ""
             }
            },
            "type": "scattergeo"
           }
          ],
          "scattergl": [
           {
            "marker": {
             "colorbar": {
              "outlinewidth": 0,
              "ticks": ""
             }
            },
            "type": "scattergl"
           }
          ],
          "scattermapbox": [
           {
            "marker": {
             "colorbar": {
              "outlinewidth": 0,
              "ticks": ""
             }
            },
            "type": "scattermapbox"
           }
          ],
          "scatterpolar": [
           {
            "marker": {
             "colorbar": {
              "outlinewidth": 0,
              "ticks": ""
             }
            },
            "type": "scatterpolar"
           }
          ],
          "scatterpolargl": [
           {
            "marker": {
             "colorbar": {
              "outlinewidth": 0,
              "ticks": ""
             }
            },
            "type": "scatterpolargl"
           }
          ],
          "scatterternary": [
           {
            "marker": {
             "colorbar": {
              "outlinewidth": 0,
              "ticks": ""
             }
            },
            "type": "scatterternary"
           }
          ],
          "surface": [
           {
            "colorbar": {
             "outlinewidth": 0,
             "ticks": ""
            },
            "colorscale": [
             [
              0,
              "#0d0887"
             ],
             [
              0.1111111111111111,
              "#46039f"
             ],
             [
              0.2222222222222222,
              "#7201a8"
             ],
             [
              0.3333333333333333,
              "#9c179e"
             ],
             [
              0.4444444444444444,
              "#bd3786"
             ],
             [
              0.5555555555555556,
              "#d8576b"
             ],
             [
              0.6666666666666666,
              "#ed7953"
             ],
             [
              0.7777777777777778,
              "#fb9f3a"
             ],
             [
              0.8888888888888888,
              "#fdca26"
             ],
             [
              1,
              "#f0f921"
             ]
            ],
            "type": "surface"
           }
          ],
          "table": [
           {
            "cells": {
             "fill": {
              "color": "#EBF0F8"
             },
             "line": {
              "color": "white"
             }
            },
            "header": {
             "fill": {
              "color": "#C8D4E3"
             },
             "line": {
              "color": "white"
             }
            },
            "type": "table"
           }
          ]
         },
         "layout": {
          "annotationdefaults": {
           "arrowcolor": "#2a3f5f",
           "arrowhead": 0,
           "arrowwidth": 1
          },
          "autotypenumbers": "strict",
          "coloraxis": {
           "colorbar": {
            "outlinewidth": 0,
            "ticks": ""
           }
          },
          "colorscale": {
           "diverging": [
            [
             0,
             "#8e0152"
            ],
            [
             0.1,
             "#c51b7d"
            ],
            [
             0.2,
             "#de77ae"
            ],
            [
             0.3,
             "#f1b6da"
            ],
            [
             0.4,
             "#fde0ef"
            ],
            [
             0.5,
             "#f7f7f7"
            ],
            [
             0.6,
             "#e6f5d0"
            ],
            [
             0.7,
             "#b8e186"
            ],
            [
             0.8,
             "#7fbc41"
            ],
            [
             0.9,
             "#4d9221"
            ],
            [
             1,
             "#276419"
            ]
           ],
           "sequential": [
            [
             0,
             "#0d0887"
            ],
            [
             0.1111111111111111,
             "#46039f"
            ],
            [
             0.2222222222222222,
             "#7201a8"
            ],
            [
             0.3333333333333333,
             "#9c179e"
            ],
            [
             0.4444444444444444,
             "#bd3786"
            ],
            [
             0.5555555555555556,
             "#d8576b"
            ],
            [
             0.6666666666666666,
             "#ed7953"
            ],
            [
             0.7777777777777778,
             "#fb9f3a"
            ],
            [
             0.8888888888888888,
             "#fdca26"
            ],
            [
             1,
             "#f0f921"
            ]
           ],
           "sequentialminus": [
            [
             0,
             "#0d0887"
            ],
            [
             0.1111111111111111,
             "#46039f"
            ],
            [
             0.2222222222222222,
             "#7201a8"
            ],
            [
             0.3333333333333333,
             "#9c179e"
            ],
            [
             0.4444444444444444,
             "#bd3786"
            ],
            [
             0.5555555555555556,
             "#d8576b"
            ],
            [
             0.6666666666666666,
             "#ed7953"
            ],
            [
             0.7777777777777778,
             "#fb9f3a"
            ],
            [
             0.8888888888888888,
             "#fdca26"
            ],
            [
             1,
             "#f0f921"
            ]
           ]
          },
          "colorway": [
           "#636efa",
           "#EF553B",
           "#00cc96",
           "#ab63fa",
           "#FFA15A",
           "#19d3f3",
           "#FF6692",
           "#B6E880",
           "#FF97FF",
           "#FECB52"
          ],
          "font": {
           "color": "#2a3f5f"
          },
          "geo": {
           "bgcolor": "white",
           "lakecolor": "white",
           "landcolor": "#E5ECF6",
           "showlakes": true,
           "showland": true,
           "subunitcolor": "white"
          },
          "hoverlabel": {
           "align": "left"
          },
          "hovermode": "closest",
          "mapbox": {
           "style": "light"
          },
          "paper_bgcolor": "white",
          "plot_bgcolor": "#E5ECF6",
          "polar": {
           "angularaxis": {
            "gridcolor": "white",
            "linecolor": "white",
            "ticks": ""
           },
           "bgcolor": "#E5ECF6",
           "radialaxis": {
            "gridcolor": "white",
            "linecolor": "white",
            "ticks": ""
           }
          },
          "scene": {
           "xaxis": {
            "backgroundcolor": "#E5ECF6",
            "gridcolor": "white",
            "gridwidth": 2,
            "linecolor": "white",
            "showbackground": true,
            "ticks": "",
            "zerolinecolor": "white"
           },
           "yaxis": {
            "backgroundcolor": "#E5ECF6",
            "gridcolor": "white",
            "gridwidth": 2,
            "linecolor": "white",
            "showbackground": true,
            "ticks": "",
            "zerolinecolor": "white"
           },
           "zaxis": {
            "backgroundcolor": "#E5ECF6",
            "gridcolor": "white",
            "gridwidth": 2,
            "linecolor": "white",
            "showbackground": true,
            "ticks": "",
            "zerolinecolor": "white"
           }
          },
          "shapedefaults": {
           "line": {
            "color": "#2a3f5f"
           }
          },
          "ternary": {
           "aaxis": {
            "gridcolor": "white",
            "linecolor": "white",
            "ticks": ""
           },
           "baxis": {
            "gridcolor": "white",
            "linecolor": "white",
            "ticks": ""
           },
           "bgcolor": "#E5ECF6",
           "caxis": {
            "gridcolor": "white",
            "linecolor": "white",
            "ticks": ""
           }
          },
          "title": {
           "x": 0.05
          },
          "xaxis": {
           "automargin": true,
           "gridcolor": "white",
           "linecolor": "white",
           "ticks": "",
           "title": {
            "standoff": 15
           },
           "zerolinecolor": "white",
           "zerolinewidth": 2
          },
          "yaxis": {
           "automargin": true,
           "gridcolor": "white",
           "linecolor": "white",
           "ticks": "",
           "title": {
            "standoff": 15
           },
           "zerolinecolor": "white",
           "zerolinewidth": 2
          }
         }
        },
        "title": {
         "text": "Predicted vs true price"
        },
        "xaxis": {
         "title": {
          "text": "Pass_px"
         }
        },
        "yaxis": {
         "title": {
          "text": "Predicted price"
         }
        }
       }
      },
      "text/html": [
       "<div>                            <div id=\"2ba208c7-d5a4-4cff-9f1f-8cc23b4d922b\" class=\"plotly-graph-div\" style=\"height:525px; width:100%;\"></div>            <script type=\"text/javascript\">                require([\"plotly\"], function(Plotly) {                    window.PLOTLYENV=window.PLOTLYENV || {};                                    if (document.getElementById(\"2ba208c7-d5a4-4cff-9f1f-8cc23b4d922b\")) {                    Plotly.newPlot(                        \"2ba208c7-d5a4-4cff-9f1f-8cc23b4d922b\",                        [{\"mode\": \"markers\", \"name\": \"Predictions\", \"type\": \"scatter\", \"x\": [53, 37, 38, 19, 32, 19, 43, 29, 47, 25, 47, 31, 46, 60, 48, 49, 43, 30, 50, 45, 34, 47, 69, 37, 30, 18, 30, 45, 42, 35, 35, 36, 36, 44, 53, 52, 49, 49, 52, 37, 35, 28, 35, 51, 48, 54, 44, 28, 30, 46, 44, 66, 42, 36, 49, 42, 34, 51, 43, 59, 34, 34, 61, 26, 45, 20, 17, 25, 45, 53, 28, 47, 29, 29], \"y\": [52.79765401291584, 35.215268859742906, 37.701517846303304, 35.451506622901114, 32.41498093751966, 32.844916413349324, 35.54297758573877, 35.08783083628405, 39.57539199337481, 33.500609422469466, 44.258955209107604, 37.16915008347937, 45.63342092552453, 60.84954465738349, 41.66656129404027, 51.56022572959762, 38.68312556667084, 41.437170366324, 43.84373050463088, 33.854802229919045, 38.71810225247158, 46.28019971026967, 47.02280129984111, 30.879200379575373, 32.300853330604156, 30.963347946865163, 38.758756907225504, 40.19233006170389, 43.314423256968304, 40.98872357570946, 36.2249022309666, 44.723583355259144, 35.06432450272852, 45.3465699952702, 49.46135290615989, 48.63752583974642, 47.29848837188666, 49.32126735334235, 50.822488259192404, 36.06109045445781, 38.66464156006448, 32.451661620606366, 38.978265960284574, 57.91070429383488, 52.852189292394876, 41.52483837280979, 44.61978910160962, 42.137522903381864, 36.85572659756554, 40.15712254262776, 34.74915104711448, 66.22914734029793, 36.18163488657991, 37.21088213387026, 52.41943328669772, 37.10311506456611, 39.205839677322345, 46.253343054983645, 43.446719547564825, 38.77448575722252, 37.80894549437863, 38.95572419621759, 52.4641395257477, 34.318806041513064, 38.69152764294964, 38.261591482499156, 31.08713684801644, 32.597244531343044, 35.44985794721745, 51.51556419273118, 43.37744887370289, 35.049561591461675, 32.44620964626043, 43.507474078839294]}, {\"name\": \"y=x\", \"type\": \"scatter\", \"x\": [53, 37, 38, 19, 32, 19, 43, 29, 47, 25, 47, 31, 46, 60, 48, 49, 43, 30, 50, 45, 34, 47, 69, 37, 30, 18, 30, 45, 42, 35, 35, 36, 36, 44, 53, 52, 49, 49, 52, 37, 35, 28, 35, 51, 48, 54, 44, 28, 30, 46, 44, 66, 42, 36, 49, 42, 34, 51, 43, 59, 34, 34, 61, 26, 45, 20, 17, 25, 45, 53, 28, 47, 29, 29], \"y\": [53, 37, 38, 19, 32, 19, 43, 29, 47, 25, 47, 31, 46, 60, 48, 49, 43, 30, 50, 45, 34, 47, 69, 37, 30, 18, 30, 45, 42, 35, 35, 36, 36, 44, 53, 52, 49, 49, 52, 37, 35, 28, 35, 51, 48, 54, 44, 28, 30, 46, 44, 66, 42, 36, 49, 42, 34, 51, 43, 59, 34, 34, 61, 26, 45, 20, 17, 25, 45, 53, 28, 47, 29, 29]}],                        {\"template\": {\"data\": {\"bar\": [{\"error_x\": {\"color\": \"#2a3f5f\"}, \"error_y\": {\"color\": \"#2a3f5f\"}, \"marker\": {\"line\": {\"color\": \"#E5ECF6\", \"width\": 0.5}}, \"type\": \"bar\"}], \"barpolar\": [{\"marker\": {\"line\": {\"color\": \"#E5ECF6\", \"width\": 0.5}}, \"type\": \"barpolar\"}], \"carpet\": [{\"aaxis\": {\"endlinecolor\": \"#2a3f5f\", \"gridcolor\": \"white\", \"linecolor\": \"white\", \"minorgridcolor\": \"white\", \"startlinecolor\": \"#2a3f5f\"}, \"baxis\": {\"endlinecolor\": \"#2a3f5f\", \"gridcolor\": \"white\", \"linecolor\": \"white\", \"minorgridcolor\": \"white\", \"startlinecolor\": \"#2a3f5f\"}, \"type\": \"carpet\"}], \"choropleth\": [{\"colorbar\": {\"outlinewidth\": 0, \"ticks\": \"\"}, \"type\": \"choropleth\"}], \"contour\": [{\"colorbar\": {\"outlinewidth\": 0, \"ticks\": \"\"}, \"colorscale\": [[0.0, \"#0d0887\"], [0.1111111111111111, \"#46039f\"], [0.2222222222222222, \"#7201a8\"], [0.3333333333333333, \"#9c179e\"], [0.4444444444444444, \"#bd3786\"], [0.5555555555555556, \"#d8576b\"], [0.6666666666666666, \"#ed7953\"], [0.7777777777777778, \"#fb9f3a\"], [0.8888888888888888, \"#fdca26\"], [1.0, \"#f0f921\"]], \"type\": \"contour\"}], \"contourcarpet\": [{\"colorbar\": {\"outlinewidth\": 0, \"ticks\": \"\"}, \"type\": \"contourcarpet\"}], \"heatmap\": [{\"colorbar\": {\"outlinewidth\": 0, \"ticks\": \"\"}, \"colorscale\": [[0.0, \"#0d0887\"], [0.1111111111111111, \"#46039f\"], [0.2222222222222222, \"#7201a8\"], [0.3333333333333333, \"#9c179e\"], [0.4444444444444444, \"#bd3786\"], [0.5555555555555556, \"#d8576b\"], [0.6666666666666666, \"#ed7953\"], [0.7777777777777778, \"#fb9f3a\"], [0.8888888888888888, \"#fdca26\"], [1.0, \"#f0f921\"]], \"type\": \"heatmap\"}], \"heatmapgl\": [{\"colorbar\": {\"outlinewidth\": 0, \"ticks\": \"\"}, \"colorscale\": [[0.0, \"#0d0887\"], [0.1111111111111111, \"#46039f\"], [0.2222222222222222, \"#7201a8\"], [0.3333333333333333, \"#9c179e\"], [0.4444444444444444, \"#bd3786\"], [0.5555555555555556, \"#d8576b\"], [0.6666666666666666, \"#ed7953\"], [0.7777777777777778, \"#fb9f3a\"], [0.8888888888888888, \"#fdca26\"], [1.0, \"#f0f921\"]], \"type\": \"heatmapgl\"}], \"histogram\": [{\"marker\": {\"colorbar\": {\"outlinewidth\": 0, \"ticks\": \"\"}}, \"type\": \"histogram\"}], \"histogram2d\": [{\"colorbar\": {\"outlinewidth\": 0, \"ticks\": \"\"}, \"colorscale\": [[0.0, \"#0d0887\"], [0.1111111111111111, \"#46039f\"], [0.2222222222222222, \"#7201a8\"], [0.3333333333333333, \"#9c179e\"], [0.4444444444444444, \"#bd3786\"], [0.5555555555555556, \"#d8576b\"], [0.6666666666666666, \"#ed7953\"], [0.7777777777777778, \"#fb9f3a\"], [0.8888888888888888, \"#fdca26\"], [1.0, \"#f0f921\"]], \"type\": \"histogram2d\"}], \"histogram2dcontour\": [{\"colorbar\": {\"outlinewidth\": 0, \"ticks\": \"\"}, \"colorscale\": [[0.0, \"#0d0887\"], [0.1111111111111111, \"#46039f\"], [0.2222222222222222, \"#7201a8\"], [0.3333333333333333, \"#9c179e\"], [0.4444444444444444, \"#bd3786\"], [0.5555555555555556, \"#d8576b\"], [0.6666666666666666, \"#ed7953\"], [0.7777777777777778, \"#fb9f3a\"], [0.8888888888888888, \"#fdca26\"], [1.0, \"#f0f921\"]], \"type\": \"histogram2dcontour\"}], \"mesh3d\": [{\"colorbar\": {\"outlinewidth\": 0, \"ticks\": \"\"}, \"type\": \"mesh3d\"}], \"parcoords\": [{\"line\": {\"colorbar\": {\"outlinewidth\": 0, \"ticks\": \"\"}}, \"type\": \"parcoords\"}], \"pie\": [{\"automargin\": true, \"type\": \"pie\"}], \"scatter\": [{\"marker\": {\"colorbar\": {\"outlinewidth\": 0, \"ticks\": \"\"}}, \"type\": \"scatter\"}], \"scatter3d\": [{\"line\": {\"colorbar\": {\"outlinewidth\": 0, \"ticks\": \"\"}}, \"marker\": {\"colorbar\": {\"outlinewidth\": 0, \"ticks\": \"\"}}, \"type\": \"scatter3d\"}], \"scattercarpet\": [{\"marker\": {\"colorbar\": {\"outlinewidth\": 0, \"ticks\": \"\"}}, \"type\": \"scattercarpet\"}], \"scattergeo\": [{\"marker\": {\"colorbar\": {\"outlinewidth\": 0, \"ticks\": \"\"}}, \"type\": \"scattergeo\"}], \"scattergl\": [{\"marker\": {\"colorbar\": {\"outlinewidth\": 0, \"ticks\": \"\"}}, \"type\": \"scattergl\"}], \"scattermapbox\": [{\"marker\": {\"colorbar\": {\"outlinewidth\": 0, \"ticks\": \"\"}}, \"type\": \"scattermapbox\"}], \"scatterpolar\": [{\"marker\": {\"colorbar\": {\"outlinewidth\": 0, \"ticks\": \"\"}}, \"type\": \"scatterpolar\"}], \"scatterpolargl\": [{\"marker\": {\"colorbar\": {\"outlinewidth\": 0, \"ticks\": \"\"}}, \"type\": \"scatterpolargl\"}], \"scatterternary\": [{\"marker\": {\"colorbar\": {\"outlinewidth\": 0, \"ticks\": \"\"}}, \"type\": \"scatterternary\"}], \"surface\": [{\"colorbar\": {\"outlinewidth\": 0, \"ticks\": \"\"}, \"colorscale\": [[0.0, \"#0d0887\"], [0.1111111111111111, \"#46039f\"], [0.2222222222222222, \"#7201a8\"], [0.3333333333333333, \"#9c179e\"], [0.4444444444444444, \"#bd3786\"], [0.5555555555555556, \"#d8576b\"], [0.6666666666666666, \"#ed7953\"], [0.7777777777777778, \"#fb9f3a\"], [0.8888888888888888, \"#fdca26\"], [1.0, \"#f0f921\"]], \"type\": \"surface\"}], \"table\": [{\"cells\": {\"fill\": {\"color\": \"#EBF0F8\"}, \"line\": {\"color\": \"white\"}}, \"header\": {\"fill\": {\"color\": \"#C8D4E3\"}, \"line\": {\"color\": \"white\"}}, \"type\": \"table\"}]}, \"layout\": {\"annotationdefaults\": {\"arrowcolor\": \"#2a3f5f\", \"arrowhead\": 0, \"arrowwidth\": 1}, \"autotypenumbers\": \"strict\", \"coloraxis\": {\"colorbar\": {\"outlinewidth\": 0, \"ticks\": \"\"}}, \"colorscale\": {\"diverging\": [[0, \"#8e0152\"], [0.1, \"#c51b7d\"], [0.2, \"#de77ae\"], [0.3, \"#f1b6da\"], [0.4, \"#fde0ef\"], [0.5, \"#f7f7f7\"], [0.6, \"#e6f5d0\"], [0.7, \"#b8e186\"], [0.8, \"#7fbc41\"], [0.9, \"#4d9221\"], [1, \"#276419\"]], \"sequential\": [[0.0, \"#0d0887\"], [0.1111111111111111, \"#46039f\"], [0.2222222222222222, \"#7201a8\"], [0.3333333333333333, \"#9c179e\"], [0.4444444444444444, \"#bd3786\"], [0.5555555555555556, \"#d8576b\"], [0.6666666666666666, \"#ed7953\"], [0.7777777777777778, \"#fb9f3a\"], [0.8888888888888888, \"#fdca26\"], [1.0, \"#f0f921\"]], \"sequentialminus\": [[0.0, \"#0d0887\"], [0.1111111111111111, \"#46039f\"], [0.2222222222222222, \"#7201a8\"], [0.3333333333333333, \"#9c179e\"], [0.4444444444444444, \"#bd3786\"], [0.5555555555555556, \"#d8576b\"], [0.6666666666666666, \"#ed7953\"], [0.7777777777777778, \"#fb9f3a\"], [0.8888888888888888, \"#fdca26\"], [1.0, \"#f0f921\"]]}, \"colorway\": [\"#636efa\", \"#EF553B\", \"#00cc96\", \"#ab63fa\", \"#FFA15A\", \"#19d3f3\", \"#FF6692\", \"#B6E880\", \"#FF97FF\", \"#FECB52\"], \"font\": {\"color\": \"#2a3f5f\"}, \"geo\": {\"bgcolor\": \"white\", \"lakecolor\": \"white\", \"landcolor\": \"#E5ECF6\", \"showlakes\": true, \"showland\": true, \"subunitcolor\": \"white\"}, \"hoverlabel\": {\"align\": \"left\"}, \"hovermode\": \"closest\", \"mapbox\": {\"style\": \"light\"}, \"paper_bgcolor\": \"white\", \"plot_bgcolor\": \"#E5ECF6\", \"polar\": {\"angularaxis\": {\"gridcolor\": \"white\", \"linecolor\": \"white\", \"ticks\": \"\"}, \"bgcolor\": \"#E5ECF6\", \"radialaxis\": {\"gridcolor\": \"white\", \"linecolor\": \"white\", \"ticks\": \"\"}}, \"scene\": {\"xaxis\": {\"backgroundcolor\": \"#E5ECF6\", \"gridcolor\": \"white\", \"gridwidth\": 2, \"linecolor\": \"white\", \"showbackground\": true, \"ticks\": \"\", \"zerolinecolor\": \"white\"}, \"yaxis\": {\"backgroundcolor\": \"#E5ECF6\", \"gridcolor\": \"white\", \"gridwidth\": 2, \"linecolor\": \"white\", \"showbackground\": true, \"ticks\": \"\", \"zerolinecolor\": \"white\"}, \"zaxis\": {\"backgroundcolor\": \"#E5ECF6\", \"gridcolor\": \"white\", \"gridwidth\": 2, \"linecolor\": \"white\", \"showbackground\": true, \"ticks\": \"\", \"zerolinecolor\": \"white\"}}, \"shapedefaults\": {\"line\": {\"color\": \"#2a3f5f\"}}, \"ternary\": {\"aaxis\": {\"gridcolor\": \"white\", \"linecolor\": \"white\", \"ticks\": \"\"}, \"baxis\": {\"gridcolor\": \"white\", \"linecolor\": \"white\", \"ticks\": \"\"}, \"bgcolor\": \"#E5ECF6\", \"caxis\": {\"gridcolor\": \"white\", \"linecolor\": \"white\", \"ticks\": \"\"}}, \"title\": {\"x\": 0.05}, \"xaxis\": {\"automargin\": true, \"gridcolor\": \"white\", \"linecolor\": \"white\", \"ticks\": \"\", \"title\": {\"standoff\": 15}, \"zerolinecolor\": \"white\", \"zerolinewidth\": 2}, \"yaxis\": {\"automargin\": true, \"gridcolor\": \"white\", \"linecolor\": \"white\", \"ticks\": \"\", \"title\": {\"standoff\": 15}, \"zerolinecolor\": \"white\", \"zerolinewidth\": 2}}}, \"title\": {\"text\": \"Predicted vs true price\"}, \"xaxis\": {\"title\": {\"text\": \"Pass_px\"}}, \"yaxis\": {\"title\": {\"text\": \"Predicted price\"}}},                        {\"responsive\": true}                    ).then(function(){\n",
       "                            \n",
       "var gd = document.getElementById('2ba208c7-d5a4-4cff-9f1f-8cc23b4d922b');\n",
       "var x = new MutationObserver(function (mutations, observer) {{\n",
       "        var display = window.getComputedStyle(gd).display;\n",
       "        if (!display || display === 'none') {{\n",
       "            console.log([gd, 'removed!']);\n",
       "            Plotly.purge(gd);\n",
       "            observer.disconnect();\n",
       "        }}\n",
       "}});\n",
       "\n",
       "// Listen for the removal of the full notebook cells\n",
       "var notebookContainer = gd.closest('#notebook-container');\n",
       "if (notebookContainer) {{\n",
       "    x.observe(notebookContainer, {childList: true});\n",
       "}}\n",
       "\n",
       "// Listen for the clearing of the current output cell\n",
       "var outputEl = gd.closest('.output');\n",
       "if (outputEl) {{\n",
       "    x.observe(outputEl, {childList: true});\n",
       "}}\n",
       "\n",
       "                        })                };                });            </script>        </div>"
      ]
     },
     "metadata": {},
     "output_type": "display_data"
    }
   ],
   "source": [
    "TestEU['predictions'] = euro_mod.predict(TestEU)\n",
    "px.scatter(TestEU, x= 'predictions', y = 'ski_pass_price')\n",
    "line_y = TestEU['ski_pass_price']\n",
    "plot_scatter_and_line(TestEU['ski_pass_price'], TestEU['predictions'], line_y, 'Predictions', 'y=x','Predicted vs true price', 'Pass_px', 'Predicted price')"
   ]
  },
  {
   "cell_type": "markdown",
   "metadata": {
    "slideshow": {
     "slide_type": "subslide"
    }
   },
   "source": [
    "Seems a bit flatter than it should be. Let's see what the residuals look like."
   ]
  },
  {
   "cell_type": "code",
   "execution_count": 91,
   "metadata": {
    "slideshow": {
     "slide_type": "fragment"
    }
   },
   "outputs": [
    {
     "data": {
      "application/vnd.plotly.v1+json": {
       "config": {
        "plotlyServerURL": "https://plot.ly"
       },
       "data": [
        {
         "mode": "markers",
         "name": "Model residuals",
         "type": "scatter",
         "x": [
          53,
          37,
          38,
          19,
          32,
          19,
          43,
          29,
          47,
          25,
          47,
          31,
          46,
          60,
          48,
          49,
          43,
          30,
          50,
          45,
          34,
          47,
          69,
          37,
          30,
          18,
          30,
          45,
          42,
          35,
          35,
          36,
          36,
          44,
          53,
          52,
          49,
          49,
          52,
          37,
          35,
          28,
          35,
          51,
          48,
          54,
          44,
          28,
          30,
          46,
          44,
          66,
          42,
          36,
          49,
          42,
          34,
          51,
          43,
          59,
          34,
          34,
          61,
          26,
          45,
          20,
          17,
          25,
          45,
          53,
          28,
          47,
          29,
          29
         ],
         "y": [
          3.844815067319743,
          -9.39884350817379,
          12.33554591579513,
          -5.497657517947864,
          -2.1245257412811682,
          -11.653017060037605,
          -6.884930691301555,
          -0.6151009162044048,
          -6.09165661972316,
          -9.314737511967671,
          10.187529439892032,
          -2.758215595112496,
          1.2233260570767754,
          -9.242544520006938,
          -2.213372401977523,
          -0.2993407795479399,
          2.031390180411087,
          3.5138595602650895,
          -1.5413313058012008,
          3.2288588421622464,
          4.422583969407256,
          10.044600738643751,
          -3.076123416031166,
          -4.992131401986072,
          -10.447332917503658,
          14.934864769475595,
          5.997607998135699,
          -14.105014624009442,
          -0.5161194524294004,
          -1.8018101668901636,
          -17.792704580433067,
          -4.4948908810785895,
          -2.32177284567684,
          7.603525066111075,
          8.30458546946302,
          7.69081994380975,
          9.024097520409569,
          -4.556082781484314,
          3.3636831377907015,
          -2.5706396576665327,
          -6.282657640060272,
          3.4043159288822125,
          0.02122988205876908,
          -14.906017859950573,
          4.875062406113017,
          -3.38661635771075,
          14.90558318703679,
          4.7679273173283505,
          3.3899760524033127,
          20.640447250809405,
          3.717549028355535,
          -6.075417126330088,
          -8.702296364863898,
          -3.2227530202664383,
          -0.16092401382653065,
          8.260282964844201,
          3.6400453358910596,
          9.551830868785338,
          -9.385455006204253,
          -16.2757634041567,
          7.868357136118689,
          19.254752299193854,
          8.227612625419653,
          -1.5502244992153997,
          -8.617037819125827,
          -6.7158453889218634,
          5.0123223156126855,
          2.182138159667602,
          -3.183597946344321,
          9.255630644893742,
          3.4375868333596884,
          -1.6792737191524267,
          -11.952252008501034,
          -7.113769119698546,
          -4.886411951271981,
          9.207444634726258,
          -9.869245492927462,
          -2.4639960728346466,
          -2.5074069789160944,
          3.1206331025612393,
          9.572936049551174,
          -5.218506247127898,
          8.552845083786892,
          8.482923068504569,
          -2.258996780191275,
          4.904968898948454,
          17.106728703512346,
          -6.075417126330088,
          -2.7716432829339723,
          7.709444556134827,
          -3.548573012997757,
          -9.195081782742676,
          8.248771247575284,
          -3.4759779973369618,
          7.1013085960913,
          6.917480257819726,
          -8.214468131459718,
          -18.54981568633785,
          8.119285013036475,
          7.612730930313546,
          3.0623512340317802,
          7.868357136118689,
          -0.5069849692337769,
          5.447262553885942,
          2.8922557892154828,
          3.1442734024344574,
          0.5825389022073182,
          2.394378603541327,
          0.20234598708415774,
          8.32416357787622,
          -4.885684365643442,
          7.104151480406571,
          2.7171861220742244,
          1.0982399623810828,
          1.7438524404689346,
          -9.677003318313112,
          -2.7998913079109684,
          8.75809739862678,
          4.064938910712257,
          3.816427240184794,
          16.342323848277154,
          6.599404903047557,
          -1.7426791438289513,
          -6.6690341303621,
          1.3561459609588837,
          0.6249567539140202,
          5.295865864461817,
          -4.725266023780861,
          -12.346686967043752,
          -12.76282293181633,
          -12.304069686016959,
          -6.910704293834883,
          12.70030767859194,
          -0.07023915383061308,
          -1.6111632610840587,
          7.868357136118689,
          2.623372617008407,
          -2.2549120283511,
          5.064598675781241,
          9.487362957511891,
          -0.5078828917168323,
          -4.8521892923948755,
          -15.868866341688584,
          -13.037860840663456,
          3.9208628975672326,
          -0.974035238164106,
          -7.644287696137361,
          16.910114735648747,
          -10.114563914031983,
          -29.314669727423663,
          3.10003322510817,
          -1.5711854765900455,
          -0.9849510125935339,
          -4.1396238098535605,
          6.596711467420285,
          -14.073109729629572,
          -2.250823896297831,
          -13.364528810735791,
          4.139489045281763,
          -9.513209234662234,
          -11.43805824051227,
          3.7104311636424825,
          4.379060841131427,
          -10.273355956206032,
          -13.039774508211334,
          10.239013811926736,
          7.387457889210772,
          4.016085625661944,
          1.113588048728019,
          4.9574164712300615,
          9.165760327107428,
          14.256012163984494,
          7.824227679911935,
          1.0446061010259413,
          -0.624656943240069,
          5.097399670484833,
          -1.7426791438289513,
          -2.0892250121746017,
          6.510798882843957,
          7.301879837259534,
          -3.1923459951663347,
          1.1798560336438513,
          16.231561476375767,
          4.968582248000644,
          1.1452769703357788,
          0.23525649765244339,
          7.521251187114686,
          -10.658457221622058,
          4.06543898311088,
          -10.04836860655898,
          -10.774271330190082,
          -0.02801026803315665,
          -14.76139804067909,
          7.035826076497322,
          18.12936264524992,
          8.167379766152372,
          -4.0133418058627655,
          -15.887222679067861,
          -3.89599773475274,
          -9.512538360177288,
          7.045106858045386,
          -4.4948908810785895,
          0.5982453718747962,
          9.28941905647278,
          -8.533154927179716,
          11.449264914859391,
          5.552714011992961,
          -5.417075909739317,
          -13.323730594287099,
          9.987976125819642,
          -8.492567714659394,
          -10.866479172361572,
          3.412110372834391,
          3.538647093840112,
          6.421297269964498,
          -11.606029758244098,
          -23.060400219498717,
          6.782695197438933,
          1.7983821340418658,
          3.576337880052826
         ]
        },
        {
         "name": "y=0",
         "type": "scatter",
         "x": [
          53,
          37,
          38,
          19,
          32,
          19,
          43,
          29,
          47,
          25,
          47,
          31,
          46,
          60,
          48,
          49,
          43,
          30,
          50,
          45,
          34,
          47,
          69,
          37,
          30,
          18,
          30,
          45,
          42,
          35,
          35,
          36,
          36,
          44,
          53,
          52,
          49,
          49,
          52,
          37,
          35,
          28,
          35,
          51,
          48,
          54,
          44,
          28,
          30,
          46,
          44,
          66,
          42,
          36,
          49,
          42,
          34,
          51,
          43,
          59,
          34,
          34,
          61,
          26,
          45,
          20,
          17,
          25,
          45,
          53,
          28,
          47,
          29,
          29
         ],
         "y": [
          0,
          0,
          0,
          0,
          0,
          0,
          0,
          0,
          0,
          0,
          0,
          0,
          0,
          0,
          0,
          0,
          0,
          0,
          0,
          0,
          0,
          0,
          0,
          0,
          0,
          0,
          0,
          0,
          0,
          0,
          0,
          0,
          0,
          0,
          0,
          0,
          0,
          0,
          0,
          0,
          0,
          0,
          0,
          0,
          0,
          0,
          0,
          0,
          0,
          0,
          0,
          0,
          0,
          0,
          0,
          0,
          0,
          0,
          0,
          0,
          0,
          0,
          0,
          0,
          0,
          0,
          0,
          0,
          0,
          0,
          0,
          0,
          0,
          0
         ]
        }
       ],
       "layout": {
        "template": {
         "data": {
          "bar": [
           {
            "error_x": {
             "color": "#2a3f5f"
            },
            "error_y": {
             "color": "#2a3f5f"
            },
            "marker": {
             "line": {
              "color": "#E5ECF6",
              "width": 0.5
             }
            },
            "type": "bar"
           }
          ],
          "barpolar": [
           {
            "marker": {
             "line": {
              "color": "#E5ECF6",
              "width": 0.5
             }
            },
            "type": "barpolar"
           }
          ],
          "carpet": [
           {
            "aaxis": {
             "endlinecolor": "#2a3f5f",
             "gridcolor": "white",
             "linecolor": "white",
             "minorgridcolor": "white",
             "startlinecolor": "#2a3f5f"
            },
            "baxis": {
             "endlinecolor": "#2a3f5f",
             "gridcolor": "white",
             "linecolor": "white",
             "minorgridcolor": "white",
             "startlinecolor": "#2a3f5f"
            },
            "type": "carpet"
           }
          ],
          "choropleth": [
           {
            "colorbar": {
             "outlinewidth": 0,
             "ticks": ""
            },
            "type": "choropleth"
           }
          ],
          "contour": [
           {
            "colorbar": {
             "outlinewidth": 0,
             "ticks": ""
            },
            "colorscale": [
             [
              0,
              "#0d0887"
             ],
             [
              0.1111111111111111,
              "#46039f"
             ],
             [
              0.2222222222222222,
              "#7201a8"
             ],
             [
              0.3333333333333333,
              "#9c179e"
             ],
             [
              0.4444444444444444,
              "#bd3786"
             ],
             [
              0.5555555555555556,
              "#d8576b"
             ],
             [
              0.6666666666666666,
              "#ed7953"
             ],
             [
              0.7777777777777778,
              "#fb9f3a"
             ],
             [
              0.8888888888888888,
              "#fdca26"
             ],
             [
              1,
              "#f0f921"
             ]
            ],
            "type": "contour"
           }
          ],
          "contourcarpet": [
           {
            "colorbar": {
             "outlinewidth": 0,
             "ticks": ""
            },
            "type": "contourcarpet"
           }
          ],
          "heatmap": [
           {
            "colorbar": {
             "outlinewidth": 0,
             "ticks": ""
            },
            "colorscale": [
             [
              0,
              "#0d0887"
             ],
             [
              0.1111111111111111,
              "#46039f"
             ],
             [
              0.2222222222222222,
              "#7201a8"
             ],
             [
              0.3333333333333333,
              "#9c179e"
             ],
             [
              0.4444444444444444,
              "#bd3786"
             ],
             [
              0.5555555555555556,
              "#d8576b"
             ],
             [
              0.6666666666666666,
              "#ed7953"
             ],
             [
              0.7777777777777778,
              "#fb9f3a"
             ],
             [
              0.8888888888888888,
              "#fdca26"
             ],
             [
              1,
              "#f0f921"
             ]
            ],
            "type": "heatmap"
           }
          ],
          "heatmapgl": [
           {
            "colorbar": {
             "outlinewidth": 0,
             "ticks": ""
            },
            "colorscale": [
             [
              0,
              "#0d0887"
             ],
             [
              0.1111111111111111,
              "#46039f"
             ],
             [
              0.2222222222222222,
              "#7201a8"
             ],
             [
              0.3333333333333333,
              "#9c179e"
             ],
             [
              0.4444444444444444,
              "#bd3786"
             ],
             [
              0.5555555555555556,
              "#d8576b"
             ],
             [
              0.6666666666666666,
              "#ed7953"
             ],
             [
              0.7777777777777778,
              "#fb9f3a"
             ],
             [
              0.8888888888888888,
              "#fdca26"
             ],
             [
              1,
              "#f0f921"
             ]
            ],
            "type": "heatmapgl"
           }
          ],
          "histogram": [
           {
            "marker": {
             "colorbar": {
              "outlinewidth": 0,
              "ticks": ""
             }
            },
            "type": "histogram"
           }
          ],
          "histogram2d": [
           {
            "colorbar": {
             "outlinewidth": 0,
             "ticks": ""
            },
            "colorscale": [
             [
              0,
              "#0d0887"
             ],
             [
              0.1111111111111111,
              "#46039f"
             ],
             [
              0.2222222222222222,
              "#7201a8"
             ],
             [
              0.3333333333333333,
              "#9c179e"
             ],
             [
              0.4444444444444444,
              "#bd3786"
             ],
             [
              0.5555555555555556,
              "#d8576b"
             ],
             [
              0.6666666666666666,
              "#ed7953"
             ],
             [
              0.7777777777777778,
              "#fb9f3a"
             ],
             [
              0.8888888888888888,
              "#fdca26"
             ],
             [
              1,
              "#f0f921"
             ]
            ],
            "type": "histogram2d"
           }
          ],
          "histogram2dcontour": [
           {
            "colorbar": {
             "outlinewidth": 0,
             "ticks": ""
            },
            "colorscale": [
             [
              0,
              "#0d0887"
             ],
             [
              0.1111111111111111,
              "#46039f"
             ],
             [
              0.2222222222222222,
              "#7201a8"
             ],
             [
              0.3333333333333333,
              "#9c179e"
             ],
             [
              0.4444444444444444,
              "#bd3786"
             ],
             [
              0.5555555555555556,
              "#d8576b"
             ],
             [
              0.6666666666666666,
              "#ed7953"
             ],
             [
              0.7777777777777778,
              "#fb9f3a"
             ],
             [
              0.8888888888888888,
              "#fdca26"
             ],
             [
              1,
              "#f0f921"
             ]
            ],
            "type": "histogram2dcontour"
           }
          ],
          "mesh3d": [
           {
            "colorbar": {
             "outlinewidth": 0,
             "ticks": ""
            },
            "type": "mesh3d"
           }
          ],
          "parcoords": [
           {
            "line": {
             "colorbar": {
              "outlinewidth": 0,
              "ticks": ""
             }
            },
            "type": "parcoords"
           }
          ],
          "pie": [
           {
            "automargin": true,
            "type": "pie"
           }
          ],
          "scatter": [
           {
            "marker": {
             "colorbar": {
              "outlinewidth": 0,
              "ticks": ""
             }
            },
            "type": "scatter"
           }
          ],
          "scatter3d": [
           {
            "line": {
             "colorbar": {
              "outlinewidth": 0,
              "ticks": ""
             }
            },
            "marker": {
             "colorbar": {
              "outlinewidth": 0,
              "ticks": ""
             }
            },
            "type": "scatter3d"
           }
          ],
          "scattercarpet": [
           {
            "marker": {
             "colorbar": {
              "outlinewidth": 0,
              "ticks": ""
             }
            },
            "type": "scattercarpet"
           }
          ],
          "scattergeo": [
           {
            "marker": {
             "colorbar": {
              "outlinewidth": 0,
              "ticks": ""
             }
            },
            "type": "scattergeo"
           }
          ],
          "scattergl": [
           {
            "marker": {
             "colorbar": {
              "outlinewidth": 0,
              "ticks": ""
             }
            },
            "type": "scattergl"
           }
          ],
          "scattermapbox": [
           {
            "marker": {
             "colorbar": {
              "outlinewidth": 0,
              "ticks": ""
             }
            },
            "type": "scattermapbox"
           }
          ],
          "scatterpolar": [
           {
            "marker": {
             "colorbar": {
              "outlinewidth": 0,
              "ticks": ""
             }
            },
            "type": "scatterpolar"
           }
          ],
          "scatterpolargl": [
           {
            "marker": {
             "colorbar": {
              "outlinewidth": 0,
              "ticks": ""
             }
            },
            "type": "scatterpolargl"
           }
          ],
          "scatterternary": [
           {
            "marker": {
             "colorbar": {
              "outlinewidth": 0,
              "ticks": ""
             }
            },
            "type": "scatterternary"
           }
          ],
          "surface": [
           {
            "colorbar": {
             "outlinewidth": 0,
             "ticks": ""
            },
            "colorscale": [
             [
              0,
              "#0d0887"
             ],
             [
              0.1111111111111111,
              "#46039f"
             ],
             [
              0.2222222222222222,
              "#7201a8"
             ],
             [
              0.3333333333333333,
              "#9c179e"
             ],
             [
              0.4444444444444444,
              "#bd3786"
             ],
             [
              0.5555555555555556,
              "#d8576b"
             ],
             [
              0.6666666666666666,
              "#ed7953"
             ],
             [
              0.7777777777777778,
              "#fb9f3a"
             ],
             [
              0.8888888888888888,
              "#fdca26"
             ],
             [
              1,
              "#f0f921"
             ]
            ],
            "type": "surface"
           }
          ],
          "table": [
           {
            "cells": {
             "fill": {
              "color": "#EBF0F8"
             },
             "line": {
              "color": "white"
             }
            },
            "header": {
             "fill": {
              "color": "#C8D4E3"
             },
             "line": {
              "color": "white"
             }
            },
            "type": "table"
           }
          ]
         },
         "layout": {
          "annotationdefaults": {
           "arrowcolor": "#2a3f5f",
           "arrowhead": 0,
           "arrowwidth": 1
          },
          "autotypenumbers": "strict",
          "coloraxis": {
           "colorbar": {
            "outlinewidth": 0,
            "ticks": ""
           }
          },
          "colorscale": {
           "diverging": [
            [
             0,
             "#8e0152"
            ],
            [
             0.1,
             "#c51b7d"
            ],
            [
             0.2,
             "#de77ae"
            ],
            [
             0.3,
             "#f1b6da"
            ],
            [
             0.4,
             "#fde0ef"
            ],
            [
             0.5,
             "#f7f7f7"
            ],
            [
             0.6,
             "#e6f5d0"
            ],
            [
             0.7,
             "#b8e186"
            ],
            [
             0.8,
             "#7fbc41"
            ],
            [
             0.9,
             "#4d9221"
            ],
            [
             1,
             "#276419"
            ]
           ],
           "sequential": [
            [
             0,
             "#0d0887"
            ],
            [
             0.1111111111111111,
             "#46039f"
            ],
            [
             0.2222222222222222,
             "#7201a8"
            ],
            [
             0.3333333333333333,
             "#9c179e"
            ],
            [
             0.4444444444444444,
             "#bd3786"
            ],
            [
             0.5555555555555556,
             "#d8576b"
            ],
            [
             0.6666666666666666,
             "#ed7953"
            ],
            [
             0.7777777777777778,
             "#fb9f3a"
            ],
            [
             0.8888888888888888,
             "#fdca26"
            ],
            [
             1,
             "#f0f921"
            ]
           ],
           "sequentialminus": [
            [
             0,
             "#0d0887"
            ],
            [
             0.1111111111111111,
             "#46039f"
            ],
            [
             0.2222222222222222,
             "#7201a8"
            ],
            [
             0.3333333333333333,
             "#9c179e"
            ],
            [
             0.4444444444444444,
             "#bd3786"
            ],
            [
             0.5555555555555556,
             "#d8576b"
            ],
            [
             0.6666666666666666,
             "#ed7953"
            ],
            [
             0.7777777777777778,
             "#fb9f3a"
            ],
            [
             0.8888888888888888,
             "#fdca26"
            ],
            [
             1,
             "#f0f921"
            ]
           ]
          },
          "colorway": [
           "#636efa",
           "#EF553B",
           "#00cc96",
           "#ab63fa",
           "#FFA15A",
           "#19d3f3",
           "#FF6692",
           "#B6E880",
           "#FF97FF",
           "#FECB52"
          ],
          "font": {
           "color": "#2a3f5f"
          },
          "geo": {
           "bgcolor": "white",
           "lakecolor": "white",
           "landcolor": "#E5ECF6",
           "showlakes": true,
           "showland": true,
           "subunitcolor": "white"
          },
          "hoverlabel": {
           "align": "left"
          },
          "hovermode": "closest",
          "mapbox": {
           "style": "light"
          },
          "paper_bgcolor": "white",
          "plot_bgcolor": "#E5ECF6",
          "polar": {
           "angularaxis": {
            "gridcolor": "white",
            "linecolor": "white",
            "ticks": ""
           },
           "bgcolor": "#E5ECF6",
           "radialaxis": {
            "gridcolor": "white",
            "linecolor": "white",
            "ticks": ""
           }
          },
          "scene": {
           "xaxis": {
            "backgroundcolor": "#E5ECF6",
            "gridcolor": "white",
            "gridwidth": 2,
            "linecolor": "white",
            "showbackground": true,
            "ticks": "",
            "zerolinecolor": "white"
           },
           "yaxis": {
            "backgroundcolor": "#E5ECF6",
            "gridcolor": "white",
            "gridwidth": 2,
            "linecolor": "white",
            "showbackground": true,
            "ticks": "",
            "zerolinecolor": "white"
           },
           "zaxis": {
            "backgroundcolor": "#E5ECF6",
            "gridcolor": "white",
            "gridwidth": 2,
            "linecolor": "white",
            "showbackground": true,
            "ticks": "",
            "zerolinecolor": "white"
           }
          },
          "shapedefaults": {
           "line": {
            "color": "#2a3f5f"
           }
          },
          "ternary": {
           "aaxis": {
            "gridcolor": "white",
            "linecolor": "white",
            "ticks": ""
           },
           "baxis": {
            "gridcolor": "white",
            "linecolor": "white",
            "ticks": ""
           },
           "bgcolor": "#E5ECF6",
           "caxis": {
            "gridcolor": "white",
            "linecolor": "white",
            "ticks": ""
           }
          },
          "title": {
           "x": 0.05
          },
          "xaxis": {
           "automargin": true,
           "gridcolor": "white",
           "linecolor": "white",
           "ticks": "",
           "title": {
            "standoff": 15
           },
           "zerolinecolor": "white",
           "zerolinewidth": 2
          },
          "yaxis": {
           "automargin": true,
           "gridcolor": "white",
           "linecolor": "white",
           "ticks": "",
           "title": {
            "standoff": 15
           },
           "zerolinecolor": "white",
           "zerolinewidth": 2
          }
         }
        },
        "title": {
         "text": "Euro Model residual plot"
        },
        "xaxis": {
         "title": {
          "text": "Pass_px"
         }
        },
        "yaxis": {
         "title": {
          "text": "Residuals"
         }
        }
       }
      },
      "text/html": [
       "<div>                            <div id=\"2e03fb31-8dc9-420a-95e7-800126e08743\" class=\"plotly-graph-div\" style=\"height:525px; width:100%;\"></div>            <script type=\"text/javascript\">                require([\"plotly\"], function(Plotly) {                    window.PLOTLYENV=window.PLOTLYENV || {};                                    if (document.getElementById(\"2e03fb31-8dc9-420a-95e7-800126e08743\")) {                    Plotly.newPlot(                        \"2e03fb31-8dc9-420a-95e7-800126e08743\",                        [{\"mode\": \"markers\", \"name\": \"Model residuals\", \"type\": \"scatter\", \"x\": [53, 37, 38, 19, 32, 19, 43, 29, 47, 25, 47, 31, 46, 60, 48, 49, 43, 30, 50, 45, 34, 47, 69, 37, 30, 18, 30, 45, 42, 35, 35, 36, 36, 44, 53, 52, 49, 49, 52, 37, 35, 28, 35, 51, 48, 54, 44, 28, 30, 46, 44, 66, 42, 36, 49, 42, 34, 51, 43, 59, 34, 34, 61, 26, 45, 20, 17, 25, 45, 53, 28, 47, 29, 29], \"y\": [3.844815067319743, -9.39884350817379, 12.33554591579513, -5.497657517947864, -2.1245257412811682, -11.653017060037605, -6.884930691301555, -0.6151009162044048, -6.09165661972316, -9.314737511967671, 10.187529439892032, -2.758215595112496, 1.2233260570767754, -9.242544520006938, -2.213372401977523, -0.2993407795479399, 2.031390180411087, 3.5138595602650895, -1.5413313058012008, 3.2288588421622464, 4.422583969407256, 10.044600738643751, -3.076123416031166, -4.992131401986072, -10.447332917503658, 14.934864769475595, 5.997607998135699, -14.105014624009442, -0.5161194524294004, -1.8018101668901636, -17.792704580433067, -4.4948908810785895, -2.32177284567684, 7.603525066111075, 8.30458546946302, 7.69081994380975, 9.024097520409569, -4.556082781484314, 3.3636831377907015, -2.5706396576665327, -6.282657640060272, 3.4043159288822125, 0.02122988205876908, -14.906017859950573, 4.875062406113017, -3.38661635771075, 14.90558318703679, 4.7679273173283505, 3.3899760524033127, 20.640447250809405, 3.717549028355535, -6.075417126330088, -8.702296364863898, -3.2227530202664383, -0.16092401382653065, 8.260282964844201, 3.6400453358910596, 9.551830868785338, -9.385455006204253, -16.2757634041567, 7.868357136118689, 19.254752299193854, 8.227612625419653, -1.5502244992153997, -8.617037819125827, -6.7158453889218634, 5.0123223156126855, 2.182138159667602, -3.183597946344321, 9.255630644893742, 3.4375868333596884, -1.6792737191524267, -11.952252008501034, -7.113769119698546, -4.886411951271981, 9.207444634726258, -9.869245492927462, -2.4639960728346466, -2.5074069789160944, 3.1206331025612393, 9.572936049551174, -5.218506247127898, 8.552845083786892, 8.482923068504569, -2.258996780191275, 4.904968898948454, 17.106728703512346, -6.075417126330088, -2.7716432829339723, 7.709444556134827, -3.548573012997757, -9.195081782742676, 8.248771247575284, -3.4759779973369618, 7.1013085960913, 6.917480257819726, -8.214468131459718, -18.54981568633785, 8.119285013036475, 7.612730930313546, 3.0623512340317802, 7.868357136118689, -0.5069849692337769, 5.447262553885942, 2.8922557892154828, 3.1442734024344574, 0.5825389022073182, 2.394378603541327, 0.20234598708415774, 8.32416357787622, -4.885684365643442, 7.104151480406571, 2.7171861220742244, 1.0982399623810828, 1.7438524404689346, -9.677003318313112, -2.7998913079109684, 8.75809739862678, 4.064938910712257, 3.816427240184794, 16.342323848277154, 6.599404903047557, -1.7426791438289513, -6.6690341303621, 1.3561459609588837, 0.6249567539140202, 5.295865864461817, -4.725266023780861, -12.346686967043752, -12.76282293181633, -12.304069686016959, -6.910704293834883, 12.70030767859194, -0.07023915383061308, -1.6111632610840587, 7.868357136118689, 2.623372617008407, -2.2549120283511, 5.064598675781241, 9.487362957511891, -0.5078828917168323, -4.8521892923948755, -15.868866341688584, -13.037860840663456, 3.9208628975672326, -0.974035238164106, -7.644287696137361, 16.910114735648747, -10.114563914031983, -29.314669727423663, 3.10003322510817, -1.5711854765900455, -0.9849510125935339, -4.1396238098535605, 6.596711467420285, -14.073109729629572, -2.250823896297831, -13.364528810735791, 4.139489045281763, -9.513209234662234, -11.43805824051227, 3.7104311636424825, 4.379060841131427, -10.273355956206032, -13.039774508211334, 10.239013811926736, 7.387457889210772, 4.016085625661944, 1.113588048728019, 4.9574164712300615, 9.165760327107428, 14.256012163984494, 7.824227679911935, 1.0446061010259413, -0.624656943240069, 5.097399670484833, -1.7426791438289513, -2.0892250121746017, 6.510798882843957, 7.301879837259534, -3.1923459951663347, 1.1798560336438513, 16.231561476375767, 4.968582248000644, 1.1452769703357788, 0.23525649765244339, 7.521251187114686, -10.658457221622058, 4.06543898311088, -10.04836860655898, -10.774271330190082, -0.02801026803315665, -14.76139804067909, 7.035826076497322, 18.12936264524992, 8.167379766152372, -4.0133418058627655, -15.887222679067861, -3.89599773475274, -9.512538360177288, 7.045106858045386, -4.4948908810785895, 0.5982453718747962, 9.28941905647278, -8.533154927179716, 11.449264914859391, 5.552714011992961, -5.417075909739317, -13.323730594287099, 9.987976125819642, -8.492567714659394, -10.866479172361572, 3.412110372834391, 3.538647093840112, 6.421297269964498, -11.606029758244098, -23.060400219498717, 6.782695197438933, 1.7983821340418658, 3.576337880052826]}, {\"name\": \"y=0\", \"type\": \"scatter\", \"x\": [53, 37, 38, 19, 32, 19, 43, 29, 47, 25, 47, 31, 46, 60, 48, 49, 43, 30, 50, 45, 34, 47, 69, 37, 30, 18, 30, 45, 42, 35, 35, 36, 36, 44, 53, 52, 49, 49, 52, 37, 35, 28, 35, 51, 48, 54, 44, 28, 30, 46, 44, 66, 42, 36, 49, 42, 34, 51, 43, 59, 34, 34, 61, 26, 45, 20, 17, 25, 45, 53, 28, 47, 29, 29], \"y\": [0, 0, 0, 0, 0, 0, 0, 0, 0, 0, 0, 0, 0, 0, 0, 0, 0, 0, 0, 0, 0, 0, 0, 0, 0, 0, 0, 0, 0, 0, 0, 0, 0, 0, 0, 0, 0, 0, 0, 0, 0, 0, 0, 0, 0, 0, 0, 0, 0, 0, 0, 0, 0, 0, 0, 0, 0, 0, 0, 0, 0, 0, 0, 0, 0, 0, 0, 0, 0, 0, 0, 0, 0, 0]}],                        {\"template\": {\"data\": {\"bar\": [{\"error_x\": {\"color\": \"#2a3f5f\"}, \"error_y\": {\"color\": \"#2a3f5f\"}, \"marker\": {\"line\": {\"color\": \"#E5ECF6\", \"width\": 0.5}}, \"type\": \"bar\"}], \"barpolar\": [{\"marker\": {\"line\": {\"color\": \"#E5ECF6\", \"width\": 0.5}}, \"type\": \"barpolar\"}], \"carpet\": [{\"aaxis\": {\"endlinecolor\": \"#2a3f5f\", \"gridcolor\": \"white\", \"linecolor\": \"white\", \"minorgridcolor\": \"white\", \"startlinecolor\": \"#2a3f5f\"}, \"baxis\": {\"endlinecolor\": \"#2a3f5f\", \"gridcolor\": \"white\", \"linecolor\": \"white\", \"minorgridcolor\": \"white\", \"startlinecolor\": \"#2a3f5f\"}, \"type\": \"carpet\"}], \"choropleth\": [{\"colorbar\": {\"outlinewidth\": 0, \"ticks\": \"\"}, \"type\": \"choropleth\"}], \"contour\": [{\"colorbar\": {\"outlinewidth\": 0, \"ticks\": \"\"}, \"colorscale\": [[0.0, \"#0d0887\"], [0.1111111111111111, \"#46039f\"], [0.2222222222222222, \"#7201a8\"], [0.3333333333333333, \"#9c179e\"], [0.4444444444444444, \"#bd3786\"], [0.5555555555555556, \"#d8576b\"], [0.6666666666666666, \"#ed7953\"], [0.7777777777777778, \"#fb9f3a\"], [0.8888888888888888, \"#fdca26\"], [1.0, \"#f0f921\"]], \"type\": \"contour\"}], \"contourcarpet\": [{\"colorbar\": {\"outlinewidth\": 0, \"ticks\": \"\"}, \"type\": \"contourcarpet\"}], \"heatmap\": [{\"colorbar\": {\"outlinewidth\": 0, \"ticks\": \"\"}, \"colorscale\": [[0.0, \"#0d0887\"], [0.1111111111111111, \"#46039f\"], [0.2222222222222222, \"#7201a8\"], [0.3333333333333333, \"#9c179e\"], [0.4444444444444444, \"#bd3786\"], [0.5555555555555556, \"#d8576b\"], [0.6666666666666666, \"#ed7953\"], [0.7777777777777778, \"#fb9f3a\"], [0.8888888888888888, \"#fdca26\"], [1.0, \"#f0f921\"]], \"type\": \"heatmap\"}], \"heatmapgl\": [{\"colorbar\": {\"outlinewidth\": 0, \"ticks\": \"\"}, \"colorscale\": [[0.0, \"#0d0887\"], [0.1111111111111111, \"#46039f\"], [0.2222222222222222, \"#7201a8\"], [0.3333333333333333, \"#9c179e\"], [0.4444444444444444, \"#bd3786\"], [0.5555555555555556, \"#d8576b\"], [0.6666666666666666, \"#ed7953\"], [0.7777777777777778, \"#fb9f3a\"], [0.8888888888888888, \"#fdca26\"], [1.0, \"#f0f921\"]], \"type\": \"heatmapgl\"}], \"histogram\": [{\"marker\": {\"colorbar\": {\"outlinewidth\": 0, \"ticks\": \"\"}}, \"type\": \"histogram\"}], \"histogram2d\": [{\"colorbar\": {\"outlinewidth\": 0, \"ticks\": \"\"}, \"colorscale\": [[0.0, \"#0d0887\"], [0.1111111111111111, \"#46039f\"], [0.2222222222222222, \"#7201a8\"], [0.3333333333333333, \"#9c179e\"], [0.4444444444444444, \"#bd3786\"], [0.5555555555555556, \"#d8576b\"], [0.6666666666666666, \"#ed7953\"], [0.7777777777777778, \"#fb9f3a\"], [0.8888888888888888, \"#fdca26\"], [1.0, \"#f0f921\"]], \"type\": \"histogram2d\"}], \"histogram2dcontour\": [{\"colorbar\": {\"outlinewidth\": 0, \"ticks\": \"\"}, \"colorscale\": [[0.0, \"#0d0887\"], [0.1111111111111111, \"#46039f\"], [0.2222222222222222, \"#7201a8\"], [0.3333333333333333, \"#9c179e\"], [0.4444444444444444, \"#bd3786\"], [0.5555555555555556, \"#d8576b\"], [0.6666666666666666, \"#ed7953\"], [0.7777777777777778, \"#fb9f3a\"], [0.8888888888888888, \"#fdca26\"], [1.0, \"#f0f921\"]], \"type\": \"histogram2dcontour\"}], \"mesh3d\": [{\"colorbar\": {\"outlinewidth\": 0, \"ticks\": \"\"}, \"type\": \"mesh3d\"}], \"parcoords\": [{\"line\": {\"colorbar\": {\"outlinewidth\": 0, \"ticks\": \"\"}}, \"type\": \"parcoords\"}], \"pie\": [{\"automargin\": true, \"type\": \"pie\"}], \"scatter\": [{\"marker\": {\"colorbar\": {\"outlinewidth\": 0, \"ticks\": \"\"}}, \"type\": \"scatter\"}], \"scatter3d\": [{\"line\": {\"colorbar\": {\"outlinewidth\": 0, \"ticks\": \"\"}}, \"marker\": {\"colorbar\": {\"outlinewidth\": 0, \"ticks\": \"\"}}, \"type\": \"scatter3d\"}], \"scattercarpet\": [{\"marker\": {\"colorbar\": {\"outlinewidth\": 0, \"ticks\": \"\"}}, \"type\": \"scattercarpet\"}], \"scattergeo\": [{\"marker\": {\"colorbar\": {\"outlinewidth\": 0, \"ticks\": \"\"}}, \"type\": \"scattergeo\"}], \"scattergl\": [{\"marker\": {\"colorbar\": {\"outlinewidth\": 0, \"ticks\": \"\"}}, \"type\": \"scattergl\"}], \"scattermapbox\": [{\"marker\": {\"colorbar\": {\"outlinewidth\": 0, \"ticks\": \"\"}}, \"type\": \"scattermapbox\"}], \"scatterpolar\": [{\"marker\": {\"colorbar\": {\"outlinewidth\": 0, \"ticks\": \"\"}}, \"type\": \"scatterpolar\"}], \"scatterpolargl\": [{\"marker\": {\"colorbar\": {\"outlinewidth\": 0, \"ticks\": \"\"}}, \"type\": \"scatterpolargl\"}], \"scatterternary\": [{\"marker\": {\"colorbar\": {\"outlinewidth\": 0, \"ticks\": \"\"}}, \"type\": \"scatterternary\"}], \"surface\": [{\"colorbar\": {\"outlinewidth\": 0, \"ticks\": \"\"}, \"colorscale\": [[0.0, \"#0d0887\"], [0.1111111111111111, \"#46039f\"], [0.2222222222222222, \"#7201a8\"], [0.3333333333333333, \"#9c179e\"], [0.4444444444444444, \"#bd3786\"], [0.5555555555555556, \"#d8576b\"], [0.6666666666666666, \"#ed7953\"], [0.7777777777777778, \"#fb9f3a\"], [0.8888888888888888, \"#fdca26\"], [1.0, \"#f0f921\"]], \"type\": \"surface\"}], \"table\": [{\"cells\": {\"fill\": {\"color\": \"#EBF0F8\"}, \"line\": {\"color\": \"white\"}}, \"header\": {\"fill\": {\"color\": \"#C8D4E3\"}, \"line\": {\"color\": \"white\"}}, \"type\": \"table\"}]}, \"layout\": {\"annotationdefaults\": {\"arrowcolor\": \"#2a3f5f\", \"arrowhead\": 0, \"arrowwidth\": 1}, \"autotypenumbers\": \"strict\", \"coloraxis\": {\"colorbar\": {\"outlinewidth\": 0, \"ticks\": \"\"}}, \"colorscale\": {\"diverging\": [[0, \"#8e0152\"], [0.1, \"#c51b7d\"], [0.2, \"#de77ae\"], [0.3, \"#f1b6da\"], [0.4, \"#fde0ef\"], [0.5, \"#f7f7f7\"], [0.6, \"#e6f5d0\"], [0.7, \"#b8e186\"], [0.8, \"#7fbc41\"], [0.9, \"#4d9221\"], [1, \"#276419\"]], \"sequential\": [[0.0, \"#0d0887\"], [0.1111111111111111, \"#46039f\"], [0.2222222222222222, \"#7201a8\"], [0.3333333333333333, \"#9c179e\"], [0.4444444444444444, \"#bd3786\"], [0.5555555555555556, \"#d8576b\"], [0.6666666666666666, \"#ed7953\"], [0.7777777777777778, \"#fb9f3a\"], [0.8888888888888888, \"#fdca26\"], [1.0, \"#f0f921\"]], \"sequentialminus\": [[0.0, \"#0d0887\"], [0.1111111111111111, \"#46039f\"], [0.2222222222222222, \"#7201a8\"], [0.3333333333333333, \"#9c179e\"], [0.4444444444444444, \"#bd3786\"], [0.5555555555555556, \"#d8576b\"], [0.6666666666666666, \"#ed7953\"], [0.7777777777777778, \"#fb9f3a\"], [0.8888888888888888, \"#fdca26\"], [1.0, \"#f0f921\"]]}, \"colorway\": [\"#636efa\", \"#EF553B\", \"#00cc96\", \"#ab63fa\", \"#FFA15A\", \"#19d3f3\", \"#FF6692\", \"#B6E880\", \"#FF97FF\", \"#FECB52\"], \"font\": {\"color\": \"#2a3f5f\"}, \"geo\": {\"bgcolor\": \"white\", \"lakecolor\": \"white\", \"landcolor\": \"#E5ECF6\", \"showlakes\": true, \"showland\": true, \"subunitcolor\": \"white\"}, \"hoverlabel\": {\"align\": \"left\"}, \"hovermode\": \"closest\", \"mapbox\": {\"style\": \"light\"}, \"paper_bgcolor\": \"white\", \"plot_bgcolor\": \"#E5ECF6\", \"polar\": {\"angularaxis\": {\"gridcolor\": \"white\", \"linecolor\": \"white\", \"ticks\": \"\"}, \"bgcolor\": \"#E5ECF6\", \"radialaxis\": {\"gridcolor\": \"white\", \"linecolor\": \"white\", \"ticks\": \"\"}}, \"scene\": {\"xaxis\": {\"backgroundcolor\": \"#E5ECF6\", \"gridcolor\": \"white\", \"gridwidth\": 2, \"linecolor\": \"white\", \"showbackground\": true, \"ticks\": \"\", \"zerolinecolor\": \"white\"}, \"yaxis\": {\"backgroundcolor\": \"#E5ECF6\", \"gridcolor\": \"white\", \"gridwidth\": 2, \"linecolor\": \"white\", \"showbackground\": true, \"ticks\": \"\", \"zerolinecolor\": \"white\"}, \"zaxis\": {\"backgroundcolor\": \"#E5ECF6\", \"gridcolor\": \"white\", \"gridwidth\": 2, \"linecolor\": \"white\", \"showbackground\": true, \"ticks\": \"\", \"zerolinecolor\": \"white\"}}, \"shapedefaults\": {\"line\": {\"color\": \"#2a3f5f\"}}, \"ternary\": {\"aaxis\": {\"gridcolor\": \"white\", \"linecolor\": \"white\", \"ticks\": \"\"}, \"baxis\": {\"gridcolor\": \"white\", \"linecolor\": \"white\", \"ticks\": \"\"}, \"bgcolor\": \"#E5ECF6\", \"caxis\": {\"gridcolor\": \"white\", \"linecolor\": \"white\", \"ticks\": \"\"}}, \"title\": {\"x\": 0.05}, \"xaxis\": {\"automargin\": true, \"gridcolor\": \"white\", \"linecolor\": \"white\", \"ticks\": \"\", \"title\": {\"standoff\": 15}, \"zerolinecolor\": \"white\", \"zerolinewidth\": 2}, \"yaxis\": {\"automargin\": true, \"gridcolor\": \"white\", \"linecolor\": \"white\", \"ticks\": \"\", \"title\": {\"standoff\": 15}, \"zerolinecolor\": \"white\", \"zerolinewidth\": 2}}}, \"title\": {\"text\": \"Euro Model residual plot\"}, \"xaxis\": {\"title\": {\"text\": \"Pass_px\"}}, \"yaxis\": {\"title\": {\"text\": \"Residuals\"}}},                        {\"responsive\": true}                    ).then(function(){\n",
       "                            \n",
       "var gd = document.getElementById('2e03fb31-8dc9-420a-95e7-800126e08743');\n",
       "var x = new MutationObserver(function (mutations, observer) {{\n",
       "        var display = window.getComputedStyle(gd).display;\n",
       "        if (!display || display === 'none') {{\n",
       "            console.log([gd, 'removed!']);\n",
       "            Plotly.purge(gd);\n",
       "            observer.disconnect();\n",
       "        }}\n",
       "}});\n",
       "\n",
       "// Listen for the removal of the full notebook cells\n",
       "var notebookContainer = gd.closest('#notebook-container');\n",
       "if (notebookContainer) {{\n",
       "    x.observe(notebookContainer, {childList: true});\n",
       "}}\n",
       "\n",
       "// Listen for the clearing of the current output cell\n",
       "var outputEl = gd.closest('.output');\n",
       "if (outputEl) {{\n",
       "    x.observe(outputEl, {childList: true});\n",
       "}}\n",
       "\n",
       "                        })                };                });            </script>        </div>"
      ]
     },
     "metadata": {},
     "output_type": "display_data"
    }
   ],
   "source": [
    "line_y = [0] * len(TestEU['ski_pass_price'])\n",
    "plot_scatter_and_line(TestEU['ski_pass_price'], euro_mod.resid, line_y, 'Model residuals', 'y=0','Euro Model residual plot', 'Pass_px', 'Residuals')\n"
   ]
  },
  {
   "cell_type": "markdown",
   "metadata": {
    "slideshow": {
     "slide_type": "subslide"
    }
   },
   "source": [
    "Residuals are a lot better, looking independent although homoescadasicity not the best, probably because of the small training set."
   ]
  },
  {
   "cell_type": "code",
   "execution_count": 92,
   "metadata": {
    "slideshow": {
     "slide_type": "fragment"
    }
   },
   "outputs": [
    {
     "name": "stdout",
     "output_type": "stream",
     "text": [
      "RMSE:  7.997002780733124\n",
      "\n",
      "Mean ski pass price:  40.25675675675676\n",
      "\n",
      "Comparison:  19.864995158585135 %\n"
     ]
    }
   ],
   "source": [
    "RMSE = np.sqrt(mean_squared_error(TestEU['predictions'],TestEU['ski_pass_price']))\n",
    "mean_pass = TestEU['ski_pass_price'].mean()\n",
    "print('RMSE: ', RMSE)\n",
    "print()\n",
    "print('Mean ski pass price: ', mean_pass)\n",
    "print()\n",
    "print('Comparison: ', RMSE/mean_pass *100, '%')"
   ]
  },
  {
   "cell_type": "markdown",
   "metadata": {
    "slideshow": {
     "slide_type": "fragment"
    }
   },
   "source": [
    "RMSE is a lot better than the previous model, we've gone down to about 20% of the mean price. Let's compare our two models on the validation data sets."
   ]
  },
  {
   "cell_type": "code",
   "execution_count": 113,
   "metadata": {
    "slideshow": {
     "slide_type": "subslide"
    }
   },
   "outputs": [],
   "source": [
    "Validate['predictions'] = model.predict(Validate)\n",
    "ValidateEU['predictions'] = model.predict(ValidateEU)\n",
    "\n",
    "RMSE_all = np.sqrt(mean_squared_error(Validate['predictions'], Validate['ski_pass_price']))\n",
    "mean_passAll = Validate['ski_pass_price'].mean()\n",
    "RMSE_EU = np.sqrt(mean_squared_error(ValidateEU['predictions'], ValidateEU['ski_pass_price']))\n",
    "mean_passEU = ValidateEU['ski_pass_price'].mean()"
   ]
  },
  {
   "cell_type": "code",
   "execution_count": 114,
   "metadata": {
    "slideshow": {
     "slide_type": "fragment"
    }
   },
   "outputs": [
    {
     "name": "stdout",
     "output_type": "stream",
     "text": [
      "RMSE:  13.974064217198942\n",
      "Mean ski pass price:  47.495049504950494\n",
      "Comparison:  29.42214896679369 %\n"
     ]
    }
   ],
   "source": [
    "print('RMSE: ', RMSE_all)\n",
    "print('Mean ski pass price: ', mean_passAll)\n",
    "print('Comparison: ', RMSE_all/mean_passAll *100, '%')"
   ]
  },
  {
   "cell_type": "code",
   "execution_count": 115,
   "metadata": {
    "slideshow": {
     "slide_type": "fragment"
    }
   },
   "outputs": [
    {
     "name": "stdout",
     "output_type": "stream",
     "text": [
      "RMSE:  8.87210927160194\n",
      "Mean ski pass price:  43.63513513513514\n",
      "Comparison:  20.332489504445448 %\n"
     ]
    }
   ],
   "source": [
    "print('RMSE: ', RMSE_EU)\n",
    "print('Mean ski pass price: ', mean_passEU)\n",
    "print('Comparison: ', RMSE_EU/mean_passEU *100, '%')"
   ]
  },
  {
   "cell_type": "markdown",
   "metadata": {
    "slideshow": {
     "slide_type": "subslide"
    }
   },
   "source": [
    "The general model doesn't seem to generalise very well, RMSE increases for the validation set. For the 'eurocentric' model RMSE remains about the same so seems to be the better of the two."
   ]
  },
  {
   "cell_type": "markdown",
   "metadata": {
    "slideshow": {
     "slide_type": "fragment"
    }
   },
   "source": [
    "All in all we don't seem to have enough data to make a model that produces decent predictions. However sometimes good enough is better than not at all. "
   ]
  }
 ],
 "metadata": {
  "celltoolbar": "Slideshow",
  "kernelspec": {
   "display_name": "Python 3",
   "language": "python",
   "name": "python3"
  },
  "language_info": {
   "codemirror_mode": {
    "name": "ipython",
    "version": 3
   },
   "file_extension": ".py",
   "mimetype": "text/x-python",
   "name": "python",
   "nbconvert_exporter": "python",
   "pygments_lexer": "ipython3",
   "version": "3.8.3"
  }
 },
 "nbformat": 4,
 "nbformat_minor": 2
}